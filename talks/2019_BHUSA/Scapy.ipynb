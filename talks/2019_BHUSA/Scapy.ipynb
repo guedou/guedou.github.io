{
 "cells": [
  {
   "cell_type": "code",
   "execution_count": 1,
   "metadata": {
    "slideshow": {
     "slide_type": "skip"
    }
   },
   "outputs": [],
   "source": [
    "from scapy.all import *"
   ]
  },
  {
   "cell_type": "markdown",
   "metadata": {
    "slideshow": {
     "slide_type": "slide"
    }
   },
   "source": [
    "<img src=\"images/scapy_logo.png\" width=200 style=\"float: left; padding-right: 50px\"/>\n",
    "<img src=\"images/bh19_logo.png\"  width=200 style=\"float: right\"/>\n",
    "\n",
    "# Scapy\n",
    "### Python-Based Interactive Packet Manipulation\n",
    "\n",
    "@guedou\n",
    "\n",
    "BHUSA Arsenal - August 7, 2019"
   ]
  },
  {
   "cell_type": "markdown",
   "metadata": {
    "slideshow": {
     "slide_type": "slide"
    }
   },
   "source": [
    "# Scapy - https://github.com/secdev/scapy\n",
    "\n",
    "- packets manipulation in Python\n",
    "\n",
    "- developed by Philippe Biondi, since 2003\n",
    "    - maintained by Gabriel, Guillaume & Pierre, since 2012\n",
    "\n",
    "- native support on Linux, Mac OS X, & *BSD\n",
    "    - Solaris & Windows thanks to `libpcap` & `npcap.dll`\n",
    "\n",
    "- Python3 compatible since 2018"
   ]
  },
  {
   "cell_type": "markdown",
   "metadata": {
    "slideshow": {
     "slide_type": "slide"
    }
   },
   "source": [
    "# Online Resources\n",
    "\n",
    "\n",
    "- documentation at https://scapy.readthedocs.io\n",
    "\n",
    "- interactive notebooks at https://github.com/secdev/scapy/tree/master/doc/notebooks\n",
    "\n",
    "- exercices at https://github.com/guedou/GreHack17_scapy-handson "
   ]
  },
  {
   "cell_type": "markdown",
   "metadata": {
    "slideshow": {
     "slide_type": "slide"
    }
   },
   "source": [
    "# Stats\n",
    "\n",
    "- PyPI downloads\n",
    "    - daily: 15k\n",
    "    - Python3: 80%\n",
    "\n",
    "- GiHub\n",
    "    - stars: 4200\n",
    "    - daily clones: 300\n",
    "    \n",
    "- Python versions\n",
    "    - 2.7, 3.4, 3.5, 3.6, 3.7, pypy, pypy3"
   ]
  },
  {
   "cell_type": "markdown",
   "metadata": {
    "slideshow": {
     "slide_type": "slide"
    }
   },
   "source": [
    "# GitHub Integrations\n",
    "\n",
    "    \n",
    "- coverage\n",
    "    - 87% ([Codecov](https://codecov.io/gh/secdev/scapy))\n",
    "    \n",
    "- continous integration:\n",
    "    - Linux & OS X ([Travis](https://travis-ci.org/secdev/scapy)) and  Windows ([AppVeyor](https://ci.appveyor.com/project/secdev/scapy))"
   ]
  },
  {
   "cell_type": "markdown",
   "metadata": {
    "slideshow": {
     "slide_type": "slide"
    }
   },
   "source": [
    "# What's New Since in v2.4.3?\n",
    "\n",
    "- core\n",
    "    - 364 commits since v2.4.2\n",
    "    - better native support for FreeBSD, NetBSD, OpenBSD\n",
    "    - latency improvements\n",
    "    - asynchronous sniffing\n",
    "    - Console / IPython integration improvements\n",
    "\n",
    "- layers\n",
    "    - HTTP (from the deprecared [scapy-http](https://github.com/invernizzi/scapy-http) module)\n",
    "    - TLS 1.3..."
   ]
  },
  {
   "cell_type": "markdown",
   "metadata": {
    "slideshow": {
     "slide_type": "slide"
    }
   },
   "source": [
    "# Installing & Launching Scapy\n",
    "\n",
    "It is as simple as cloning the git repository:\n",
    "\n",
    "```\n",
    "git clone --depth 1 https://github.com/secdev/scapy\n",
    "cd scapy\n",
    "sudo ./run_scapy\n",
    "                                      \n",
    "                     aSPY//YASa       \n",
    "             apyyyyCY//////////YCa       |\n",
    "            sY//////YSpcs  scpCY//Pp     | Welcome to Scapy\n",
    " ayp ayyyyyyySCP//Pp           syY//C    | Version 2.4.3rc4\n",
    " AYAsAYYYYYYYY///Ps              cY//S   |\n",
    "         pCCCCY//p          cSSps y//Y   | https://github.com/secdev/scapy\n",
    "         SPPPP///a          pP///AC//Y   |\n",
    "              A//A            cyP////C   | Have fun!\n",
    "              p///Ac            sC///a   |\n",
    "              P////YCpc           A//A   | We are in France, we say Skappee.\n",
    "       scccccp///pSP///p          p//Y   | OK? Merci.\n",
    "      sY/////////y  caa           S//P   |             -- Sebastien Chabal\n",
    "       cayCyayP//Ya              pY/Ya   |\n",
    "        sY/PsY////YCc          aC//Yp \n",
    "         sc  sccaCY//PCypaapyCP//YSs  \n",
    "                  spCPY//////YPSps    \n",
    "                       ccaacs         \n",
    "                                       using IPython 7.6.1\n",
    ">>>\n",
    "```"
   ]
  },
  {
   "cell_type": "markdown",
   "metadata": {
    "slideshow": {
     "slide_type": "slide"
    }
   },
   "source": [
    "# Today's Tutorial?\n",
    "\n",
    "I will escort you in the discovery of most Scapy features:\n",
    "\n",
    "\n",
    "- packets manipulation\n",
    "- interacting with the network\n",
    "- visualization\n",
    "- using Scapy as a Python module\n",
    "- implementing a new protocol\n",
    "- answering machines\n",
    "- IPv6 reconnaissance\n",
    "- X.509 certificates manipulation\n",
    "- TLS tricks"
   ]
  },
  {
   "cell_type": "markdown",
   "metadata": {
    "slideshow": {
     "slide_type": "slide"
    }
   },
   "source": [
    "## These slides are available at https://guedou.github.io/"
   ]
  },
  {
   "cell_type": "markdown",
   "metadata": {
    "slideshow": {
     "slide_type": "slide"
    }
   },
   "source": [
    "# Packets Manipulation"
   ]
  },
  {
   "cell_type": "markdown",
   "metadata": {
    "slideshow": {
     "slide_type": "slide"
    }
   },
   "source": [
    "- packets are Python objects\n",
    "- the `/` operator is used to stack packets\n",
    "\n",
    "---"
   ]
  },
  {
   "cell_type": "code",
   "execution_count": 2,
   "metadata": {
    "slideshow": {
     "slide_type": "-"
    }
   },
   "outputs": [
    {
     "data": {
      "text/plain": [
       "<Ether  type=IPv4 |<IP  frag=0 proto=tcp |<TCP  |>>>"
      ]
     },
     "execution_count": 2,
     "metadata": {},
     "output_type": "execute_result"
    }
   ],
   "source": [
    "packet = IP() / TCP()\n",
    "Ether() / packet"
   ]
  },
  {
   "cell_type": "markdown",
   "metadata": {
    "slideshow": {
     "slide_type": "slide"
    }
   },
   "source": [
    "- the `ls()` function list packets fields\n",
    "\n",
    "---\n",
    "\n",
    "```\n",
    ">>> ls(IP, verbose=True)\n",
    "version    : BitField (4 bits)                   = (4)\n",
    "ihl        : BitField (4 bits)                   = (None)\n",
    "tos        : XByteField                          = (0)\n",
    "len        : ShortField                          = (None)\n",
    "id         : ShortField                          = (1)\n",
    "flags      : FlagsField (3 bits)                 = (<Flag 0 ()>)\n",
    "               MF, DF, evil\n",
    "frag       : BitField (13 bits)                  = (0)\n",
    "ttl        : ByteField                           = (64)\n",
    "proto      : ByteEnumField                       = (0)\n",
    "chksum     : XShortField                         = (None)\n",
    "src        : SourceIPField                       = (None)\n",
    "dst        : DestIPField                         = (None)\n",
    "options    : PacketListField                     = ([])\n",
    "```"
   ]
  },
  {
   "cell_type": "markdown",
   "metadata": {
    "slideshow": {
     "slide_type": "slide"
    }
   },
   "source": [
    "- Scapy selects the correct source IPv4 address, MAC addresses...\n",
    "\n",
    "---"
   ]
  },
  {
   "cell_type": "code",
   "execution_count": 3,
   "metadata": {
    "slideshow": {
     "slide_type": "-"
    }
   },
   "outputs": [
    {
     "data": {
      "text/plain": [
       "\"Ether / IP / TCP 192.168.42.18:ftp_data > Net('www.secdev.org'):http F\""
      ]
     },
     "execution_count": 3,
     "metadata": {},
     "output_type": "execute_result"
    }
   ],
   "source": [
    "p = Ether() / IP(dst=\"www.secdev.org\") / TCP(flags=\"F\")\n",
    "p.summary()"
   ]
  },
  {
   "cell_type": "markdown",
   "metadata": {
    "slideshow": {
     "slide_type": "slide"
    }
   },
   "source": [
    "- all fields can be easily accessed\n",
    "\n",
    "---"
   ]
  },
  {
   "cell_type": "code",
   "execution_count": 4,
   "metadata": {
    "slideshow": {
     "slide_type": "-"
    }
   },
   "outputs": [
    {
     "name": "stdout",
     "output_type": "stream",
     "text": [
      "b8:26:6c:5f:4e:ee\n",
      "192.168.42.18\n",
      "b8:e8:56:45:8c:e6 > b8:26:6c:5f:4e:ee\n",
      "192.168.42.18 > Net('www.secdev.org')\n"
     ]
    }
   ],
   "source": [
    "print(p.dst)      # first layer with a dst field, i.e. Ether\n",
    "print(p[IP].src)  # explicit access to the IP layer src field\n",
    "\n",
    "# sprintf() supports Scapy own formats strings\n",
    "print(p.sprintf(\"%Ether.src% > %Ether.dst%\\n%IP.src% > %IP.dst%\"))"
   ]
  },
  {
   "cell_type": "markdown",
   "metadata": {
    "slideshow": {
     "slide_type": "slide"
    }
   },
   "source": [
    "- a field can store many values\n",
    "\n",
    "---"
   ]
  },
  {
   "cell_type": "code",
   "execution_count": 5,
   "metadata": {},
   "outputs": [
    {
     "data": {
      "text/plain": [
       "[<IP  frag=0 ttl=1 proto=icmp |<ICMP  |>>,\n",
       " <IP  frag=0 ttl=2 proto=icmp |<ICMP  |>>,\n",
       " <IP  frag=0 ttl=3 proto=icmp |<ICMP  |>>,\n",
       " <IP  frag=0 ttl=4 proto=icmp |<ICMP  |>>,\n",
       " <IP  frag=0 ttl=5 proto=icmp |<ICMP  |>>]"
      ]
     },
     "execution_count": 5,
     "metadata": {},
     "output_type": "execute_result"
    }
   ],
   "source": [
    "[p for p in IP(ttl=(1, 5)) / ICMP()]  # a sequence of values from 1 to 5"
   ]
  },
  {
   "cell_type": "code",
   "execution_count": 6,
   "metadata": {},
   "outputs": [
    {
     "data": {
      "text/plain": [
       "[<IP  frag=0 proto=tcp |<TCP  dport=ssh |>>,\n",
       " <IP  frag=0 proto=tcp |<TCP  dport=http |>>,\n",
       " <IP  frag=0 proto=tcp |<TCP  dport=https |>>]"
      ]
     },
     "execution_count": 6,
     "metadata": {},
     "output_type": "execute_result"
    }
   ],
   "source": [
    "[p for p in IP() / TCP(dport=[22, 80, 443])]  # specific values"
   ]
  },
  {
   "cell_type": "markdown",
   "metadata": {
    "slideshow": {
     "slide_type": "slide"
    }
   },
   "source": [
    "# Interacting with the network"
   ]
  },
  {
   "cell_type": "markdown",
   "metadata": {
    "slideshow": {
     "slide_type": "slide"
    }
   },
   "source": [
    "- the `sr1()` function sends a packet and returns a reply\n",
    "- Scapy can match queries and answers\n",
    "    \n",
    "---"
   ]
  },
  {
   "cell_type": "code",
   "execution_count": 7,
   "metadata": {
    "slideshow": {
     "slide_type": "-"
    }
   },
   "outputs": [
    {
     "name": "stdout",
     "output_type": "stream",
     "text": [
      "Begin emission:\n",
      "Finished sending 1 packets.\n",
      "\n",
      "Received 2 packets, got 1 answers, remaining 0 packets\n"
     ]
    },
    {
     "data": {
      "text/plain": [
       "<DNSRR  rrname='www.example.com.' type=A rclass=IN ttl=5868 rdlen=None rdata=93.184.216.34 |>"
      ]
     },
     "execution_count": 7,
     "metadata": {},
     "output_type": "execute_result"
    }
   ],
   "source": [
    "p = sr1(IP(dst=\"8.8.8.8\") / UDP() / DNS(qd=DNSQR()))\n",
    "p[DNS].an"
   ]
  },
  {
   "cell_type": "markdown",
   "metadata": {
    "slideshow": {
     "slide_type": "slide"
    }
   },
   "source": [
    "- the `srp()` function sends a list of frames and returns two variables:\n",
    "    1. `r` a list of queries and matched answers\n",
    "    2. `u` a list of unanswered packets\n",
    "\n",
    "---"
   ]
  },
  {
   "cell_type": "code",
   "execution_count": 8,
   "metadata": {},
   "outputs": [
    {
     "name": "stdout",
     "output_type": "stream",
     "text": [
      "Begin emission:\n",
      "Finished sending 6 packets.\n",
      "\n",
      "Received 12 packets, got 6 answers, remaining 0 packets\n"
     ]
    },
    {
     "data": {
      "text/plain": [
       "(<Results: TCP:0 UDP:2 ICMP:4 Other:0>,\n",
       " <Unanswered: TCP:0 UDP:0 ICMP:0 Other:0>)"
      ]
     },
     "execution_count": 8,
     "metadata": {},
     "output_type": "execute_result"
    }
   ],
   "source": [
    "r, u = srp(Ether() / IP(dst=\"8.8.8.8\", ttl=(5, 10)) / UDP() / DNS(qd=DNSQR(qname=\"www.example.com\")))\n",
    "r, u"
   ]
  },
  {
   "cell_type": "code",
   "execution_count": 9,
   "metadata": {
    "slideshow": {
     "slide_type": "slide"
    }
   },
   "outputs": [
    {
     "name": "stdout",
     "output_type": "stream",
     "text": [
      "Ether / IP / UDP / DNS Qry \"b'www.example.com'\" \n",
      "Ether / IP / ICMP / IPerror / UDPerror / DNS Qry \"b'www.example.com.'\"  / Padding\n"
     ]
    },
    {
     "data": {
      "text/plain": [
       "<ICMP  type=time-exceeded code=ttl-zero-during-transit chksum=0xeff3 reserved=0 length=17 unused=None |<IPerror  version=4 ihl=5 tos=0x0 len=61 id=1 flags= frag=0 ttl=1 proto=udp chksum=0xbee5 src=192.168.42.18 dst=8.8.8.8 |<UDPerror  sport=domain dport=domain len=41 chksum=0xba0b |<DNS  id=0 qr=0 opcode=QUERY aa=0 tc=0 rd=1 ra=0 z=0 ad=0 cd=0 rcode=ok qdcount=1 ancount=0 nscount=0 arcount=0 qd=<DNSQR  qname='www.example.com.' qtype=A qclass=IN |> an=None ns=None ar=None |<Padding  load='\\x00\\x00\\x00\\x00\\x00\\x00\\x00' |>>>>>"
      ]
     },
     "execution_count": 9,
     "metadata": {},
     "output_type": "execute_result"
    }
   ],
   "source": [
    "# Access the first tuple\n",
    "print(r[0][0].summary())  # sent packet\n",
    "print(r[0][1].summary())  # received packet\n",
    "\n",
    "# Scapy received an ICMP time-exceeded\n",
    "r[0][1][ICMP]"
   ]
  },
  {
   "cell_type": "markdown",
   "metadata": {
    "slideshow": {
     "slide_type": "slide"
    }
   },
   "source": [
    "- a list of packets can be written to and read from a `PCAP` file\n",
    "\n",
    "---"
   ]
  },
  {
   "cell_type": "code",
   "execution_count": 10,
   "metadata": {},
   "outputs": [
    {
     "data": {
      "text/plain": [
       "<Ether  dst=b8:26:6c:5f:4e:ee src=b8:e8:56:45:8c:e6 type=IPv4 |<IP  version=4 ihl=5 tos=0x0 len=61 id=1 flags= frag=0 ttl=5 proto=udp chksum=0xbae5 src=192.168.42.18 dst=8.8.8.8 |<UDP  sport=domain dport=domain len=41 chksum=0xba0b |<DNS  id=0 qr=0 opcode=QUERY aa=0 tc=0 rd=1 ra=0 z=0 ad=0 cd=0 rcode=ok qdcount=1 ancount=0 nscount=0 arcount=0 qd=<DNSQR  qname='www.example.com.' qtype=A qclass=IN |> an=None ns=None ar=None |>>>>"
      ]
     },
     "execution_count": 10,
     "metadata": {},
     "output_type": "execute_result"
    }
   ],
   "source": [
    "wrpcap(\"scapy.pcap\", r)\n",
    "\n",
    "pcap_p = rdpcap(\"scapy.pcap\")\n",
    "pcap_p[0]"
   ]
  },
  {
   "cell_type": "markdown",
   "metadata": {
    "slideshow": {
     "slide_type": "slide"
    }
   },
   "source": [
    "- the `command()` method gives the Python statement that will build the *same* object\n",
    "\n",
    "---"
   ]
  },
  {
   "cell_type": "code",
   "execution_count": 11,
   "metadata": {},
   "outputs": [
    {
     "data": {
      "text/plain": [
       "\"Ether(dst='b8:26:6c:5f:4e:ee', src='b8:e8:56:45:8c:e6', type=2048)/IP(version=4, ihl=5, tos=0, len=61, id=1, flags=0, frag=0, ttl=5, proto=17, chksum=47845, src='192.168.42.18', dst='8.8.8.8')/UDP(sport=53, dport=53, len=41, chksum=47627)/DNS(length=None, id=0, qr=0, opcode=0, aa=0, tc=0, rd=1, ra=0, z=0, ad=0, cd=0, rcode=0, qdcount=1, ancount=0, nscount=0, arcount=0, qd=DNSQR(qname=b'www.example.com.', qtype=1, qclass=1), an=None, ns=None, ar=None)\""
      ]
     },
     "execution_count": 11,
     "metadata": {},
     "output_type": "execute_result"
    }
   ],
   "source": [
    "pcap_p[0].command()"
   ]
  },
  {
   "cell_type": "markdown",
   "metadata": {
    "slideshow": {
     "slide_type": "slide"
    }
   },
   "source": [
    "- the `sniff()` function captures packets \n",
    "\n",
    "---"
   ]
  },
  {
   "cell_type": "code",
   "execution_count": 12,
   "metadata": {},
   "outputs": [
    {
     "data": {
      "text/plain": [
       "<Sniffed: TCP:2 UDP:0 ICMP:0 Other:0>"
      ]
     },
     "execution_count": 12,
     "metadata": {},
     "output_type": "execute_result"
    }
   ],
   "source": [
    "s = sniff(count=2)\n",
    "s"
   ]
  },
  {
   "cell_type": "code",
   "execution_count": 13,
   "metadata": {},
   "outputs": [
    {
     "name": "stdout",
     "output_type": "stream",
     "text": [
      "Ether / IPv6 / ICMPv6ND_NS / ICMPv6 Neighbor Discovery Option - Source Link-Layer Address b8:e8:56:45:8c:e6\n",
      "Ether / IPv6 / ICMPv6 Neighbor Discovery - Neighbor Advertisement (tgt: fe80::ba26:6cff:fe5f:4eee)\n"
     ]
    },
    {
     "data": {
      "text/plain": [
       "<Sniffed: TCP:0 UDP:0 ICMP:0 Other:2>"
      ]
     },
     "execution_count": 13,
     "metadata": {},
     "output_type": "execute_result"
    }
   ],
   "source": [
    "sniff(count=2, prn=lambda p: p.summary())"
   ]
  },
  {
   "cell_type": "code",
   "execution_count": 14,
   "metadata": {},
   "outputs": [
    {
     "data": {
      "text/plain": [
       "<Sniffed: TCP:0 UDP:1 ICMP:0 Other:0>"
      ]
     },
     "execution_count": 14,
     "metadata": {},
     "output_type": "execute_result"
    }
   ],
   "source": [
    "sniff(offline=IP(dst=\"8.8.8.8/24\") / UDP(), filter=\"udp and dst host 8.8.8.8\")"
   ]
  },
  {
   "cell_type": "markdown",
   "metadata": {
    "slideshow": {
     "slide_type": "slide"
    }
   },
   "source": [
    "- the `lsc()` function lists available commands \n",
    "\n",
    "---\n",
    "\n",
    "```\n",
    ">>> lsc()\n",
    "IPID_count          : Identify IP id values classes in a list of packets\n",
    "arpcachepoison      : Poison target's cache with (your MAC,victim's IP) couple                                                \n",
    "arping              : Send ARP who-has requests to determine which hosts are up                                               \n",
    "arpleak             : Exploit ARP leak flaws, like NetBSD-SA2017-002.                                                         \n",
    "bind_layers         : Bind 2 layers on some specific fields' values.\n",
    "bridge_and_sniff    : Forward traffic between interfaces if1 and if2, sniff and return                                        \n",
    "chexdump            : Build a per byte hexadecimal representation                                                             \n",
    "computeNIGroupAddr  : Compute the NI group Address. Can take a FQDN as input parameter\n",
    "corrupt_bits        : Flip a given percentage or number of bits from a string\n",
    "corrupt_bytes       : Corrupt a given percentage or number of bytes from a string\n",
    "defrag              : defrag(plist) -> ([not fragmented], [defragmented],\n",
    "defragment          : defragment(plist) -> plist defragmented as much as possible\n",
    "dhcp_request        : Send a DHCP discover request and return the answer\n",
    "[..]\n",
    "```"
   ]
  },
  {
   "cell_type": "code",
   "execution_count": 15,
   "metadata": {
    "slideshow": {
     "slide_type": "slide"
    }
   },
   "outputs": [
    {
     "name": "stdout",
     "output_type": "stream",
     "text": [
      "Begin emission:\n",
      "Finished sending 256 packets.\n",
      "\n",
      "Received 6 packets, got 5 answers, remaining 251 packets\n",
      "  b8:26:6c:5f:4e:ee 192.168.42.1\n",
      "  54:64:d9:79:4e:00 192.168.42.3\n",
      "  70:ee:50:14:d7:70 192.168.42.29\n",
      "  24:5e:be:22:47:7f 192.168.42.42\n",
      "  38:de:ad:1f:b2:38 192.168.42.20\n"
     ]
    },
    {
     "data": {
      "text/plain": [
       "(<ARPing: TCP:0 UDP:0 ICMP:0 Other:5>,\n",
       " <Unanswered: TCP:0 UDP:0 ICMP:0 Other:251>)"
      ]
     },
     "execution_count": 15,
     "metadata": {},
     "output_type": "execute_result"
    }
   ],
   "source": [
    "# Send ARP who-has requests to determine which hosts are up\n",
    "arping(\"192.168.42.0/24\")"
   ]
  },
  {
   "cell_type": "markdown",
   "metadata": {
    "slideshow": {
     "slide_type": "slide"
    }
   },
   "source": [
    "- the `help()` function describes commands behaviors and arguments\n",
    "\n",
    "---\n",
    "\n",
    "```\n",
    ">>> help(traceroute)\n",
    "Help on function traceroute in module scapy.layers.inet:\n",
    "\n",
    "traceroute(target, dport=80, minttl=1, maxttl=30, sport=<RandShort>, l4=None, filter=None, timeout=2, verbose=None, **kargs)\n",
    "    Instant TCP traceroute\n",
    "    \n",
    "    :param target:  hostnames or IP addresses\n",
    "    :param dport:   TCP destination port (default is 80)\n",
    "    :param minttl:  minimum TTL (default is 1)\n",
    "    :param maxttl:  maximum TTL (default is 30)\n",
    "    :param sport:   TCP source port (default is random)\n",
    "    :param l4:      use a Scapy packet instead of TCP\n",
    "    :param filter:  BPF filter applied to received packets\n",
    "    :param timeout: time to wait for answers (default is 2s)\n",
    "    :param verbose: detailed output\n",
    "    :return: an TracerouteResult, and a list of unanswered packets\n",
    "```"
   ]
  },
  {
   "cell_type": "markdown",
   "metadata": {
    "slideshow": {
     "slide_type": "slide"
    }
   },
   "source": [
    "# Visualization"
   ]
  },
  {
   "cell_type": "markdown",
   "metadata": {
    "slideshow": {
     "slide_type": "slide"
    }
   },
   "source": [
    "- with `srloop()`, send 100 packets to 8.8.8.8 and 8.8.4.4\n",
    "- the `multiplot()` method can be used to display IP ID values\n",
    "\n",
    "---"
   ]
  },
  {
   "cell_type": "code",
   "execution_count": 20,
   "metadata": {
    "slideshow": {
     "slide_type": "-"
    }
   },
   "outputs": [],
   "source": [
    "ans, unans = srloop(IP(dst=[\"8.8.8.8\", \"1.1.1.1\"]) / ICMP(), inter=.1, timeout=.1, count=80, verbose=False)"
   ]
  },
  {
   "cell_type": "code",
   "execution_count": 21,
   "metadata": {},
   "outputs": [
    {
     "data": {
      "text/plain": [
       "[[<matplotlib.lines.Line2D at 0x11ab19a50>],\n",
       " [<matplotlib.lines.Line2D at 0x11ab0ff50>]]"
      ]
     },
     "execution_count": 21,
     "metadata": {},
     "output_type": "execute_result"
    },
    {
     "data": {
      "image/png": "[encoded data removed]",
      "text/plain": [
       "<Figure size 432x288 with 1 Axes>"
      ]
     },
     "metadata": {
      "needs_background": "light"
     },
     "output_type": "display_data"
    }
   ],
   "source": [
    "%matplotlib inline\n",
    "ans.multiplot(lambda x, y: (y[IP].src, (y.time, y[IP].id)), plot_xy=True)"
   ]
  },
  {
   "cell_type": "markdown",
   "metadata": {
    "slideshow": {
     "slide_type": "slide"
    }
   },
   "source": [
    "- the `raw()` function builds a packet, as sent on the network"
   ]
  },
  {
   "cell_type": "code",
   "execution_count": 22,
   "metadata": {},
   "outputs": [
    {
     "data": {
      "text/plain": [
       "\"b'E\\\\x00\\\\x00=\\\\x00\\\\x01\\\\x00\\\\x00@\\\\x11|\\\\xad\\\\x7f\\\\x00\\\\x00\\\\x01\\\\x7f\\\\x00\\\\x00\\\\x01\\\\x005\\\\x005\\\\x00)\\\\xb6\\\\xd3\\\\x00\\\\x00\\\\x01\\\\x00\\\\x00\\\\x01\\\\x00\\\\x00\\\\x00\\\\x00\\\\x00\\\\x00\\\\x03www\\\\x07example\\\\x03com\\\\x00\\\\x00\\\\x01\\\\x00\\\\x01'\""
      ]
     },
     "execution_count": 22,
     "metadata": {},
     "output_type": "execute_result"
    }
   ],
   "source": [
    "pkt = IP() / UDP() / DNS(qd=DNSQR())\n",
    "repr(raw(pkt))"
   ]
  },
  {
   "cell_type": "markdown",
   "metadata": {
    "slideshow": {
     "slide_type": "slide"
    }
   },
   "source": [
    "This representation being complicated, Scapy can:\n",
    "   -  do a `hexdump` of the content"
   ]
  },
  {
   "cell_type": "code",
   "execution_count": 23,
   "metadata": {},
   "outputs": [
    {
     "name": "stdout",
     "output_type": "stream",
     "text": [
      "0000  45 00 00 3D 00 01 00 00 40 11 7C AD 7F 00 00 01  E..=....@.|.....\n",
      "0010  7F 00 00 01 00 35 00 35 00 29 B6 D3 00 00 01 00  .....5.5.)......\n",
      "0020  00 01 00 00 00 00 00 00 03 77 77 77 07 65 78 61  .........www.exa\n",
      "0030  6D 70 6C 65 03 63 6F 6D 00 00 01 00 01           mple.com.....\n"
     ]
    }
   ],
   "source": [
    "hexdump(pkt)"
   ]
  },
  {
   "cell_type": "markdown",
   "metadata": {
    "slideshow": {
     "slide_type": "slide"
    }
   },
   "source": [
    "  - dump fields content layer by layer"
   ]
  },
  {
   "cell_type": "code",
   "execution_count": 24,
   "metadata": {
    "scrolled": true
   },
   "outputs": [
    {
     "name": "stdout",
     "output_type": "stream",
     "text": [
      "###[ IP ]### \n",
      "  version   = 4\n",
      "  ihl       = None\n",
      "  tos       = 0x0\n",
      "  len       = None\n",
      "  id        = 1\n",
      "  flags     = \n",
      "  frag      = 0\n",
      "  ttl       = 64\n",
      "  proto     = udp\n",
      "  chksum    = None\n",
      "  src       = 127.0.0.1\n",
      "  dst       = 127.0.0.1\n",
      "  \\options   \\\n",
      "###[ UDP ]### \n",
      "     sport     = domain\n",
      "     dport     = domain\n",
      "     len       = None\n",
      "     chksum    = None\n",
      "###[ DNS ]### \n",
      "        id        = 0\n",
      "        qr        = 0\n",
      "        opcode    = QUERY\n",
      "        aa        = 0\n",
      "        tc        = 0\n",
      "        rd        = 1\n",
      "        ra        = 0\n",
      "        z         = 0\n",
      "        ad        = 0\n",
      "        cd        = 0\n",
      "        rcode     = ok\n",
      "        qdcount   = 1\n",
      "        ancount   = 0\n",
      "        nscount   = 0\n",
      "        arcount   = 0\n",
      "        \\qd        \\\n",
      "         |###[ DNS Question Record ]### \n",
      "         |  qname     = 'www.example.com'\n",
      "         |  qtype     = A\n",
      "         |  qclass    = IN\n",
      "        an        = None\n",
      "        ns        = None\n",
      "        ar        = None\n",
      "\n"
     ]
    }
   ],
   "source": [
    "pkt.show()"
   ]
  },
  {
   "cell_type": "markdown",
   "metadata": {
    "slideshow": {
     "slide_type": "slide"
    }
   },
   "source": [
    "  - display a pretty representation"
   ]
  },
  {
   "cell_type": "code",
   "execution_count": 14,
   "metadata": {
    "scrolled": true
   },
   "outputs": [
    {
     "data": {
      "image/png": "[encoded data removed]",
      "image/svg+xml": [
       "<?xml version=\"1.0\" encoding=\"utf-8\"?>\n",
       "<svg xmlns=\"http://www.w3.org/2000/svg\" fill=\"none\" version=\"1.1\" viewBox=\"25.3465 -450.293 505.14 456.962\" x=\"25.3465pt\" y=\"-450.293pt\" width=\"505.14pt\" height=\"456.962pt\" stroke-width=\"0.566929\" stroke-miterlimit=\"10.000000\">\n",
       " <path d=\"M26.3465 -434.535L39.4789 -434.535L39.4789 -445.454L26.3465 -445.454Z\" stroke=\"#000\" fill=\"#9cc\"/>\n",
       " <g transform=\"matrix(1.000000,0.000000,0.000000,1.000000,28.346457,-436.535433)\">\n",
       "  <path d=\"M0.936488 -0M1.82316 -6.91407L0.936488 -6.91407L0.936488 -0L1.82316 -0ZM1.82316 -0M3.71606 -0M6.2665 -2.8792C7.50187 -2.8792 8.55791 -3.7858 8.55791 -4.90162C8.55791 -5.96762 7.57161 -6.91407 6.19676 -6.91407L3.71606 -6.91407L3.71606 -0L4.60274 -0L4.60274 -2.8792ZM4.60274 -2.8792M5.97758 -6.35616C7.07347 -6.35616 7.75093 -5.74844 7.75093 -4.90162C7.75093 -4.11457 7.12329 -3.45704 5.97758 -3.45704L4.57285 -3.45704L4.57285 -6.35616ZM4.57285 -6.35616\" fill=\"black\"/>\n",
       " </g>\n",
       " <g transform=\"matrix(1.000000,0.000000,0.000000,1.000000,28.346457,-425.196850)\">\n",
       "  <path d=\"M0.139477 -0M4.44334 -4.42341L3.69614 -4.42341L2.90909 -2.35118C2.69988 -1.80324 2.39103 -0.996264 2.31133 -0.52802L2.30137 -0.52802C2.24159 -0.886675 1.98257 -1.5741 1.88294 -1.84309L0.916563 -4.42341L0.139477 -4.42341L1.85305 -0L2.72976 -0ZM2.72976 -0M4.94147 -0M8.71731 -2.18182C8.71731 -2.52055 8.70735 -3.26775 8.3188 -3.8655C7.91034 -4.48319 7.30262 -4.59278 6.94396 -4.59278C5.83811 -4.59278 4.94147 -3.53674 4.94147 -2.25156C4.94147 -0.936488 5.89788 0.109589 7.0934 0.109589C7.72105 0.109589 8.28892 -0.129514 8.67746 -0.408468L8.61768 -1.05604C7.99004 -0.537983 7.3325 -0.498132 7.10336 -0.498132C6.30635 -0.498132 5.66874 -1.20548 5.63885 -2.18182ZM5.63885 -2.18182M5.68867 -2.72976C5.84807 -3.48692 6.37609 -3.98506 6.94396 -3.98506C7.46202 -3.98506 8.01993 -3.64633 8.14944 -2.72976ZM8.14944 -2.72976M9.83313 -0M10.5803 -2.132C10.5803 -3.12827 11.2976 -3.84558 12.274 -3.8655L12.274 -4.533C11.3873 -4.52304 10.8394 -4.03487 10.5305 -3.57659L10.5305 -4.48319L9.83313 -4.48319L9.83313 -0L10.5803 -0ZM10.5803 -0M12.6924 -0M15.8306 -4.27397C15.3126 -4.51308 14.9041 -4.59278 14.396 -4.59278C14.1469 -4.59278 12.7422 -4.59278 12.7422 -3.28767C12.7422 -2.7995 13.0311 -2.4807 13.2802 -2.29141C13.589 -2.07223 13.8082 -2.03238 14.3562 -1.92279C14.7148 -1.85305 15.2927 -1.7335 15.2927 -1.20548C15.2927 -0.518057 14.5056 -0.518057 14.3562 -0.518057C13.5492 -0.518057 12.9913 -0.886675 12.812 -1.00623L12.6924 -0.328767C13.0112 -0.169365 13.5592 0.109589 14.3661 0.109589C14.5455 0.109589 15.0934 0.109589 15.5218 -0.209215C15.8306 -0.448319 16 -0.846824 16 -1.27522C16 -1.82316 15.6314 -2.16189 15.6115 -2.19178C15.2229 -2.54047 14.9539 -2.60025 14.4558 -2.68991C13.9078 -2.7995 13.4496 -2.89913 13.4496 -3.3873C13.4496 -4.00498 14.1669 -4.00498 14.2964 -4.00498C14.6152 -4.00498 15.1432 -3.96513 15.7111 -3.6264ZM15.7111 -3.6264M16.9664 -0M17.8531 -6.7746L16.9664 -6.7746L16.9664 -5.88792L17.8531 -5.88792ZM17.8531 -5.88792M17.7833 -4.42341L17.0361 -4.42341L17.0361 -0L17.7833 -0ZM17.7833 -0M18.8991 -0M23.2727 -2.19178C23.2727 -3.52677 22.2765 -4.59278 21.0909 -4.59278C19.8655 -4.59278 18.8991 -3.49689 18.8991 -2.19178C18.8991 -0.876712 19.9153 0.109589 21.0809 0.109589C22.2765 0.109589 23.2727 -0.896638 23.2727 -2.19178ZM23.2727 -2.19178M21.0809 -0.52802C20.3935 -0.52802 19.6762 -1.08593 19.6762 -2.29141C19.6762 -3.49689 20.4334 -3.98506 21.0809 -3.98506C21.7783 -3.98506 22.4956 -3.467 22.4956 -2.29141C22.4956 -1.11582 21.8182 -0.52802 21.0809 -0.52802ZM21.0809 -0.52802M24.3885 -0M27.9153 -2.96887C27.9153 -3.6264 27.7659 -4.533 26.5504 -4.533C25.6538 -4.533 25.1656 -3.85554 25.1059 -3.77584L25.1059 -4.48319L24.3885 -4.48319L24.3885 -0L25.1656 -0L25.1656 -2.44085C25.1656 -3.09838 25.4147 -3.92528 26.1719 -3.92528C27.1283 -3.92528 27.1382 -3.21793 27.1382 -2.89913L27.1382 -0L27.9153 -0ZM27.9153 -0\" fill=\"black\"/>\n",
       " </g>\n",
       " <g transform=\"matrix(1.000000,0.000000,0.000000,1.000000,124.724409,-425.196850)\">\n",
       "  <path d=\"M-6.45649 -0M-6.40867 -1.56613C-6.45649 -1.47646 -6.45649 -1.45853 -6.45649 -1.35093L-6.45649 -1.20149C-6.45649 -1.01021 -6.41465 -0.91457 -6.16957 -0.91457L-4.82461 -0.91457L-4.82461 -0.286924C-4.82461 -0.0956413 -4.78277 -0 -4.53769 -0L-4.37031 -0C-4.14317 -0 -4.08339 -0.0777086 -4.08339 -0.286924L-4.08339 -0.91457L-3.83233 -0.91457C-3.64703 -0.91457 -3.54541 -0.956413 -3.54541 -1.19552C-3.54541 -1.41669 -3.62312 -1.47646 -3.83233 -1.47646L-4.08339 -1.47646L-4.08339 -3.86152C-4.08339 -4.07671 -4.14914 -4.14844 -4.37031 -4.14844L-4.80668 -4.14844C-4.92025 -4.14844 -5.00992 -4.14844 -5.08165 -4.01096ZM-5.08165 -4.01096M-5.83482 -1.47646C-4.87841 -3.23387 -4.82461 -3.41918 -4.79472 -3.5208L-4.78874 -3.5208L-4.78874 -1.47646ZM-4.78874 -1.47646M-2.98949 -0M-2.19447 -3.86152C-2.19447 -4.0528 -2.23632 -4.14844 -2.4814 -4.14844L-2.70257 -4.14844C-2.91776 -4.14844 -2.98949 -4.08269 -2.98949 -3.86152L-2.98949 -0.286924C-2.98949 -0.071731 -2.92374 -0 -2.70257 -0L-2.46346 -0C-2.36185 -0 -2.18252 -0 -2.17654 -0.233126C-1.90157 0.0657534 -1.59671 0.0657534 -1.50107 0.0657534C-0.227848 0.0657534 -0.227848 -1.08194 -0.227848 -1.38082C-0.227848 -1.66775 -0.227848 -2.80349 -1.35163 -2.80349C-1.8418 -2.80349 -2.14067 -2.52852 -2.19447 -2.46874ZM-2.19447 -2.46874M-2.17654 -2.16389C-2.09883 -2.23562 -1.9195 -2.3731 -1.64454 -2.3731C-1.0408 -2.3731 -1.0408 -1.82316 -1.0408 -1.37484C-1.0408 -0.932503 -1.0408 -0.364633 -1.71029 -0.364633C-1.96135 -0.364633 -2.11079 -0.514072 -2.17654 -0.597758ZM-2.17654 -0.597758\" fill=\"black\"/>\n",
       " </g>\n",
       " <g transform=\"matrix(1.000000,0.000000,0.000000,1.000000,127.559055,-425.196850)\">\n",
       "  <path d=\"M0.278954 -0M3.7061 -1.70361L4.6924 -1.70361L4.6924 -2.31133L3.7061 -2.31133L3.7061 -6.53549L2.7995 -6.53549L0.278954 -2.31133L0.278954 -1.70361L2.91905 -1.70361L2.91905 -0L3.7061 -0ZM3.7061 -0M1.05604 -2.31133C1.5741 -3.16812 2.97883 -5.52927 2.97883 -6.09714L2.97883 -2.31133ZM2.97883 -2.31133\" fill=\"black\"/>\n",
       " </g>\n",
       " <g stroke-width=\"0.400879\">\n",
       "  <path d=\"M132.54 -417.106C193.184 -416.26 282.199 -385.508 288.357 -439.08\" stroke=\"#3cc\"/>\n",
       "  <g stroke-linecap=\"butt\" stroke-dasharray=\"none\">\n",
       "   <path d=\"M286.632 -438.456C287.323 -439.633 287.985 -440.881 288.617 -442.205C289.106 -440.822 289.521 -439.471 289.864 -438.151L288.357 -439.08Z\" fill=\"#3cc\"/>\n",
       "  </g>\n",
       " </g>\n",
       " <g stroke-width=\"1.133858\">\n",
       "  <path d=\"M282.465 -441.205L294.925 -441.205L294.925 -449.293L282.465 -449.293Z\" stroke=\"#3cc\" fill=\"#9cc\"/>\n",
       " </g>\n",
       " <g transform=\"matrix(1.000000,0.000000,0.000000,1.000000,283.464567,-442.204724)\">\n",
       "  <path d=\"M0.288917 -0M0.37858 -2.43088C0.288917 -2.30137 0.288917 -2.28144 0.288917 -2.08219C0.288917 -1.75342 0.37858 -1.68369 0.687422 -1.68369L3.19801 -1.68369L3.19801 -0.607721L2.58032 -0.607721C2.42092 -0.607721 2.18182 -0.607721 2.18182 -0.298879C2.18182 -0 2.43088 -0 2.58032 -0L4.3736 -0C4.52304 -0 4.7721 -0 4.7721 -0.298879C4.7721 -0.607721 4.533 -0.607721 4.3736 -0.607721L3.75592 -0.607721L3.75592 -1.68369L4.533 -1.68369C4.68244 -1.68369 4.93151 -1.68369 4.93151 -1.98257C4.93151 -2.29141 4.6924 -2.29141 4.533 -2.29141L3.75592 -2.29141L3.75592 -5.79826C3.75592 -6.12702 3.68618 -6.20672 3.34745 -6.20672L3.06849 -6.20672C2.82939 -6.20672 2.77958 -6.19676 2.65006 -5.99751ZM2.65006 -5.99751M0.986301 -2.29141L3.19801 -5.76837L3.19801 -2.29141ZM3.19801 -2.29141M5.74844 -0M7.99004 -3.87547C7.64134 -3.87547 7.20299 -3.80573 6.79452 -3.58655L6.79452 -5.47945L9.18555 -5.47945C9.33499 -5.47945 9.58406 -5.47945 9.58406 -5.77833C9.58406 -6.08717 9.34496 -6.08717 9.18555 -6.08717L6.5056 -6.08717C6.17684 -6.08717 6.1071 -5.99751 6.1071 -5.6787L6.1071 -3.02864C6.1071 -2.84932 6.1071 -2.62017 6.4259 -2.62017C6.60523 -2.62017 6.64508 -2.66999 6.72478 -2.76961C6.99377 -3.08842 7.40224 -3.26775 7.98007 -3.26775C8.79701 -3.26775 9.24533 -2.54047 9.24533 -1.8929C9.24533 -1.09589 8.53798 -0.498132 7.70112 -0.498132C7.42217 -0.498132 6.78456 -0.577833 6.5056 -1.12578C6.55542 -1.17559 6.63512 -1.24533 6.63512 -1.44458C6.63512 -1.7335 6.40598 -1.8929 6.19676 -1.8929C6.04732 -1.8929 5.74844 -1.80324 5.74844 -1.41469C5.74844 -0.587796 6.58531 0.109589 7.70112 0.109589C8.94645 0.109589 9.93275 -0.787049 9.93275 -1.8929C9.93275 -2.89913 9.16563 -3.87547 7.99004 -3.87547ZM7.99004 -3.87547\" fill=\"black\"/>\n",
       " </g>\n",
       " <g transform=\"matrix(1.000000,0.000000,0.000000,1.000000,28.346457,-413.858268)\">\n",
       "  <path d=\"M0.737235 -0M1.62391 -6.7746L0.737235 -6.7746L0.737235 -5.88792L1.62391 -5.88792ZM1.62391 -5.88792M1.55417 -4.42341L0.806974 -4.42341L0.806974 -0L1.55417 -0ZM1.55417 -0M3.17808 -0M6.70486 -2.96887C6.70486 -3.6264 6.55542 -4.533 5.33998 -4.533C4.72229 -4.533 4.24408 -4.22416 3.92528 -3.81569L3.92528 -6.91407L3.17808 -6.91407L3.17808 -0L3.95517 -0L3.95517 -2.44085C3.95517 -3.09838 4.20423 -3.92528 4.96139 -3.92528C5.91781 -3.92528 5.92777 -3.21793 5.92777 -2.89913L5.92777 -0L6.70486 -0ZM6.70486 -0M8.3188 -0M9.066 -6.91407L8.3188 -6.91407L8.3188 -0L9.066 -0ZM9.066 -0\" fill=\"black\"/>\n",
       " </g>\n",
       " <g transform=\"matrix(1.000000,0.000000,0.000000,1.000000,124.724409,-413.858268)\">\n",
       "  <path d=\"M-6.45649 -0M-6.40867 -1.56613C-6.45649 -1.47646 -6.45649 -1.45853 -6.45649 -1.35093L-6.45649 -1.20149C-6.45649 -1.01021 -6.41465 -0.91457 -6.16957 -0.91457L-4.82461 -0.91457L-4.82461 -0.286924C-4.82461 -0.0956413 -4.78277 -0 -4.53769 -0L-4.37031 -0C-4.14317 -0 -4.08339 -0.0777086 -4.08339 -0.286924L-4.08339 -0.91457L-3.83233 -0.91457C-3.64703 -0.91457 -3.54541 -0.956413 -3.54541 -1.19552C-3.54541 -1.41669 -3.62312 -1.47646 -3.83233 -1.47646L-4.08339 -1.47646L-4.08339 -3.86152C-4.08339 -4.07671 -4.14914 -4.14844 -4.37031 -4.14844L-4.80668 -4.14844C-4.92025 -4.14844 -5.00992 -4.14844 -5.08165 -4.01096ZM-5.08165 -4.01096M-5.83482 -1.47646C-4.87841 -3.23387 -4.82461 -3.41918 -4.79472 -3.5208L-4.78874 -3.5208L-4.78874 -1.47646ZM-4.78874 -1.47646M-2.98949 -0M-2.19447 -3.86152C-2.19447 -4.0528 -2.23632 -4.14844 -2.4814 -4.14844L-2.70257 -4.14844C-2.91776 -4.14844 -2.98949 -4.08269 -2.98949 -3.86152L-2.98949 -0.286924C-2.98949 -0.071731 -2.92374 -0 -2.70257 -0L-2.46346 -0C-2.36185 -0 -2.18252 -0 -2.17654 -0.233126C-1.90157 0.0657534 -1.59671 0.0657534 -1.50107 0.0657534C-0.227848 0.0657534 -0.227848 -1.08194 -0.227848 -1.38082C-0.227848 -1.66775 -0.227848 -2.80349 -1.35163 -2.80349C-1.8418 -2.80349 -2.14067 -2.52852 -2.19447 -2.46874ZM-2.19447 -2.46874M-2.17654 -2.16389C-2.09883 -2.23562 -1.9195 -2.3731 -1.64454 -2.3731C-1.0408 -2.3731 -1.0408 -1.82316 -1.0408 -1.37484C-1.0408 -0.932503 -1.0408 -0.364633 -1.71029 -0.364633C-1.96135 -0.364633 -2.11079 -0.514072 -2.17654 -0.597758ZM-2.17654 -0.597758\" fill=\"black\"/>\n",
       " </g>\n",
       " <g transform=\"matrix(1.000000,0.000000,0.000000,1.000000,127.559055,-413.858268)\">\n",
       "  <path d=\"M0.388543 -0M1.52428 -5.89788L4.14446 -5.89788L4.14446 -6.53549L0.806974 -6.53549L0.806974 -2.85928L1.46451 -2.85928C1.63387 -3.25778 2.00249 -3.64633 2.58032 -3.64633C3.04857 -3.64633 3.58655 -3.23786 3.58655 -2.04234C3.58655 -0.388543 2.37111 -0.388543 2.28144 -0.388543C1.61395 -0.388543 1.00623 -0.777086 0.71731 -1.31507L0.388543 -0.757161C0.797011 -0.18929 1.48443 0.219178 2.29141 0.219178C3.47696 0.219178 4.47323 -0.767123 4.47323 -2.02242C4.47323 -3.26775 3.61644 -4.25405 2.59029 -4.25405C2.19178 -4.25405 1.8132 -4.10461 1.52428 -3.84558ZM1.52428 -3.84558\" fill=\"black\"/>\n",
       " </g>\n",
       " <g stroke-width=\"0.400879\">\n",
       "  <path d=\"M142.116 -405.685C207.488 -403.966 298.096 -381.344 303.983 -439.078\" stroke=\"#7f7f33\"/>\n",
       "  <g stroke-linecap=\"butt\" stroke-dasharray=\"none\">\n",
       "   <path d=\"M302.269 -438.436C302.945 -439.63 303.594 -440.886 304.215 -442.205C304.708 -440.833 305.137 -439.487 305.504 -438.164L303.983 -439.078Z\" fill=\"#7f7f33\"/>\n",
       "  </g>\n",
       " </g>\n",
       " <g stroke-width=\"1.133858\">\n",
       "  <path d=\"M298.055 -441.205L310.516 -441.205L310.516 -449.293L298.055 -449.293Z\" stroke=\"#7f7f33\" fill=\"#9cc\"/>\n",
       " </g>\n",
       " <g transform=\"matrix(1.000000,0.000000,0.000000,1.000000,299.055118,-442.204724)\">\n",
       "  <path d=\"M0.498132 -0M4.72229 -3.03861C4.72229 -4.89166 3.7061 -6.19676 2.61021 -6.19676C1.4944 -6.19676 0.498132 -4.86177 0.498132 -3.04857C0.498132 -1.19552 1.51432 0.109589 2.61021 0.109589C3.72603 0.109589 4.72229 -1.2254 4.72229 -3.03861ZM4.72229 -3.03861M2.61021 -0.498132C1.83313 -0.498132 1.18555 -1.67372 1.18555 -3.14819C1.18555 -4.60274 1.87298 -5.58904 2.61021 -5.58904C3.33748 -5.58904 4.03487 -4.6127 4.03487 -3.14819C4.03487 -1.67372 3.3873 -0.498132 2.61021 -0.498132ZM2.61021 -0.498132M5.72852 -0M9.95268 -3.03861C9.95268 -4.89166 8.93649 -6.19676 7.8406 -6.19676C6.72478 -6.19676 5.72852 -4.86177 5.72852 -3.04857C5.72852 -1.19552 6.74471 0.109589 7.8406 0.109589C8.95641 0.109589 9.95268 -1.2254 9.95268 -3.03861ZM9.95268 -3.03861M7.8406 -0.498132C7.06351 -0.498132 6.41594 -1.67372 6.41594 -3.14819C6.41594 -4.60274 7.10336 -5.58904 7.8406 -5.58904C8.56787 -5.58904 9.26526 -4.6127 9.26526 -3.14819C9.26526 -1.67372 8.61768 -0.498132 7.8406 -0.498132ZM7.8406 -0.498132\" fill=\"black\"/>\n",
       " </g>\n",
       " <g transform=\"matrix(1.000000,0.000000,0.000000,1.000000,28.346457,-402.519685)\">\n",
       "  <path d=\"M0.18929 -0M1.74346 -3.84558L3.14819 -3.84558L3.14819 -4.42341L1.74346 -4.42341L1.74346 -5.68867L1.05604 -5.68867L1.05604 -4.42341L0.18929 -4.42341L0.18929 -3.84558L1.02615 -3.84558L1.02615 -1.18555C1.02615 -0.587796 1.16563 0.109589 1.85305 0.109589C2.55044 0.109589 3.05853 -0.139477 3.3076 -0.268991L3.14819 -0.856787C2.88917 -0.647572 2.57036 -0.52802 2.25156 -0.52802C1.88294 -0.52802 1.74346 -0.826899 1.74346 -1.35492ZM1.74346 -1.35492M3.89539 -0M8.26899 -2.19178C8.26899 -3.52677 7.27273 -4.59278 6.08717 -4.59278C4.86177 -4.59278 3.89539 -3.49689 3.89539 -2.19178C3.89539 -0.876712 4.91158 0.109589 6.07721 0.109589C7.27273 0.109589 8.26899 -0.896638 8.26899 -2.19178ZM8.26899 -2.19178M6.07721 -0.52802C5.38979 -0.52802 4.67248 -1.08593 4.67248 -2.29141C4.67248 -3.49689 5.42964 -3.98506 6.07721 -3.98506C6.7746 -3.98506 7.49191 -3.467 7.49191 -2.29141C7.49191 -1.11582 6.81445 -0.52802 6.07721 -0.52802ZM6.07721 -0.52802M8.85679 -0M11.995 -4.27397C11.477 -4.51308 11.0685 -4.59278 10.5604 -4.59278C10.3113 -4.59278 8.9066 -4.59278 8.9066 -3.28767C8.9066 -2.7995 9.19552 -2.4807 9.44458 -2.29141C9.75342 -2.07223 9.9726 -2.03238 10.5205 -1.92279C10.8792 -1.85305 11.457 -1.7335 11.457 -1.20548C11.457 -0.518057 10.67 -0.518057 10.5205 -0.518057C9.71357 -0.518057 9.15567 -0.886675 8.97634 -1.00623L8.85679 -0.328767C9.17559 -0.169365 9.72354 0.109589 10.5305 0.109589C10.7098 0.109589 11.2578 0.109589 11.6862 -0.209215C11.995 -0.448319 12.1644 -0.846824 12.1644 -1.27522C12.1644 -1.82316 11.7958 -2.16189 11.7758 -2.19178C11.3873 -2.54047 11.1183 -2.60025 10.6202 -2.68991C10.0722 -2.7995 9.61395 -2.89913 9.61395 -3.3873C9.61395 -4.00498 10.3313 -4.00498 10.4608 -4.00498C10.7796 -4.00498 11.3076 -3.96513 11.8755 -3.6264ZM11.8755 -3.6264\" fill=\"black\"/>\n",
       " </g>\n",
       " <g transform=\"matrix(1.000000,0.000000,0.000000,1.000000,124.724409,-402.519685)\">\n",
       "  <path d=\"M-7.21698 -0M-5.54923 -3.99303C-5.54923 -4.1066 -5.54923 -4.27995 -5.81225 -4.27995C-5.9318 -4.27995 -5.95571 -4.268 -6.02744 -4.19626C-6.13504 -4.10062 -6.36218 -3.87945 -6.95397 -3.8675C-7.06156 -3.8675 -7.21698 -3.82565 -7.21698 -3.6523C-7.21698 -3.43711 -7.00776 -3.43711 -6.93006 -3.43711C-6.75073 -3.43711 -6.54151 -3.467 -6.36816 -3.51482L-6.36816 -0.430386L-6.83441 -0.430386C-6.91212 -0.430386 -7.12134 -0.430386 -7.12134 -0.215193C-7.12134 -0 -6.91212 -0 -6.83441 -0L-5.1308 -0C-5.06505 -0 -4.84388 -0 -4.84388 -0.215193C-4.84388 -0.430386 -5.06505 -0.430386 -5.1308 -0.430386L-5.54923 -0.430386ZM-5.54923 -0.430386M-3.83964 -0M-3.55272 -4.14844C-3.76791 -4.14844 -3.83964 -4.08269 -3.83964 -3.86152L-3.83964 -0.286924C-3.83964 -0.071731 -3.77389 -0 -3.55272 -0L-1.91486 -0C-1.47252 -0 -0.372645 -0.0777086 -0.372645 -1.15965C-0.372645 -2.00249 -1.20353 -2.134 -1.4247 -2.16986C-0.874762 -2.29539 -0.55795 -2.60623 -0.55795 -3.07248C-0.55795 -4.14844 -1.83118 -4.14844 -2.08223 -4.14844ZM-2.08223 -4.14844M-2.9968 -2.3731L-2.9968 -3.63437L-2.29743 -3.63437C-2.0643 -3.63437 -1.3709 -3.61644 -1.3709 -3.05455C-1.3709 -2.3731 -2.15397 -2.3731 -2.3034 -2.3731ZM-2.3034 -2.3731M-2.9968 -0.514072L-2.9968 -1.94271L-2.24363 -1.94271C-2.03441 -1.94271 -1.20353 -1.94271 -1.20353 -1.17161C-1.20353 -0.555915 -1.84313 -0.514072 -2.13006 -0.514072ZM-2.13006 -0.514072\" fill=\"black\"/>\n",
       " </g>\n",
       " <g transform=\"matrix(1.000000,0.000000,0.000000,1.000000,127.559055,-402.519685)\">\n",
       "  <path d=\"M0.418431 -0M4.55293 -3.24782C4.55293 -4.03487 4.51308 -4.96139 4.09465 -5.76837C3.68618 -6.51557 2.99875 -6.75467 2.49066 -6.75467C1.90286 -6.75467 1.20548 -6.48568 0.797011 -5.599C0.468244 -4.87173 0.418431 -4.04483 0.418431 -3.24782C0.418431 -2.46077 0.458281 -1.7335 0.757161 -1.00623C1.15567 -0.0498132 1.91283 0.219178 2.4807 0.219178C3.20797 0.219178 3.83562 -0.18929 4.15442 -0.876712C4.4533 -1.52428 4.55293 -2.18182 4.55293 -3.24782ZM4.55293 -3.24782M2.49066 -0.388543C1.9726 -0.388543 1.56413 -0.767123 1.36488 -1.48443C1.20548 -2.0523 1.19552 -2.59029 1.19552 -3.36737C1.19552 -3.99502 1.19552 -4.59278 1.36488 -5.14072C1.42466 -5.33001 1.67372 -6.14695 2.4807 -6.14695C3.25778 -6.14695 3.51681 -5.38979 3.58655 -5.21046C3.77584 -4.65255 3.77584 -3.98506 3.77584 -3.36737C3.77584 -2.70984 3.77584 -2.08219 3.59651 -1.45455C3.33748 -0.547945 2.80946 -0.388543 2.49066 -0.388543ZM2.49066 -0.388543M4.98132 -0M7.57161 -2.28144L9.39477 -4.42341L8.57783 -4.42341L7.24284 -2.77958L5.868 -4.42341L5.0411 -4.42341L6.91407 -2.28144L4.98132 -0L5.79826 -0L7.24284 -1.87298L8.73724 -0L9.56413 -0ZM9.56413 -0M9.99253 -0M14.127 -3.24782C14.127 -4.03487 14.0872 -4.96139 13.6687 -5.76837C13.2603 -6.51557 12.5729 -6.75467 12.0648 -6.75467C11.477 -6.75467 10.7796 -6.48568 10.3711 -5.599C10.0423 -4.87173 9.99253 -4.04483 9.99253 -3.24782C9.99253 -2.46077 10.0324 -1.7335 10.3313 -1.00623C10.7298 -0.0498132 11.4869 0.219178 12.0548 0.219178C12.7821 0.219178 13.4097 -0.18929 13.7285 -0.876712C14.0274 -1.52428 14.127 -2.18182 14.127 -3.24782ZM14.127 -3.24782M12.0648 -0.388543C11.5467 -0.388543 11.1382 -0.767123 10.939 -1.48443C10.7796 -2.0523 10.7696 -2.59029 10.7696 -3.36737C10.7696 -3.99502 10.7696 -4.59278 10.939 -5.14072C10.9988 -5.33001 11.2478 -6.14695 12.0548 -6.14695C12.8319 -6.14695 13.0909 -5.38979 13.1606 -5.21046C13.3499 -4.65255 13.3499 -3.98506 13.3499 -3.36737C13.3499 -2.70984 13.3499 -2.08219 13.1706 -1.45455C12.9116 -0.547945 12.3836 -0.388543 12.0648 -0.388543ZM12.0648 -0.388543\" fill=\"black\"/>\n",
       " </g>\n",
       " <g stroke-width=\"0.400879\">\n",
       "  <path d=\"M137.522 -394.411C213.842 -393.359 321.552 -369.609 327.467 -439.075\" stroke=\"#7fcc7f\"/>\n",
       "  <g stroke-linecap=\"butt\" stroke-dasharray=\"none\">\n",
       "   <path d=\"M325.767 -438.409C326.422 -439.624 327.054 -440.889 327.662 -442.205C328.162 -440.844 328.61 -439.503 329.006 -438.181L327.467 -439.075Z\" fill=\"#7fcc7f\"/>\n",
       "  </g>\n",
       " </g>\n",
       " <g stroke-width=\"1.133858\">\n",
       "  <path d=\"M313.646 -441.205L341.797 -441.205L341.797 -449.293L313.646 -449.293Z\" stroke=\"#7fcc7f\" fill=\"#9cc\"/>\n",
       " </g>\n",
       " <g transform=\"matrix(1.000000,0.000000,0.000000,1.000000,314.645669,-442.204724)\">\n",
       "  <path d=\"M0.498132 -0M4.72229 -3.03861C4.72229 -4.89166 3.7061 -6.19676 2.61021 -6.19676C1.4944 -6.19676 0.498132 -4.86177 0.498132 -3.04857C0.498132 -1.19552 1.51432 0.109589 2.61021 0.109589C3.72603 0.109589 4.72229 -1.2254 4.72229 -3.03861ZM4.72229 -3.03861M2.61021 -0.498132C1.83313 -0.498132 1.18555 -1.67372 1.18555 -3.14819C1.18555 -4.60274 1.87298 -5.58904 2.61021 -5.58904C3.33748 -5.58904 4.03487 -4.6127 4.03487 -3.14819C4.03487 -1.67372 3.3873 -0.498132 2.61021 -0.498132ZM2.61021 -0.498132M5.72852 -0M9.95268 -3.03861C9.95268 -4.89166 8.93649 -6.19676 7.8406 -6.19676C6.72478 -6.19676 5.72852 -4.86177 5.72852 -3.04857C5.72852 -1.19552 6.74471 0.109589 7.8406 0.109589C8.95641 0.109589 9.95268 -1.2254 9.95268 -3.03861ZM9.95268 -3.03861M7.8406 -0.498132C7.06351 -0.498132 6.41594 -1.67372 6.41594 -3.14819C6.41594 -4.60274 7.10336 -5.58904 7.8406 -5.58904C8.56787 -5.58904 9.26526 -4.6127 9.26526 -3.14819C9.26526 -1.67372 8.61768 -0.498132 7.8406 -0.498132ZM7.8406 -0.498132\" fill=\"black\"/>\n",
       "  <path d=\"M16.1294 -0M19.3473 -3.32752C19.9052 -3.68618 20.1842 -4.25405 20.1842 -4.79203C20.1842 -5.52927 19.4569 -6.19676 18.3112 -6.19676C17.1157 -6.19676 16.4183 -5.71856 16.4183 -5.03113C16.4183 -4.70237 16.6674 -4.56289 16.8666 -4.56289C17.0758 -4.56289 17.305 -4.73225 17.305 -5.01121C17.305 -5.15068 17.2452 -5.25031 17.2153 -5.2802C17.5241 -5.58904 18.2315 -5.58904 18.3212 -5.58904C18.9986 -5.58904 19.4967 -5.23039 19.4967 -4.78207C19.4967 -4.48319 19.3473 -4.1345 19.0783 -3.91532C18.7595 -3.65629 18.5104 -3.63636 18.1518 -3.61644C17.5839 -3.57659 17.4345 -3.57659 17.4345 -3.28767C17.4345 -2.97883 17.6736 -2.97883 17.833 -2.97883L18.2913 -2.97883C19.2776 -2.97883 19.7857 -2.31133 19.7857 -1.7335C19.7857 -1.12578 19.2278 -0.498132 18.3212 -0.498132C17.9227 -0.498132 17.1555 -0.607721 16.8965 -1.07597C16.9463 -1.12578 17.0161 -1.18555 17.0161 -1.38481C17.0161 -1.62391 16.8268 -1.82316 16.5777 -1.82316C16.3486 -1.82316 16.1294 -1.67372 16.1294 -1.35492C16.1294 -0.468244 17.0958 0.109589 18.3212 0.109589C19.6263 0.109589 20.4731 -0.806974 20.4731 -1.7335C20.4731 -2.44085 20.0048 -3.02864 19.3473 -3.32752ZM19.3473 -3.32752M21.2801 -0M24.488 -0.498132C24.488 -0.139477 24.488 -0 24.8865 -0L25.6138 -0C25.7732 -0 26.0223 -0 26.0223 -0.308842C26.0223 -0.607721 25.7633 -0.607721 25.6238 -0.607721L25.1755 -0.607721L25.1755 -5.6787C25.1755 -5.98755 25.1157 -6.08717 24.7769 -6.08717L24.0497 -6.08717C23.8903 -6.08717 23.6412 -6.08717 23.6412 -5.77833C23.6412 -5.47945 23.9002 -5.47945 24.0397 -5.47945L24.488 -5.47945L24.488 -3.90535C24.1593 -4.19427 23.7508 -4.35367 23.3224 -4.35367C22.2365 -4.35367 21.2801 -3.40722 21.2801 -2.14197C21.2801 -0.9066 22.1767 0.0597758 23.2327 0.0597758C23.7906 0.0597758 24.2091 -0.209215 24.488 -0.498132ZM24.488 -0.498132M24.488 -2.6401L24.488 -1.93275C24.488 -1.37484 24.0397 -0.547945 23.2726 -0.547945C22.5652 -0.547945 21.9675 -1.25529 21.9675 -2.14197C21.9675 -3.09838 22.6649 -3.74595 23.3623 -3.74595C23.9999 -3.74595 24.488 -3.18804 24.488 -2.6401ZM24.488 -2.6401\" fill=\"black\"/>\n",
       " </g>\n",
       " <g transform=\"matrix(1.000000,0.000000,0.000000,1.000000,28.346457,-391.181102)\">\n",
       "  <path d=\"M0.806974 -0M1.55417 -6.91407L0.806974 -6.91407L0.806974 -0L1.55417 -0ZM1.55417 -0M2.7198 -0M6.49564 -2.18182C6.49564 -2.52055 6.48568 -3.26775 6.09714 -3.8655C5.68867 -4.48319 5.08095 -4.59278 4.72229 -4.59278C3.61644 -4.59278 2.7198 -3.53674 2.7198 -2.25156C2.7198 -0.936488 3.67621 0.109589 4.87173 0.109589C5.49938 0.109589 6.06725 -0.129514 6.45579 -0.408468L6.39601 -1.05604C5.76837 -0.537983 5.11083 -0.498132 4.88169 -0.498132C4.08468 -0.498132 3.44707 -1.20548 3.41719 -2.18182ZM3.41719 -2.18182M3.467 -2.72976C3.6264 -3.48692 4.15442 -3.98506 4.72229 -3.98506C5.24035 -3.98506 5.79826 -3.64633 5.92777 -2.72976ZM5.92777 -2.72976M7.60149 -0M11.1283 -2.96887C11.1283 -3.6264 10.9788 -4.533 9.76339 -4.533C8.86675 -4.533 8.37858 -3.85554 8.3188 -3.77584L8.3188 -4.48319L7.60149 -4.48319L7.60149 -0L8.37858 -0L8.37858 -2.44085C8.37858 -3.09838 8.62765 -3.92528 9.38481 -3.92528C10.3412 -3.92528 10.3512 -3.21793 10.3512 -2.89913L10.3512 -0L11.1283 -0ZM11.1283 -0\" fill=\"black\"/>\n",
       " </g>\n",
       " <g transform=\"matrix(1.000000,0.000000,0.000000,1.000000,124.724409,-391.181102)\">\n",
       "  <path d=\"M-7.39631 -0M-7.28273 -0.508095C-7.34251 -0.448319 -7.34251 -0.436364 -7.34251 -0.334745L-7.34251 -0.286924C-7.34251 -0.071731 -7.27675 -0 -7.05558 -0L-5.00527 -0C-4.77812 -0 -4.71835 -0.0777086 -4.71835 -0.286924L-4.71835 -0.358655C-4.71835 -0.454296 -4.71835 -0.56787 -4.84388 -0.621669C-4.88572 -0.645579 -5.077 -0.645579 -5.19656 -0.645579C-5.32806 -0.645579 -5.47152 -0.639601 -5.60303 -0.639601L-6.5714 -0.639601L-5.78236 -1.3868C-5.6927 -1.46451 -5.46555 -1.64981 -5.37588 -1.7335C-5.04712 -2.05629 -4.71835 -2.3731 -4.71835 -2.90511C-4.71835 -3.63437 -5.24438 -4.27995 -6.12308 -4.27995C-6.3323 -4.27995 -6.67302 -4.25006 -6.95994 -4.01694C-7.01374 -3.97509 -7.28871 -3.7599 -7.39631 -3.3594L-7.09743 -2.97684C-7.06156 -2.92902 -7.04363 -2.90511 -7.00179 -2.90511C-6.94799 -2.90511 -6.93603 -2.94695 -6.9181 -3.01868C-6.79855 -3.43113 -6.59531 -3.68219 -6.21274 -3.68219C-5.74649 -3.68219 -5.55521 -3.25778 -5.55521 -2.89315C-5.55521 -2.51059 -5.78236 -2.11009 -6.14101 -1.72752ZM-6.14101 -1.72752M-3.83964 -0M-3.55272 -4.14844C-3.76791 -4.14844 -3.83964 -4.08269 -3.83964 -3.86152L-3.83964 -0.286924C-3.83964 -0.071731 -3.77389 -0 -3.55272 -0L-1.91486 -0C-1.47252 -0 -0.372645 -0.0777086 -0.372645 -1.15965C-0.372645 -2.00249 -1.20353 -2.134 -1.4247 -2.16986C-0.874762 -2.29539 -0.55795 -2.60623 -0.55795 -3.07248C-0.55795 -4.14844 -1.83118 -4.14844 -2.08223 -4.14844ZM-2.08223 -4.14844M-2.9968 -2.3731L-2.9968 -3.63437L-2.29743 -3.63437C-2.0643 -3.63437 -1.3709 -3.61644 -1.3709 -3.05455C-1.3709 -2.3731 -2.15397 -2.3731 -2.3034 -2.3731ZM-2.3034 -2.3731M-2.9968 -0.514072L-2.9968 -1.94271L-2.24363 -1.94271C-2.03441 -1.94271 -1.20353 -1.94271 -1.20353 -1.17161C-1.20353 -0.555915 -1.84313 -0.514072 -2.13006 -0.514072ZM-2.13006 -0.514072\" fill=\"black\"/>\n",
       " </g>\n",
       " <g transform=\"matrix(1.000000,0.000000,0.000000,1.000000,127.559055,-391.181102)\">\n",
       "  <path d=\"M0.418431 -0M4.1345 -6.55542C3.6264 -6.75467 3.21793 -6.75467 3.07846 -6.75467C1.67372 -6.75467 0.418431 -5.34994 0.418431 -3.20797C0.418431 -0.388543 1.6538 0.219178 2.50062 0.219178C3.09838 0.219178 3.52677 -0.00996264 3.91532 -0.458281C4.36364 -0.966376 4.55293 -1.42466 4.55293 -2.21171C4.55293 -3.48692 3.89539 -4.60274 2.93898 -4.60274C2.62017 -4.60274 1.86301 -4.52304 1.25529 -3.77584C1.38481 -5.37983 2.17186 -6.17684 3.08842 -6.17684C3.467 -6.17684 3.7858 -6.1071 4.1345 -5.96762ZM4.1345 -5.96762M1.26526 -2.18182C1.26526 -2.3213 1.26526 -2.34122 1.27522 -2.46077C1.27522 -3.19801 1.72354 -3.99502 2.55044 -3.99502C3.02864 -3.99502 3.3076 -3.74595 3.50685 -3.37733C3.71606 -3.00872 3.73599 -2.66002 3.73599 -2.21171C3.73599 -1.87298 3.73599 -1.41469 3.49689 -1.00623C3.32752 -0.727273 3.06849 -0.388543 2.50062 -0.388543C1.44458 -0.388543 1.29514 -1.85305 1.26526 -2.18182ZM1.26526 -2.18182M5.868 -0M7.96015 -6.75467L7.7609 -6.75467C7.1731 -6.14695 6.3462 -6.11706 5.868 -6.09714L5.868 -5.5193C6.19676 -5.52927 6.67497 -5.54919 7.1731 -5.75841L7.1731 -0.577833L5.92777 -0.577833L5.92777 -0L9.20548 -0L9.20548 -0.577833L7.96015 -0.577833ZM7.96015 -0.577833\" fill=\"black\"/>\n",
       " </g>\n",
       " <g stroke-width=\"0.400879\">\n",
       "  <path d=\"M132.54 -383.101C222.821 -382.588 352.721 -354.918 358.689 -439.073\" stroke=\"#7f33cc\"/>\n",
       "  <g stroke-linecap=\"butt\" stroke-dasharray=\"none\">\n",
       "   <path d=\"M357.002 -438.387C357.638 -439.618 358.255 -440.89 358.852 -442.205C359.359 -440.853 359.823 -439.518 360.243 -438.197L358.689 -439.073Z\" fill=\"#7f33cc\"/>\n",
       "  </g>\n",
       " </g>\n",
       " <g stroke-width=\"1.133858\">\n",
       "  <path d=\"M344.827 -441.205L372.978 -441.205L372.978 -449.293L344.827 -449.293Z\" stroke=\"#7f33cc\" fill=\"#9cc\"/>\n",
       " </g>\n",
       " <g transform=\"matrix(1.000000,0.000000,0.000000,1.000000,345.826772,-442.204724)\">\n",
       "  <path d=\"M0.498132 -0M4.72229 -3.03861C4.72229 -4.89166 3.7061 -6.19676 2.61021 -6.19676C1.4944 -6.19676 0.498132 -4.86177 0.498132 -3.04857C0.498132 -1.19552 1.51432 0.109589 2.61021 0.109589C3.72603 0.109589 4.72229 -1.2254 4.72229 -3.03861ZM4.72229 -3.03861M2.61021 -0.498132C1.83313 -0.498132 1.18555 -1.67372 1.18555 -3.14819C1.18555 -4.60274 1.87298 -5.58904 2.61021 -5.58904C3.33748 -5.58904 4.03487 -4.6127 4.03487 -3.14819C4.03487 -1.67372 3.3873 -0.498132 2.61021 -0.498132ZM2.61021 -0.498132M5.72852 -0M9.95268 -3.03861C9.95268 -4.89166 8.93649 -6.19676 7.8406 -6.19676C6.72478 -6.19676 5.72852 -4.86177 5.72852 -3.04857C5.72852 -1.19552 6.74471 0.109589 7.8406 0.109589C8.95641 0.109589 9.95268 -1.2254 9.95268 -3.03861ZM9.95268 -3.03861M7.8406 -0.498132C7.06351 -0.498132 6.41594 -1.67372 6.41594 -3.14819C6.41594 -4.60274 7.10336 -5.58904 7.8406 -5.58904C8.56787 -5.58904 9.26526 -4.6127 9.26526 -3.14819C9.26526 -1.67372 8.61768 -0.498132 7.8406 -0.498132ZM7.8406 -0.498132\" fill=\"black\"/>\n",
       "  <path d=\"M16.1892 -0M20.4133 -3.03861C20.4133 -4.89166 19.3971 -6.19676 18.3012 -6.19676C17.1854 -6.19676 16.1892 -4.86177 16.1892 -3.04857C16.1892 -1.19552 17.2053 0.109589 18.3012 0.109589C19.417 0.109589 20.4133 -1.2254 20.4133 -3.03861ZM20.4133 -3.03861M18.3012 -0.498132C17.5241 -0.498132 16.8766 -1.67372 16.8766 -3.14819C16.8766 -4.60274 17.564 -5.58904 18.3012 -5.58904C19.0285 -5.58904 19.7259 -4.6127 19.7259 -3.14819C19.7259 -1.67372 19.0783 -0.498132 18.3012 -0.498132ZM18.3012 -0.498132M21.9675 -0M24.0198 -5.78829C24.0198 -5.9477 24.0198 -6.19676 23.7209 -6.19676C23.5316 -6.19676 23.4718 -6.07721 23.422 -5.95766C23.0434 -5.11083 22.5254 -5.00125 22.3361 -4.98132C22.1767 -4.97136 21.9675 -4.95143 21.9675 -4.67248C21.9675 -4.42341 22.1468 -4.3736 22.2963 -4.3736C22.4855 -4.3736 22.894 -4.43337 23.3324 -4.81196L23.3324 -0.607721L22.4258 -0.607721C22.2664 -0.607721 22.0273 -0.607721 22.0273 -0.298879C22.0273 -0 22.2763 -0 22.4258 -0L24.9264 -0C25.0758 -0 25.3249 -0 25.3249 -0.298879C25.3249 -0.607721 25.0858 -0.607721 24.9264 -0.607721L24.0198 -0.607721ZM24.0198 -0.607721\" fill=\"black\"/>\n",
       " </g>\n",
       " <g transform=\"matrix(1.000000,0.000000,0.000000,1.000000,28.346457,-379.842520)\">\n",
       "  <path d=\"M0.737235 -0M1.62391 -6.7746L0.737235 -6.7746L0.737235 -5.88792L1.62391 -5.88792ZM1.62391 -5.88792M1.55417 -4.42341L0.806974 -4.42341L0.806974 -0L1.55417 -0ZM1.55417 -0M2.72976 -0M6.69489 -6.91407L5.9477 -6.91407L5.9477 -3.98506C5.41968 -4.42341 4.86177 -4.533 4.49315 -4.533C3.50685 -4.533 2.72976 -3.49689 2.72976 -2.21171C2.72976 -0.9066 3.49689 0.109589 4.44334 0.109589C4.7721 0.109589 5.3599 0.0199253 5.91781 -0.518057L5.91781 -0L6.69489 -0ZM6.69489 -0M5.91781 -1.38481C5.91781 -1.24533 5.90785 -1.066 5.58904 -0.777086C5.3599 -0.577833 5.11083 -0.498132 4.85181 -0.498132C4.23412 -0.498132 3.50685 -0.966376 3.50685 -2.20174C3.50685 -3.51681 4.36364 -3.92528 4.95143 -3.92528C5.39975 -3.92528 5.69863 -3.69614 5.91781 -3.37733ZM5.91781 -3.37733\" fill=\"black\"/>\n",
       " </g>\n",
       " <g transform=\"matrix(1.000000,0.000000,0.000000,1.000000,124.724409,-379.842520)\">\n",
       "  <path d=\"M-7.39631 -0M-7.28273 -0.508095C-7.34251 -0.448319 -7.34251 -0.436364 -7.34251 -0.334745L-7.34251 -0.286924C-7.34251 -0.071731 -7.27675 -0 -7.05558 -0L-5.00527 -0C-4.77812 -0 -4.71835 -0.0777086 -4.71835 -0.286924L-4.71835 -0.358655C-4.71835 -0.454296 -4.71835 -0.56787 -4.84388 -0.621669C-4.88572 -0.645579 -5.077 -0.645579 -5.19656 -0.645579C-5.32806 -0.645579 -5.47152 -0.639601 -5.60303 -0.639601L-6.5714 -0.639601L-5.78236 -1.3868C-5.6927 -1.46451 -5.46555 -1.64981 -5.37588 -1.7335C-5.04712 -2.05629 -4.71835 -2.3731 -4.71835 -2.90511C-4.71835 -3.63437 -5.24438 -4.27995 -6.12308 -4.27995C-6.3323 -4.27995 -6.67302 -4.25006 -6.95994 -4.01694C-7.01374 -3.97509 -7.28871 -3.7599 -7.39631 -3.3594L-7.09743 -2.97684C-7.06156 -2.92902 -7.04363 -2.90511 -7.00179 -2.90511C-6.94799 -2.90511 -6.93603 -2.94695 -6.9181 -3.01868C-6.79855 -3.43113 -6.59531 -3.68219 -6.21274 -3.68219C-5.74649 -3.68219 -5.55521 -3.25778 -5.55521 -2.89315C-5.55521 -2.51059 -5.78236 -2.11009 -6.14101 -1.72752ZM-6.14101 -1.72752M-3.83964 -0M-3.55272 -4.14844C-3.76791 -4.14844 -3.83964 -4.08269 -3.83964 -3.86152L-3.83964 -0.286924C-3.83964 -0.071731 -3.77389 -0 -3.55272 -0L-1.91486 -0C-1.47252 -0 -0.372645 -0.0777086 -0.372645 -1.15965C-0.372645 -2.00249 -1.20353 -2.134 -1.4247 -2.16986C-0.874762 -2.29539 -0.55795 -2.60623 -0.55795 -3.07248C-0.55795 -4.14844 -1.83118 -4.14844 -2.08223 -4.14844ZM-2.08223 -4.14844M-2.9968 -2.3731L-2.9968 -3.63437L-2.29743 -3.63437C-2.0643 -3.63437 -1.3709 -3.61644 -1.3709 -3.05455C-1.3709 -2.3731 -2.15397 -2.3731 -2.3034 -2.3731ZM-2.3034 -2.3731M-2.9968 -0.514072L-2.9968 -1.94271L-2.24363 -1.94271C-2.03441 -1.94271 -1.20353 -1.94271 -1.20353 -1.17161C-1.20353 -0.555915 -1.84313 -0.514072 -2.13006 -0.514072ZM-2.13006 -0.514072\" fill=\"black\"/>\n",
       " </g>\n",
       " <g transform=\"matrix(1.000000,0.000000,0.000000,1.000000,127.559055,-379.842520)\">\n",
       "  <path d=\"M0.886675 -0M2.97883 -6.75467L2.77958 -6.75467C2.19178 -6.14695 1.36488 -6.11706 0.886675 -6.09714L0.886675 -5.5193C1.21544 -5.52927 1.69365 -5.54919 2.19178 -5.75841L2.19178 -0.577833L0.946451 -0.577833L0.946451 -0L4.22416 -0L4.22416 -0.577833L2.97883 -0.577833ZM2.97883 -0.577833\" fill=\"black\"/>\n",
       " </g>\n",
       " <g transform=\"matrix(1.000000,0.000000,0.000000,1.000000,28.346457,-368.503937)\">\n",
       "  <path d=\"M0.268991 -0M1.75342 -3.84558L2.92902 -3.84558L2.92902 -4.42341L1.72354 -4.42341L1.72354 -5.62889C1.72354 -6.2665 2.08219 -6.41594 2.33126 -6.41594C2.53051 -6.41594 2.74969 -6.35616 2.92902 -6.24658L2.92902 -6.91407C2.86924 -6.934 2.62017 -7.02366 2.33126 -7.02366C1.59402 -7.02366 1.00623 -6.32628 1.00623 -5.33001L1.00623 -4.42341L0.268991 -4.42341L0.268991 -3.84558L1.00623 -3.84558L1.00623 -0L1.75342 -0ZM1.75342 -0M4.51308 -6.91407L3.76588 -6.91407L3.76588 -0L4.51308 -0ZM4.51308 -0M5.77833 -0M9.31507 -2.8792C9.31507 -3.89539 8.5878 -4.59278 7.67123 -4.59278C7.02366 -4.59278 6.57534 -4.43337 6.1071 -4.16438L6.16687 -3.50685C6.68493 -3.87547 7.18306 -4.00498 7.67123 -4.00498C8.13948 -4.00498 8.53798 -3.60648 8.53798 -2.86924L8.53798 -2.44085C7.04359 -2.42092 5.77833 -2.00249 5.77833 -1.12578C5.77833 -0.697385 6.04732 0.109589 6.91407 0.109589C7.05355 0.109589 7.99004 0.0896638 8.56787 -0.358655L8.56787 -0L9.31507 -0ZM9.31507 -0M8.53798 -1.31507C8.53798 -1.12578 8.53798 -0.876712 8.19925 -0.687422C7.91034 -0.508095 7.53176 -0.498132 7.42217 -0.498132C6.94396 -0.498132 6.49564 -0.727273 6.49564 -1.1457C6.49564 -1.84309 8.10959 -1.91283 8.53798 -1.93275ZM8.53798 -1.93275M10.401 -0M13.6289 -3.89539C13.8481 -3.89539 14.127 -3.93524 14.3661 -3.93524C14.5455 -3.93524 14.934 -3.90535 14.9539 -3.90535L14.8443 -4.533C14.1469 -4.533 13.5691 -4.34371 13.2702 -4.2142C13.061 -4.38356 12.7223 -4.533 12.3238 -4.533C11.467 -4.533 10.7397 -3.81569 10.7397 -2.90909C10.7397 -2.54047 10.8692 -2.18182 11.0685 -1.92279C10.7796 -1.51432 10.7796 -1.12578 10.7796 -1.07597C10.7796 -0.816936 10.8692 -0.52802 11.0386 -0.318804C10.5205 -0.00996264 10.401 0.448319 10.401 0.707347C10.401 1.45455 11.3873 2.0523 12.6027 2.0523C13.8281 2.0523 14.8144 1.46451 14.8144 0.697385C14.8144 -0.687422 13.1507 -0.687422 12.7621 -0.687422L11.8854 -0.687422C11.7559 -0.687422 11.3076 -0.687422 11.3076 -1.21544C11.3076 -1.32503 11.3474 -1.48443 11.4172 -1.5741C11.6264 -1.42466 11.9552 -1.28518 12.3238 -1.28518C13.2204 -1.28518 13.9178 -2.02242 13.9178 -2.90909C13.9178 -3.3873 13.6986 -3.75592 13.589 -3.90535ZM13.589 -3.90535M12.3238 -1.85305C11.9552 -1.85305 11.4371 -2.08219 11.4371 -2.90909C11.4371 -3.73599 11.9552 -3.96513 12.3238 -3.96513C12.7522 -3.96513 13.2204 -3.68618 13.2204 -2.90909C13.2204 -2.132 12.7522 -1.85305 12.3238 -1.85305ZM12.3238 -1.85305M12.7721 0.0298879C12.9913 0.0298879 14.1171 0.0298879 14.1171 0.71731C14.1171 1.15567 13.4296 1.48443 12.6127 1.48443C11.8057 1.48443 11.0984 1.17559 11.0984 0.707347C11.0984 0.67746 11.0984 0.0298879 11.8755 0.0298879ZM11.8755 0.0298879M15.3823 -0M18.5205 -4.27397C18.0025 -4.51308 17.594 -4.59278 17.0859 -4.59278C16.8369 -4.59278 15.4321 -4.59278 15.4321 -3.28767C15.4321 -2.7995 15.721 -2.4807 15.9701 -2.29141C16.279 -2.07223 16.4981 -2.03238 17.0461 -1.92279C17.4047 -1.85305 17.9826 -1.7335 17.9826 -1.20548C17.9826 -0.518057 17.1955 -0.518057 17.0461 -0.518057C16.2391 -0.518057 15.6812 -0.886675 15.5019 -1.00623L15.3823 -0.328767C15.7011 -0.169365 16.2491 0.109589 17.056 0.109589C17.2354 0.109589 17.7833 0.109589 18.2117 -0.209215C18.5205 -0.448319 18.6899 -0.846824 18.6899 -1.27522C18.6899 -1.82316 18.3213 -2.16189 18.3014 -2.19178C17.9128 -2.54047 17.6438 -2.60025 17.1457 -2.68991C16.5978 -2.7995 16.1395 -2.89913 16.1395 -3.3873C16.1395 -4.00498 16.8568 -4.00498 16.9863 -4.00498C17.3051 -4.00498 17.8331 -3.96513 18.401 -3.6264ZM18.401 -3.6264\" fill=\"black\"/>\n",
       " </g>\n",
       " <g transform=\"matrix(1.000000,0.000000,0.000000,1.000000,124.724409,-368.503937)\">\n",
       "  <path d=\"M-6.36683 -0M-6.06795 -3.31756C-6.02013 -3.24583 -5.99024 -3.24583 -5.97828 -3.24583C-5.93644 -3.24583 -5.92449 -3.26974 -5.8946 -3.31158C-5.58974 -3.74795 -5.16533 -3.74795 -5.08762 -3.74795C-4.70506 -3.74795 -4.65126 -3.55068 -4.65126 -3.25778C-4.65126 -3.1741 -4.65126 -2.88717 -4.83657 -2.66002C-4.98003 -2.49265 -5.12947 -2.4807 -5.30879 -2.46874C-5.37455 -2.46276 -5.48812 -2.45679 -5.50605 -2.44483C-5.5479 -2.4269 -5.5479 -2.39103 -5.5479 -2.29539L-5.5479 -2.1878C-5.5479 -2.03238 -5.54192 -2.0264 -5.3865 -2.0264L-5.12349 -2.0264C-4.57953 -2.0264 -4.51378 -1.68568 -4.51378 -1.2254C-4.51378 -0.824907 -4.55562 -0.430386 -5.09958 -0.430386C-5.29086 -0.430386 -5.7332 -0.472229 -6.1337 -0.848817C-6.1875 -0.902615 -6.19348 -0.908593 -6.21739 -0.908593C-6.27716 -0.908593 -6.28912 -0.854795 -6.2951 -0.842839C-6.2951 -0.836862 -6.36683 -0.460274 -6.36683 -0.430386C-6.36683 -0.352677 -5.85275 0.131507 -5.06969 0.131507C-4.04155 0.131507 -3.63507 -0.418431 -3.63507 -1.21345C-3.63507 -1.75143 -3.92199 -2.11606 -4.45998 -2.25355C-3.97579 -2.51656 -3.8144 -2.90511 -3.8144 -3.24583C-3.8144 -4.20224 -4.66919 -4.27995 -5.05774 -4.27995C-5.87666 -4.27995 -6.27716 -3.69415 -6.27716 -3.64633C-6.27716 -3.61046 -6.2413 -3.56264 -6.23532 -3.55666ZM-6.23532 -3.55666M-2.98949 -0M-2.19447 -3.86152C-2.19447 -4.0528 -2.23632 -4.14844 -2.4814 -4.14844L-2.70257 -4.14844C-2.91776 -4.14844 -2.98949 -4.08269 -2.98949 -3.86152L-2.98949 -0.286924C-2.98949 -0.071731 -2.92374 -0 -2.70257 -0L-2.46346 -0C-2.36185 -0 -2.18252 -0 -2.17654 -0.233126C-1.90157 0.0657534 -1.59671 0.0657534 -1.50107 0.0657534C-0.227848 0.0657534 -0.227848 -1.08194 -0.227848 -1.38082C-0.227848 -1.66775 -0.227848 -2.80349 -1.35163 -2.80349C-1.8418 -2.80349 -2.14067 -2.52852 -2.19447 -2.46874ZM-2.19447 -2.46874M-2.17654 -2.16389C-2.09883 -2.23562 -1.9195 -2.3731 -1.64454 -2.3731C-1.0408 -2.3731 -1.0408 -1.82316 -1.0408 -1.37484C-1.0408 -0.932503 -1.0408 -0.364633 -1.71029 -0.364633C-1.96135 -0.364633 -2.11079 -0.514072 -2.17654 -0.597758ZM-2.17654 -0.597758\" fill=\"black\"/>\n",
       " </g>\n",
       " <g stroke-width=\"0.400879\">\n",
       "  <path d=\"M132.54 -360.427C236.969 -360.106 384.085 -340.221 389.905 -439.072\" stroke=\"#cc337f\"/>\n",
       "  <g stroke-linecap=\"butt\" stroke-dasharray=\"none\">\n",
       "   <path d=\"M388.228 -438.369C388.85 -439.615 389.454 -440.893 390.041 -442.205C390.554 -440.862 391.03 -439.531 391.472 -438.211L389.905 -439.072Z\" fill=\"#cc337f\"/>\n",
       "  </g>\n",
       " </g>\n",
       " <g stroke-width=\"1.133858\">\n",
       "  <path d=\"M376.008 -441.205L404.16 -441.205L404.16 -449.293L376.008 -449.293Z\" stroke=\"#cc337f\" fill=\"#9cc\"/>\n",
       " </g>\n",
       " <g transform=\"matrix(1.000000,0.000000,0.000000,1.000000,377.007874,-442.204724)\">\n",
       "  <path d=\"M0.498132 -0M4.72229 -3.03861C4.72229 -4.89166 3.7061 -6.19676 2.61021 -6.19676C1.4944 -6.19676 0.498132 -4.86177 0.498132 -3.04857C0.498132 -1.19552 1.51432 0.109589 2.61021 0.109589C3.72603 0.109589 4.72229 -1.2254 4.72229 -3.03861ZM4.72229 -3.03861M2.61021 -0.498132C1.83313 -0.498132 1.18555 -1.67372 1.18555 -3.14819C1.18555 -4.60274 1.87298 -5.58904 2.61021 -5.58904C3.33748 -5.58904 4.03487 -4.6127 4.03487 -3.14819C4.03487 -1.67372 3.3873 -0.498132 2.61021 -0.498132ZM2.61021 -0.498132M5.72852 -0M9.95268 -3.03861C9.95268 -4.89166 8.93649 -6.19676 7.8406 -6.19676C6.72478 -6.19676 5.72852 -4.86177 5.72852 -3.04857C5.72852 -1.19552 6.74471 0.109589 7.8406 0.109589C8.95641 0.109589 9.95268 -1.2254 9.95268 -3.03861ZM9.95268 -3.03861M7.8406 -0.498132C7.06351 -0.498132 6.41594 -1.67372 6.41594 -3.14819C6.41594 -4.60274 7.10336 -5.58904 7.8406 -5.58904C8.56787 -5.58904 9.26526 -4.6127 9.26526 -3.14819C9.26526 -1.67372 8.61768 -0.498132 7.8406 -0.498132ZM7.8406 -0.498132\" fill=\"black\"/>\n",
       "  <path d=\"M16.1892 -0M20.4133 -3.03861C20.4133 -4.89166 19.3971 -6.19676 18.3012 -6.19676C17.1854 -6.19676 16.1892 -4.86177 16.1892 -3.04857C16.1892 -1.19552 17.2053 0.109589 18.3012 0.109589C19.417 0.109589 20.4133 -1.2254 20.4133 -3.03861ZM20.4133 -3.03861M18.3012 -0.498132C17.5241 -0.498132 16.8766 -1.67372 16.8766 -3.14819C16.8766 -4.60274 17.564 -5.58904 18.3012 -5.58904C19.0285 -5.58904 19.7259 -4.6127 19.7259 -3.14819C19.7259 -1.67372 19.0783 -0.498132 18.3012 -0.498132ZM18.3012 -0.498132M21.4195 -0M25.6437 -3.03861C25.6437 -4.89166 24.6275 -6.19676 23.5316 -6.19676C22.4158 -6.19676 21.4195 -4.86177 21.4195 -3.04857C21.4195 -1.19552 22.4357 0.109589 23.5316 0.109589C24.6474 0.109589 25.6437 -1.2254 25.6437 -3.03861ZM25.6437 -3.03861M23.5316 -0.498132C22.7545 -0.498132 22.107 -1.67372 22.107 -3.14819C22.107 -4.60274 22.7944 -5.58904 23.5316 -5.58904C24.2589 -5.58904 24.9563 -4.6127 24.9563 -3.14819C24.9563 -1.67372 24.3087 -0.498132 23.5316 -0.498132ZM23.5316 -0.498132\" fill=\"black\"/>\n",
       " </g>\n",
       " <g transform=\"matrix(1.000000,0.000000,0.000000,1.000000,28.346457,-357.165354)\">\n",
       "  <path d=\"M0.268991 -0M1.75342 -3.84558L2.84932 -3.84558L2.84932 -4.42341L1.72354 -4.42341L1.72354 -5.60897C1.72354 -6.3462 2.39103 -6.41594 2.65006 -6.41594C2.84932 -6.41594 3.11831 -6.39601 3.45704 -6.24658L3.45704 -6.91407C3.33748 -6.94396 3.02864 -7.02366 2.66002 -7.02366C1.72354 -7.02366 1.00623 -6.31631 1.00623 -5.32005L1.00623 -4.42341L0.268991 -4.42341L0.268991 -3.84558L1.00623 -3.84558L1.00623 -0L1.75342 -0ZM1.75342 -0M3.85554 -0M4.60274 -2.132C4.60274 -3.12827 5.32005 -3.84558 6.29639 -3.8655L6.29639 -4.533C5.40971 -4.52304 4.86177 -4.03487 4.55293 -3.57659L4.55293 -4.48319L3.85554 -4.48319L3.85554 -0L4.60274 -0ZM4.60274 -0M6.87422 -0M10.411 -2.8792C10.411 -3.89539 9.68369 -4.59278 8.76712 -4.59278C8.11955 -4.59278 7.67123 -4.43337 7.20299 -4.16438L7.26276 -3.50685C7.78082 -3.87547 8.27895 -4.00498 8.76712 -4.00498C9.23537 -4.00498 9.63387 -3.60648 9.63387 -2.86924L9.63387 -2.44085C8.13948 -2.42092 6.87422 -2.00249 6.87422 -1.12578C6.87422 -0.697385 7.14321 0.109589 8.00996 0.109589C8.14944 0.109589 9.08593 0.0896638 9.66376 -0.358655L9.66376 -0L10.411 -0ZM10.411 -0M9.63387 -1.31507C9.63387 -1.12578 9.63387 -0.876712 9.29514 -0.687422C9.00623 -0.508095 8.62765 -0.498132 8.51806 -0.498132C8.03985 -0.498132 7.59153 -0.727273 7.59153 -1.1457C7.59153 -1.84309 9.20548 -1.91283 9.63387 -1.93275ZM9.63387 -1.93275M11.4969 -0M14.7248 -3.89539C14.944 -3.89539 15.2229 -3.93524 15.462 -3.93524C15.6413 -3.93524 16.0299 -3.90535 16.0498 -3.90535L15.9402 -4.533C15.2428 -4.533 14.665 -4.34371 14.3661 -4.2142C14.1569 -4.38356 13.8182 -4.533 13.4197 -4.533C12.5629 -4.533 11.8356 -3.81569 11.8356 -2.90909C11.8356 -2.54047 11.9651 -2.18182 12.1644 -1.92279C11.8755 -1.51432 11.8755 -1.12578 11.8755 -1.07597C11.8755 -0.816936 11.9651 -0.52802 12.1345 -0.318804C11.6164 -0.00996264 11.4969 0.448319 11.4969 0.707347C11.4969 1.45455 12.4832 2.0523 13.6986 2.0523C14.924 2.0523 15.9103 1.46451 15.9103 0.697385C15.9103 -0.687422 14.2466 -0.687422 13.858 -0.687422L12.9813 -0.687422C12.8518 -0.687422 12.4035 -0.687422 12.4035 -1.21544C12.4035 -1.32503 12.4433 -1.48443 12.5131 -1.5741C12.7223 -1.42466 13.0511 -1.28518 13.4197 -1.28518C14.3163 -1.28518 15.0137 -2.02242 15.0137 -2.90909C15.0137 -3.3873 14.7945 -3.75592 14.6849 -3.90535ZM14.6849 -3.90535M13.4197 -1.85305C13.0511 -1.85305 12.533 -2.08219 12.533 -2.90909C12.533 -3.73599 13.0511 -3.96513 13.4197 -3.96513C13.8481 -3.96513 14.3163 -3.68618 14.3163 -2.90909C14.3163 -2.132 13.8481 -1.85305 13.4197 -1.85305ZM13.4197 -1.85305M13.868 0.0298879C14.0872 0.0298879 15.213 0.0298879 15.213 0.71731C15.213 1.15567 14.5255 1.48443 13.7086 1.48443C12.9016 1.48443 12.1943 1.17559 12.1943 0.707347C12.1943 0.67746 12.1943 0.0298879 12.9714 0.0298879ZM12.9714 0.0298879\" fill=\"black\"/>\n",
       " </g>\n",
       " <g transform=\"matrix(1.000000,0.000000,0.000000,1.000000,124.724409,-357.165354)\">\n",
       "  <path d=\"M-9.47519 -0M-7.80744 -3.99303C-7.80744 -4.1066 -7.80744 -4.27995 -8.07046 -4.27995C-8.19001 -4.27995 -8.21392 -4.268 -8.28565 -4.19626C-8.39325 -4.10062 -8.62039 -3.87945 -9.21217 -3.8675C-9.31977 -3.8675 -9.47519 -3.82565 -9.47519 -3.6523C-9.47519 -3.43711 -9.26597 -3.43711 -9.18826 -3.43711C-9.00894 -3.43711 -8.79972 -3.467 -8.62637 -3.51482L-8.62637 -0.430386L-9.09262 -0.430386C-9.17033 -0.430386 -9.37955 -0.430386 -9.37955 -0.215193C-9.37955 -0 -9.17033 -0 -9.09262 -0L-7.38901 -0C-7.32326 -0 -7.10209 -0 -7.10209 -0.215193C-7.10209 -0.430386 -7.32326 -0.430386 -7.38901 -0.430386L-7.80744 -0.430386ZM-7.80744 -0.430386M-6.36684 -0M-6.06797 -3.31756C-6.02015 -3.24583 -5.99026 -3.24583 -5.9783 -3.24583C-5.93646 -3.24583 -5.9245 -3.26974 -5.89462 -3.31158C-5.58976 -3.74795 -5.16535 -3.74795 -5.08764 -3.74795C-4.70508 -3.74795 -4.65128 -3.55068 -4.65128 -3.25778C-4.65128 -3.1741 -4.65128 -2.88717 -4.83658 -2.66002C-4.98005 -2.49265 -5.12949 -2.4807 -5.30881 -2.46874C-5.37457 -2.46276 -5.48814 -2.45679 -5.50607 -2.44483C-5.54792 -2.4269 -5.54792 -2.39103 -5.54792 -2.29539L-5.54792 -2.1878C-5.54792 -2.03238 -5.54194 -2.0264 -5.38652 -2.0264L-5.12351 -2.0264C-4.57955 -2.0264 -4.51379 -1.68568 -4.51379 -1.2254C-4.51379 -0.824907 -4.55564 -0.430386 -5.0996 -0.430386C-5.29088 -0.430386 -5.73322 -0.472229 -6.13372 -0.848817C-6.18752 -0.902615 -6.19349 -0.908593 -6.21741 -0.908593C-6.27718 -0.908593 -6.28914 -0.854795 -6.29511 -0.842839C-6.29511 -0.836862 -6.36684 -0.460274 -6.36684 -0.430386C-6.36684 -0.352677 -5.85277 0.131507 -5.06971 0.131507C-4.04156 0.131507 -3.63509 -0.418431 -3.63509 -1.21345C-3.63509 -1.75143 -3.92201 -2.11606 -4.46 -2.25355C-3.97581 -2.51656 -3.81442 -2.90511 -3.81442 -3.24583C-3.81442 -4.20224 -4.66921 -4.27995 -5.05775 -4.27995C-5.87668 -4.27995 -6.27718 -3.69415 -6.27718 -3.64633C-6.27718 -3.61046 -6.24132 -3.56264 -6.23534 -3.55666ZM-6.23534 -3.55666M-2.98951 -0M-2.19449 -3.86152C-2.19449 -4.0528 -2.23633 -4.14844 -2.48142 -4.14844L-2.70259 -4.14844C-2.91778 -4.14844 -2.98951 -4.08269 -2.98951 -3.86152L-2.98951 -0.286924C-2.98951 -0.071731 -2.92376 -0 -2.70259 -0L-2.46348 -0C-2.36186 -0 -2.18254 -0 -2.17656 -0.233126C-1.90159 0.0657534 -1.59673 0.0657534 -1.50109 0.0657534C-0.227866 0.0657534 -0.227866 -1.08194 -0.227866 -1.38082C-0.227866 -1.66775 -0.227866 -2.80349 -1.35165 -2.80349C-1.84181 -2.80349 -2.14069 -2.52852 -2.19449 -2.46874ZM-2.19449 -2.46874M-2.17656 -2.16389C-2.09885 -2.23562 -1.91952 -2.3731 -1.64455 -2.3731C-1.04082 -2.3731 -1.04082 -1.82316 -1.04082 -1.37484C-1.04082 -0.932503 -1.04082 -0.364633 -1.71031 -0.364633C-1.96137 -0.364633 -2.11081 -0.514072 -2.17656 -0.597758ZM-2.17656 -0.597758\" fill=\"black\"/>\n",
       " </g>\n",
       " <g transform=\"matrix(1.000000,0.000000,0.000000,1.000000,127.559055,-357.165354)\">\n",
       "  <path d=\"M0.418431 -0M4.55293 -3.24782C4.55293 -4.03487 4.51308 -4.96139 4.09465 -5.76837C3.68618 -6.51557 2.99875 -6.75467 2.49066 -6.75467C1.90286 -6.75467 1.20548 -6.48568 0.797011 -5.599C0.468244 -4.87173 0.418431 -4.04483 0.418431 -3.24782C0.418431 -2.46077 0.458281 -1.7335 0.757161 -1.00623C1.15567 -0.0498132 1.91283 0.219178 2.4807 0.219178C3.20797 0.219178 3.83562 -0.18929 4.15442 -0.876712C4.4533 -1.52428 4.55293 -2.18182 4.55293 -3.24782ZM4.55293 -3.24782M2.49066 -0.388543C1.9726 -0.388543 1.56413 -0.767123 1.36488 -1.48443C1.20548 -2.0523 1.19552 -2.59029 1.19552 -3.36737C1.19552 -3.99502 1.19552 -4.59278 1.36488 -5.14072C1.42466 -5.33001 1.67372 -6.14695 2.4807 -6.14695C3.25778 -6.14695 3.51681 -5.38979 3.58655 -5.21046C3.77584 -4.65255 3.77584 -3.98506 3.77584 -3.36737C3.77584 -2.70984 3.77584 -2.08219 3.59651 -1.45455C3.33748 -0.547945 2.80946 -0.388543 2.49066 -0.388543ZM2.49066 -0.388543\" fill=\"black\"/>\n",
       " </g>\n",
       " <g stroke-width=\"0.400879\">\n",
       "  <path d=\"M137.522 -349.081C250.87 -348.57 407.521 -331.753 413.257 -439.072\" stroke=\"#cc7fcc\"/>\n",
       "  <g stroke-linecap=\"butt\" stroke-dasharray=\"none\">\n",
       "   <path d=\"M411.585 -438.361C412.199 -439.613 412.798 -440.894 413.381 -442.205C413.895 -440.866 414.378 -439.537 414.829 -438.217L413.257 -439.072Z\" fill=\"#cc7fcc\"/>\n",
       "  </g>\n",
       " </g>\n",
       " <g stroke-width=\"1.133858\">\n",
       "  <path d=\"M407.189 -441.205L419.65 -441.205L419.65 -449.293L407.189 -449.293Z\" stroke=\"#cc7fcc\" fill=\"#9cc\"/>\n",
       " </g>\n",
       " <g transform=\"matrix(1.000000,0.000000,0.000000,1.000000,408.188976,-442.204724)\">\n",
       "  <path d=\"M0.288917 -0M0.37858 -2.43088C0.288917 -2.30137 0.288917 -2.28144 0.288917 -2.08219C0.288917 -1.75342 0.37858 -1.68369 0.687422 -1.68369L3.19801 -1.68369L3.19801 -0.607721L2.58032 -0.607721C2.42092 -0.607721 2.18182 -0.607721 2.18182 -0.298879C2.18182 -0 2.43088 -0 2.58032 -0L4.3736 -0C4.52304 -0 4.7721 -0 4.7721 -0.298879C4.7721 -0.607721 4.533 -0.607721 4.3736 -0.607721L3.75592 -0.607721L3.75592 -1.68369L4.533 -1.68369C4.68244 -1.68369 4.93151 -1.68369 4.93151 -1.98257C4.93151 -2.29141 4.6924 -2.29141 4.533 -2.29141L3.75592 -2.29141L3.75592 -5.79826C3.75592 -6.12702 3.68618 -6.20672 3.34745 -6.20672L3.06849 -6.20672C2.82939 -6.20672 2.77958 -6.19676 2.65006 -5.99751ZM2.65006 -5.99751M0.986301 -2.29141L3.19801 -5.76837L3.19801 -2.29141ZM3.19801 -2.29141M5.72852 -0M9.95268 -3.03861C9.95268 -4.89166 8.93649 -6.19676 7.8406 -6.19676C6.72478 -6.19676 5.72852 -4.86177 5.72852 -3.04857C5.72852 -1.19552 6.74471 0.109589 7.8406 0.109589C8.95641 0.109589 9.95268 -1.2254 9.95268 -3.03861ZM9.95268 -3.03861M7.8406 -0.498132C7.06351 -0.498132 6.41594 -1.67372 6.41594 -3.14819C6.41594 -4.60274 7.10336 -5.58904 7.8406 -5.58904C8.56787 -5.58904 9.26526 -4.6127 9.26526 -3.14819C9.26526 -1.67372 8.61768 -0.498132 7.8406 -0.498132ZM7.8406 -0.498132\" fill=\"black\"/>\n",
       " </g>\n",
       " <g transform=\"matrix(1.000000,0.000000,0.000000,1.000000,28.346457,-345.826772)\">\n",
       "  <path d=\"M0.18929 -0M1.74346 -3.84558L3.14819 -3.84558L3.14819 -4.42341L1.74346 -4.42341L1.74346 -5.68867L1.05604 -5.68867L1.05604 -4.42341L0.18929 -4.42341L0.18929 -3.84558L1.02615 -3.84558L1.02615 -1.18555C1.02615 -0.587796 1.16563 0.109589 1.85305 0.109589C2.55044 0.109589 3.05853 -0.139477 3.3076 -0.268991L3.14819 -0.856787C2.88917 -0.647572 2.57036 -0.52802 2.25156 -0.52802C1.88294 -0.52802 1.74346 -0.826899 1.74346 -1.35492ZM1.74346 -1.35492M3.7858 -0M5.33998 -3.84558L6.74471 -3.84558L6.74471 -4.42341L5.33998 -4.42341L5.33998 -5.68867L4.65255 -5.68867L4.65255 -4.42341L3.7858 -4.42341L3.7858 -3.84558L4.62267 -3.84558L4.62267 -1.18555C4.62267 -0.587796 4.76214 0.109589 5.44956 0.109589C6.14695 0.109589 6.65504 -0.139477 6.90411 -0.268991L6.74471 -0.856787C6.48568 -0.647572 6.16687 -0.52802 5.84807 -0.52802C5.47945 -0.52802 5.33998 -0.826899 5.33998 -1.35492ZM5.33998 -1.35492M8 -0M8.7472 -6.91407L8 -6.91407L8 -0L8.7472 -0ZM8.7472 -0\" fill=\"black\"/>\n",
       " </g>\n",
       " <g transform=\"matrix(1.000000,0.000000,0.000000,1.000000,124.724409,-345.826772)\">\n",
       "  <path d=\"M-7.21698 -0M-5.54923 -3.99303C-5.54923 -4.1066 -5.54923 -4.27995 -5.81225 -4.27995C-5.9318 -4.27995 -5.95571 -4.268 -6.02744 -4.19626C-6.13504 -4.10062 -6.36218 -3.87945 -6.95397 -3.8675C-7.06156 -3.8675 -7.21698 -3.82565 -7.21698 -3.6523C-7.21698 -3.43711 -7.00776 -3.43711 -6.93006 -3.43711C-6.75073 -3.43711 -6.54151 -3.467 -6.36816 -3.51482L-6.36816 -0.430386L-6.83441 -0.430386C-6.91212 -0.430386 -7.12134 -0.430386 -7.12134 -0.215193C-7.12134 -0 -6.91212 -0 -6.83441 -0L-5.1308 -0C-5.06505 -0 -4.84388 -0 -4.84388 -0.215193C-4.84388 -0.430386 -5.06505 -0.430386 -5.1308 -0.430386L-5.54923 -0.430386ZM-5.54923 -0.430386M-3.83964 -0M-3.55272 -4.14844C-3.76791 -4.14844 -3.83964 -4.08269 -3.83964 -3.86152L-3.83964 -0.286924C-3.83964 -0.071731 -3.77389 -0 -3.55272 -0L-1.91486 -0C-1.47252 -0 -0.372645 -0.0777086 -0.372645 -1.15965C-0.372645 -2.00249 -1.20353 -2.134 -1.4247 -2.16986C-0.874762 -2.29539 -0.55795 -2.60623 -0.55795 -3.07248C-0.55795 -4.14844 -1.83118 -4.14844 -2.08223 -4.14844ZM-2.08223 -4.14844M-2.9968 -2.3731L-2.9968 -3.63437L-2.29743 -3.63437C-2.0643 -3.63437 -1.3709 -3.61644 -1.3709 -3.05455C-1.3709 -2.3731 -2.15397 -2.3731 -2.3034 -2.3731ZM-2.3034 -2.3731M-2.9968 -0.514072L-2.9968 -1.94271L-2.24363 -1.94271C-2.03441 -1.94271 -1.20353 -1.94271 -1.20353 -1.17161C-1.20353 -0.555915 -1.84313 -0.514072 -2.13006 -0.514072ZM-2.13006 -0.514072\" fill=\"black\"/>\n",
       " </g>\n",
       " <g transform=\"matrix(1.000000,0.000000,0.000000,1.000000,127.559055,-345.826772)\">\n",
       "  <path d=\"M0.418431 -0M4.1345 -6.55542C3.6264 -6.75467 3.21793 -6.75467 3.07846 -6.75467C1.67372 -6.75467 0.418431 -5.34994 0.418431 -3.20797C0.418431 -0.388543 1.6538 0.219178 2.50062 0.219178C3.09838 0.219178 3.52677 -0.00996264 3.91532 -0.458281C4.36364 -0.966376 4.55293 -1.42466 4.55293 -2.21171C4.55293 -3.48692 3.89539 -4.60274 2.93898 -4.60274C2.62017 -4.60274 1.86301 -4.52304 1.25529 -3.77584C1.38481 -5.37983 2.17186 -6.17684 3.08842 -6.17684C3.467 -6.17684 3.7858 -6.1071 4.1345 -5.96762ZM4.1345 -5.96762M1.26526 -2.18182C1.26526 -2.3213 1.26526 -2.34122 1.27522 -2.46077C1.27522 -3.19801 1.72354 -3.99502 2.55044 -3.99502C3.02864 -3.99502 3.3076 -3.74595 3.50685 -3.37733C3.71606 -3.00872 3.73599 -2.66002 3.73599 -2.21171C3.73599 -1.87298 3.73599 -1.41469 3.49689 -1.00623C3.32752 -0.727273 3.06849 -0.388543 2.50062 -0.388543C1.44458 -0.388543 1.29514 -1.85305 1.26526 -2.18182ZM1.26526 -2.18182M5.26027 -0M8.68742 -1.70361L9.67372 -1.70361L9.67372 -2.31133L8.68742 -2.31133L8.68742 -6.53549L7.78082 -6.53549L5.26027 -2.31133L5.26027 -1.70361L7.90037 -1.70361L7.90037 -0L8.68742 -0ZM8.68742 -0M6.03736 -2.31133C6.55542 -3.16812 7.96015 -5.52927 7.96015 -6.09714L7.96015 -2.31133ZM7.96015 -2.31133\" fill=\"black\"/>\n",
       " </g>\n",
       " <g stroke-width=\"0.400879\">\n",
       "  <path d=\"M143.001 -336.962C262.338 -336.469 423.244 -326.087 428.859 -439.071\" stroke=\"#7f337f\"/>\n",
       "  <g stroke-linecap=\"butt\" stroke-dasharray=\"none\">\n",
       "   <path d=\"M427.19 -438.356C427.799 -439.612 428.394 -440.895 428.974 -442.205C429.49 -440.869 429.977 -439.541 430.434 -438.222L428.859 -439.071Z\" fill=\"#7f337f\"/>\n",
       "  </g>\n",
       " </g>\n",
       " <g stroke-width=\"1.133858\">\n",
       "  <path d=\"M422.78 -441.205L435.24 -441.205L435.24 -449.293L422.78 -449.293Z\" stroke=\"#7f337f\" fill=\"#9cc\"/>\n",
       " </g>\n",
       " <g transform=\"matrix(1.000000,0.000000,0.000000,1.000000,423.779528,-442.204724)\">\n",
       "  <path d=\"M1.04608 -0M3.09838 -5.78829C3.09838 -5.9477 3.09838 -6.19676 2.7995 -6.19676C2.61021 -6.19676 2.55044 -6.07721 2.50062 -5.95766C2.12204 -5.11083 1.60399 -5.00125 1.41469 -4.98132C1.25529 -4.97136 1.04608 -4.95143 1.04608 -4.67248C1.04608 -4.42341 1.2254 -4.3736 1.37484 -4.3736C1.56413 -4.3736 1.9726 -4.43337 2.41096 -4.81196L2.41096 -0.607721L1.50436 -0.607721C1.34496 -0.607721 1.10585 -0.607721 1.10585 -0.298879C1.10585 -0 1.35492 -0 1.50436 -0L4.00498 -0C4.15442 -0 4.40349 -0 4.40349 -0.298879C4.40349 -0.607721 4.16438 -0.607721 4.00498 -0.607721L3.09838 -0.607721ZM3.09838 -0.607721M6.27646 -0M8.32877 -5.78829C8.32877 -5.9477 8.32877 -6.19676 8.02989 -6.19676C7.8406 -6.19676 7.78082 -6.07721 7.73101 -5.95766C7.35243 -5.11083 6.83437 -5.00125 6.64508 -4.98132C6.48568 -4.97136 6.27646 -4.95143 6.27646 -4.67248C6.27646 -4.42341 6.45579 -4.3736 6.60523 -4.3736C6.79452 -4.3736 7.20299 -4.43337 7.64134 -4.81196L7.64134 -0.607721L6.73474 -0.607721C6.57534 -0.607721 6.33624 -0.607721 6.33624 -0.298879C6.33624 -0 6.58531 -0 6.73474 -0L9.23537 -0C9.38481 -0 9.63387 -0 9.63387 -0.298879C9.63387 -0.607721 9.39477 -0.607721 9.23537 -0.607721L8.32877 -0.607721ZM8.32877 -0.607721\" fill=\"black\"/>\n",
       " </g>\n",
       " <g transform=\"matrix(1.000000,0.000000,0.000000,1.000000,28.346457,-334.488189)\">\n",
       "  <path d=\"M0.816936 -0M1.59402 -0.458281C1.90286 -0.169365 2.34122 0.109589 2.93898 0.109589C3.90535 0.109589 4.78207 -0.86675 4.78207 -2.22167C4.78207 -3.41719 4.15442 -4.533 3.19801 -4.533C2.60025 -4.533 2.02242 -4.32379 1.56413 -3.93524L1.56413 -4.42341L0.816936 -4.42341L0.816936 1.93275L1.59402 1.93275ZM1.59402 1.93275M1.59402 -3.31756C1.83313 -3.66625 2.22167 -3.89539 2.65006 -3.89539C3.40722 -3.89539 4.00498 -3.13823 4.00498 -2.22167C4.00498 -1.19552 3.29763 -0.498132 2.55044 -0.498132C2.16189 -0.498132 1.8929 -0.697385 1.69365 -0.966376C1.59402 -1.11582 1.59402 -1.13574 1.59402 -1.31507ZM1.59402 -1.31507\" fill=\"black\"/>\n",
       "  <path d=\"M5.68756 -0M6.43476 -2.132C6.43476 -3.12827 7.15207 -3.84558 8.1284 -3.8655L8.1284 -4.533C7.24173 -4.52304 6.69378 -4.03487 6.38494 -3.57659L6.38494 -4.48319L5.68756 -4.48319L5.68756 -0L6.43476 -0ZM6.43476 -0M8.56676 -0M12.9404 -2.19178C12.9404 -3.52677 11.9441 -4.59278 10.7585 -4.59278C9.53314 -4.59278 8.56676 -3.49689 8.56676 -2.19178C8.56676 -0.876712 9.58295 0.109589 10.7486 0.109589C11.9441 0.109589 12.9404 -0.896638 12.9404 -2.19178ZM12.9404 -2.19178M10.7486 -0.52802C10.0612 -0.52802 9.34385 -1.08593 9.34385 -2.29141C9.34385 -3.49689 10.101 -3.98506 10.7486 -3.98506C11.446 -3.98506 12.1633 -3.467 12.1633 -2.29141C12.1633 -1.11582 11.4858 -0.52802 10.7486 -0.52802ZM10.7486 -0.52802M13.4385 -0M14.9927 -3.84558L16.3974 -3.84558L16.3974 -4.42341L14.9927 -4.42341L14.9927 -5.68867L14.3052 -5.68867L14.3052 -4.42341L13.4385 -4.42341L13.4385 -3.84558L14.2754 -3.84558L14.2754 -1.18555C14.2754 -0.587796 14.4148 0.109589 15.1023 0.109589C15.7996 0.109589 16.3077 -0.139477 16.5568 -0.268991L16.3974 -0.856787C16.1384 -0.647572 15.8196 -0.52802 15.5008 -0.52802C15.1321 -0.52802 14.9927 -0.826899 14.9927 -1.35492ZM14.9927 -1.35492M17.1446 -0M21.5182 -2.19178C21.5182 -3.52677 20.5219 -4.59278 19.3364 -4.59278C18.111 -4.59278 17.1446 -3.49689 17.1446 -2.19178C17.1446 -0.876712 18.1608 0.109589 19.3264 0.109589C20.5219 0.109589 21.5182 -0.896638 21.5182 -2.19178ZM21.5182 -2.19178M19.3264 -0.52802C18.639 -0.52802 17.9217 -1.08593 17.9217 -2.29141C17.9217 -3.49689 18.6788 -3.98506 19.3264 -3.98506C20.0238 -3.98506 20.7411 -3.467 20.7411 -2.29141C20.7411 -1.11582 20.0636 -0.52802 19.3264 -0.52802ZM19.3264 -0.52802\" fill=\"black\"/>\n",
       " </g>\n",
       " <g transform=\"matrix(1.000000,0.000000,0.000000,1.000000,124.724409,-334.488189)\">\n",
       "  <path d=\"M-7.21698 -0M-5.54923 -3.99303C-5.54923 -4.1066 -5.54923 -4.27995 -5.81225 -4.27995C-5.9318 -4.27995 -5.95571 -4.268 -6.02744 -4.19626C-6.13504 -4.10062 -6.36218 -3.87945 -6.95397 -3.8675C-7.06156 -3.8675 -7.21698 -3.82565 -7.21698 -3.6523C-7.21698 -3.43711 -7.00776 -3.43711 -6.93006 -3.43711C-6.75073 -3.43711 -6.54151 -3.467 -6.36816 -3.51482L-6.36816 -0.430386L-6.83441 -0.430386C-6.91212 -0.430386 -7.12134 -0.430386 -7.12134 -0.215193C-7.12134 -0 -6.91212 -0 -6.83441 -0L-5.1308 -0C-5.06505 -0 -4.84388 -0 -4.84388 -0.215193C-4.84388 -0.430386 -5.06505 -0.430386 -5.1308 -0.430386L-5.54923 -0.430386ZM-5.54923 -0.430386M-3.83964 -0M-3.55272 -4.14844C-3.76791 -4.14844 -3.83964 -4.08269 -3.83964 -3.86152L-3.83964 -0.286924C-3.83964 -0.071731 -3.77389 -0 -3.55272 -0L-1.91486 -0C-1.47252 -0 -0.372645 -0.0777086 -0.372645 -1.15965C-0.372645 -2.00249 -1.20353 -2.134 -1.4247 -2.16986C-0.874762 -2.29539 -0.55795 -2.60623 -0.55795 -3.07248C-0.55795 -4.14844 -1.83118 -4.14844 -2.08223 -4.14844ZM-2.08223 -4.14844M-2.9968 -2.3731L-2.9968 -3.63437L-2.29743 -3.63437C-2.0643 -3.63437 -1.3709 -3.61644 -1.3709 -3.05455C-1.3709 -2.3731 -2.15397 -2.3731 -2.3034 -2.3731ZM-2.3034 -2.3731M-2.9968 -0.514072L-2.9968 -1.94271L-2.24363 -1.94271C-2.03441 -1.94271 -1.20353 -1.94271 -1.20353 -1.17161C-1.20353 -0.555915 -1.84313 -0.514072 -2.13006 -0.514072ZM-2.13006 -0.514072\" fill=\"black\"/>\n",
       " </g>\n",
       " <g transform=\"matrix(1.000000,0.000000,0.000000,1.000000,127.559055,-334.488189)\">\n",
       "  <path d=\"M0.806974 -0M4.33375 -4.42341L3.55666 -4.42341L3.55666 -1.53425C3.55666 -0.787049 2.99875 -0.438356 2.36115 -0.438356C1.6538 -0.438356 1.58406 -0.697385 1.58406 -1.12578L1.58406 -4.42341L0.806974 -4.42341L0.806974 -1.08593C0.806974 -0.368618 1.03611 0.109589 1.86301 0.109589C2.39103 0.109589 3.09838 -0.0498132 3.58655 -0.478207L3.58655 -0L4.33375 -0ZM4.33375 -0M5.49938 -0M9.46451 -6.91407L8.71731 -6.91407L8.71731 -3.98506C8.18929 -4.42341 7.63138 -4.533 7.26276 -4.533C6.27646 -4.533 5.49938 -3.49689 5.49938 -2.21171C5.49938 -0.9066 6.2665 0.109589 7.21295 0.109589C7.54172 0.109589 8.12951 0.0199253 8.68742 -0.518057L8.68742 -0L9.46451 -0ZM9.46451 -0M8.68742 -1.38481C8.68742 -1.24533 8.67746 -1.066 8.35866 -0.777086C8.12951 -0.577833 7.88045 -0.498132 7.62142 -0.498132C7.00374 -0.498132 6.27646 -0.966376 6.27646 -2.20174C6.27646 -3.51681 7.13325 -3.92528 7.72105 -3.92528C8.16936 -3.92528 8.46824 -3.69614 8.68742 -3.37733ZM8.68742 -3.37733M11.0984 -0M11.8755 -0.458281C12.1843 -0.169365 12.6227 0.109589 13.2204 0.109589C14.1868 0.109589 15.0635 -0.86675 15.0635 -2.22167C15.0635 -3.41719 14.4359 -4.533 13.4795 -4.533C12.8817 -4.533 12.3039 -4.32379 11.8456 -3.93524L11.8456 -4.42341L11.0984 -4.42341L11.0984 1.93275L11.8755 1.93275ZM11.8755 1.93275M11.8755 -3.31756C12.1146 -3.66625 12.5031 -3.89539 12.9315 -3.89539C13.6887 -3.89539 14.2864 -3.13823 14.2864 -2.22167C14.2864 -1.19552 13.5791 -0.498132 12.8319 -0.498132C12.4433 -0.498132 12.1743 -0.697385 11.9751 -0.966376C11.8755 -1.11582 11.8755 -1.13574 11.8755 -1.31507ZM11.8755 -1.31507\" fill=\"black\"/>\n",
       " </g>\n",
       " <g stroke-width=\"0.400879\">\n",
       "  <path d=\"M156.478 -326.572C282.498 -326.003 446.824 -320.583 452.305 -439.071\" stroke=\"#7f7fcc\"/>\n",
       "  <g stroke-linecap=\"butt\" stroke-dasharray=\"none\">\n",
       "   <path d=\"M450.639 -438.351C451.244 -439.611 451.835 -440.895 452.412 -442.205C452.93 -440.871 453.421 -439.544 453.884 -438.226L452.305 -439.071Z\" fill=\"#7f7fcc\"/>\n",
       "  </g>\n",
       " </g>\n",
       " <g stroke-width=\"1.133858\">\n",
       "  <path d=\"M438.37 -441.205L466.522 -441.205L466.522 -449.293L438.37 -449.293Z\" stroke=\"#7f7fcc\" fill=\"#9cc\"/>\n",
       " </g>\n",
       " <g transform=\"matrix(1.000000,0.000000,0.000000,1.000000,439.370079,-442.204724)\">\n",
       "  <path d=\"M0.438356 -0M3.75592 -5.47945C2.03238 -3.64633 1.69365 -1.45455 1.69365 -0.358655C1.69365 -0.219178 1.69365 0.109589 2.04234 0.109589C2.21171 0.109589 2.38107 -0 2.38107 -0.288917C2.43088 -3.11831 3.95517 -4.85181 4.56289 -5.4396C4.76214 -5.61893 4.78207 -5.63885 4.78207 -5.77833C4.78207 -6.08717 4.54296 -6.08717 4.38356 -6.08717L1.09589 -6.08717C1.03611 -6.24658 0.856787 -6.24658 0.777086 -6.24658C0.438356 -6.24658 0.438356 -6.0274 0.438356 -5.83811L0.438356 -5.41968C0.438356 -5.23039 0.438356 -5.01121 0.777086 -5.01121C1.12578 -5.01121 1.12578 -5.2005 1.12578 -5.47945ZM1.12578 -5.47945M5.95766 -0M9.87298 -1.08593C9.87298 -1.36488 9.58406 -1.36488 9.52428 -1.36488C9.36488 -1.36488 9.26526 -1.34496 9.19552 -1.1457C9.13574 -1.01619 8.94645 -0.547945 8.20922 -0.547945C7.36239 -0.547945 6.64508 -1.24533 6.64508 -2.15193C6.64508 -2.63014 6.92403 -3.77584 8.26899 -3.77584C8.47821 -3.77584 8.86675 -3.77584 8.86675 -3.68618C8.87671 -3.33748 9.066 -3.19801 9.30511 -3.19801C9.54421 -3.19801 9.75342 -3.36737 9.75342 -3.65629C9.75342 -4.38356 8.71731 -4.38356 8.26899 -4.38356C6.55542 -4.38356 5.95766 -3.02864 5.95766 -2.15193C5.95766 -0.956413 6.89415 0.0597758 8.14944 0.0597758C9.53425 0.0597758 9.87298 -0.916563 9.87298 -1.08593ZM9.87298 -1.08593\" fill=\"black\"/>\n",
       "  <path d=\"M16.239 -0M19.3373 -0.318804C19.5565 -0.00996264 20.0347 -0 20.4133 -0C20.6923 -0 20.9114 -0 20.9114 -0.308842C20.9114 -0.607721 20.6624 -0.607721 20.5129 -0.607721C20.0945 -0.607721 19.9949 -0.657534 19.9152 -0.687422L19.9152 -2.83935C19.9152 -3.5467 19.3772 -4.38356 17.9426 -4.38356C17.5142 -4.38356 16.498 -4.38356 16.498 -3.65629C16.498 -3.35741 16.7072 -3.19801 16.9463 -3.19801C17.0958 -3.19801 17.3747 -3.28767 17.3847 -3.65629C17.3847 -3.73599 17.3946 -3.74595 17.5939 -3.76588C17.7334 -3.77584 17.8629 -3.77584 17.9525 -3.77584C18.7097 -3.77584 19.2278 -3.467 19.2278 -2.75965C17.4644 -2.72976 16.239 -2.23163 16.239 -1.27522C16.239 -0.587796 16.8666 0.0597758 17.8828 0.0597758C18.2514 0.0597758 18.8691 -0.00996264 19.3373 -0.318804ZM19.3373 -0.318804M19.2278 -2.17186L19.2278 -1.33499C19.2278 -1.10585 19.2278 -0.896638 18.8392 -0.71731C18.4806 -0.547945 18.0322 -0.547945 17.9525 -0.547945C17.3349 -0.547945 16.9264 -0.886675 16.9264 -1.27522C16.9264 -1.76339 17.7832 -2.132 19.2278 -2.17186ZM19.2278 -2.17186M21.2801 -0M24.488 -0.498132C24.488 -0.139477 24.488 -0 24.8865 -0L25.6138 -0C25.7732 -0 26.0223 -0 26.0223 -0.308842C26.0223 -0.607721 25.7633 -0.607721 25.6238 -0.607721L25.1755 -0.607721L25.1755 -5.6787C25.1755 -5.98755 25.1157 -6.08717 24.7769 -6.08717L24.0497 -6.08717C23.8903 -6.08717 23.6412 -6.08717 23.6412 -5.77833C23.6412 -5.47945 23.9002 -5.47945 24.0397 -5.47945L24.488 -5.47945L24.488 -3.90535C24.1593 -4.19427 23.7508 -4.35367 23.3224 -4.35367C22.2365 -4.35367 21.2801 -3.40722 21.2801 -2.14197C21.2801 -0.9066 22.1767 0.0597758 23.2327 0.0597758C23.7906 0.0597758 24.2091 -0.209215 24.488 -0.498132ZM24.488 -0.498132M24.488 -2.6401L24.488 -1.93275C24.488 -1.37484 24.0397 -0.547945 23.2726 -0.547945C22.5652 -0.547945 21.9675 -1.25529 21.9675 -2.14197C21.9675 -3.09838 22.6649 -3.74595 23.3623 -3.74595C23.9999 -3.74595 24.488 -3.18804 24.488 -2.6401ZM24.488 -2.6401\" fill=\"black\"/>\n",
       " </g>\n",
       " <g transform=\"matrix(1.000000,0.000000,0.000000,1.000000,28.346457,-323.149606)\">\n",
       "  <path d=\"M0.358655 -0M4.08468 -4.16438C3.49689 -4.50311 3.15816 -4.59278 2.55044 -4.59278C1.16563 -4.59278 0.358655 -3.3873 0.358655 -2.21171C0.358655 -0.976339 1.26526 0.109589 2.51059 0.109589C3.04857 0.109589 3.59651 -0.0298879 4.1345 -0.398506L4.07472 -1.066C3.56663 -0.667497 3.02864 -0.52802 2.52055 -0.52802C1.69365 -0.52802 1.13574 -1.24533 1.13574 -2.22167C1.13574 -2.99875 1.50436 -3.95517 2.5604 -3.95517C3.07846 -3.95517 3.41719 -3.87547 3.96513 -3.51681ZM3.96513 -3.51681M5.23039 -0M8.75716 -2.96887C8.75716 -3.6264 8.60772 -4.533 7.39228 -4.533C6.7746 -4.533 6.29639 -4.22416 5.97758 -3.81569L5.97758 -6.91407L5.23039 -6.91407L5.23039 -0L6.00747 -0L6.00747 -2.44085C6.00747 -3.09838 6.25654 -3.92528 7.0137 -3.92528C7.97011 -3.92528 7.98007 -3.21793 7.98007 -2.89913L7.98007 -0L8.75716 -0ZM8.75716 -0M10.401 -0M12.3636 -2.70984L14.0374 -4.42341L13.1407 -4.42341L11.1183 -2.35118L11.1183 -6.91407L10.401 -6.91407L10.401 -0L11.0884 -0L11.0884 -1.40473L11.8854 -2.23163L13.4396 -0L14.2565 -0ZM14.2565 -0M14.7049 -0M17.8431 -4.27397C17.325 -4.51308 16.9166 -4.59278 16.4085 -4.59278C16.1594 -4.59278 14.7547 -4.59278 14.7547 -3.28767C14.7547 -2.7995 15.0436 -2.4807 15.2927 -2.29141C15.6015 -2.07223 15.8207 -2.03238 16.3686 -1.92279C16.7273 -1.85305 17.3051 -1.7335 17.3051 -1.20548C17.3051 -0.518057 16.5181 -0.518057 16.3686 -0.518057C15.5616 -0.518057 15.0037 -0.886675 14.8244 -1.00623L14.7049 -0.328767C15.0237 -0.169365 15.5716 0.109589 16.3786 0.109589C16.5579 0.109589 17.1059 0.109589 17.5342 -0.209215C17.8431 -0.448319 18.0125 -0.846824 18.0125 -1.27522C18.0125 -1.82316 17.6438 -2.16189 17.6239 -2.19178C17.2354 -2.54047 16.9664 -2.60025 16.4682 -2.68991C15.9203 -2.7995 15.462 -2.89913 15.462 -3.3873C15.462 -4.00498 16.1793 -4.00498 16.3088 -4.00498C16.6276 -4.00498 17.1557 -3.96513 17.7235 -3.6264ZM17.7235 -3.6264M19.0486 -0M22.5753 -4.42341L21.7983 -4.42341L21.7983 -1.53425C21.7983 -0.787049 21.2403 -0.438356 20.6027 -0.438356C19.8954 -0.438356 19.8257 -0.697385 19.8257 -1.12578L19.8257 -4.42341L19.0486 -4.42341L19.0486 -1.08593C19.0486 -0.368618 19.2777 0.109589 20.1046 0.109589C20.6326 0.109589 21.34 -0.0498132 21.8281 -0.478207L21.8281 -0L22.5753 -0ZM22.5753 -0M24.1893 -0M30.4857 -2.96887C30.4857 -3.63636 30.3263 -4.533 29.1208 -4.533C28.523 -4.533 28.005 -4.25405 27.6364 -3.71606C27.3773 -4.47323 26.68 -4.533 26.3611 -4.533C25.6438 -4.533 25.1756 -4.12453 24.9066 -3.76588L24.9066 -4.48319L24.1893 -4.48319L24.1893 -0L24.9664 -0L24.9664 -2.44085C24.9664 -3.11831 25.2354 -3.92528 25.9726 -3.92528C26.8991 -3.92528 26.9489 -3.27771 26.9489 -2.89913L26.9489 -0L27.726 -0L27.726 -2.44085C27.726 -3.11831 27.995 -3.92528 28.7323 -3.92528C29.6588 -3.92528 29.7086 -3.27771 29.7086 -2.89913L29.7086 -0L30.4857 -0ZM30.4857 -0\" fill=\"black\"/>\n",
       " </g>\n",
       " <g transform=\"matrix(1.000000,0.000000,0.000000,1.000000,124.724409,-323.149606)\">\n",
       "  <path d=\"M-7.39631 -0M-7.28273 -0.508095C-7.34251 -0.448319 -7.34251 -0.436364 -7.34251 -0.334745L-7.34251 -0.286924C-7.34251 -0.071731 -7.27675 -0 -7.05558 -0L-5.00527 -0C-4.77812 -0 -4.71835 -0.0777086 -4.71835 -0.286924L-4.71835 -0.358655C-4.71835 -0.454296 -4.71835 -0.56787 -4.84388 -0.621669C-4.88572 -0.645579 -5.077 -0.645579 -5.19656 -0.645579C-5.32806 -0.645579 -5.47152 -0.639601 -5.60303 -0.639601L-6.5714 -0.639601L-5.78236 -1.3868C-5.6927 -1.46451 -5.46555 -1.64981 -5.37588 -1.7335C-5.04712 -2.05629 -4.71835 -2.3731 -4.71835 -2.90511C-4.71835 -3.63437 -5.24438 -4.27995 -6.12308 -4.27995C-6.3323 -4.27995 -6.67302 -4.25006 -6.95994 -4.01694C-7.01374 -3.97509 -7.28871 -3.7599 -7.39631 -3.3594L-7.09743 -2.97684C-7.06156 -2.92902 -7.04363 -2.90511 -7.00179 -2.90511C-6.94799 -2.90511 -6.93603 -2.94695 -6.9181 -3.01868C-6.79855 -3.43113 -6.59531 -3.68219 -6.21274 -3.68219C-5.74649 -3.68219 -5.55521 -3.25778 -5.55521 -2.89315C-5.55521 -2.51059 -5.78236 -2.11009 -6.14101 -1.72752ZM-6.14101 -1.72752M-3.83964 -0M-3.55272 -4.14844C-3.76791 -4.14844 -3.83964 -4.08269 -3.83964 -3.86152L-3.83964 -0.286924C-3.83964 -0.071731 -3.77389 -0 -3.55272 -0L-1.91486 -0C-1.47252 -0 -0.372645 -0.0777086 -0.372645 -1.15965C-0.372645 -2.00249 -1.20353 -2.134 -1.4247 -2.16986C-0.874762 -2.29539 -0.55795 -2.60623 -0.55795 -3.07248C-0.55795 -4.14844 -1.83118 -4.14844 -2.08223 -4.14844ZM-2.08223 -4.14844M-2.9968 -2.3731L-2.9968 -3.63437L-2.29743 -3.63437C-2.0643 -3.63437 -1.3709 -3.61644 -1.3709 -3.05455C-1.3709 -2.3731 -2.15397 -2.3731 -2.3034 -2.3731ZM-2.3034 -2.3731M-2.9968 -0.514072L-2.9968 -1.94271L-2.24363 -1.94271C-2.03441 -1.94271 -1.20353 -1.94271 -1.20353 -1.17161C-1.20353 -0.555915 -1.84313 -0.514072 -2.13006 -0.514072ZM-2.13006 -0.514072\" fill=\"black\"/>\n",
       " </g>\n",
       " <g transform=\"matrix(1.000000,0.000000,0.000000,1.000000,127.559055,-323.149606)\">\n",
       "  <path d=\"M0.418431 -0M4.55293 -3.24782C4.55293 -4.03487 4.51308 -4.96139 4.09465 -5.76837C3.68618 -6.51557 2.99875 -6.75467 2.49066 -6.75467C1.90286 -6.75467 1.20548 -6.48568 0.797011 -5.599C0.468244 -4.87173 0.418431 -4.04483 0.418431 -3.24782C0.418431 -2.46077 0.458281 -1.7335 0.757161 -1.00623C1.15567 -0.0498132 1.91283 0.219178 2.4807 0.219178C3.20797 0.219178 3.83562 -0.18929 4.15442 -0.876712C4.4533 -1.52428 4.55293 -2.18182 4.55293 -3.24782ZM4.55293 -3.24782M2.49066 -0.388543C1.9726 -0.388543 1.56413 -0.767123 1.36488 -1.48443C1.20548 -2.0523 1.19552 -2.59029 1.19552 -3.36737C1.19552 -3.99502 1.19552 -4.59278 1.36488 -5.14072C1.42466 -5.33001 1.67372 -6.14695 2.4807 -6.14695C3.25778 -6.14695 3.51681 -5.38979 3.58655 -5.21046C3.77584 -4.65255 3.77584 -3.98506 3.77584 -3.36737C3.77584 -2.70984 3.77584 -2.08219 3.59651 -1.45455C3.33748 -0.547945 2.80946 -0.388543 2.49066 -0.388543ZM2.49066 -0.388543M4.98132 -0M7.57161 -2.28144L9.39477 -4.42341L8.57783 -4.42341L7.24284 -2.77958L5.868 -4.42341L5.0411 -4.42341L6.91407 -2.28144L4.98132 -0L5.79826 -0L7.24284 -1.87298L8.73724 -0L9.56413 -0ZM9.56413 -0M9.99253 -0M11.8854 -5.82814C12.005 -5.82814 12.1245 -5.83811 12.2441 -5.83811L13.4496 -5.83811C11.9751 -4.2142 11.0884 -2.22167 11.0884 0.109589L11.9253 0.109589C11.9253 -2.8792 13.3499 -5.01121 14.127 -5.88792L14.127 -6.53549L9.99253 -6.53549L9.99253 -5.82814ZM9.99253 -5.82814M14.9141 -0M18.6401 -4.16438C18.0523 -4.50311 17.7136 -4.59278 17.1059 -4.59278C15.721 -4.59278 14.9141 -3.3873 14.9141 -2.21171C14.9141 -0.976339 15.8207 0.109589 17.066 0.109589C17.604 0.109589 18.1519 -0.0298879 18.6899 -0.398506L18.6301 -1.066C18.122 -0.667497 17.5841 -0.52802 17.076 -0.52802C16.2491 -0.52802 15.6912 -1.24533 15.6912 -2.22167C15.6912 -2.99875 16.0598 -3.95517 17.1158 -3.95517C17.6339 -3.95517 17.9726 -3.87547 18.5205 -3.51681ZM18.5205 -3.51681M19.4172 -0M22.9539 -2.8792C22.9539 -3.89539 22.2267 -4.59278 21.3101 -4.59278C20.6625 -4.59278 20.2142 -4.43337 19.746 -4.16438L19.8057 -3.50685C20.3238 -3.87547 20.8219 -4.00498 21.3101 -4.00498C21.7783 -4.00498 22.1768 -3.60648 22.1768 -2.86924L22.1768 -2.44085C20.6824 -2.42092 19.4172 -2.00249 19.4172 -1.12578C19.4172 -0.697385 19.6862 0.109589 20.5529 0.109589C20.6924 0.109589 21.6289 0.0896638 22.2067 -0.358655L22.2067 -0L22.9539 -0ZM22.9539 -0M22.1768 -1.31507C22.1768 -1.12578 22.1768 -0.876712 21.8381 -0.687422C21.5492 -0.508095 21.1706 -0.498132 21.061 -0.498132C20.5828 -0.498132 20.1345 -0.727273 20.1345 -1.1457C20.1345 -1.84309 21.7484 -1.91283 22.1768 -1.93275ZM22.1768 -1.93275M24.1196 -0M28.0847 -6.91407L27.3375 -6.91407L27.3375 -3.98506C26.8095 -4.42341 26.2516 -4.533 25.8829 -4.533C24.8966 -4.533 24.1196 -3.49689 24.1196 -2.21171C24.1196 -0.9066 24.8867 0.109589 25.8331 0.109589C26.1619 0.109589 26.7497 0.0199253 27.3076 -0.518057L27.3076 -0L28.0847 -0ZM28.0847 -0M27.3076 -1.38481C27.3076 -1.24533 27.2976 -1.066 26.9788 -0.777086C26.7497 -0.577833 26.5006 -0.498132 26.2416 -0.498132C25.6239 -0.498132 24.8966 -0.966376 24.8966 -2.20174C24.8966 -3.51681 25.7534 -3.92528 26.3412 -3.92528C26.7895 -3.92528 27.0884 -3.69614 27.3076 -3.37733ZM27.3076 -3.37733\" fill=\"black\"/>\n",
       " </g>\n",
       " <g stroke-width=\"0.400879\">\n",
       "  <path d=\"M165.749 -315.001C308.335 -313.985 493.697 -305.172 499.193 -439.07\" stroke=\"#7fcc33\"/>\n",
       "  <g stroke-linecap=\"butt\" stroke-dasharray=\"none\">\n",
       "   <path d=\"M497.532 -438.343C498.129 -439.608 498.715 -440.895 499.288 -442.205C499.809 -440.874 500.305 -439.549 500.777 -438.232L499.193 -439.07Z\" fill=\"#7fcc33\"/>\n",
       "  </g>\n",
       " </g>\n",
       " <g stroke-width=\"1.133858\">\n",
       "  <path d=\"M469.551 -441.205L529.085 -441.205L529.085 -449.293L469.551 -449.293Z\" stroke=\"#7fcc33\" fill=\"#9cc\"/>\n",
       " </g>\n",
       " <g transform=\"matrix(1.000000,0.000000,0.000000,1.000000,470.551181,-442.204724)\">\n",
       "  <path d=\"M0.438356 -0M3.75592 -5.47945C2.03238 -3.64633 1.69365 -1.45455 1.69365 -0.358655C1.69365 -0.219178 1.69365 0.109589 2.04234 0.109589C2.21171 0.109589 2.38107 -0 2.38107 -0.288917C2.43088 -3.11831 3.95517 -4.85181 4.56289 -5.4396C4.76214 -5.61893 4.78207 -5.63885 4.78207 -5.77833C4.78207 -6.08717 4.54296 -6.08717 4.38356 -6.08717L1.09589 -6.08717C1.03611 -6.24658 0.856787 -6.24658 0.777086 -6.24658C0.438356 -6.24658 0.438356 -6.0274 0.438356 -5.83811L0.438356 -5.41968C0.438356 -5.23039 0.438356 -5.01121 0.777086 -5.01121C1.12578 -5.01121 1.12578 -5.2005 1.12578 -5.47945ZM1.12578 -5.47945M5.64882 -0M7.75093 -3.68618L8.96638 -3.68618C9.11582 -3.68618 9.36488 -3.68618 9.36488 -3.98506C9.36488 -4.2939 9.12578 -4.2939 8.96638 -4.2939L7.75093 -4.2939L7.75093 -4.76214C7.75093 -5.53923 8.41843 -5.53923 8.71731 -5.53923C8.71731 -5.49938 8.80697 -5.11083 9.15567 -5.11083C9.35492 -5.11083 9.58406 -5.27024 9.58406 -5.54919C9.58406 -6.14695 8.78705 -6.14695 8.62765 -6.14695C7.83064 -6.14695 7.06351 -5.68867 7.06351 -4.82192L7.06351 -4.2939L6.06725 -4.2939C5.90785 -4.2939 5.65878 -4.2939 5.65878 -3.98506C5.65878 -3.68618 5.90785 -3.68618 6.05729 -3.68618L7.06351 -3.68618L7.06351 -0.607721L6.05729 -0.607721C5.90785 -0.607721 5.64882 -0.607721 5.64882 -0.308842C5.64882 -0 5.90785 -0 6.05729 -0L8.75716 -0C8.9066 -0 9.16563 -0 9.16563 -0.298879C9.16563 -0.607721 8.9066 -0.607721 8.75716 -0.607721L7.75093 -0.607721ZM7.75093 -0.607721\" fill=\"black\"/>\n",
       "  <path d=\"M16.1892 -0M20.4133 -3.03861C20.4133 -4.89166 19.3971 -6.19676 18.3012 -6.19676C17.1854 -6.19676 16.1892 -4.86177 16.1892 -3.04857C16.1892 -1.19552 17.2053 0.109589 18.3012 0.109589C19.417 0.109589 20.4133 -1.2254 20.4133 -3.03861ZM20.4133 -3.03861M18.3012 -0.498132C17.5241 -0.498132 16.8766 -1.67372 16.8766 -3.14819C16.8766 -4.60274 17.564 -5.58904 18.3012 -5.58904C19.0285 -5.58904 19.7259 -4.6127 19.7259 -3.14819C19.7259 -1.67372 19.0783 -0.498132 18.3012 -0.498132ZM18.3012 -0.498132M21.4195 -0M25.6437 -3.03861C25.6437 -4.89166 24.6275 -6.19676 23.5316 -6.19676C22.4158 -6.19676 21.4195 -4.86177 21.4195 -3.04857C21.4195 -1.19552 22.4357 0.109589 23.5316 0.109589C24.6474 0.109589 25.6437 -1.2254 25.6437 -3.03861ZM25.6437 -3.03861M23.5316 -0.498132C22.7545 -0.498132 22.107 -1.67372 22.107 -3.14819C22.107 -4.60274 22.7944 -5.58904 23.5316 -5.58904C24.2589 -5.58904 24.9563 -4.6127 24.9563 -3.14819C24.9563 -1.67372 24.3087 -0.498132 23.5316 -0.498132ZM23.5316 -0.498132\" fill=\"black\"/>\n",
       "  <path d=\"M31.8802 -0M36.1043 -3.03861C36.1043 -4.89166 35.0881 -6.19676 33.9923 -6.19676C32.8764 -6.19676 31.8802 -4.86177 31.8802 -3.04857C31.8802 -1.19552 32.8964 0.109589 33.9923 0.109589C35.1081 0.109589 36.1043 -1.2254 36.1043 -3.03861ZM36.1043 -3.03861M33.9923 -0.498132C33.2152 -0.498132 32.5676 -1.67372 32.5676 -3.14819C32.5676 -4.60274 33.255 -5.58904 33.9923 -5.58904C34.7195 -5.58904 35.4169 -4.6127 35.4169 -3.14819C35.4169 -1.67372 34.7693 -0.498132 33.9923 -0.498132ZM33.9923 -0.498132M37.1106 -0M41.3347 -3.03861C41.3347 -4.89166 40.3185 -6.19676 39.2226 -6.19676C38.1068 -6.19676 37.1106 -4.86177 37.1106 -3.04857C37.1106 -1.19552 38.1268 0.109589 39.2226 0.109589C40.3385 0.109589 41.3347 -1.2254 41.3347 -3.03861ZM41.3347 -3.03861M39.2226 -0.498132C38.4456 -0.498132 37.798 -1.67372 37.798 -3.14819C37.798 -4.60274 38.4854 -5.58904 39.2226 -5.58904C39.9499 -5.58904 40.6473 -4.6127 40.6473 -3.14819C40.6473 -1.67372 39.9997 -0.498132 39.2226 -0.498132ZM39.2226 -0.498132\" fill=\"black\"/>\n",
       "  <path d=\"M47.5712 -0M51.7954 -3.03861C51.7954 -4.89166 50.7792 -6.19676 49.6833 -6.19676C48.5675 -6.19676 47.5712 -4.86177 47.5712 -3.04857C47.5712 -1.19552 48.5874 0.109589 49.6833 0.109589C50.7991 0.109589 51.7954 -1.2254 51.7954 -3.03861ZM51.7954 -3.03861M49.6833 -0.498132C48.9062 -0.498132 48.2586 -1.67372 48.2586 -3.14819C48.2586 -4.60274 48.946 -5.58904 49.6833 -5.58904C50.4105 -5.58904 51.1079 -4.6127 51.1079 -3.14819C51.1079 -1.67372 50.4604 -0.498132 49.6833 -0.498132ZM49.6833 -0.498132M53.3495 -0M55.4018 -5.78829C55.4018 -5.9477 55.4018 -6.19676 55.103 -6.19676C54.9137 -6.19676 54.8539 -6.07721 54.8041 -5.95766C54.4255 -5.11083 53.9074 -5.00125 53.7181 -4.98132C53.5587 -4.97136 53.3495 -4.95143 53.3495 -4.67248C53.3495 -4.42341 53.5289 -4.3736 53.6783 -4.3736C53.8676 -4.3736 54.2761 -4.43337 54.7144 -4.81196L54.7144 -0.607721L53.8078 -0.607721C53.6484 -0.607721 53.4093 -0.607721 53.4093 -0.298879C53.4093 -0 53.6584 -0 53.8078 -0L56.3084 -0C56.4579 -0 56.7069 -0 56.7069 -0.298879C56.7069 -0.607721 56.4678 -0.607721 56.3084 -0.607721L55.4018 -0.607721ZM55.4018 -0.607721\" fill=\"black\"/>\n",
       " </g>\n",
       " <g transform=\"matrix(1.000000,0.000000,0.000000,1.000000,28.346457,-311.811024)\">\n",
       "  <path d=\"M0.278954 -0M3.41719 -4.27397C2.89913 -4.51308 2.49066 -4.59278 1.98257 -4.59278C1.7335 -4.59278 0.328767 -4.59278 0.328767 -3.28767C0.328767 -2.7995 0.617684 -2.4807 0.86675 -2.29141C1.17559 -2.07223 1.39477 -2.03238 1.94271 -1.92279C2.30137 -1.85305 2.8792 -1.7335 2.8792 -1.20548C2.8792 -0.518057 2.09215 -0.518057 1.94271 -0.518057C1.13574 -0.518057 0.577833 -0.886675 0.398506 -1.00623L0.278954 -0.328767C0.597758 -0.169365 1.1457 0.109589 1.95268 0.109589C2.132 0.109589 2.67995 0.109589 3.10834 -0.209215C3.41719 -0.448319 3.58655 -0.846824 3.58655 -1.27522C3.58655 -1.82316 3.21793 -2.16189 3.19801 -2.19178C2.80946 -2.54047 2.54047 -2.60025 2.04234 -2.68991C1.4944 -2.7995 1.03611 -2.89913 1.03611 -3.3873C1.03611 -4.00498 1.75342 -4.00498 1.88294 -4.00498C2.20174 -4.00498 2.72976 -3.96513 3.29763 -3.6264ZM3.29763 -3.6264M4.63263 -0M5.37983 -2.132C5.37983 -3.12827 6.09714 -3.84558 7.07347 -3.8655L7.07347 -4.533C6.1868 -4.52304 5.63885 -4.03487 5.33001 -3.57659L5.33001 -4.48319L4.63263 -4.48319L4.63263 -0L5.37983 -0ZM5.37983 -0M7.57161 -0M11.2976 -4.16438C10.7098 -4.50311 10.3711 -4.59278 9.76339 -4.59278C8.37858 -4.59278 7.57161 -3.3873 7.57161 -2.21171C7.57161 -0.976339 8.47821 0.109589 9.72354 0.109589C10.2615 0.109589 10.8095 -0.0298879 11.3474 -0.398506L11.2877 -1.066C10.7796 -0.667497 10.2416 -0.52802 9.7335 -0.52802C8.9066 -0.52802 8.34869 -1.24533 8.34869 -2.22167C8.34869 -2.99875 8.71731 -3.95517 9.77335 -3.95517C10.2914 -3.95517 10.6301 -3.87547 11.1781 -3.51681ZM11.1781 -3.51681\" fill=\"black\"/>\n",
       " </g>\n",
       " <g transform=\"matrix(1.000000,0.000000,0.000000,1.000000,124.724409,-311.811024)\">\n",
       "  <path d=\"M-7.48597 -0M-7.43815 -1.56613C-7.48597 -1.47646 -7.48597 -1.45853 -7.48597 -1.35093L-7.48597 -1.20149C-7.48597 -1.01021 -7.44413 -0.91457 -7.19905 -0.91457L-5.85409 -0.91457L-5.85409 -0.286924C-5.85409 -0.0956413 -5.81225 -0 -5.56717 -0L-5.39979 -0C-5.17265 -0 -5.11287 -0.0777086 -5.11287 -0.286924L-5.11287 -0.91457L-4.86181 -0.91457C-4.67651 -0.91457 -4.57489 -0.956413 -4.57489 -1.19552C-4.57489 -1.41669 -4.6526 -1.47646 -4.86181 -1.47646L-5.11287 -1.47646L-5.11287 -3.86152C-5.11287 -4.07671 -5.17862 -4.14844 -5.39979 -4.14844L-5.83616 -4.14844C-5.94973 -4.14844 -6.03939 -4.14844 -6.11113 -4.01096ZM-6.11113 -4.01096M-6.8643 -1.47646C-5.90789 -3.23387 -5.85409 -3.41918 -5.8242 -3.5208L-5.81822 -3.5208L-5.81822 -1.47646ZM-5.81822 -1.47646M-3.83964 -0M-3.55272 -4.14844C-3.76791 -4.14844 -3.83964 -4.08269 -3.83964 -3.86152L-3.83964 -0.286924C-3.83964 -0.071731 -3.77389 -0 -3.55272 -0L-1.91486 -0C-1.47252 -0 -0.372645 -0.0777086 -0.372645 -1.15965C-0.372645 -2.00249 -1.20353 -2.134 -1.4247 -2.16986C-0.874762 -2.29539 -0.55795 -2.60623 -0.55795 -3.07248C-0.55795 -4.14844 -1.83118 -4.14844 -2.08223 -4.14844ZM-2.08223 -4.14844M-2.9968 -2.3731L-2.9968 -3.63437L-2.29743 -3.63437C-2.0643 -3.63437 -1.3709 -3.61644 -1.3709 -3.05455C-1.3709 -2.3731 -2.15397 -2.3731 -2.3034 -2.3731ZM-2.3034 -2.3731M-2.9968 -0.514072L-2.9968 -1.94271L-2.24363 -1.94271C-2.03441 -1.94271 -1.20353 -1.94271 -1.20353 -1.17161C-1.20353 -0.555915 -1.84313 -0.514072 -2.13006 -0.514072ZM-2.13006 -0.514072\" fill=\"black\"/>\n",
       " </g>\n",
       " <g transform=\"matrix(1.000000,0.000000,0.000000,1.000000,127.559055,-311.811024)\">\n",
       "  <path d=\"M0.886675 -0M2.97883 -6.75467L2.77958 -6.75467C2.19178 -6.14695 1.36488 -6.11706 0.886675 -6.09714L0.886675 -5.5193C1.21544 -5.52927 1.69365 -5.54919 2.19178 -5.75841L2.19178 -0.577833L0.946451 -0.577833L0.946451 -0L4.22416 -0L4.22416 -0.577833L2.97883 -0.577833ZM2.97883 -0.577833M5.39975 -0M6.71482 -1.87298L5.47945 -0.637609L5.47945 -0L9.45455 -0L9.45455 -0.707347L7.64134 -0.707347C7.52179 -0.707347 7.40224 -0.697385 7.28269 -0.697385L6.19676 -0.697385C6.51557 -0.976339 7.27273 -1.72354 7.58157 -2.01245C7.77086 -2.19178 8.27895 -2.61021 8.46824 -2.78954C8.91656 -3.23786 9.45455 -3.76588 9.45455 -4.6127C9.45455 -5.75841 8.64757 -6.75467 7.3325 -6.75467C6.19676 -6.75467 5.63885 -5.97758 5.39975 -5.1208C5.5193 -4.95143 5.56912 -4.89166 5.58904 -4.86177C5.60897 -4.84184 5.70859 -4.71233 5.80822 -4.57285C6.00747 -5.33998 6.28643 -6.11706 7.19303 -6.11706C8.12951 -6.11706 8.63761 -5.36986 8.63761 -4.59278C8.63761 -3.74595 8.06974 -3.17808 7.48194 -2.58032ZM7.48194 -2.58032M10.3811 -0M12.274 -5.82814C12.3935 -5.82814 12.5131 -5.83811 12.6326 -5.83811L13.8381 -5.83811C12.3636 -4.2142 11.477 -2.22167 11.477 0.109589L12.3138 0.109589C12.3138 -2.8792 13.7385 -5.01121 14.5156 -5.88792L14.5156 -6.53549L10.3811 -6.53549L10.3811 -5.82814ZM10.3811 -5.82814M15.9103 -0M16.7372 -0.826899L15.9103 -0.826899L15.9103 -0L16.7372 -0ZM16.7372 -0M18.122 -0M22.2565 -3.24782C22.2565 -4.03487 22.2167 -4.96139 21.7983 -5.76837C21.3898 -6.51557 20.7024 -6.75467 20.1943 -6.75467C19.6065 -6.75467 18.9091 -6.48568 18.5006 -5.599C18.1719 -4.87173 18.122 -4.04483 18.122 -3.24782C18.122 -2.46077 18.1619 -1.7335 18.4608 -1.00623C18.8593 -0.0498132 19.6164 0.219178 20.1843 0.219178C20.9116 0.219178 21.5392 -0.18929 21.858 -0.876712C22.1569 -1.52428 22.2565 -2.18182 22.2565 -3.24782ZM22.2565 -3.24782M20.1943 -0.388543C19.6762 -0.388543 19.2677 -0.767123 19.0685 -1.48443C18.9091 -2.0523 18.8991 -2.59029 18.8991 -3.36737C18.8991 -3.99502 18.8991 -4.59278 19.0685 -5.14072C19.1283 -5.33001 19.3773 -6.14695 20.1843 -6.14695C20.9614 -6.14695 21.2204 -5.38979 21.2902 -5.21046C21.4795 -4.65255 21.4795 -3.98506 21.4795 -3.36737C21.4795 -2.70984 21.4795 -2.08219 21.3001 -1.45455C21.0411 -0.547945 20.5131 -0.388543 20.1943 -0.388543ZM20.1943 -0.388543M23.6513 -0M24.4782 -0.826899L23.6513 -0.826899L23.6513 -0L24.4782 -0ZM24.4782 -0M25.863 -0M29.9975 -3.24782C29.9975 -4.03487 29.9577 -4.96139 29.5392 -5.76837C29.1308 -6.51557 28.4433 -6.75467 27.9352 -6.75467C27.3474 -6.75467 26.6501 -6.48568 26.2416 -5.599C25.9128 -4.87173 25.863 -4.04483 25.863 -3.24782C25.863 -2.46077 25.9029 -1.7335 26.2017 -1.00623C26.6002 -0.0498132 27.3574 0.219178 27.9253 0.219178C28.6526 0.219178 29.2802 -0.18929 29.599 -0.876712C29.8979 -1.52428 29.9975 -2.18182 29.9975 -3.24782ZM29.9975 -3.24782M27.9352 -0.388543C27.4172 -0.388543 27.0087 -0.767123 26.8095 -1.48443C26.6501 -2.0523 26.6401 -2.59029 26.6401 -3.36737C26.6401 -3.99502 26.6401 -4.59278 26.8095 -5.14072C26.8692 -5.33001 27.1183 -6.14695 27.9253 -6.14695C28.7024 -6.14695 28.9614 -5.38979 29.0311 -5.21046C29.2204 -4.65255 29.2204 -3.98506 29.2204 -3.36737C29.2204 -2.70984 29.2204 -2.08219 29.0411 -1.45455C28.7821 -0.547945 28.254 -0.388543 27.9352 -0.388543ZM27.9352 -0.388543M31.3923 -0M32.2192 -0.826899L31.3923 -0.826899L31.3923 -0L32.2192 -0ZM32.2192 -0M34.0722 -0M36.1644 -6.75467L35.9651 -6.75467C35.3773 -6.14695 34.5504 -6.11706 34.0722 -6.09714L34.0722 -5.5193C34.401 -5.52927 34.8792 -5.54919 35.3773 -5.75841L35.3773 -0.577833L34.132 -0.577833L34.132 -0L37.4097 -0L37.4097 -0.577833L36.1644 -0.577833ZM36.1644 -0.577833\" fill=\"black\"/>\n",
       " </g>\n",
       " <g stroke-width=\"0.400879\">\n",
       "  <path d=\"M165.749 -304.598C239.162 -311.206 308.328 -355.601 312.072 -427.733\" stroke=\"#cc7f7f\"/>\n",
       "  <g stroke-linecap=\"butt\" stroke-dasharray=\"none\">\n",
       "   <path d=\"M310.402 -427.021C311.018 -428.283 311.615 -429.565 312.193 -430.866C312.704 -429.537 313.188 -428.209 313.645 -426.88L312.072 -427.733Z\" fill=\"#cc7f7f\"/>\n",
       "  </g>\n",
       " </g>\n",
       " <g stroke-width=\"1.133858\">\n",
       "  <path d=\"M282.465 -429.866L341.998 -429.866L341.998 -437.954L282.465 -437.954Z\" stroke=\"#cc7f7f\" fill=\"#9cc\"/>\n",
       " </g>\n",
       " <g transform=\"matrix(1.000000,0.000000,0.000000,1.000000,283.464567,-430.866142)\">\n",
       "  <path d=\"M0.438356 -0M3.75592 -5.47945C2.03238 -3.64633 1.69365 -1.45455 1.69365 -0.358655C1.69365 -0.219178 1.69365 0.109589 2.04234 0.109589C2.21171 0.109589 2.38107 -0 2.38107 -0.288917C2.43088 -3.11831 3.95517 -4.85181 4.56289 -5.4396C4.76214 -5.61893 4.78207 -5.63885 4.78207 -5.77833C4.78207 -6.08717 4.54296 -6.08717 4.38356 -6.08717L1.09589 -6.08717C1.03611 -6.24658 0.856787 -6.24658 0.777086 -6.24658C0.438356 -6.24658 0.438356 -6.0274 0.438356 -5.83811L0.438356 -5.41968C0.438356 -5.23039 0.438356 -5.01121 0.777086 -5.01121C1.12578 -5.01121 1.12578 -5.2005 1.12578 -5.47945ZM1.12578 -5.47945M5.64882 -0M7.75093 -3.68618L8.96638 -3.68618C9.11582 -3.68618 9.36488 -3.68618 9.36488 -3.98506C9.36488 -4.2939 9.12578 -4.2939 8.96638 -4.2939L7.75093 -4.2939L7.75093 -4.76214C7.75093 -5.53923 8.41843 -5.53923 8.71731 -5.53923C8.71731 -5.49938 8.80697 -5.11083 9.15567 -5.11083C9.35492 -5.11083 9.58406 -5.27024 9.58406 -5.54919C9.58406 -6.14695 8.78705 -6.14695 8.62765 -6.14695C7.83064 -6.14695 7.06351 -5.68867 7.06351 -4.82192L7.06351 -4.2939L6.06725 -4.2939C5.90785 -4.2939 5.65878 -4.2939 5.65878 -3.98506C5.65878 -3.68618 5.90785 -3.68618 6.05729 -3.68618L7.06351 -3.68618L7.06351 -0.607721L6.05729 -0.607721C5.90785 -0.607721 5.64882 -0.607721 5.64882 -0.308842C5.64882 -0 5.90785 -0 6.05729 -0L8.75716 -0C8.9066 -0 9.16563 -0 9.16563 -0.298879C9.16563 -0.607721 8.9066 -0.607721 8.75716 -0.607721L7.75093 -0.607721ZM7.75093 -0.607721\" fill=\"black\"/>\n",
       "  <path d=\"M16.1892 -0M20.4133 -3.03861C20.4133 -4.89166 19.3971 -6.19676 18.3012 -6.19676C17.1854 -6.19676 16.1892 -4.86177 16.1892 -3.04857C16.1892 -1.19552 17.2053 0.109589 18.3012 0.109589C19.417 0.109589 20.4133 -1.2254 20.4133 -3.03861ZM20.4133 -3.03861M18.3012 -0.498132C17.5241 -0.498132 16.8766 -1.67372 16.8766 -3.14819C16.8766 -4.60274 17.564 -5.58904 18.3012 -5.58904C19.0285 -5.58904 19.7259 -4.6127 19.7259 -3.14819C19.7259 -1.67372 19.0783 -0.498132 18.3012 -0.498132ZM18.3012 -0.498132M21.4195 -0M25.6437 -3.03861C25.6437 -4.89166 24.6275 -6.19676 23.5316 -6.19676C22.4158 -6.19676 21.4195 -4.86177 21.4195 -3.04857C21.4195 -1.19552 22.4357 0.109589 23.5316 0.109589C24.6474 0.109589 25.6437 -1.2254 25.6437 -3.03861ZM25.6437 -3.03861M23.5316 -0.498132C22.7545 -0.498132 22.107 -1.67372 22.107 -3.14819C22.107 -4.60274 22.7944 -5.58904 23.5316 -5.58904C24.2589 -5.58904 24.9563 -4.6127 24.9563 -3.14819C24.9563 -1.67372 24.3087 -0.498132 23.5316 -0.498132ZM23.5316 -0.498132\" fill=\"black\"/>\n",
       "  <path d=\"M31.8802 -0M36.1043 -3.03861C36.1043 -4.89166 35.0881 -6.19676 33.9923 -6.19676C32.8764 -6.19676 31.8802 -4.86177 31.8802 -3.04857C31.8802 -1.19552 32.8964 0.109589 33.9923 0.109589C35.1081 0.109589 36.1043 -1.2254 36.1043 -3.03861ZM36.1043 -3.03861M33.9923 -0.498132C33.2152 -0.498132 32.5676 -1.67372 32.5676 -3.14819C32.5676 -4.60274 33.255 -5.58904 33.9923 -5.58904C34.7195 -5.58904 35.4169 -4.6127 35.4169 -3.14819C35.4169 -1.67372 34.7693 -0.498132 33.9923 -0.498132ZM33.9923 -0.498132M37.1106 -0M41.3347 -3.03861C41.3347 -4.89166 40.3185 -6.19676 39.2226 -6.19676C38.1068 -6.19676 37.1106 -4.86177 37.1106 -3.04857C37.1106 -1.19552 38.1268 0.109589 39.2226 0.109589C40.3385 0.109589 41.3347 -1.2254 41.3347 -3.03861ZM41.3347 -3.03861M39.2226 -0.498132C38.4456 -0.498132 37.798 -1.67372 37.798 -3.14819C37.798 -4.60274 38.4854 -5.58904 39.2226 -5.58904C39.9499 -5.58904 40.6473 -4.6127 40.6473 -3.14819C40.6473 -1.67372 39.9997 -0.498132 39.2226 -0.498132ZM39.2226 -0.498132\" fill=\"black\"/>\n",
       "  <path d=\"M47.5712 -0M51.7954 -3.03861C51.7954 -4.89166 50.7792 -6.19676 49.6833 -6.19676C48.5675 -6.19676 47.5712 -4.86177 47.5712 -3.04857C47.5712 -1.19552 48.5874 0.109589 49.6833 0.109589C50.7991 0.109589 51.7954 -1.2254 51.7954 -3.03861ZM51.7954 -3.03861M49.6833 -0.498132C48.9062 -0.498132 48.2586 -1.67372 48.2586 -3.14819C48.2586 -4.60274 48.946 -5.58904 49.6833 -5.58904C50.4105 -5.58904 51.1079 -4.6127 51.1079 -3.14819C51.1079 -1.67372 50.4604 -0.498132 49.6833 -0.498132ZM49.6833 -0.498132M53.3495 -0M55.4018 -5.78829C55.4018 -5.9477 55.4018 -6.19676 55.103 -6.19676C54.9137 -6.19676 54.8539 -6.07721 54.8041 -5.95766C54.4255 -5.11083 53.9074 -5.00125 53.7181 -4.98132C53.5587 -4.97136 53.3495 -4.95143 53.3495 -4.67248C53.3495 -4.42341 53.5289 -4.3736 53.6783 -4.3736C53.8676 -4.3736 54.2761 -4.43337 54.7144 -4.81196L54.7144 -0.607721L53.8078 -0.607721C53.6484 -0.607721 53.4093 -0.607721 53.4093 -0.298879C53.4093 -0 53.6584 -0 53.8078 -0L56.3084 -0C56.4579 -0 56.7069 -0 56.7069 -0.298879C56.7069 -0.607721 56.4678 -0.607721 56.3084 -0.607721L55.4018 -0.607721ZM55.4018 -0.607721\" fill=\"black\"/>\n",
       " </g>\n",
       " <g transform=\"matrix(1.000000,0.000000,0.000000,1.000000,28.346457,-300.472441)\">\n",
       "  <path d=\"M0.358655 -0M4.32379 -6.91407L3.57659 -6.91407L3.57659 -3.98506C3.04857 -4.42341 2.49066 -4.533 2.12204 -4.533C1.13574 -4.533 0.358655 -3.49689 0.358655 -2.21171C0.358655 -0.9066 1.12578 0.109589 2.07223 0.109589C2.401 0.109589 2.98879 0.0199253 3.5467 -0.518057L3.5467 -0L4.32379 -0ZM4.32379 -0M3.5467 -1.38481C3.5467 -1.24533 3.53674 -1.066 3.21793 -0.777086C2.98879 -0.577833 2.73973 -0.498132 2.4807 -0.498132C1.86301 -0.498132 1.13574 -0.966376 1.13574 -2.20174C1.13574 -3.51681 1.99253 -3.92528 2.58032 -3.92528C3.02864 -3.92528 3.32752 -3.69614 3.5467 -3.37733ZM3.5467 -3.37733M5.41968 -0M8.55791 -4.27397C8.03985 -4.51308 7.63138 -4.59278 7.12329 -4.59278C6.87422 -4.59278 5.46949 -4.59278 5.46949 -3.28767C5.46949 -2.7995 5.75841 -2.4807 6.00747 -2.29141C6.31631 -2.07223 6.53549 -2.03238 7.08344 -1.92279C7.44209 -1.85305 8.01993 -1.7335 8.01993 -1.20548C8.01993 -0.518057 7.23288 -0.518057 7.08344 -0.518057C6.27646 -0.518057 5.71856 -0.886675 5.53923 -1.00623L5.41968 -0.328767C5.73848 -0.169365 6.28643 0.109589 7.0934 0.109589C7.27273 0.109589 7.82067 0.109589 8.24907 -0.209215C8.55791 -0.448319 8.72727 -0.846824 8.72727 -1.27522C8.72727 -1.82316 8.35866 -2.16189 8.33873 -2.19178C7.95019 -2.54047 7.6812 -2.60025 7.18306 -2.68991C6.63512 -2.7995 6.17684 -2.89913 6.17684 -3.3873C6.17684 -4.00498 6.89415 -4.00498 7.02366 -4.00498C7.34247 -4.00498 7.87049 -3.96513 8.43836 -3.6264ZM8.43836 -3.6264M9.1457 -0M10.6999 -3.84558L12.1046 -3.84558L12.1046 -4.42341L10.6999 -4.42341L10.6999 -5.68867L10.0125 -5.68867L10.0125 -4.42341L9.1457 -4.42341L9.1457 -3.84558L9.98257 -3.84558L9.98257 -1.18555C9.98257 -0.587796 10.122 0.109589 10.8095 0.109589C11.5068 0.109589 12.0149 -0.139477 12.264 -0.268991L12.1046 -0.856787C11.8456 -0.647572 11.5268 -0.52802 11.208 -0.52802C10.8394 -0.52802 10.6999 -0.826899 10.6999 -1.35492ZM10.6999 -1.35492\" fill=\"black\"/>\n",
       " </g>\n",
       " <g transform=\"matrix(1.000000,0.000000,0.000000,1.000000,124.724409,-300.472441)\">\n",
       "  <path d=\"M-7.48597 -0M-7.43815 -1.56613C-7.48597 -1.47646 -7.48597 -1.45853 -7.48597 -1.35093L-7.48597 -1.20149C-7.48597 -1.01021 -7.44413 -0.91457 -7.19905 -0.91457L-5.85409 -0.91457L-5.85409 -0.286924C-5.85409 -0.0956413 -5.81225 -0 -5.56717 -0L-5.39979 -0C-5.17265 -0 -5.11287 -0.0777086 -5.11287 -0.286924L-5.11287 -0.91457L-4.86181 -0.91457C-4.67651 -0.91457 -4.57489 -0.956413 -4.57489 -1.19552C-4.57489 -1.41669 -4.6526 -1.47646 -4.86181 -1.47646L-5.11287 -1.47646L-5.11287 -3.86152C-5.11287 -4.07671 -5.17862 -4.14844 -5.39979 -4.14844L-5.83616 -4.14844C-5.94973 -4.14844 -6.03939 -4.14844 -6.11113 -4.01096ZM-6.11113 -4.01096M-6.8643 -1.47646C-5.90789 -3.23387 -5.85409 -3.41918 -5.8242 -3.5208L-5.81822 -3.5208L-5.81822 -1.47646ZM-5.81822 -1.47646M-3.83964 -0M-3.55272 -4.14844C-3.76791 -4.14844 -3.83964 -4.08269 -3.83964 -3.86152L-3.83964 -0.286924C-3.83964 -0.071731 -3.77389 -0 -3.55272 -0L-1.91486 -0C-1.47252 -0 -0.372645 -0.0777086 -0.372645 -1.15965C-0.372645 -2.00249 -1.20353 -2.134 -1.4247 -2.16986C-0.874762 -2.29539 -0.55795 -2.60623 -0.55795 -3.07248C-0.55795 -4.14844 -1.83118 -4.14844 -2.08223 -4.14844ZM-2.08223 -4.14844M-2.9968 -2.3731L-2.9968 -3.63437L-2.29743 -3.63437C-2.0643 -3.63437 -1.3709 -3.61644 -1.3709 -3.05455C-1.3709 -2.3731 -2.15397 -2.3731 -2.3034 -2.3731ZM-2.3034 -2.3731M-2.9968 -0.514072L-2.9968 -1.94271L-2.24363 -1.94271C-2.03441 -1.94271 -1.20353 -1.94271 -1.20353 -1.17161C-1.20353 -0.555915 -1.84313 -0.514072 -2.13006 -0.514072ZM-2.13006 -0.514072\" fill=\"black\"/>\n",
       " </g>\n",
       " <g transform=\"matrix(1.000000,0.000000,0.000000,1.000000,127.559055,-300.472441)\">\n",
       "  <path d=\"M0.886675 -0M2.97883 -6.75467L2.77958 -6.75467C2.19178 -6.14695 1.36488 -6.11706 0.886675 -6.09714L0.886675 -5.5193C1.21544 -5.52927 1.69365 -5.54919 2.19178 -5.75841L2.19178 -0.577833L0.946451 -0.577833L0.946451 -0L4.22416 -0L4.22416 -0.577833L2.97883 -0.577833ZM2.97883 -0.577833M5.39975 -0M6.71482 -1.87298L5.47945 -0.637609L5.47945 -0L9.45455 -0L9.45455 -0.707347L7.64134 -0.707347C7.52179 -0.707347 7.40224 -0.697385 7.28269 -0.697385L6.19676 -0.697385C6.51557 -0.976339 7.27273 -1.72354 7.58157 -2.01245C7.77086 -2.19178 8.27895 -2.61021 8.46824 -2.78954C8.91656 -3.23786 9.45455 -3.76588 9.45455 -4.6127C9.45455 -5.75841 8.64757 -6.75467 7.3325 -6.75467C6.19676 -6.75467 5.63885 -5.97758 5.39975 -5.1208C5.5193 -4.95143 5.56912 -4.89166 5.58904 -4.86177C5.60897 -4.84184 5.70859 -4.71233 5.80822 -4.57285C6.00747 -5.33998 6.28643 -6.11706 7.19303 -6.11706C8.12951 -6.11706 8.63761 -5.36986 8.63761 -4.59278C8.63761 -3.74595 8.06974 -3.17808 7.48194 -2.58032ZM7.48194 -2.58032M10.3811 -0M12.274 -5.82814C12.3935 -5.82814 12.5131 -5.83811 12.6326 -5.83811L13.8381 -5.83811C12.3636 -4.2142 11.477 -2.22167 11.477 0.109589L12.3138 0.109589C12.3138 -2.8792 13.7385 -5.01121 14.5156 -5.88792L14.5156 -6.53549L10.3811 -6.53549L10.3811 -5.82814ZM10.3811 -5.82814M15.9103 -0M16.7372 -0.826899L15.9103 -0.826899L15.9103 -0L16.7372 -0ZM16.7372 -0M18.122 -0M22.2565 -3.24782C22.2565 -4.03487 22.2167 -4.96139 21.7983 -5.76837C21.3898 -6.51557 20.7024 -6.75467 20.1943 -6.75467C19.6065 -6.75467 18.9091 -6.48568 18.5006 -5.599C18.1719 -4.87173 18.122 -4.04483 18.122 -3.24782C18.122 -2.46077 18.1619 -1.7335 18.4608 -1.00623C18.8593 -0.0498132 19.6164 0.219178 20.1843 0.219178C20.9116 0.219178 21.5392 -0.18929 21.858 -0.876712C22.1569 -1.52428 22.2565 -2.18182 22.2565 -3.24782ZM22.2565 -3.24782M20.1943 -0.388543C19.6762 -0.388543 19.2677 -0.767123 19.0685 -1.48443C18.9091 -2.0523 18.8991 -2.59029 18.8991 -3.36737C18.8991 -3.99502 18.8991 -4.59278 19.0685 -5.14072C19.1283 -5.33001 19.3773 -6.14695 20.1843 -6.14695C20.9614 -6.14695 21.2204 -5.38979 21.2902 -5.21046C21.4795 -4.65255 21.4795 -3.98506 21.4795 -3.36737C21.4795 -2.70984 21.4795 -2.08219 21.3001 -1.45455C21.0411 -0.547945 20.5131 -0.388543 20.1943 -0.388543ZM20.1943 -0.388543M23.6513 -0M24.4782 -0.826899L23.6513 -0.826899L23.6513 -0L24.4782 -0ZM24.4782 -0M25.863 -0M29.9975 -3.24782C29.9975 -4.03487 29.9577 -4.96139 29.5392 -5.76837C29.1308 -6.51557 28.4433 -6.75467 27.9352 -6.75467C27.3474 -6.75467 26.6501 -6.48568 26.2416 -5.599C25.9128 -4.87173 25.863 -4.04483 25.863 -3.24782C25.863 -2.46077 25.9029 -1.7335 26.2017 -1.00623C26.6002 -0.0498132 27.3574 0.219178 27.9253 0.219178C28.6526 0.219178 29.2802 -0.18929 29.599 -0.876712C29.8979 -1.52428 29.9975 -2.18182 29.9975 -3.24782ZM29.9975 -3.24782M27.9352 -0.388543C27.4172 -0.388543 27.0087 -0.767123 26.8095 -1.48443C26.6501 -2.0523 26.6401 -2.59029 26.6401 -3.36737C26.6401 -3.99502 26.6401 -4.59278 26.8095 -5.14072C26.8692 -5.33001 27.1183 -6.14695 27.9253 -6.14695C28.7024 -6.14695 28.9614 -5.38979 29.0311 -5.21046C29.2204 -4.65255 29.2204 -3.98506 29.2204 -3.36737C29.2204 -2.70984 29.2204 -2.08219 29.0411 -1.45455C28.7821 -0.547945 28.254 -0.388543 27.9352 -0.388543ZM27.9352 -0.388543M31.3923 -0M32.2192 -0.826899L31.3923 -0.826899L31.3923 -0L32.2192 -0ZM32.2192 -0M34.0722 -0M36.1644 -6.75467L35.9651 -6.75467C35.3773 -6.14695 34.5504 -6.11706 34.0722 -6.09714L34.0722 -5.5193C34.401 -5.52927 34.8792 -5.54919 35.3773 -5.75841L35.3773 -0.577833L34.132 -0.577833L34.132 -0L37.4097 -0L37.4097 -0.577833L36.1644 -0.577833ZM36.1644 -0.577833\" fill=\"black\"/>\n",
       " </g>\n",
       " <g transform=\"matrix(1.000000,0.000000,0.000000,1.000000,28.346457,-289.133858)\">\n",
       "  <path d=\"M0.298879 -0M4.67248 -2.19178C4.67248 -3.52677 3.67621 -4.59278 2.49066 -4.59278C1.26526 -4.59278 0.298879 -3.49689 0.298879 -2.19178C0.298879 -0.876712 1.31507 0.109589 2.4807 0.109589C3.67621 0.109589 4.67248 -0.896638 4.67248 -2.19178ZM4.67248 -2.19178M2.4807 -0.52802C1.79328 -0.52802 1.07597 -1.08593 1.07597 -2.29141C1.07597 -3.49689 1.83313 -3.98506 2.4807 -3.98506C3.17808 -3.98506 3.89539 -3.467 3.89539 -2.29141C3.89539 -1.11582 3.21793 -0.52802 2.4807 -0.52802ZM2.4807 -0.52802M5.79826 -0M6.57534 -0.458281C6.88418 -0.169365 7.32254 0.109589 7.9203 0.109589C8.88667 0.109589 9.76339 -0.86675 9.76339 -2.22167C9.76339 -3.41719 9.13574 -4.533 8.17933 -4.533C7.58157 -4.533 7.00374 -4.32379 6.54545 -3.93524L6.54545 -4.42341L5.79826 -4.42341L5.79826 1.93275L6.57534 1.93275ZM6.57534 1.93275M6.57534 -3.31756C6.81445 -3.66625 7.20299 -3.89539 7.63138 -3.89539C8.38854 -3.89539 8.9863 -3.13823 8.9863 -2.22167C8.9863 -1.19552 8.27895 -0.498132 7.53176 -0.498132C7.14321 -0.498132 6.87422 -0.697385 6.67497 -0.966376C6.57534 -1.11582 6.57534 -1.13574 6.57534 -1.31507ZM6.57534 -1.31507M10.3113 -0M11.8655 -3.84558L13.2702 -3.84558L13.2702 -4.42341L11.8655 -4.42341L11.8655 -5.68867L11.1781 -5.68867L11.1781 -4.42341L10.3113 -4.42341L10.3113 -3.84558L11.1482 -3.84558L11.1482 -1.18555C11.1482 -0.587796 11.2877 0.109589 11.9751 0.109589C12.6725 0.109589 13.1806 -0.139477 13.4296 -0.268991L13.2702 -0.856787C13.0112 -0.647572 12.6924 -0.52802 12.3736 -0.52802C12.005 -0.52802 11.8655 -0.826899 11.8655 -1.35492ZM11.8655 -1.35492M14.4558 -0M15.3425 -6.7746L14.4558 -6.7746L14.4558 -5.88792L15.3425 -5.88792ZM15.3425 -5.88792M15.2727 -4.42341L14.5255 -4.42341L14.5255 -0L15.2727 -0ZM15.2727 -0M16.3885 -0M20.7621 -2.19178C20.7621 -3.52677 19.7659 -4.59278 18.5803 -4.59278C17.3549 -4.59278 16.3885 -3.49689 16.3885 -2.19178C16.3885 -0.876712 17.4047 0.109589 18.5704 0.109589C19.7659 0.109589 20.7621 -0.896638 20.7621 -2.19178ZM20.7621 -2.19178M18.5704 -0.52802C17.8829 -0.52802 17.1656 -1.08593 17.1656 -2.29141C17.1656 -3.49689 17.9228 -3.98506 18.5704 -3.98506C19.2677 -3.98506 19.9851 -3.467 19.9851 -2.29141C19.9851 -1.11582 19.3076 -0.52802 18.5704 -0.52802ZM18.5704 -0.52802M21.878 -0M25.4047 -2.96887C25.4047 -3.6264 25.2553 -4.533 24.0399 -4.533C23.1432 -4.533 22.655 -3.85554 22.5953 -3.77584L22.5953 -4.48319L21.878 -4.48319L21.878 -0L22.655 -0L22.655 -2.44085C22.655 -3.09838 22.9041 -3.92528 23.6613 -3.92528C24.6177 -3.92528 24.6276 -3.21793 24.6276 -2.89913L24.6276 -0L25.4047 -0ZM25.4047 -0M26.4907 -0M29.6289 -4.27397C29.1108 -4.51308 28.7024 -4.59278 28.1943 -4.59278C27.9452 -4.59278 26.5405 -4.59278 26.5405 -3.28767C26.5405 -2.7995 26.8294 -2.4807 27.0785 -2.29141C27.3873 -2.07223 27.6065 -2.03238 28.1544 -1.92279C28.5131 -1.85305 29.0909 -1.7335 29.0909 -1.20548C29.0909 -0.518057 28.3039 -0.518057 28.1544 -0.518057C27.3474 -0.518057 26.7895 -0.886675 26.6102 -1.00623L26.4907 -0.328767C26.8095 -0.169365 27.3574 0.109589 28.1644 0.109589C28.3437 0.109589 28.8917 0.109589 29.32 -0.209215C29.6289 -0.448319 29.7983 -0.846824 29.7983 -1.27522C29.7983 -1.82316 29.4296 -2.16189 29.4097 -2.19178C29.0212 -2.54047 28.7522 -2.60025 28.254 -2.68991C27.7061 -2.7995 27.2478 -2.89913 27.2478 -3.3873C27.2478 -4.00498 27.9651 -4.00498 28.0946 -4.00498C28.4134 -4.00498 28.9415 -3.96513 29.5093 -3.6264ZM29.5093 -3.6264\" fill=\"black\"/>\n",
       " </g>\n",
       " <g transform=\"matrix(1.000000,0.000000,0.000000,1.000000,124.724409,-289.133858)\">\n",
       "  <path d=\"M-7.41424 -0M-4.64662 -2.05031C-4.64662 -2.86924 -4.64662 -4.27995 -6.02744 -4.27995C-7.41424 -4.27995 -7.41424 -2.8812 -7.41424 -2.05031C-7.41424 -1.23138 -7.41424 0.131507 -6.03342 0.131507C-4.64662 0.131507 -4.64662 -1.21943 -4.64662 -2.05031ZM-4.64662 -2.05031M-6.03342 -0.298879C-6.47576 -0.298879 -6.54151 -0.848817 -6.55944 -1.01021C-6.60129 -1.32702 -6.60129 -1.88892 -6.60129 -2.134C-6.60129 -2.48667 -6.60129 -2.86924 -6.56542 -3.16214C-6.54749 -3.32354 -6.48771 -3.84956 -6.03342 -3.84956C-5.59108 -3.84956 -5.51935 -3.34745 -5.50141 -3.2279C-5.45957 -2.92304 -5.45957 -2.45081 -5.45957 -2.134C-5.45957 -1.79328 -5.45957 -1.32702 -5.50141 -0.998257C-5.51935 -0.842839 -5.5851 -0.298879 -6.03342 -0.298879ZM-6.03342 -0.298879M-3.83964 -0M-3.55272 -4.14844C-3.76791 -4.14844 -3.83964 -4.08269 -3.83964 -3.86152L-3.83964 -0.286924C-3.83964 -0.071731 -3.77389 -0 -3.55272 -0L-1.91486 -0C-1.47252 -0 -0.372645 -0.0777086 -0.372645 -1.15965C-0.372645 -2.00249 -1.20353 -2.134 -1.4247 -2.16986C-0.874762 -2.29539 -0.55795 -2.60623 -0.55795 -3.07248C-0.55795 -4.14844 -1.83118 -4.14844 -2.08223 -4.14844ZM-2.08223 -4.14844M-2.9968 -2.3731L-2.9968 -3.63437L-2.29743 -3.63437C-2.0643 -3.63437 -1.3709 -3.61644 -1.3709 -3.05455C-1.3709 -2.3731 -2.15397 -2.3731 -2.3034 -2.3731ZM-2.3034 -2.3731M-2.9968 -0.514072L-2.9968 -1.94271L-2.24363 -1.94271C-2.03441 -1.94271 -1.20353 -1.94271 -1.20353 -1.17161C-1.20353 -0.555915 -1.84313 -0.514072 -2.13006 -0.514072ZM-2.13006 -0.514072\" fill=\"black\"/>\n",
       " </g>\n",
       " <g transform=\"matrix(1.000000,0.000000,0.000000,1.000000,127.559055,-289.133858)\">\n",
       "  <path d=\"M1.01619 -0M2.65006 2.49066L2.65006 1.88294L1.7335 1.88294L1.7335 -6.86426L2.65006 -6.86426L2.65006 -7.47198L1.01619 -7.47198L1.01619 2.49066ZM1.01619 2.49066M3.08842 -0M4.72229 -7.47198L3.08842 -7.47198L3.08842 -6.86426L4.00498 -6.86426L4.00498 1.88294L3.08842 1.88294L3.08842 2.49066L4.72229 2.49066ZM4.72229 2.49066\" fill=\"black\"/>\n",
       " </g>\n",
       " <path d=\"M26.3465 -270.126L50.7561 -270.126L50.7561 -281.044L26.3465 -281.044Z\" stroke=\"#000\" fill=\"#9ff\"/>\n",
       " <g transform=\"matrix(1.000000,0.000000,0.000000,1.000000,28.346457,-272.125984)\">\n",
       "  <path d=\"M0.936488 -0M5.90785 -6.91407L5.13076 -6.91407L5.13076 -2.31133C5.13076 -0.996264 4.2939 -0.33873 3.45704 -0.33873C2.6401 -0.33873 1.82316 -0.966376 1.82316 -2.31133L1.82316 -6.91407L0.936488 -6.91407L0.936488 -2.3213C0.936488 -0.86675 2.10212 0.219178 3.44707 0.219178C4.78207 0.219178 5.90785 -0.876712 5.90785 -2.3213ZM5.90785 -2.3213M7.80075 -0M7.80075 -6.91407L7.80075 -0L10.4209 -0C12.1146 -0 13.4695 -1.51432 13.4695 -3.39726C13.4695 -5.33001 12.1245 -6.91407 10.411 -6.91407ZM10.411 -6.91407M8.65753 -0.557908L8.65753 -6.35616L10.1818 -6.35616C11.5766 -6.35616 12.6127 -5.15068 12.6127 -3.39726C12.6127 -1.70361 11.5766 -0.557908 10.1818 -0.557908ZM10.1818 -0.557908M14.9938 -0M17.5442 -2.8792C18.7796 -2.8792 19.8356 -3.7858 19.8356 -4.90162C19.8356 -5.96762 18.8493 -6.91407 17.4745 -6.91407L14.9938 -6.91407L14.9938 -0L15.8804 -0L15.8804 -2.8792ZM15.8804 -2.8792M17.2553 -6.35616C18.3512 -6.35616 19.0286 -5.74844 19.0286 -4.90162C19.0286 -4.11457 18.401 -3.45704 17.2553 -3.45704L15.8506 -3.45704L15.8506 -6.35616ZM15.8506 -6.35616\" fill=\"black\"/>\n",
       " </g>\n",
       " <g stroke-width=\"0.400879\">\n",
       "  <path d=\"M157.917 -264.663C257.882 -270.133 354.877 -329.319 358.781 -427.732\" stroke=\"#33cc7f\"/>\n",
       "  <g stroke-linecap=\"butt\" stroke-dasharray=\"none\">\n",
       "   <path d=\"M357.121 -427.002C357.72 -428.276 358.304 -429.563 358.873 -430.866C359.392 -429.542 359.889 -428.219 360.366 -426.895L358.781 -427.732Z\" fill=\"#33cc7f\"/>\n",
       "  </g>\n",
       " </g>\n",
       " <g stroke-width=\"1.133858\">\n",
       "  <path d=\"M344.827 -429.866L372.978 -429.866L372.978 -437.954L344.827 -437.954Z\" stroke=\"#33cc7f\" fill=\"#9ff\"/>\n",
       " </g>\n",
       " <g transform=\"matrix(1.000000,0.000000,0.000000,1.000000,345.826772,-430.866142)\">\n",
       "  <path d=\"M0.498132 -0M4.72229 -3.03861C4.72229 -4.89166 3.7061 -6.19676 2.61021 -6.19676C1.4944 -6.19676 0.498132 -4.86177 0.498132 -3.04857C0.498132 -1.19552 1.51432 0.109589 2.61021 0.109589C3.72603 0.109589 4.72229 -1.2254 4.72229 -3.03861ZM4.72229 -3.03861M2.61021 -0.498132C1.83313 -0.498132 1.18555 -1.67372 1.18555 -3.14819C1.18555 -4.60274 1.87298 -5.58904 2.61021 -5.58904C3.33748 -5.58904 4.03487 -4.6127 4.03487 -3.14819C4.03487 -1.67372 3.3873 -0.498132 2.61021 -0.498132ZM2.61021 -0.498132M5.72852 -0M9.95268 -3.03861C9.95268 -4.89166 8.93649 -6.19676 7.8406 -6.19676C6.72478 -6.19676 5.72852 -4.86177 5.72852 -3.04857C5.72852 -1.19552 6.74471 0.109589 7.8406 0.109589C8.95641 0.109589 9.95268 -1.2254 9.95268 -3.03861ZM9.95268 -3.03861M7.8406 -0.498132C7.06351 -0.498132 6.41594 -1.67372 6.41594 -3.14819C6.41594 -4.60274 7.10336 -5.58904 7.8406 -5.58904C8.56787 -5.58904 9.26526 -4.6127 9.26526 -3.14819C9.26526 -1.67372 8.61768 -0.498132 7.8406 -0.498132ZM7.8406 -0.498132\" fill=\"black\"/>\n",
       "  <path d=\"M16.1294 -0M19.3473 -3.32752C19.9052 -3.68618 20.1842 -4.25405 20.1842 -4.79203C20.1842 -5.52927 19.4569 -6.19676 18.3112 -6.19676C17.1157 -6.19676 16.4183 -5.71856 16.4183 -5.03113C16.4183 -4.70237 16.6674 -4.56289 16.8666 -4.56289C17.0758 -4.56289 17.305 -4.73225 17.305 -5.01121C17.305 -5.15068 17.2452 -5.25031 17.2153 -5.2802C17.5241 -5.58904 18.2315 -5.58904 18.3212 -5.58904C18.9986 -5.58904 19.4967 -5.23039 19.4967 -4.78207C19.4967 -4.48319 19.3473 -4.1345 19.0783 -3.91532C18.7595 -3.65629 18.5104 -3.63636 18.1518 -3.61644C17.5839 -3.57659 17.4345 -3.57659 17.4345 -3.28767C17.4345 -2.97883 17.6736 -2.97883 17.833 -2.97883L18.2913 -2.97883C19.2776 -2.97883 19.7857 -2.31133 19.7857 -1.7335C19.7857 -1.12578 19.2278 -0.498132 18.3212 -0.498132C17.9227 -0.498132 17.1555 -0.607721 16.8965 -1.07597C16.9463 -1.12578 17.0161 -1.18555 17.0161 -1.38481C17.0161 -1.62391 16.8268 -1.82316 16.5777 -1.82316C16.3486 -1.82316 16.1294 -1.67372 16.1294 -1.35492C16.1294 -0.468244 17.0958 0.109589 18.3212 0.109589C19.6263 0.109589 20.4731 -0.806974 20.4731 -1.7335C20.4731 -2.44085 20.0048 -3.02864 19.3473 -3.32752ZM19.3473 -3.32752M21.4395 -0M23.6811 -3.87547C23.3324 -3.87547 22.894 -3.80573 22.4855 -3.58655L22.4855 -5.47945L24.8766 -5.47945C25.026 -5.47945 25.2751 -5.47945 25.2751 -5.77833C25.2751 -6.08717 25.036 -6.08717 24.8766 -6.08717L22.1966 -6.08717C21.8679 -6.08717 21.7981 -5.99751 21.7981 -5.6787L21.7981 -3.02864C21.7981 -2.84932 21.7981 -2.62017 22.1169 -2.62017C22.2963 -2.62017 22.3361 -2.66999 22.4158 -2.76961C22.6848 -3.08842 23.0933 -3.26775 23.6711 -3.26775C24.488 -3.26775 24.9364 -2.54047 24.9364 -1.8929C24.9364 -1.09589 24.229 -0.498132 23.3921 -0.498132C23.1132 -0.498132 22.4756 -0.577833 22.1966 -1.12578C22.2464 -1.17559 22.3261 -1.24533 22.3261 -1.44458C22.3261 -1.7335 22.097 -1.8929 21.8878 -1.8929C21.7383 -1.8929 21.4395 -1.80324 21.4395 -1.41469C21.4395 -0.587796 22.2763 0.109589 23.3921 0.109589C24.6375 0.109589 25.6238 -0.787049 25.6238 -1.8929C25.6238 -2.89913 24.8567 -3.87547 23.6811 -3.87547ZM23.6811 -3.87547\" fill=\"black\"/>\n",
       " </g>\n",
       " <g transform=\"matrix(1.000000,0.000000,0.000000,1.000000,28.346457,-260.787402)\">\n",
       "  <path d=\"M0.278954 -0M3.41719 -4.27397C2.89913 -4.51308 2.49066 -4.59278 1.98257 -4.59278C1.7335 -4.59278 0.328767 -4.59278 0.328767 -3.28767C0.328767 -2.7995 0.617684 -2.4807 0.86675 -2.29141C1.17559 -2.07223 1.39477 -2.03238 1.94271 -1.92279C2.30137 -1.85305 2.8792 -1.7335 2.8792 -1.20548C2.8792 -0.518057 2.09215 -0.518057 1.94271 -0.518057C1.13574 -0.518057 0.577833 -0.886675 0.398506 -1.00623L0.278954 -0.328767C0.597758 -0.169365 1.1457 0.109589 1.95268 0.109589C2.132 0.109589 2.67995 0.109589 3.10834 -0.209215C3.41719 -0.448319 3.58655 -0.846824 3.58655 -1.27522C3.58655 -1.82316 3.21793 -2.16189 3.19801 -2.19178C2.80946 -2.54047 2.54047 -2.60025 2.04234 -2.68991C1.4944 -2.7995 1.03611 -2.89913 1.03611 -3.3873C1.03611 -4.00498 1.75342 -4.00498 1.88294 -4.00498C2.20174 -4.00498 2.72976 -3.96513 3.29763 -3.6264ZM3.29763 -3.6264M4.63263 -0M5.40971 -0.458281C5.71856 -0.169365 6.15691 0.109589 6.75467 0.109589C7.72105 0.109589 8.59776 -0.86675 8.59776 -2.22167C8.59776 -3.41719 7.97011 -4.533 7.0137 -4.533C6.41594 -4.533 5.83811 -4.32379 5.37983 -3.93524L5.37983 -4.42341L4.63263 -4.42341L4.63263 1.93275L5.40971 1.93275ZM5.40971 1.93275M5.40971 -3.31756C5.64882 -3.66625 6.03736 -3.89539 6.46575 -3.89539C7.22291 -3.89539 7.82067 -3.13823 7.82067 -2.22167C7.82067 -1.19552 7.11333 -0.498132 6.36613 -0.498132C5.97758 -0.498132 5.70859 -0.697385 5.50934 -0.966376C5.40971 -1.11582 5.40971 -1.13574 5.40971 -1.31507ZM5.40971 -1.31507\" fill=\"black\"/>\n",
       "  <path d=\"M9.542 -0M13.9156 -2.19178C13.9156 -3.52677 12.9193 -4.59278 11.7338 -4.59278C10.5084 -4.59278 9.542 -3.49689 9.542 -2.19178C9.542 -0.876712 10.5582 0.109589 11.7238 0.109589C12.9193 0.109589 13.9156 -0.896638 13.9156 -2.19178ZM13.9156 -2.19178M11.7238 -0.52802C11.0364 -0.52802 10.3191 -1.08593 10.3191 -2.29141C10.3191 -3.49689 11.0763 -3.98506 11.7238 -3.98506C12.4212 -3.98506 13.1385 -3.467 13.1385 -2.29141C13.1385 -1.11582 12.4611 -0.52802 11.7238 -0.52802ZM11.7238 -0.52802\" fill=\"black\"/>\n",
       "  <path d=\"M14.7646 -0M15.5118 -2.132C15.5118 -3.12827 16.2292 -3.84558 17.2055 -3.8655L17.2055 -4.533C16.3188 -4.52304 15.7709 -4.03487 15.462 -3.57659L15.462 -4.48319L14.7646 -4.48319L14.7646 -0L15.5118 -0ZM15.5118 -0M17.5343 -0M19.0884 -3.84558L20.4932 -3.84558L20.4932 -4.42341L19.0884 -4.42341L19.0884 -5.68867L18.401 -5.68867L18.401 -4.42341L17.5343 -4.42341L17.5343 -3.84558L18.3711 -3.84558L18.3711 -1.18555C18.3711 -0.587796 18.5106 0.109589 19.198 0.109589C19.8954 0.109589 20.4035 -0.139477 20.6526 -0.268991L20.4932 -0.856787C20.2341 -0.647572 19.9153 -0.52802 19.5965 -0.52802C19.2279 -0.52802 19.0884 -0.826899 19.0884 -1.35492ZM19.0884 -1.35492\" fill=\"black\"/>\n",
       " </g>\n",
       " <g transform=\"matrix(1.000000,0.000000,0.000000,1.000000,124.724409,-260.787402)\">\n",
       "  <path d=\"M-7.39631 -0M-7.28273 -0.508095C-7.34251 -0.448319 -7.34251 -0.436364 -7.34251 -0.334745L-7.34251 -0.286924C-7.34251 -0.071731 -7.27675 -0 -7.05558 -0L-5.00527 -0C-4.77812 -0 -4.71835 -0.0777086 -4.71835 -0.286924L-4.71835 -0.358655C-4.71835 -0.454296 -4.71835 -0.56787 -4.84388 -0.621669C-4.88572 -0.645579 -5.077 -0.645579 -5.19656 -0.645579C-5.32806 -0.645579 -5.47152 -0.639601 -5.60303 -0.639601L-6.5714 -0.639601L-5.78236 -1.3868C-5.6927 -1.46451 -5.46555 -1.64981 -5.37588 -1.7335C-5.04712 -2.05629 -4.71835 -2.3731 -4.71835 -2.90511C-4.71835 -3.63437 -5.24438 -4.27995 -6.12308 -4.27995C-6.3323 -4.27995 -6.67302 -4.25006 -6.95994 -4.01694C-7.01374 -3.97509 -7.28871 -3.7599 -7.39631 -3.3594L-7.09743 -2.97684C-7.06156 -2.92902 -7.04363 -2.90511 -7.00179 -2.90511C-6.94799 -2.90511 -6.93603 -2.94695 -6.9181 -3.01868C-6.79855 -3.43113 -6.59531 -3.68219 -6.21274 -3.68219C-5.74649 -3.68219 -5.55521 -3.25778 -5.55521 -2.89315C-5.55521 -2.51059 -5.78236 -2.11009 -6.14101 -1.72752ZM-6.14101 -1.72752M-3.83964 -0M-3.55272 -4.14844C-3.76791 -4.14844 -3.83964 -4.08269 -3.83964 -3.86152L-3.83964 -0.286924C-3.83964 -0.071731 -3.77389 -0 -3.55272 -0L-1.91486 -0C-1.47252 -0 -0.372645 -0.0777086 -0.372645 -1.15965C-0.372645 -2.00249 -1.20353 -2.134 -1.4247 -2.16986C-0.874762 -2.29539 -0.55795 -2.60623 -0.55795 -3.07248C-0.55795 -4.14844 -1.83118 -4.14844 -2.08223 -4.14844ZM-2.08223 -4.14844M-2.9968 -2.3731L-2.9968 -3.63437L-2.29743 -3.63437C-2.0643 -3.63437 -1.3709 -3.61644 -1.3709 -3.05455C-1.3709 -2.3731 -2.15397 -2.3731 -2.3034 -2.3731ZM-2.3034 -2.3731M-2.9968 -0.514072L-2.9968 -1.94271L-2.24363 -1.94271C-2.03441 -1.94271 -1.20353 -1.94271 -1.20353 -1.17161C-1.20353 -0.555915 -1.84313 -0.514072 -2.13006 -0.514072ZM-2.13006 -0.514072\" fill=\"black\"/>\n",
       " </g>\n",
       " <g transform=\"matrix(1.000000,0.000000,0.000000,1.000000,127.559055,-260.787402)\">\n",
       "  <path d=\"M0.358655 -0M4.32379 -6.91407L3.57659 -6.91407L3.57659 -3.98506C3.04857 -4.42341 2.49066 -4.533 2.12204 -4.533C1.13574 -4.533 0.358655 -3.49689 0.358655 -2.21171C0.358655 -0.9066 1.12578 0.109589 2.07223 0.109589C2.401 0.109589 2.98879 0.0199253 3.5467 -0.518057L3.5467 -0L4.32379 -0ZM4.32379 -0M3.5467 -1.38481C3.5467 -1.24533 3.53674 -1.066 3.21793 -0.777086C2.98879 -0.577833 2.73973 -0.498132 2.4807 -0.498132C1.86301 -0.498132 1.13574 -0.966376 1.13574 -2.20174C1.13574 -3.51681 1.99253 -3.92528 2.58032 -3.92528C3.02864 -3.92528 3.32752 -3.69614 3.5467 -3.37733ZM3.5467 -3.37733M5.4396 -0M9.8132 -2.19178C9.8132 -3.52677 8.81694 -4.59278 7.63138 -4.59278C6.40598 -4.59278 5.4396 -3.49689 5.4396 -2.19178C5.4396 -0.876712 6.45579 0.109589 7.62142 0.109589C8.81694 0.109589 9.8132 -0.896638 9.8132 -2.19178ZM9.8132 -2.19178M7.62142 -0.52802C6.934 -0.52802 6.21669 -1.08593 6.21669 -2.29141C6.21669 -3.49689 6.97385 -3.98506 7.62142 -3.98506C8.3188 -3.98506 9.03611 -3.467 9.03611 -2.29141C9.03611 -1.11582 8.35866 -0.52802 7.62142 -0.52802ZM7.62142 -0.52802M10.929 -0M17.2254 -2.96887C17.2254 -3.63636 17.066 -4.533 15.8605 -4.533C15.2628 -4.533 14.7447 -4.25405 14.3761 -3.71606C14.1171 -4.47323 13.4197 -4.533 13.1009 -4.533C12.3836 -4.533 11.9153 -4.12453 11.6463 -3.76588L11.6463 -4.48319L10.929 -4.48319L10.929 -0L11.7061 -0L11.7061 -2.44085C11.7061 -3.11831 11.9751 -3.92528 12.7123 -3.92528C13.6389 -3.92528 13.6887 -3.27771 13.6887 -2.89913L13.6887 -0L14.4658 -0L14.4658 -2.44085C14.4658 -3.11831 14.7347 -3.92528 15.472 -3.92528C16.3985 -3.92528 16.4483 -3.27771 16.4483 -2.89913L16.4483 -0L17.2254 -0ZM17.2254 -0M18.4707 -0M22.0075 -2.8792C22.0075 -3.89539 21.2802 -4.59278 20.3636 -4.59278C19.7161 -4.59278 19.2677 -4.43337 18.7995 -4.16438L18.8593 -3.50685C19.3773 -3.87547 19.8755 -4.00498 20.3636 -4.00498C20.8319 -4.00498 21.2304 -3.60648 21.2304 -2.86924L21.2304 -2.44085C19.736 -2.42092 18.4707 -2.00249 18.4707 -1.12578C18.4707 -0.697385 18.7397 0.109589 19.6065 0.109589C19.746 0.109589 20.6824 0.0896638 21.2603 -0.358655L21.2603 -0L22.0075 -0ZM22.0075 -0M21.2304 -1.31507C21.2304 -1.12578 21.2304 -0.876712 20.8917 -0.687422C20.6027 -0.508095 20.2242 -0.498132 20.1146 -0.498132C19.6364 -0.498132 19.188 -0.727273 19.188 -1.1457C19.188 -1.84309 20.802 -1.91283 21.2304 -1.93275ZM21.2304 -1.93275M23.5517 -0M24.4384 -6.7746L23.5517 -6.7746L23.5517 -5.88792L24.4384 -5.88792ZM24.4384 -5.88792M24.3686 -4.42341L23.6214 -4.42341L23.6214 -0L24.3686 -0ZM24.3686 -0M25.9925 -0M29.5193 -2.96887C29.5193 -3.6264 29.3699 -4.533 28.1544 -4.533C27.2578 -4.533 26.7696 -3.85554 26.7098 -3.77584L26.7098 -4.48319L25.9925 -4.48319L25.9925 -0L26.7696 -0L26.7696 -2.44085C26.7696 -3.09838 27.0187 -3.92528 27.7758 -3.92528C28.7323 -3.92528 28.7422 -3.21793 28.7422 -2.89913L28.7422 -0L29.5193 -0ZM29.5193 -0\" fill=\"black\"/>\n",
       " </g>\n",
       " <g stroke-width=\"0.400879\">\n",
       "  <path d=\"M157.917 -253.237C270.756 -258.114 385.83 -317.221 389.969 -427.732\" stroke=\"#33c\"/>\n",
       "  <g stroke-linecap=\"butt\" stroke-dasharray=\"none\">\n",
       "   <path d=\"M388.311 -426.999C388.906 -428.274 389.488 -429.562 390.056 -430.866C390.576 -429.543 391.076 -428.22 391.556 -426.898L389.969 -427.732Z\" fill=\"#33c\"/>\n",
       "  </g>\n",
       " </g>\n",
       " <g stroke-width=\"1.133858\">\n",
       "  <path d=\"M376.008 -429.866L404.16 -429.866L404.16 -437.954L376.008 -437.954Z\" stroke=\"#33c\" fill=\"#9ff\"/>\n",
       " </g>\n",
       " <g transform=\"matrix(1.000000,0.000000,0.000000,1.000000,377.007874,-430.866142)\">\n",
       "  <path d=\"M0.498132 -0M4.72229 -3.03861C4.72229 -4.89166 3.7061 -6.19676 2.61021 -6.19676C1.4944 -6.19676 0.498132 -4.86177 0.498132 -3.04857C0.498132 -1.19552 1.51432 0.109589 2.61021 0.109589C3.72603 0.109589 4.72229 -1.2254 4.72229 -3.03861ZM4.72229 -3.03861M2.61021 -0.498132C1.83313 -0.498132 1.18555 -1.67372 1.18555 -3.14819C1.18555 -4.60274 1.87298 -5.58904 2.61021 -5.58904C3.33748 -5.58904 4.03487 -4.6127 4.03487 -3.14819C4.03487 -1.67372 3.3873 -0.498132 2.61021 -0.498132ZM2.61021 -0.498132M5.72852 -0M9.95268 -3.03861C9.95268 -4.89166 8.93649 -6.19676 7.8406 -6.19676C6.72478 -6.19676 5.72852 -4.86177 5.72852 -3.04857C5.72852 -1.19552 6.74471 0.109589 7.8406 0.109589C8.95641 0.109589 9.95268 -1.2254 9.95268 -3.03861ZM9.95268 -3.03861M7.8406 -0.498132C7.06351 -0.498132 6.41594 -1.67372 6.41594 -3.14819C6.41594 -4.60274 7.10336 -5.58904 7.8406 -5.58904C8.56787 -5.58904 9.26526 -4.6127 9.26526 -3.14819C9.26526 -1.67372 8.61768 -0.498132 7.8406 -0.498132ZM7.8406 -0.498132\" fill=\"black\"/>\n",
       "  <path d=\"M16.1294 -0M19.3473 -3.32752C19.9052 -3.68618 20.1842 -4.25405 20.1842 -4.79203C20.1842 -5.52927 19.4569 -6.19676 18.3112 -6.19676C17.1157 -6.19676 16.4183 -5.71856 16.4183 -5.03113C16.4183 -4.70237 16.6674 -4.56289 16.8666 -4.56289C17.0758 -4.56289 17.305 -4.73225 17.305 -5.01121C17.305 -5.15068 17.2452 -5.25031 17.2153 -5.2802C17.5241 -5.58904 18.2315 -5.58904 18.3212 -5.58904C18.9986 -5.58904 19.4967 -5.23039 19.4967 -4.78207C19.4967 -4.48319 19.3473 -4.1345 19.0783 -3.91532C18.7595 -3.65629 18.5104 -3.63636 18.1518 -3.61644C17.5839 -3.57659 17.4345 -3.57659 17.4345 -3.28767C17.4345 -2.97883 17.6736 -2.97883 17.833 -2.97883L18.2913 -2.97883C19.2776 -2.97883 19.7857 -2.31133 19.7857 -1.7335C19.7857 -1.12578 19.2278 -0.498132 18.3212 -0.498132C17.9227 -0.498132 17.1555 -0.607721 16.8965 -1.07597C16.9463 -1.12578 17.0161 -1.18555 17.0161 -1.38481C17.0161 -1.62391 16.8268 -1.82316 16.5777 -1.82316C16.3486 -1.82316 16.1294 -1.67372 16.1294 -1.35492C16.1294 -0.468244 17.0958 0.109589 18.3212 0.109589C19.6263 0.109589 20.4731 -0.806974 20.4731 -1.7335C20.4731 -2.44085 20.0048 -3.02864 19.3473 -3.32752ZM19.3473 -3.32752M21.4395 -0M23.6811 -3.87547C23.3324 -3.87547 22.894 -3.80573 22.4855 -3.58655L22.4855 -5.47945L24.8766 -5.47945C25.026 -5.47945 25.2751 -5.47945 25.2751 -5.77833C25.2751 -6.08717 25.036 -6.08717 24.8766 -6.08717L22.1966 -6.08717C21.8679 -6.08717 21.7981 -5.99751 21.7981 -5.6787L21.7981 -3.02864C21.7981 -2.84932 21.7981 -2.62017 22.1169 -2.62017C22.2963 -2.62017 22.3361 -2.66999 22.4158 -2.76961C22.6848 -3.08842 23.0933 -3.26775 23.6711 -3.26775C24.488 -3.26775 24.9364 -2.54047 24.9364 -1.8929C24.9364 -1.09589 24.229 -0.498132 23.3921 -0.498132C23.1132 -0.498132 22.4756 -0.577833 22.1966 -1.12578C22.2464 -1.17559 22.3261 -1.24533 22.3261 -1.44458C22.3261 -1.7335 22.097 -1.8929 21.8878 -1.8929C21.7383 -1.8929 21.4395 -1.80324 21.4395 -1.41469C21.4395 -0.587796 22.2763 0.109589 23.3921 0.109589C24.6375 0.109589 25.6238 -0.787049 25.6238 -1.8929C25.6238 -2.89913 24.8567 -3.87547 23.6811 -3.87547ZM23.6811 -3.87547\" fill=\"black\"/>\n",
       " </g>\n",
       " <g transform=\"matrix(1.000000,0.000000,0.000000,1.000000,28.346457,-249.448819)\">\n",
       "  <path d=\"M0.358655 -0M4.32379 -6.91407L3.57659 -6.91407L3.57659 -3.98506C3.04857 -4.42341 2.49066 -4.533 2.12204 -4.533C1.13574 -4.533 0.358655 -3.49689 0.358655 -2.21171C0.358655 -0.9066 1.12578 0.109589 2.07223 0.109589C2.401 0.109589 2.98879 0.0199253 3.5467 -0.518057L3.5467 -0L4.32379 -0ZM4.32379 -0M3.5467 -1.38481C3.5467 -1.24533 3.53674 -1.066 3.21793 -0.777086C2.98879 -0.577833 2.73973 -0.498132 2.4807 -0.498132C1.86301 -0.498132 1.13574 -0.966376 1.13574 -2.20174C1.13574 -3.51681 1.99253 -3.92528 2.58032 -3.92528C3.02864 -3.92528 3.32752 -3.69614 3.5467 -3.37733ZM3.5467 -3.37733M5.95766 -0M6.73474 -0.458281C7.04359 -0.169365 7.48194 0.109589 8.0797 0.109589C9.04608 0.109589 9.92279 -0.86675 9.92279 -2.22167C9.92279 -3.41719 9.29514 -4.533 8.33873 -4.533C7.74097 -4.533 7.16314 -4.32379 6.70486 -3.93524L6.70486 -4.42341L5.95766 -4.42341L5.95766 1.93275L6.73474 1.93275ZM6.73474 1.93275M6.73474 -3.31756C6.97385 -3.66625 7.36239 -3.89539 7.79078 -3.89539C8.54795 -3.89539 9.1457 -3.13823 9.1457 -2.22167C9.1457 -1.19552 8.43836 -0.498132 7.69116 -0.498132C7.30262 -0.498132 7.03362 -0.697385 6.83437 -0.966376C6.73474 -1.11582 6.73474 -1.13574 6.73474 -1.31507ZM6.73474 -1.31507\" fill=\"black\"/>\n",
       "  <path d=\"M10.8704 -0M15.244 -2.19178C15.244 -3.52677 14.2477 -4.59278 13.0621 -4.59278C11.8367 -4.59278 10.8704 -3.49689 10.8704 -2.19178C10.8704 -0.876712 11.8866 0.109589 13.0522 0.109589C14.2477 0.109589 15.244 -0.896638 15.244 -2.19178ZM15.244 -2.19178M13.0522 -0.52802C12.3648 -0.52802 11.6475 -1.08593 11.6475 -2.29141C11.6475 -3.49689 12.4046 -3.98506 13.0522 -3.98506C13.7496 -3.98506 14.4669 -3.467 14.4669 -2.29141C14.4669 -1.11582 13.7894 -0.52802 13.0522 -0.52802ZM13.0522 -0.52802\" fill=\"black\"/>\n",
       "  <path d=\"M16.093 -0M16.8402 -2.132C16.8402 -3.12827 17.5575 -3.84558 18.5339 -3.8655L18.5339 -4.533C17.6472 -4.52304 17.0992 -4.03487 16.7904 -3.57659L16.7904 -4.48319L16.093 -4.48319L16.093 -0L16.8402 -0ZM16.8402 -0M18.8626 -0M20.4168 -3.84558L21.8215 -3.84558L21.8215 -4.42341L20.4168 -4.42341L20.4168 -5.68867L19.7294 -5.68867L19.7294 -4.42341L18.8626 -4.42341L18.8626 -3.84558L19.6995 -3.84558L19.6995 -1.18555C19.6995 -0.587796 19.839 0.109589 20.5264 0.109589C21.2238 0.109589 21.7319 -0.139477 21.9809 -0.268991L21.8215 -0.856787C21.5625 -0.647572 21.2437 -0.52802 20.9249 -0.52802C20.5563 -0.52802 20.4168 -0.826899 20.4168 -1.35492ZM20.4168 -1.35492\" fill=\"black\"/>\n",
       " </g>\n",
       " <g transform=\"matrix(1.000000,0.000000,0.000000,1.000000,124.724409,-249.448819)\">\n",
       "  <path d=\"M-7.39631 -0M-7.28273 -0.508095C-7.34251 -0.448319 -7.34251 -0.436364 -7.34251 -0.334745L-7.34251 -0.286924C-7.34251 -0.071731 -7.27675 -0 -7.05558 -0L-5.00527 -0C-4.77812 -0 -4.71835 -0.0777086 -4.71835 -0.286924L-4.71835 -0.358655C-4.71835 -0.454296 -4.71835 -0.56787 -4.84388 -0.621669C-4.88572 -0.645579 -5.077 -0.645579 -5.19656 -0.645579C-5.32806 -0.645579 -5.47152 -0.639601 -5.60303 -0.639601L-6.5714 -0.639601L-5.78236 -1.3868C-5.6927 -1.46451 -5.46555 -1.64981 -5.37588 -1.7335C-5.04712 -2.05629 -4.71835 -2.3731 -4.71835 -2.90511C-4.71835 -3.63437 -5.24438 -4.27995 -6.12308 -4.27995C-6.3323 -4.27995 -6.67302 -4.25006 -6.95994 -4.01694C-7.01374 -3.97509 -7.28871 -3.7599 -7.39631 -3.3594L-7.09743 -2.97684C-7.06156 -2.92902 -7.04363 -2.90511 -7.00179 -2.90511C-6.94799 -2.90511 -6.93603 -2.94695 -6.9181 -3.01868C-6.79855 -3.43113 -6.59531 -3.68219 -6.21274 -3.68219C-5.74649 -3.68219 -5.55521 -3.25778 -5.55521 -2.89315C-5.55521 -2.51059 -5.78236 -2.11009 -6.14101 -1.72752ZM-6.14101 -1.72752M-3.83964 -0M-3.55272 -4.14844C-3.76791 -4.14844 -3.83964 -4.08269 -3.83964 -3.86152L-3.83964 -0.286924C-3.83964 -0.071731 -3.77389 -0 -3.55272 -0L-1.91486 -0C-1.47252 -0 -0.372645 -0.0777086 -0.372645 -1.15965C-0.372645 -2.00249 -1.20353 -2.134 -1.4247 -2.16986C-0.874762 -2.29539 -0.55795 -2.60623 -0.55795 -3.07248C-0.55795 -4.14844 -1.83118 -4.14844 -2.08223 -4.14844ZM-2.08223 -4.14844M-2.9968 -2.3731L-2.9968 -3.63437L-2.29743 -3.63437C-2.0643 -3.63437 -1.3709 -3.61644 -1.3709 -3.05455C-1.3709 -2.3731 -2.15397 -2.3731 -2.3034 -2.3731ZM-2.3034 -2.3731M-2.9968 -0.514072L-2.9968 -1.94271L-2.24363 -1.94271C-2.03441 -1.94271 -1.20353 -1.94271 -1.20353 -1.17161C-1.20353 -0.555915 -1.84313 -0.514072 -2.13006 -0.514072ZM-2.13006 -0.514072\" fill=\"black\"/>\n",
       " </g>\n",
       " <g transform=\"matrix(1.000000,0.000000,0.000000,1.000000,127.559055,-249.448819)\">\n",
       "  <path d=\"M0.358655 -0M4.32379 -6.91407L3.57659 -6.91407L3.57659 -3.98506C3.04857 -4.42341 2.49066 -4.533 2.12204 -4.533C1.13574 -4.533 0.358655 -3.49689 0.358655 -2.21171C0.358655 -0.9066 1.12578 0.109589 2.07223 0.109589C2.401 0.109589 2.98879 0.0199253 3.5467 -0.518057L3.5467 -0L4.32379 -0ZM4.32379 -0M3.5467 -1.38481C3.5467 -1.24533 3.53674 -1.066 3.21793 -0.777086C2.98879 -0.577833 2.73973 -0.498132 2.4807 -0.498132C1.86301 -0.498132 1.13574 -0.966376 1.13574 -2.20174C1.13574 -3.51681 1.99253 -3.92528 2.58032 -3.92528C3.02864 -3.92528 3.32752 -3.69614 3.5467 -3.37733ZM3.5467 -3.37733M5.4396 -0M9.8132 -2.19178C9.8132 -3.52677 8.81694 -4.59278 7.63138 -4.59278C6.40598 -4.59278 5.4396 -3.49689 5.4396 -2.19178C5.4396 -0.876712 6.45579 0.109589 7.62142 0.109589C8.81694 0.109589 9.8132 -0.896638 9.8132 -2.19178ZM9.8132 -2.19178M7.62142 -0.52802C6.934 -0.52802 6.21669 -1.08593 6.21669 -2.29141C6.21669 -3.49689 6.97385 -3.98506 7.62142 -3.98506C8.3188 -3.98506 9.03611 -3.467 9.03611 -2.29141C9.03611 -1.11582 8.35866 -0.52802 7.62142 -0.52802ZM7.62142 -0.52802M10.929 -0M17.2254 -2.96887C17.2254 -3.63636 17.066 -4.533 15.8605 -4.533C15.2628 -4.533 14.7447 -4.25405 14.3761 -3.71606C14.1171 -4.47323 13.4197 -4.533 13.1009 -4.533C12.3836 -4.533 11.9153 -4.12453 11.6463 -3.76588L11.6463 -4.48319L10.929 -4.48319L10.929 -0L11.7061 -0L11.7061 -2.44085C11.7061 -3.11831 11.9751 -3.92528 12.7123 -3.92528C13.6389 -3.92528 13.6887 -3.27771 13.6887 -2.89913L13.6887 -0L14.4658 -0L14.4658 -2.44085C14.4658 -3.11831 14.7347 -3.92528 15.472 -3.92528C16.3985 -3.92528 16.4483 -3.27771 16.4483 -2.89913L16.4483 -0L17.2254 -0ZM17.2254 -0M18.4707 -0M22.0075 -2.8792C22.0075 -3.89539 21.2802 -4.59278 20.3636 -4.59278C19.7161 -4.59278 19.2677 -4.43337 18.7995 -4.16438L18.8593 -3.50685C19.3773 -3.87547 19.8755 -4.00498 20.3636 -4.00498C20.8319 -4.00498 21.2304 -3.60648 21.2304 -2.86924L21.2304 -2.44085C19.736 -2.42092 18.4707 -2.00249 18.4707 -1.12578C18.4707 -0.697385 18.7397 0.109589 19.6065 0.109589C19.746 0.109589 20.6824 0.0896638 21.2603 -0.358655L21.2603 -0L22.0075 -0ZM22.0075 -0M21.2304 -1.31507C21.2304 -1.12578 21.2304 -0.876712 20.8917 -0.687422C20.6027 -0.508095 20.2242 -0.498132 20.1146 -0.498132C19.6364 -0.498132 19.188 -0.727273 19.188 -1.1457C19.188 -1.84309 20.802 -1.91283 21.2304 -1.93275ZM21.2304 -1.93275M23.5517 -0M24.4384 -6.7746L23.5517 -6.7746L23.5517 -5.88792L24.4384 -5.88792ZM24.4384 -5.88792M24.3686 -4.42341L23.6214 -4.42341L23.6214 -0L24.3686 -0ZM24.3686 -0M25.9925 -0M29.5193 -2.96887C29.5193 -3.6264 29.3699 -4.533 28.1544 -4.533C27.2578 -4.533 26.7696 -3.85554 26.7098 -3.77584L26.7098 -4.48319L25.9925 -4.48319L25.9925 -0L26.7696 -0L26.7696 -2.44085C26.7696 -3.09838 27.0187 -3.92528 27.7758 -3.92528C28.7323 -3.92528 28.7422 -3.21793 28.7422 -2.89913L28.7422 -0L29.5193 -0ZM29.5193 -0\" fill=\"black\"/>\n",
       " </g>\n",
       " <g stroke-width=\"0.400879\">\n",
       "  <path d=\"M137.522 -241.402C269.533 -242.767 416.616 -298.454 421.157 -427.732\" stroke=\"#337f33\"/>\n",
       "  <g stroke-linecap=\"butt\" stroke-dasharray=\"none\">\n",
       "   <path d=\"M419.501 -426.996C420.093 -428.271 420.672 -429.561 421.239 -430.866C421.761 -429.543 422.263 -428.221 422.747 -426.901L421.157 -427.732Z\" fill=\"#337f33\"/>\n",
       "  </g>\n",
       " </g>\n",
       " <g stroke-width=\"1.133858\">\n",
       "  <path d=\"M407.189 -429.866L435.341 -429.866L435.341 -437.954L407.189 -437.954Z\" stroke=\"#337f33\" fill=\"#9ff\"/>\n",
       " </g>\n",
       " <g transform=\"matrix(1.000000,0.000000,0.000000,1.000000,408.188976,-430.866142)\">\n",
       "  <path d=\"M0.498132 -0M4.72229 -3.03861C4.72229 -4.89166 3.7061 -6.19676 2.61021 -6.19676C1.4944 -6.19676 0.498132 -4.86177 0.498132 -3.04857C0.498132 -1.19552 1.51432 0.109589 2.61021 0.109589C3.72603 0.109589 4.72229 -1.2254 4.72229 -3.03861ZM4.72229 -3.03861M2.61021 -0.498132C1.83313 -0.498132 1.18555 -1.67372 1.18555 -3.14819C1.18555 -4.60274 1.87298 -5.58904 2.61021 -5.58904C3.33748 -5.58904 4.03487 -4.6127 4.03487 -3.14819C4.03487 -1.67372 3.3873 -0.498132 2.61021 -0.498132ZM2.61021 -0.498132M5.72852 -0M9.95268 -3.03861C9.95268 -4.89166 8.93649 -6.19676 7.8406 -6.19676C6.72478 -6.19676 5.72852 -4.86177 5.72852 -3.04857C5.72852 -1.19552 6.74471 0.109589 7.8406 0.109589C8.95641 0.109589 9.95268 -1.2254 9.95268 -3.03861ZM9.95268 -3.03861M7.8406 -0.498132C7.06351 -0.498132 6.41594 -1.67372 6.41594 -3.14819C6.41594 -4.60274 7.10336 -5.58904 7.8406 -5.58904C8.56787 -5.58904 9.26526 -4.6127 9.26526 -3.14819C9.26526 -1.67372 8.61768 -0.498132 7.8406 -0.498132ZM7.8406 -0.498132\" fill=\"black\"/>\n",
       "  <path d=\"M16.2091 -0M16.3585 -0.577833C16.2689 -0.498132 16.2091 -0.448319 16.2091 -0.308842C16.2091 -0 16.4581 -0 16.6175 -0L19.9949 -0C20.3236 -0 20.3934 -0.0896638 20.3934 -0.408468L20.3934 -0.667497C20.3934 -0.856787 20.3934 -1.07597 20.0547 -1.07597C19.706 -1.07597 19.706 -0.886675 19.706 -0.607721L17.3349 -0.607721C17.9227 -1.11582 18.8791 -1.86301 19.3075 -2.26152C19.9351 -2.81943 20.3934 -3.45704 20.3934 -4.25405C20.3934 -5.44956 19.3872 -6.19676 18.1717 -6.19676C16.9961 -6.19676 16.2091 -5.37983 16.2091 -4.533C16.2091 -4.16438 16.488 -4.05479 16.6574 -4.05479C16.8666 -4.05479 17.0958 -4.22416 17.0958 -4.50311C17.0958 -4.62267 17.0459 -4.75218 16.9563 -4.82192C17.1057 -5.2802 17.574 -5.58904 18.1219 -5.58904C18.9388 -5.58904 19.706 -5.13076 19.706 -4.25405C19.706 -3.55666 19.2178 -2.97883 18.5603 -2.43088ZM18.5603 -2.43088M21.4494 -0M24.9065 -2.7198C24.8068 -1.48443 24.0298 -0.498132 23.0733 -0.498132C22.9837 -0.498132 22.625 -0.508095 22.4158 -0.667497C22.4557 -0.71731 22.5055 -0.777086 22.5055 -0.946451C22.5055 -1.18555 22.3261 -1.38481 22.0671 -1.38481C21.818 -1.38481 21.6188 -1.21544 21.6188 -0.916563C21.6188 -0.597758 21.7981 0.109589 23.0733 0.109589C24.3884 0.109589 25.6138 -1.13574 25.6138 -3.10834C25.6138 -5.50934 24.508 -6.19676 23.5615 -6.19676C22.4557 -6.19676 21.4494 -5.36986 21.4494 -4.16438C21.4494 -3.02864 22.3261 -2.14197 23.422 -2.14197C23.9401 -2.14197 24.4581 -2.31133 24.9065 -2.7198ZM24.9065 -2.7198M23.4718 -2.75965C22.6649 -2.75965 22.1368 -3.42715 22.1368 -4.16438C22.1368 -5.03113 22.8442 -5.58904 23.5615 -5.58904C23.9899 -5.58904 24.2689 -5.3599 24.4283 -5.16065C24.6873 -4.83188 24.8068 -4.32379 24.8068 -4.26401C24.8068 -4.24408 24.7969 -4.22416 24.7969 -4.17435C24.7969 -4.12453 24.8367 -3.96513 24.8367 -3.87547C24.8367 -3.32752 24.2987 -2.75965 23.4718 -2.75965ZM23.4718 -2.75965\" fill=\"black\"/>\n",
       " </g>\n",
       " <g transform=\"matrix(1.000000,0.000000,0.000000,1.000000,28.346457,-238.110236)\">\n",
       "  <path d=\"M0.806974 -0M1.55417 -6.91407L0.806974 -6.91407L0.806974 -0L1.55417 -0ZM1.55417 -0M2.7198 -0M6.49564 -2.18182C6.49564 -2.52055 6.48568 -3.26775 6.09714 -3.8655C5.68867 -4.48319 5.08095 -4.59278 4.72229 -4.59278C3.61644 -4.59278 2.7198 -3.53674 2.7198 -2.25156C2.7198 -0.936488 3.67621 0.109589 4.87173 0.109589C5.49938 0.109589 6.06725 -0.129514 6.45579 -0.408468L6.39601 -1.05604C5.76837 -0.537983 5.11083 -0.498132 4.88169 -0.498132C4.08468 -0.498132 3.44707 -1.20548 3.41719 -2.18182ZM3.41719 -2.18182M3.467 -2.72976C3.6264 -3.48692 4.15442 -3.98506 4.72229 -3.98506C5.24035 -3.98506 5.79826 -3.64633 5.92777 -2.72976ZM5.92777 -2.72976M7.60149 -0M11.1283 -2.96887C11.1283 -3.6264 10.9788 -4.533 9.76339 -4.533C8.86675 -4.533 8.37858 -3.85554 8.3188 -3.77584L8.3188 -4.48319L7.60149 -4.48319L7.60149 -0L8.37858 -0L8.37858 -2.44085C8.37858 -3.09838 8.62765 -3.92528 9.38481 -3.92528C10.3412 -3.92528 10.3512 -3.21793 10.3512 -2.89913L10.3512 -0L11.1283 -0ZM11.1283 -0\" fill=\"black\"/>\n",
       " </g>\n",
       " <g transform=\"matrix(1.000000,0.000000,0.000000,1.000000,124.724409,-238.110236)\">\n",
       "  <path d=\"M-7.39631 -0M-7.28273 -0.508095C-7.34251 -0.448319 -7.34251 -0.436364 -7.34251 -0.334745L-7.34251 -0.286924C-7.34251 -0.071731 -7.27675 -0 -7.05558 -0L-5.00527 -0C-4.77812 -0 -4.71835 -0.0777086 -4.71835 -0.286924L-4.71835 -0.358655C-4.71835 -0.454296 -4.71835 -0.56787 -4.84388 -0.621669C-4.88572 -0.645579 -5.077 -0.645579 -5.19656 -0.645579C-5.32806 -0.645579 -5.47152 -0.639601 -5.60303 -0.639601L-6.5714 -0.639601L-5.78236 -1.3868C-5.6927 -1.46451 -5.46555 -1.64981 -5.37588 -1.7335C-5.04712 -2.05629 -4.71835 -2.3731 -4.71835 -2.90511C-4.71835 -3.63437 -5.24438 -4.27995 -6.12308 -4.27995C-6.3323 -4.27995 -6.67302 -4.25006 -6.95994 -4.01694C-7.01374 -3.97509 -7.28871 -3.7599 -7.39631 -3.3594L-7.09743 -2.97684C-7.06156 -2.92902 -7.04363 -2.90511 -7.00179 -2.90511C-6.94799 -2.90511 -6.93603 -2.94695 -6.9181 -3.01868C-6.79855 -3.43113 -6.59531 -3.68219 -6.21274 -3.68219C-5.74649 -3.68219 -5.55521 -3.25778 -5.55521 -2.89315C-5.55521 -2.51059 -5.78236 -2.11009 -6.14101 -1.72752ZM-6.14101 -1.72752M-3.83964 -0M-3.55272 -4.14844C-3.76791 -4.14844 -3.83964 -4.08269 -3.83964 -3.86152L-3.83964 -0.286924C-3.83964 -0.071731 -3.77389 -0 -3.55272 -0L-1.91486 -0C-1.47252 -0 -0.372645 -0.0777086 -0.372645 -1.15965C-0.372645 -2.00249 -1.20353 -2.134 -1.4247 -2.16986C-0.874762 -2.29539 -0.55795 -2.60623 -0.55795 -3.07248C-0.55795 -4.14844 -1.83118 -4.14844 -2.08223 -4.14844ZM-2.08223 -4.14844M-2.9968 -2.3731L-2.9968 -3.63437L-2.29743 -3.63437C-2.0643 -3.63437 -1.3709 -3.61644 -1.3709 -3.05455C-1.3709 -2.3731 -2.15397 -2.3731 -2.3034 -2.3731ZM-2.3034 -2.3731M-2.9968 -0.514072L-2.9968 -1.94271L-2.24363 -1.94271C-2.03441 -1.94271 -1.20353 -1.94271 -1.20353 -1.17161C-1.20353 -0.555915 -1.84313 -0.514072 -2.13006 -0.514072ZM-2.13006 -0.514072\" fill=\"black\"/>\n",
       " </g>\n",
       " <g transform=\"matrix(1.000000,0.000000,0.000000,1.000000,127.559055,-238.110236)\">\n",
       "  <path d=\"M0.278954 -0M3.7061 -1.70361L4.6924 -1.70361L4.6924 -2.31133L3.7061 -2.31133L3.7061 -6.53549L2.7995 -6.53549L0.278954 -2.31133L0.278954 -1.70361L2.91905 -1.70361L2.91905 -0L3.7061 -0ZM3.7061 -0M1.05604 -2.31133C1.5741 -3.16812 2.97883 -5.52927 2.97883 -6.09714L2.97883 -2.31133ZM2.97883 -2.31133M5.868 -0M7.96015 -6.75467L7.7609 -6.75467C7.1731 -6.14695 6.3462 -6.11706 5.868 -6.09714L5.868 -5.5193C6.19676 -5.52927 6.67497 -5.54919 7.1731 -5.75841L7.1731 -0.577833L5.92777 -0.577833L5.92777 -0L9.20548 -0L9.20548 -0.577833L7.96015 -0.577833ZM7.96015 -0.577833\" fill=\"black\"/>\n",
       " </g>\n",
       " <g stroke-width=\"0.400879\">\n",
       "  <path d=\"M157.392 -230.439C296.154 -234.313 447.863 -292.442 452.344 -427.731\" stroke=\"#c3c\"/>\n",
       "  <g stroke-linecap=\"butt\" stroke-dasharray=\"none\">\n",
       "   <path d=\"M450.69 -426.993C451.279 -428.27 451.856 -429.561 452.421 -430.866C452.944 -429.544 453.449 -428.223 453.936 -426.903L452.344 -427.731Z\" fill=\"#c3c\"/>\n",
       "  </g>\n",
       " </g>\n",
       " <g stroke-width=\"1.133858\">\n",
       "  <path d=\"M438.37 -429.866L466.522 -429.866L466.522 -437.954L438.37 -437.954Z\" stroke=\"#c3c\" fill=\"#9ff\"/>\n",
       " </g>\n",
       " <g transform=\"matrix(1.000000,0.000000,0.000000,1.000000,439.370079,-430.866142)\">\n",
       "  <path d=\"M0.119552 -0M1.6538 -3.8655L1.6538 -5.6787C1.6538 -5.98755 1.59402 -6.08717 1.25529 -6.08717L0.52802 -6.08717C0.368618 -6.08717 0.119552 -6.08717 0.119552 -5.77833C0.119552 -5.47945 0.37858 -5.47945 0.518057 -5.47945L0.966376 -5.47945L0.966376 -0.408468C0.966376 -0.209215 0.966376 -0 1.31507 -0C1.6538 -0 1.6538 -0.199253 1.6538 -0.448319C2.06227 -0.0298879 2.49066 0.0597758 2.80946 0.0597758C3.89539 0.0597758 4.86177 -0.886675 4.86177 -2.15193C4.86177 -3.37733 3.97509 -4.35367 2.91905 -4.35367C2.44085 -4.35367 1.99253 -4.17435 1.6538 -3.8655ZM1.6538 -3.8655M1.6538 -1.90286L1.6538 -2.63014C1.6538 -3.21793 2.23163 -3.74595 2.85928 -3.74595C3.59651 -3.74595 4.17435 -3.01868 4.17435 -2.15193C4.17435 -1.19552 3.47696 -0.547945 2.77958 -0.547945C2.00249 -0.547945 1.6538 -1.42466 1.6538 -1.90286ZM1.6538 -1.90286M5.75841 -0M6.46575 -3.36737C6.60523 -4.7721 7.54172 -5.58904 8.41843 -5.58904C8.75716 -5.58904 8.91656 -5.47945 8.96638 -5.42964C8.91656 -5.37983 8.86675 -5.32005 8.86675 -5.14072C8.86675 -4.90162 9.04608 -4.70237 9.30511 -4.70237C9.55417 -4.70237 9.75342 -4.87173 9.75342 -5.17061C9.75342 -5.65878 9.39477 -6.19676 8.42839 -6.19676C7.0934 -6.19676 5.75841 -4.99128 5.75841 -2.97883C5.75841 -0.617684 6.87422 0.109589 7.86052 0.109589C8.94645 0.109589 9.92279 -0.727273 9.92279 -1.92279C9.92279 -3.05853 9.04608 -3.94521 7.95019 -3.94521C7.43213 -3.94521 6.91407 -3.77584 6.46575 -3.36737ZM6.46575 -3.36737M7.86052 -0.498132C7.21295 -0.498132 6.82441 -0.986301 6.62516 -1.59402C6.60523 -1.6538 6.59527 -1.71357 6.57534 -1.77335C6.57534 -1.77335 6.56538 -1.8132 6.56538 -1.8132C6.56538 -1.8132 6.57534 -1.90286 6.57534 -1.90286C6.56538 -1.9726 6.54545 -2.14197 6.54545 -2.21171C6.54545 -2.82939 7.14321 -3.32752 7.90037 -3.32752C8.70735 -3.32752 9.23537 -2.66002 9.23537 -1.92279C9.23537 -1.066 8.57783 -0.498132 7.86052 -0.498132ZM7.86052 -0.498132\" fill=\"black\"/>\n",
       "  <path d=\"M16.0497 -0M19.2576 -0.498132C19.2576 -0.139477 19.2576 -0 19.6562 -0L20.3834 -0C20.5428 -0 20.7919 -0 20.7919 -0.308842C20.7919 -0.607721 20.5329 -0.607721 20.3934 -0.607721L19.9451 -0.607721L19.9451 -5.6787C19.9451 -5.98755 19.8853 -6.08717 19.5466 -6.08717L18.8193 -6.08717C18.6599 -6.08717 18.4108 -6.08717 18.4108 -5.77833C18.4108 -5.47945 18.6699 -5.47945 18.8093 -5.47945L19.2576 -5.47945L19.2576 -3.90535C18.9289 -4.19427 18.5204 -4.35367 18.092 -4.35367C17.0061 -4.35367 16.0497 -3.40722 16.0497 -2.14197C16.0497 -0.9066 16.9463 0.0597758 18.0024 0.0597758C18.5603 0.0597758 18.9787 -0.209215 19.2576 -0.498132ZM19.2576 -0.498132M19.2576 -2.6401L19.2576 -1.93275C19.2576 -1.37484 18.8093 -0.547945 18.0422 -0.547945C17.3349 -0.547945 16.7371 -1.25529 16.7371 -2.14197C16.7371 -3.09838 17.4345 -3.74595 18.1319 -3.74595C18.7695 -3.74595 19.2576 -3.18804 19.2576 -2.6401ZM19.2576 -2.6401M21.3598 -0M24.5777 -3.32752C25.1356 -3.68618 25.4146 -4.25405 25.4146 -4.79203C25.4146 -5.52927 24.6873 -6.19676 23.5416 -6.19676C22.3461 -6.19676 21.6487 -5.71856 21.6487 -5.03113C21.6487 -4.70237 21.8977 -4.56289 22.097 -4.56289C22.3062 -4.56289 22.5354 -4.73225 22.5354 -5.01121C22.5354 -5.15068 22.4756 -5.25031 22.4457 -5.2802C22.7545 -5.58904 23.4619 -5.58904 23.5515 -5.58904C24.229 -5.58904 24.7271 -5.23039 24.7271 -4.78207C24.7271 -4.48319 24.5777 -4.1345 24.3087 -3.91532C23.9899 -3.65629 23.7408 -3.63636 23.3822 -3.61644C22.8143 -3.57659 22.6649 -3.57659 22.6649 -3.28767C22.6649 -2.97883 22.904 -2.97883 23.0634 -2.97883L23.5217 -2.97883C24.508 -2.97883 25.0161 -2.31133 25.0161 -1.7335C25.0161 -1.12578 24.4581 -0.498132 23.5515 -0.498132C23.153 -0.498132 22.3859 -0.607721 22.1269 -1.07597C22.1767 -1.12578 22.2464 -1.18555 22.2464 -1.38481C22.2464 -1.62391 22.0571 -1.82316 21.8081 -1.82316C21.5789 -1.82316 21.3598 -1.67372 21.3598 -1.35492C21.3598 -0.468244 22.3261 0.109589 23.5515 0.109589C24.8567 0.109589 25.7035 -0.806974 25.7035 -1.7335C25.7035 -2.44085 25.2352 -3.02864 24.5777 -3.32752ZM24.5777 -3.32752\" fill=\"black\"/>\n",
       " </g>\n",
       " <g transform=\"matrix(1.000000,0.000000,0.000000,1.000000,28.346457,-226.771654)\">\n",
       "  <path d=\"M0.358655 -0M4.08468 -4.16438C3.49689 -4.50311 3.15816 -4.59278 2.55044 -4.59278C1.16563 -4.59278 0.358655 -3.3873 0.358655 -2.21171C0.358655 -0.976339 1.26526 0.109589 2.51059 0.109589C3.04857 0.109589 3.59651 -0.0298879 4.1345 -0.398506L4.07472 -1.066C3.56663 -0.667497 3.02864 -0.52802 2.52055 -0.52802C1.69365 -0.52802 1.13574 -1.24533 1.13574 -2.22167C1.13574 -2.99875 1.50436 -3.95517 2.5604 -3.95517C3.07846 -3.95517 3.41719 -3.87547 3.96513 -3.51681ZM3.96513 -3.51681M5.23039 -0M8.75716 -2.96887C8.75716 -3.6264 8.60772 -4.533 7.39228 -4.533C6.7746 -4.533 6.29639 -4.22416 5.97758 -3.81569L5.97758 -6.91407L5.23039 -6.91407L5.23039 -0L6.00747 -0L6.00747 -2.44085C6.00747 -3.09838 6.25654 -3.92528 7.0137 -3.92528C7.97011 -3.92528 7.98007 -3.21793 7.98007 -2.89913L7.98007 -0L8.75716 -0ZM8.75716 -0M10.401 -0M12.3636 -2.70984L14.0374 -4.42341L13.1407 -4.42341L11.1183 -2.35118L11.1183 -6.91407L10.401 -6.91407L10.401 -0L11.0884 -0L11.0884 -1.40473L11.8854 -2.23163L13.4396 -0L14.2565 -0ZM14.2565 -0M14.7049 -0M17.8431 -4.27397C17.325 -4.51308 16.9166 -4.59278 16.4085 -4.59278C16.1594 -4.59278 14.7547 -4.59278 14.7547 -3.28767C14.7547 -2.7995 15.0436 -2.4807 15.2927 -2.29141C15.6015 -2.07223 15.8207 -2.03238 16.3686 -1.92279C16.7273 -1.85305 17.3051 -1.7335 17.3051 -1.20548C17.3051 -0.518057 16.5181 -0.518057 16.3686 -0.518057C15.5616 -0.518057 15.0037 -0.886675 14.8244 -1.00623L14.7049 -0.328767C15.0237 -0.169365 15.5716 0.109589 16.3786 0.109589C16.5579 0.109589 17.1059 0.109589 17.5342 -0.209215C17.8431 -0.448319 18.0125 -0.846824 18.0125 -1.27522C18.0125 -1.82316 17.6438 -2.16189 17.6239 -2.19178C17.2354 -2.54047 16.9664 -2.60025 16.4682 -2.68991C15.9203 -2.7995 15.462 -2.89913 15.462 -3.3873C15.462 -4.00498 16.1793 -4.00498 16.3088 -4.00498C16.6276 -4.00498 17.1557 -3.96513 17.7235 -3.6264ZM17.7235 -3.6264M19.0486 -0M22.5753 -4.42341L21.7983 -4.42341L21.7983 -1.53425C21.7983 -0.787049 21.2403 -0.438356 20.6027 -0.438356C19.8954 -0.438356 19.8257 -0.697385 19.8257 -1.12578L19.8257 -4.42341L19.0486 -4.42341L19.0486 -1.08593C19.0486 -0.368618 19.2777 0.109589 20.1046 0.109589C20.6326 0.109589 21.34 -0.0498132 21.8281 -0.478207L21.8281 -0L22.5753 -0ZM22.5753 -0M24.1893 -0M30.4857 -2.96887C30.4857 -3.63636 30.3263 -4.533 29.1208 -4.533C28.523 -4.533 28.005 -4.25405 27.6364 -3.71606C27.3773 -4.47323 26.68 -4.533 26.3611 -4.533C25.6438 -4.533 25.1756 -4.12453 24.9066 -3.76588L24.9066 -4.48319L24.1893 -4.48319L24.1893 -0L24.9664 -0L24.9664 -2.44085C24.9664 -3.11831 25.2354 -3.92528 25.9726 -3.92528C26.8991 -3.92528 26.9489 -3.27771 26.9489 -2.89913L26.9489 -0L27.726 -0L27.726 -2.44085C27.726 -3.11831 27.995 -3.92528 28.7323 -3.92528C29.6588 -3.92528 29.7086 -3.27771 29.7086 -2.89913L29.7086 -0L30.4857 -0ZM30.4857 -0\" fill=\"black\"/>\n",
       " </g>\n",
       " <g transform=\"matrix(1.000000,0.000000,0.000000,1.000000,124.724409,-226.771654)\">\n",
       "  <path d=\"M-7.39631 -0M-7.28273 -0.508095C-7.34251 -0.448319 -7.34251 -0.436364 -7.34251 -0.334745L-7.34251 -0.286924C-7.34251 -0.071731 -7.27675 -0 -7.05558 -0L-5.00527 -0C-4.77812 -0 -4.71835 -0.0777086 -4.71835 -0.286924L-4.71835 -0.358655C-4.71835 -0.454296 -4.71835 -0.56787 -4.84388 -0.621669C-4.88572 -0.645579 -5.077 -0.645579 -5.19656 -0.645579C-5.32806 -0.645579 -5.47152 -0.639601 -5.60303 -0.639601L-6.5714 -0.639601L-5.78236 -1.3868C-5.6927 -1.46451 -5.46555 -1.64981 -5.37588 -1.7335C-5.04712 -2.05629 -4.71835 -2.3731 -4.71835 -2.90511C-4.71835 -3.63437 -5.24438 -4.27995 -6.12308 -4.27995C-6.3323 -4.27995 -6.67302 -4.25006 -6.95994 -4.01694C-7.01374 -3.97509 -7.28871 -3.7599 -7.39631 -3.3594L-7.09743 -2.97684C-7.06156 -2.92902 -7.04363 -2.90511 -7.00179 -2.90511C-6.94799 -2.90511 -6.93603 -2.94695 -6.9181 -3.01868C-6.79855 -3.43113 -6.59531 -3.68219 -6.21274 -3.68219C-5.74649 -3.68219 -5.55521 -3.25778 -5.55521 -2.89315C-5.55521 -2.51059 -5.78236 -2.11009 -6.14101 -1.72752ZM-6.14101 -1.72752M-3.83964 -0M-3.55272 -4.14844C-3.76791 -4.14844 -3.83964 -4.08269 -3.83964 -3.86152L-3.83964 -0.286924C-3.83964 -0.071731 -3.77389 -0 -3.55272 -0L-1.91486 -0C-1.47252 -0 -0.372645 -0.0777086 -0.372645 -1.15965C-0.372645 -2.00249 -1.20353 -2.134 -1.4247 -2.16986C-0.874762 -2.29539 -0.55795 -2.60623 -0.55795 -3.07248C-0.55795 -4.14844 -1.83118 -4.14844 -2.08223 -4.14844ZM-2.08223 -4.14844M-2.9968 -2.3731L-2.9968 -3.63437L-2.29743 -3.63437C-2.0643 -3.63437 -1.3709 -3.61644 -1.3709 -3.05455C-1.3709 -2.3731 -2.15397 -2.3731 -2.3034 -2.3731ZM-2.3034 -2.3731M-2.9968 -0.514072L-2.9968 -1.94271L-2.24363 -1.94271C-2.03441 -1.94271 -1.20353 -1.94271 -1.20353 -1.17161C-1.20353 -0.555915 -1.84313 -0.514072 -2.13006 -0.514072ZM-2.13006 -0.514072\" fill=\"black\"/>\n",
       " </g>\n",
       " <g transform=\"matrix(1.000000,0.000000,0.000000,1.000000,127.559055,-226.771654)\">\n",
       "  <path d=\"M0.418431 -0M4.55293 -3.24782C4.55293 -4.03487 4.51308 -4.96139 4.09465 -5.76837C3.68618 -6.51557 2.99875 -6.75467 2.49066 -6.75467C1.90286 -6.75467 1.20548 -6.48568 0.797011 -5.599C0.468244 -4.87173 0.418431 -4.04483 0.418431 -3.24782C0.418431 -2.46077 0.458281 -1.7335 0.757161 -1.00623C1.15567 -0.0498132 1.91283 0.219178 2.4807 0.219178C3.20797 0.219178 3.83562 -0.18929 4.15442 -0.876712C4.4533 -1.52428 4.55293 -2.18182 4.55293 -3.24782ZM4.55293 -3.24782M2.49066 -0.388543C1.9726 -0.388543 1.56413 -0.767123 1.36488 -1.48443C1.20548 -2.0523 1.19552 -2.59029 1.19552 -3.36737C1.19552 -3.99502 1.19552 -4.59278 1.36488 -5.14072C1.42466 -5.33001 1.67372 -6.14695 2.4807 -6.14695C3.25778 -6.14695 3.51681 -5.38979 3.58655 -5.21046C3.77584 -4.65255 3.77584 -3.98506 3.77584 -3.36737C3.77584 -2.70984 3.77584 -2.08219 3.59651 -1.45455C3.33748 -0.547945 2.80946 -0.388543 2.49066 -0.388543ZM2.49066 -0.388543M4.98132 -0M7.57161 -2.28144L9.39477 -4.42341L8.57783 -4.42341L7.24284 -2.77958L5.868 -4.42341L5.0411 -4.42341L6.91407 -2.28144L4.98132 -0L5.79826 -0L7.24284 -1.87298L8.73724 -0L9.56413 -0ZM9.56413 -0M10.391 -0M11.1382 -6.91407L10.391 -6.91407L10.391 -0L11.1681 -0L11.1681 -0.458281C11.4072 -0.239103 11.8356 0.109589 12.5031 0.109589C13.4994 0.109589 14.3562 -0.886675 14.3562 -2.22167C14.3562 -3.45704 13.6787 -4.533 12.7422 -4.533C12.3537 -4.533 11.736 -4.43337 11.1382 -3.94521ZM11.1382 -3.94521M11.1681 -3.33748C11.3275 -3.57659 11.6862 -3.92528 12.2341 -3.92528C12.8219 -3.92528 13.5791 -3.49689 13.5791 -2.22167C13.5791 -0.926526 12.7422 -0.498132 12.1345 -0.498132C11.746 -0.498132 11.4172 -0.67746 11.1681 -1.13574ZM11.1681 -1.13574M15.1333 -0M18.8493 -6.55542C18.3412 -6.75467 17.9328 -6.75467 17.7933 -6.75467C16.3885 -6.75467 15.1333 -5.34994 15.1333 -3.20797C15.1333 -0.388543 16.3686 0.219178 17.2154 0.219178C17.8132 0.219178 18.2416 -0.00996264 18.6301 -0.458281C19.0785 -0.966376 19.2677 -1.42466 19.2677 -2.21171C19.2677 -3.48692 18.6102 -4.60274 17.6538 -4.60274C17.335 -4.60274 16.5778 -4.52304 15.9701 -3.77584C16.0996 -5.37983 16.8867 -6.17684 17.8032 -6.17684C18.1818 -6.17684 18.5006 -6.1071 18.8493 -5.96762ZM18.8493 -5.96762M15.9801 -2.18182C15.9801 -2.3213 15.9801 -2.34122 15.99 -2.46077C15.99 -3.19801 16.4384 -3.99502 17.2653 -3.99502C17.7435 -3.99502 18.0224 -3.74595 18.2217 -3.37733C18.4309 -3.00872 18.4508 -2.66002 18.4508 -2.21171C18.4508 -1.87298 18.4508 -1.41469 18.2117 -1.00623C18.0423 -0.727273 17.7833 -0.388543 17.2154 -0.388543C16.1594 -0.388543 16.01 -1.85305 15.9801 -2.18182ZM15.9801 -2.18182M20.0548 -0M24.0199 -6.91407L23.2727 -6.91407L23.2727 -3.98506C22.7447 -4.42341 22.1868 -4.533 21.8182 -4.533C20.8319 -4.533 20.0548 -3.49689 20.0548 -2.21171C20.0548 -0.9066 20.8219 0.109589 21.7684 0.109589C22.0971 0.109589 22.6849 0.0199253 23.2428 -0.518057L23.2428 -0L24.0199 -0ZM24.0199 -0M23.2428 -1.38481C23.2428 -1.24533 23.2329 -1.066 22.9141 -0.777086C22.6849 -0.577833 22.4359 -0.498132 22.1768 -0.498132C21.5592 -0.498132 20.8319 -0.966376 20.8319 -2.20174C20.8319 -3.51681 21.6887 -3.92528 22.2765 -3.92528C22.7248 -3.92528 23.0237 -3.69614 23.2428 -3.37733ZM23.2428 -3.37733M25.2553 -0M25.7534 -5.1208C26.0423 -5.81818 26.6899 -6.17684 27.2976 -6.17684C27.8157 -6.17684 28.3039 -5.87796 28.3039 -5.24035C28.3039 -4.63263 27.8954 -4.04483 27.2877 -3.90535C27.2279 -3.89539 27.208 -3.89539 26.5006 -3.83562L26.5006 -3.2279L27.208 -3.2279C28.2839 -3.2279 28.5031 -2.30137 28.5031 -1.80324C28.5031 -1.02615 28.0448 -0.388543 27.2777 -0.388543C26.5903 -0.388543 25.8032 -0.737235 25.3649 -1.41469L25.2553 -0.816936C25.9826 0.119552 26.8991 0.219178 27.2976 0.219178C28.5131 0.219178 29.3898 -0.747198 29.3898 -1.79328C29.3898 -2.69988 28.6924 -3.31756 28.0149 -3.52677C28.7721 -3.93524 29.1208 -4.6127 29.1208 -5.24035C29.1208 -6.09714 28.2939 -6.75467 27.3076 -6.75467C26.5405 -6.75467 25.8132 -6.35616 25.3948 -5.65878ZM25.3948 -5.65878\" fill=\"black\"/>\n",
       " </g>\n",
       " <path d=\"M26.3465 -207.764L50.1335 -207.764L50.1335 -218.682L26.3465 -218.682Z\" stroke=\"#000\" fill=\"#cc9\"/>\n",
       " <g transform=\"matrix(1.000000,0.000000,0.000000,1.000000,28.346457,-209.763780)\">\n",
       "  <path d=\"M0.956413 -0M0.956413 -6.91407L0.956413 -0L3.57659 -0C5.27024 -0 6.62516 -1.51432 6.62516 -3.39726C6.62516 -5.33001 5.2802 -6.91407 3.56663 -6.91407ZM3.56663 -6.91407M1.8132 -0.557908L1.8132 -6.35616L3.33748 -6.35616C4.73225 -6.35616 5.76837 -5.15068 5.76837 -3.39726C5.76837 -1.70361 4.73225 -0.557908 3.33748 -0.557908ZM3.33748 -0.557908M8.14944 -0M9.38481 -6.91407L8.14944 -6.91407L8.14944 -0L8.92653 -0L8.92653 -6.20672L8.93649 -6.20672C9.12578 -5.79826 9.54421 -4.95143 9.60399 -4.84184L12.0448 -0L13.2802 -0L13.2802 -6.91407L12.5031 -6.91407L12.5031 -0.707347L12.4932 -0.707347C12.3039 -1.11582 11.8854 -1.96264 11.8257 -2.07223ZM11.8257 -2.07223M14.6849 -0M18.8792 -6.63512C18.3313 -6.96389 17.7833 -7.13325 17.056 -7.13325C15.6712 -7.13325 14.8045 -6.15691 14.8045 -5.17061C14.8045 -4.74222 14.944 -4.32379 15.3425 -3.90535C15.7609 -3.45704 16.1993 -3.33748 16.787 -3.19801C17.6339 -2.98879 17.7335 -2.9589 18.0125 -2.70984C18.2117 -2.54047 18.4309 -2.21171 18.4309 -1.78331C18.4309 -1.12578 17.8829 -0.468244 16.9763 -0.468244C16.5679 -0.468244 15.6712 -0.56787 14.8344 -1.27522L14.6849 -0.468244C15.5616 0.0797011 16.3587 0.219178 16.9863 0.219178C18.3014 0.219178 19.2179 -0.787049 19.2179 -1.88294C19.2179 -2.53051 18.9091 -3.00872 18.6899 -3.24782C18.2217 -3.74595 17.8929 -3.83562 16.9763 -4.06476C16.3985 -4.20423 16.2391 -4.24408 15.9402 -4.50311C15.8705 -4.56289 15.5915 -4.85181 15.5915 -5.29016C15.5915 -5.87796 16.1295 -6.47572 17.0461 -6.47572C17.8829 -6.47572 18.3611 -6.14695 18.7298 -5.83811ZM18.7298 -5.83811\" fill=\"black\"/>\n",
       " </g>\n",
       " <g stroke-width=\"0.400879\">\n",
       "  <path d=\"M132.54 -201.696C294.84 -202.361 478.91 -268.07 483.538 -427.731\" stroke=\"#cc7f33\"/>\n",
       "  <g stroke-linecap=\"butt\" stroke-dasharray=\"none\">\n",
       "   <path d=\"M481.888 -426.987C482.47 -428.268 483.043 -429.561 483.606 -430.866C484.131 -429.545 484.64 -428.226 485.134 -426.908L483.538 -427.731Z\" fill=\"#cc7f33\"/>\n",
       "  </g>\n",
       " </g>\n",
       " <g stroke-width=\"1.133858\">\n",
       "  <path d=\"M469.551 -429.866L497.703 -429.866L497.703 -437.954L469.551 -437.954Z\" stroke=\"#cc7f33\" fill=\"#cc9\"/>\n",
       " </g>\n",
       " <g transform=\"matrix(1.000000,0.000000,0.000000,1.000000,470.551181,-430.866142)\">\n",
       "  <path d=\"M0.498132 -0M4.72229 -3.03861C4.72229 -4.89166 3.7061 -6.19676 2.61021 -6.19676C1.4944 -6.19676 0.498132 -4.86177 0.498132 -3.04857C0.498132 -1.19552 1.51432 0.109589 2.61021 0.109589C3.72603 0.109589 4.72229 -1.2254 4.72229 -3.03861ZM4.72229 -3.03861M2.61021 -0.498132C1.83313 -0.498132 1.18555 -1.67372 1.18555 -3.14819C1.18555 -4.60274 1.87298 -5.58904 2.61021 -5.58904C3.33748 -5.58904 4.03487 -4.6127 4.03487 -3.14819C4.03487 -1.67372 3.3873 -0.498132 2.61021 -0.498132ZM2.61021 -0.498132M5.72852 -0M9.95268 -3.03861C9.95268 -4.89166 8.93649 -6.19676 7.8406 -6.19676C6.72478 -6.19676 5.72852 -4.86177 5.72852 -3.04857C5.72852 -1.19552 6.74471 0.109589 7.8406 0.109589C8.95641 0.109589 9.95268 -1.2254 9.95268 -3.03861ZM9.95268 -3.03861M7.8406 -0.498132C7.06351 -0.498132 6.41594 -1.67372 6.41594 -3.14819C6.41594 -4.60274 7.10336 -5.58904 7.8406 -5.58904C8.56787 -5.58904 9.26526 -4.6127 9.26526 -3.14819C9.26526 -1.67372 8.61768 -0.498132 7.8406 -0.498132ZM7.8406 -0.498132\" fill=\"black\"/>\n",
       "  <path d=\"M16.1892 -0M20.4133 -3.03861C20.4133 -4.89166 19.3971 -6.19676 18.3012 -6.19676C17.1854 -6.19676 16.1892 -4.86177 16.1892 -3.04857C16.1892 -1.19552 17.2053 0.109589 18.3012 0.109589C19.417 0.109589 20.4133 -1.2254 20.4133 -3.03861ZM20.4133 -3.03861M18.3012 -0.498132C17.5241 -0.498132 16.8766 -1.67372 16.8766 -3.14819C16.8766 -4.60274 17.564 -5.58904 18.3012 -5.58904C19.0285 -5.58904 19.7259 -4.6127 19.7259 -3.14819C19.7259 -1.67372 19.0783 -0.498132 18.3012 -0.498132ZM18.3012 -0.498132M21.4195 -0M25.6437 -3.03861C25.6437 -4.89166 24.6275 -6.19676 23.5316 -6.19676C22.4158 -6.19676 21.4195 -4.86177 21.4195 -3.04857C21.4195 -1.19552 22.4357 0.109589 23.5316 0.109589C24.6474 0.109589 25.6437 -1.2254 25.6437 -3.03861ZM25.6437 -3.03861M23.5316 -0.498132C22.7545 -0.498132 22.107 -1.67372 22.107 -3.14819C22.107 -4.60274 22.7944 -5.58904 23.5316 -5.58904C24.2589 -5.58904 24.9563 -4.6127 24.9563 -3.14819C24.9563 -1.67372 24.3087 -0.498132 23.5316 -0.498132ZM23.5316 -0.498132\" fill=\"black\"/>\n",
       " </g>\n",
       " <g transform=\"matrix(1.000000,0.000000,0.000000,1.000000,28.346457,-198.425197)\">\n",
       "  <path d=\"M0.737235 -0M1.62391 -6.7746L0.737235 -6.7746L0.737235 -5.88792L1.62391 -5.88792ZM1.62391 -5.88792M1.55417 -4.42341L0.806974 -4.42341L0.806974 -0L1.55417 -0ZM1.55417 -0M2.72976 -0M6.69489 -6.91407L5.9477 -6.91407L5.9477 -3.98506C5.41968 -4.42341 4.86177 -4.533 4.49315 -4.533C3.50685 -4.533 2.72976 -3.49689 2.72976 -2.21171C2.72976 -0.9066 3.49689 0.109589 4.44334 0.109589C4.7721 0.109589 5.3599 0.0199253 5.91781 -0.518057L5.91781 -0L6.69489 -0ZM6.69489 -0M5.91781 -1.38481C5.91781 -1.24533 5.90785 -1.066 5.58904 -0.777086C5.3599 -0.577833 5.11083 -0.498132 4.85181 -0.498132C4.23412 -0.498132 3.50685 -0.966376 3.50685 -2.20174C3.50685 -3.51681 4.36364 -3.92528 4.95143 -3.92528C5.39975 -3.92528 5.69863 -3.69614 5.91781 -3.37733ZM5.91781 -3.37733\" fill=\"black\"/>\n",
       " </g>\n",
       " <g transform=\"matrix(1.000000,0.000000,0.000000,1.000000,124.724409,-198.425197)\">\n",
       "  <path d=\"M-7.39631 -0M-7.28273 -0.508095C-7.34251 -0.448319 -7.34251 -0.436364 -7.34251 -0.334745L-7.34251 -0.286924C-7.34251 -0.071731 -7.27675 -0 -7.05558 -0L-5.00527 -0C-4.77812 -0 -4.71835 -0.0777086 -4.71835 -0.286924L-4.71835 -0.358655C-4.71835 -0.454296 -4.71835 -0.56787 -4.84388 -0.621669C-4.88572 -0.645579 -5.077 -0.645579 -5.19656 -0.645579C-5.32806 -0.645579 -5.47152 -0.639601 -5.60303 -0.639601L-6.5714 -0.639601L-5.78236 -1.3868C-5.6927 -1.46451 -5.46555 -1.64981 -5.37588 -1.7335C-5.04712 -2.05629 -4.71835 -2.3731 -4.71835 -2.90511C-4.71835 -3.63437 -5.24438 -4.27995 -6.12308 -4.27995C-6.3323 -4.27995 -6.67302 -4.25006 -6.95994 -4.01694C-7.01374 -3.97509 -7.28871 -3.7599 -7.39631 -3.3594L-7.09743 -2.97684C-7.06156 -2.92902 -7.04363 -2.90511 -7.00179 -2.90511C-6.94799 -2.90511 -6.93603 -2.94695 -6.9181 -3.01868C-6.79855 -3.43113 -6.59531 -3.68219 -6.21274 -3.68219C-5.74649 -3.68219 -5.55521 -3.25778 -5.55521 -2.89315C-5.55521 -2.51059 -5.78236 -2.11009 -6.14101 -1.72752ZM-6.14101 -1.72752M-3.83964 -0M-3.55272 -4.14844C-3.76791 -4.14844 -3.83964 -4.08269 -3.83964 -3.86152L-3.83964 -0.286924C-3.83964 -0.071731 -3.77389 -0 -3.55272 -0L-1.91486 -0C-1.47252 -0 -0.372645 -0.0777086 -0.372645 -1.15965C-0.372645 -2.00249 -1.20353 -2.134 -1.4247 -2.16986C-0.874762 -2.29539 -0.55795 -2.60623 -0.55795 -3.07248C-0.55795 -4.14844 -1.83118 -4.14844 -2.08223 -4.14844ZM-2.08223 -4.14844M-2.9968 -2.3731L-2.9968 -3.63437L-2.29743 -3.63437C-2.0643 -3.63437 -1.3709 -3.61644 -1.3709 -3.05455C-1.3709 -2.3731 -2.15397 -2.3731 -2.3034 -2.3731ZM-2.3034 -2.3731M-2.9968 -0.514072L-2.9968 -1.94271L-2.24363 -1.94271C-2.03441 -1.94271 -1.20353 -1.94271 -1.20353 -1.17161C-1.20353 -0.555915 -1.84313 -0.514072 -2.13006 -0.514072ZM-2.13006 -0.514072\" fill=\"black\"/>\n",
       " </g>\n",
       " <g transform=\"matrix(1.000000,0.000000,0.000000,1.000000,127.559055,-198.425197)\">\n",
       "  <path d=\"M0.418431 -0M4.55293 -3.24782C4.55293 -4.03487 4.51308 -4.96139 4.09465 -5.76837C3.68618 -6.51557 2.99875 -6.75467 2.49066 -6.75467C1.90286 -6.75467 1.20548 -6.48568 0.797011 -5.599C0.468244 -4.87173 0.418431 -4.04483 0.418431 -3.24782C0.418431 -2.46077 0.458281 -1.7335 0.757161 -1.00623C1.15567 -0.0498132 1.91283 0.219178 2.4807 0.219178C3.20797 0.219178 3.83562 -0.18929 4.15442 -0.876712C4.4533 -1.52428 4.55293 -2.18182 4.55293 -3.24782ZM4.55293 -3.24782M2.49066 -0.388543C1.9726 -0.388543 1.56413 -0.767123 1.36488 -1.48443C1.20548 -2.0523 1.19552 -2.59029 1.19552 -3.36737C1.19552 -3.99502 1.19552 -4.59278 1.36488 -5.14072C1.42466 -5.33001 1.67372 -6.14695 2.4807 -6.14695C3.25778 -6.14695 3.51681 -5.38979 3.58655 -5.21046C3.77584 -4.65255 3.77584 -3.98506 3.77584 -3.36737C3.77584 -2.70984 3.77584 -2.08219 3.59651 -1.45455C3.33748 -0.547945 2.80946 -0.388543 2.49066 -0.388543ZM2.49066 -0.388543\" fill=\"black\"/>\n",
       " </g>\n",
       " <g transform=\"matrix(1.000000,0.000000,0.000000,1.000000,28.346457,-187.086614)\">\n",
       "  <path d=\"M0.358655 -0M4.32379 -4.533L3.57659 -4.533L3.57659 -3.85554C3.47696 -3.98506 2.98879 -4.533 2.21171 -4.533C1.21544 -4.533 0.358655 -3.5467 0.358655 -2.20174C0.358655 -0.936488 1.08593 0.109589 2.04234 0.109589C2.60025 0.109589 3.12827 -0.119552 3.5467 -0.498132L3.5467 1.93275L4.32379 1.93275ZM4.32379 1.93275M3.57659 -1.39477C3.57659 -1.21544 3.57659 -1.19552 3.47696 -1.066C3.21793 -0.667497 2.84932 -0.498132 2.49066 -0.498132C1.7335 -0.498132 1.13574 -1.27522 1.13574 -2.20174C1.13574 -3.21793 1.85305 -3.89539 2.58032 -3.89539C3.26775 -3.89539 3.57659 -3.18804 3.57659 -2.78954ZM3.57659 -2.78954M5.95766 -0M6.70486 -2.132C6.70486 -3.12827 7.42217 -3.84558 8.39851 -3.8655L8.39851 -4.533C7.51183 -4.52304 6.96389 -4.03487 6.65504 -3.57659L6.65504 -4.48319L5.95766 -4.48319L5.95766 -0L6.70486 -0ZM6.70486 -0\" fill=\"black\"/>\n",
       " </g>\n",
       " <g transform=\"matrix(1.000000,0.000000,0.000000,1.000000,124.724409,-187.086614)\">\n",
       "  <path d=\"M-6.1875 -0M-4.51975 -3.99303C-4.51975 -4.1066 -4.51975 -4.27995 -4.78277 -4.27995C-4.90232 -4.27995 -4.92623 -4.268 -4.99796 -4.19626C-5.10556 -4.10062 -5.3327 -3.87945 -5.92449 -3.8675C-6.03208 -3.8675 -6.1875 -3.82565 -6.1875 -3.6523C-6.1875 -3.43711 -5.97828 -3.43711 -5.90058 -3.43711C-5.72125 -3.43711 -5.51203 -3.467 -5.33868 -3.51482L-5.33868 -0.430386L-5.80493 -0.430386C-5.88264 -0.430386 -6.09186 -0.430386 -6.09186 -0.215193C-6.09186 -0 -5.88264 -0 -5.80493 -0L-4.10132 -0C-4.03557 -0 -3.8144 -0 -3.8144 -0.215193C-3.8144 -0.430386 -4.03557 -0.430386 -4.10132 -0.430386L-4.51975 -0.430386ZM-4.51975 -0.430386M-2.98949 -0M-2.19447 -3.86152C-2.19447 -4.0528 -2.23632 -4.14844 -2.4814 -4.14844L-2.70257 -4.14844C-2.91776 -4.14844 -2.98949 -4.08269 -2.98949 -3.86152L-2.98949 -0.286924C-2.98949 -0.071731 -2.92374 -0 -2.70257 -0L-2.46346 -0C-2.36185 -0 -2.18252 -0 -2.17654 -0.233126C-1.90157 0.0657534 -1.59671 0.0657534 -1.50107 0.0657534C-0.227848 0.0657534 -0.227848 -1.08194 -0.227848 -1.38082C-0.227848 -1.66775 -0.227848 -2.80349 -1.35163 -2.80349C-1.8418 -2.80349 -2.14067 -2.52852 -2.19447 -2.46874ZM-2.19447 -2.46874M-2.17654 -2.16389C-2.09883 -2.23562 -1.9195 -2.3731 -1.64454 -2.3731C-1.0408 -2.3731 -1.0408 -1.82316 -1.0408 -1.37484C-1.0408 -0.932503 -1.0408 -0.364633 -1.71029 -0.364633C-1.96135 -0.364633 -2.11079 -0.514072 -2.17654 -0.597758ZM-2.17654 -0.597758\" fill=\"black\"/>\n",
       " </g>\n",
       " <g transform=\"matrix(1.000000,0.000000,0.000000,1.000000,127.559055,-187.086614)\">\n",
       "  <path d=\"M0.418431 -0M4.55293 -3.24782C4.55293 -4.03487 4.51308 -4.96139 4.09465 -5.76837C3.68618 -6.51557 2.99875 -6.75467 2.49066 -6.75467C1.90286 -6.75467 1.20548 -6.48568 0.797011 -5.599C0.468244 -4.87173 0.418431 -4.04483 0.418431 -3.24782C0.418431 -2.46077 0.458281 -1.7335 0.757161 -1.00623C1.15567 -0.0498132 1.91283 0.219178 2.4807 0.219178C3.20797 0.219178 3.83562 -0.18929 4.15442 -0.876712C4.4533 -1.52428 4.55293 -2.18182 4.55293 -3.24782ZM4.55293 -3.24782M2.49066 -0.388543C1.9726 -0.388543 1.56413 -0.767123 1.36488 -1.48443C1.20548 -2.0523 1.19552 -2.59029 1.19552 -3.36737C1.19552 -3.99502 1.19552 -4.59278 1.36488 -5.14072C1.42466 -5.33001 1.67372 -6.14695 2.4807 -6.14695C3.25778 -6.14695 3.51681 -5.38979 3.58655 -5.21046C3.77584 -4.65255 3.77584 -3.98506 3.77584 -3.36737C3.77584 -2.70984 3.77584 -2.08219 3.59651 -1.45455C3.33748 -0.547945 2.80946 -0.388543 2.49066 -0.388543ZM2.49066 -0.388543\" fill=\"black\"/>\n",
       " </g>\n",
       " <g transform=\"matrix(1.000000,0.000000,0.000000,1.000000,28.346457,-175.748031)\">\n",
       "  <path d=\"M0.298879 -0M4.67248 -2.19178C4.67248 -3.52677 3.67621 -4.59278 2.49066 -4.59278C1.26526 -4.59278 0.298879 -3.49689 0.298879 -2.19178C0.298879 -0.876712 1.31507 0.109589 2.4807 0.109589C3.67621 0.109589 4.67248 -0.896638 4.67248 -2.19178ZM4.67248 -2.19178M2.4807 -0.52802C1.79328 -0.52802 1.07597 -1.08593 1.07597 -2.29141C1.07597 -3.49689 1.83313 -3.98506 2.4807 -3.98506C3.17808 -3.98506 3.89539 -3.467 3.89539 -2.29141C3.89539 -1.11582 3.21793 -0.52802 2.4807 -0.52802ZM2.4807 -0.52802M5.79826 -0M6.57534 -0.458281C6.88418 -0.169365 7.32254 0.109589 7.9203 0.109589C8.88667 0.109589 9.76339 -0.86675 9.76339 -2.22167C9.76339 -3.41719 9.13574 -4.533 8.17933 -4.533C7.58157 -4.533 7.00374 -4.32379 6.54545 -3.93524L6.54545 -4.42341L5.79826 -4.42341L5.79826 1.93275L6.57534 1.93275ZM6.57534 1.93275M6.57534 -3.31756C6.81445 -3.66625 7.20299 -3.89539 7.63138 -3.89539C8.38854 -3.89539 8.9863 -3.13823 8.9863 -2.22167C8.9863 -1.19552 8.27895 -0.498132 7.53176 -0.498132C7.14321 -0.498132 6.87422 -0.697385 6.67497 -0.966376C6.57534 -1.11582 6.57534 -1.13574 6.57534 -1.31507ZM6.57534 -1.31507\" fill=\"black\"/>\n",
       "  <path d=\"M10.7641 -0M14.4901 -4.16438C13.9023 -4.50311 13.5636 -4.59278 12.9559 -4.59278C11.5711 -4.59278 10.7641 -3.3873 10.7641 -2.21171C10.7641 -0.976339 11.6707 0.109589 12.916 0.109589C13.454 0.109589 14.002 -0.0298879 14.5399 -0.398506L14.4802 -1.066C13.9721 -0.667497 13.4341 -0.52802 12.926 -0.52802C12.0991 -0.52802 11.5412 -1.24533 11.5412 -2.22167C11.5412 -2.99875 11.9098 -3.95517 12.9659 -3.95517C13.4839 -3.95517 13.8226 -3.87547 14.3706 -3.51681ZM14.3706 -3.51681M15.1277 -0M19.5013 -2.19178C19.5013 -3.52677 18.5051 -4.59278 17.3195 -4.59278C16.0941 -4.59278 15.1277 -3.49689 15.1277 -2.19178C15.1277 -0.876712 16.1439 0.109589 17.3096 0.109589C18.5051 0.109589 19.5013 -0.896638 19.5013 -2.19178ZM19.5013 -2.19178M17.3096 -0.52802C16.6221 -0.52802 15.9048 -1.08593 15.9048 -2.29141C15.9048 -3.49689 16.662 -3.98506 17.3096 -3.98506C18.0069 -3.98506 18.7243 -3.467 18.7243 -2.29141C18.7243 -1.11582 18.0468 -0.52802 17.3096 -0.52802ZM17.3096 -0.52802\" fill=\"black\"/>\n",
       "  <path d=\"M20.45 -0M24.4152 -6.91407L23.668 -6.91407L23.668 -3.98506C23.1399 -4.42341 22.582 -4.533 22.2134 -4.533C21.2271 -4.533 20.45 -3.49689 20.45 -2.21171C20.45 -0.9066 21.2172 0.109589 22.1636 0.109589C22.4924 0.109589 23.0802 0.0199253 23.6381 -0.518057L23.6381 -0L24.4152 -0ZM24.4152 -0M23.6381 -1.38481C23.6381 -1.24533 23.6281 -1.066 23.3093 -0.777086C23.0802 -0.577833 22.8311 -0.498132 22.5721 -0.498132C21.9544 -0.498132 21.2271 -0.966376 21.2271 -2.20174C21.2271 -3.51681 22.0839 -3.92528 22.6717 -3.92528C23.12 -3.92528 23.4189 -3.69614 23.6381 -3.37733ZM23.6381 -3.37733M25.5808 -0M29.3566 -2.18182C29.3566 -2.52055 29.3467 -3.26775 28.9581 -3.8655C28.5497 -4.48319 27.9419 -4.59278 27.5833 -4.59278C26.4774 -4.59278 25.5808 -3.53674 25.5808 -2.25156C25.5808 -0.936488 26.5372 0.109589 27.7327 0.109589C28.3604 0.109589 28.9282 -0.129514 29.3168 -0.408468L29.257 -1.05604C28.6294 -0.537983 27.9718 -0.498132 27.7427 -0.498132C26.9457 -0.498132 26.3081 -1.20548 26.2782 -2.18182ZM26.2782 -2.18182M26.328 -2.72976C26.4874 -3.48692 27.0154 -3.98506 27.5833 -3.98506C28.1013 -3.98506 28.6592 -3.64633 28.7888 -2.72976ZM28.7888 -2.72976\" fill=\"black\"/>\n",
       " </g>\n",
       " <g transform=\"matrix(1.000000,0.000000,0.000000,1.000000,124.724409,-175.748031)\">\n",
       "  <path d=\"M-6.45649 -0M-6.40867 -1.56613C-6.45649 -1.47646 -6.45649 -1.45853 -6.45649 -1.35093L-6.45649 -1.20149C-6.45649 -1.01021 -6.41465 -0.91457 -6.16957 -0.91457L-4.82461 -0.91457L-4.82461 -0.286924C-4.82461 -0.0956413 -4.78277 -0 -4.53769 -0L-4.37031 -0C-4.14317 -0 -4.08339 -0.0777086 -4.08339 -0.286924L-4.08339 -0.91457L-3.83233 -0.91457C-3.64703 -0.91457 -3.54541 -0.956413 -3.54541 -1.19552C-3.54541 -1.41669 -3.62312 -1.47646 -3.83233 -1.47646L-4.08339 -1.47646L-4.08339 -3.86152C-4.08339 -4.07671 -4.14914 -4.14844 -4.37031 -4.14844L-4.80668 -4.14844C-4.92025 -4.14844 -5.00992 -4.14844 -5.08165 -4.01096ZM-5.08165 -4.01096M-5.83482 -1.47646C-4.87841 -3.23387 -4.82461 -3.41918 -4.79472 -3.5208L-4.78874 -3.5208L-4.78874 -1.47646ZM-4.78874 -1.47646M-2.98949 -0M-2.19447 -3.86152C-2.19447 -4.0528 -2.23632 -4.14844 -2.4814 -4.14844L-2.70257 -4.14844C-2.91776 -4.14844 -2.98949 -4.08269 -2.98949 -3.86152L-2.98949 -0.286924C-2.98949 -0.071731 -2.92374 -0 -2.70257 -0L-2.46346 -0C-2.36185 -0 -2.18252 -0 -2.17654 -0.233126C-1.90157 0.0657534 -1.59671 0.0657534 -1.50107 0.0657534C-0.227848 0.0657534 -0.227848 -1.08194 -0.227848 -1.38082C-0.227848 -1.66775 -0.227848 -2.80349 -1.35163 -2.80349C-1.8418 -2.80349 -2.14067 -2.52852 -2.19447 -2.46874ZM-2.19447 -2.46874M-2.17654 -2.16389C-2.09883 -2.23562 -1.9195 -2.3731 -1.64454 -2.3731C-1.0408 -2.3731 -1.0408 -1.82316 -1.0408 -1.37484C-1.0408 -0.932503 -1.0408 -0.364633 -1.71029 -0.364633C-1.96135 -0.364633 -2.11079 -0.514072 -2.17654 -0.597758ZM-2.17654 -0.597758\" fill=\"black\"/>\n",
       " </g>\n",
       " <g transform=\"matrix(1.000000,0.000000,0.000000,1.000000,127.559055,-175.748031)\">\n",
       "  <path d=\"M0.557908 -0M5.31009 -0.328767C6.39601 -1.17559 6.76463 -2.39103 6.76463 -3.43711C6.76463 -5.52927 5.32005 -7.13325 3.66625 -7.13325C1.9726 -7.13325 0.557908 -5.50934 0.557908 -3.43711C0.557908 -1.32503 2.03238 0.219178 3.65629 0.219178C3.81569 0.219178 4.18431 0.209215 4.6127 0.0398506L5.46949 1.24533L6.49564 1.24533ZM6.49564 1.24533M4.22416 -0.508095C4.2142 -0.508095 3.95517 -0.418431 3.66625 -0.418431C2.49066 -0.418431 1.41469 -1.58406 1.41469 -3.43711C1.41469 -5.30012 2.50062 -6.49564 3.65629 -6.49564C4.85181 -6.49564 5.90785 -5.2802 5.90785 -3.43711C5.90785 -2.78954 5.78829 -1.70361 4.89166 -0.886675L4.10461 -1.93275L3.21793 -1.93275ZM3.21793 -1.93275M8.26899 -0M13.2403 -6.91407L12.4633 -6.91407L12.4633 -2.31133C12.4633 -0.996264 11.6264 -0.33873 10.7895 -0.33873C9.9726 -0.33873 9.15567 -0.966376 9.15567 -2.31133L9.15567 -6.91407L8.26899 -6.91407L8.26899 -2.3213C8.26899 -0.86675 9.43462 0.219178 10.7796 0.219178C12.1146 0.219178 13.2403 -0.876712 13.2403 -2.3213ZM13.2403 -2.3213M15.1133 -0M19.2877 -3.27771L19.2877 -3.88543L16 -3.88543L16 -6.24658L17.3748 -6.24658C17.4944 -6.24658 17.6139 -6.23661 17.7335 -6.23661L19.5567 -6.23661L19.5567 -6.88418L15.1133 -6.88418L15.1133 -0L19.6961 -0L19.6961 -0.707347L18.4408 -0.707347C18.3213 -0.707347 18.2017 -0.697385 18.0822 -0.697385L16 -0.697385L16 -3.27771ZM16 -3.27771M21.0809 -0M24.2989 -3.24782C25.325 -3.5467 25.9925 -4.25405 25.9925 -5.06102C25.9925 -6.04732 24.9066 -6.91407 23.4819 -6.91407L21.0809 -6.91407L21.0809 -0L21.9377 -0L21.9377 -3.15816L23.5118 -3.15816L25.3848 -0L26.2715 -0ZM26.2715 -0M21.9377 -3.76588L21.9377 -6.35616L23.3724 -6.35616C24.528 -6.35616 25.1856 -5.76837 25.1856 -5.06102C25.1856 -4.35367 24.5479 -3.76588 23.3724 -3.76588ZM23.3724 -3.76588M26.5803 -0M33.1557 -6.91407L32.279 -6.91407L30.7347 -4.66252C30.6849 -4.59278 30.6351 -4.51308 30.5654 -4.40349L29.9577 -3.45704C29.7684 -3.76588 29.7684 -3.7858 29.599 -4.02491L27.6264 -6.91407L26.5803 -6.91407L29.4396 -2.76961L29.4396 -0L30.2964 -0L30.2964 -2.75965ZM30.2964 -2.75965\" fill=\"black\"/>\n",
       " </g>\n",
       " <g transform=\"matrix(1.000000,0.000000,0.000000,1.000000,28.346457,-164.409449)\">\n",
       "  <path d=\"M0.438356 -0M3.97509 -2.8792C3.97509 -3.89539 3.24782 -4.59278 2.33126 -4.59278C1.68369 -4.59278 1.23537 -4.43337 0.767123 -4.16438L0.826899 -3.50685C1.34496 -3.87547 1.84309 -4.00498 2.33126 -4.00498C2.7995 -4.00498 3.19801 -3.60648 3.19801 -2.86924L3.19801 -2.44085C1.70361 -2.42092 0.438356 -2.00249 0.438356 -1.12578C0.438356 -0.697385 0.707347 0.109589 1.5741 0.109589C1.71357 0.109589 2.65006 0.0896638 3.2279 -0.358655L3.2279 -0L3.97509 -0ZM3.97509 -0M3.19801 -1.31507C3.19801 -1.12578 3.19801 -0.876712 2.85928 -0.687422C2.57036 -0.508095 2.19178 -0.498132 2.08219 -0.498132C1.60399 -0.498132 1.15567 -0.727273 1.15567 -1.1457C1.15567 -1.84309 2.76961 -1.91283 3.19801 -1.93275ZM3.19801 -1.93275M5.22042 -0M8.75716 -2.8792C8.75716 -3.89539 8.02989 -4.59278 7.11333 -4.59278C6.46575 -4.59278 6.01743 -4.43337 5.54919 -4.16438L5.60897 -3.50685C6.12702 -3.87547 6.62516 -4.00498 7.11333 -4.00498C7.58157 -4.00498 7.98007 -3.60648 7.98007 -2.86924L7.98007 -2.44085C6.48568 -2.42092 5.22042 -2.00249 5.22042 -1.12578C5.22042 -0.697385 5.48941 0.109589 6.35616 0.109589C6.49564 0.109589 7.43213 0.0896638 8.00996 -0.358655L8.00996 -0L8.75716 -0ZM8.75716 -0M7.98007 -1.31507C7.98007 -1.12578 7.98007 -0.876712 7.64134 -0.687422C7.35243 -0.508095 6.97385 -0.498132 6.86426 -0.498132C6.38605 -0.498132 5.93773 -0.727273 5.93773 -1.1457C5.93773 -1.84309 7.55168 -1.91283 7.98007 -1.93275ZM7.98007 -1.93275\" fill=\"black\"/>\n",
       " </g>\n",
       " <g transform=\"matrix(1.000000,0.000000,0.000000,1.000000,124.724409,-164.409449)\">\n",
       "  <path d=\"M-6.1875 -0M-4.51975 -3.99303C-4.51975 -4.1066 -4.51975 -4.27995 -4.78277 -4.27995C-4.90232 -4.27995 -4.92623 -4.268 -4.99796 -4.19626C-5.10556 -4.10062 -5.3327 -3.87945 -5.92449 -3.8675C-6.03208 -3.8675 -6.1875 -3.82565 -6.1875 -3.6523C-6.1875 -3.43711 -5.97828 -3.43711 -5.90058 -3.43711C-5.72125 -3.43711 -5.51203 -3.467 -5.33868 -3.51482L-5.33868 -0.430386L-5.80493 -0.430386C-5.88264 -0.430386 -6.09186 -0.430386 -6.09186 -0.215193C-6.09186 -0 -5.88264 -0 -5.80493 -0L-4.10132 -0C-4.03557 -0 -3.8144 -0 -3.8144 -0.215193C-3.8144 -0.430386 -4.03557 -0.430386 -4.10132 -0.430386L-4.51975 -0.430386ZM-4.51975 -0.430386M-2.98949 -0M-2.19447 -3.86152C-2.19447 -4.0528 -2.23632 -4.14844 -2.4814 -4.14844L-2.70257 -4.14844C-2.91776 -4.14844 -2.98949 -4.08269 -2.98949 -3.86152L-2.98949 -0.286924C-2.98949 -0.071731 -2.92374 -0 -2.70257 -0L-2.46346 -0C-2.36185 -0 -2.18252 -0 -2.17654 -0.233126C-1.90157 0.0657534 -1.59671 0.0657534 -1.50107 0.0657534C-0.227848 0.0657534 -0.227848 -1.08194 -0.227848 -1.38082C-0.227848 -1.66775 -0.227848 -2.80349 -1.35163 -2.80349C-1.8418 -2.80349 -2.14067 -2.52852 -2.19447 -2.46874ZM-2.19447 -2.46874M-2.17654 -2.16389C-2.09883 -2.23562 -1.9195 -2.3731 -1.64454 -2.3731C-1.0408 -2.3731 -1.0408 -1.82316 -1.0408 -1.37484C-1.0408 -0.932503 -1.0408 -0.364633 -1.71029 -0.364633C-1.96135 -0.364633 -2.11079 -0.514072 -2.17654 -0.597758ZM-2.17654 -0.597758\" fill=\"black\"/>\n",
       " </g>\n",
       " <g transform=\"matrix(1.000000,0.000000,0.000000,1.000000,127.559055,-164.409449)\">\n",
       "  <path d=\"M0.418431 -0M4.55293 -3.24782C4.55293 -4.03487 4.51308 -4.96139 4.09465 -5.76837C3.68618 -6.51557 2.99875 -6.75467 2.49066 -6.75467C1.90286 -6.75467 1.20548 -6.48568 0.797011 -5.599C0.468244 -4.87173 0.418431 -4.04483 0.418431 -3.24782C0.418431 -2.46077 0.458281 -1.7335 0.757161 -1.00623C1.15567 -0.0498132 1.91283 0.219178 2.4807 0.219178C3.20797 0.219178 3.83562 -0.18929 4.15442 -0.876712C4.4533 -1.52428 4.55293 -2.18182 4.55293 -3.24782ZM4.55293 -3.24782M2.49066 -0.388543C1.9726 -0.388543 1.56413 -0.767123 1.36488 -1.48443C1.20548 -2.0523 1.19552 -2.59029 1.19552 -3.36737C1.19552 -3.99502 1.19552 -4.59278 1.36488 -5.14072C1.42466 -5.33001 1.67372 -6.14695 2.4807 -6.14695C3.25778 -6.14695 3.51681 -5.38979 3.58655 -5.21046C3.77584 -4.65255 3.77584 -3.98506 3.77584 -3.36737C3.77584 -2.70984 3.77584 -2.08219 3.59651 -1.45455C3.33748 -0.547945 2.80946 -0.388543 2.49066 -0.388543ZM2.49066 -0.388543\" fill=\"black\"/>\n",
       " </g>\n",
       " <g transform=\"matrix(1.000000,0.000000,0.000000,1.000000,28.346457,-153.070866)\">\n",
       "  <path d=\"M0.18929 -0M1.74346 -3.84558L3.14819 -3.84558L3.14819 -4.42341L1.74346 -4.42341L1.74346 -5.68867L1.05604 -5.68867L1.05604 -4.42341L0.18929 -4.42341L0.18929 -3.84558L1.02615 -3.84558L1.02615 -1.18555C1.02615 -0.587796 1.16563 0.109589 1.85305 0.109589C2.55044 0.109589 3.05853 -0.139477 3.3076 -0.268991L3.14819 -0.856787C2.88917 -0.647572 2.57036 -0.52802 2.25156 -0.52802C1.88294 -0.52802 1.74346 -0.826899 1.74346 -1.35492ZM1.74346 -1.35492M3.95517 -0M7.6812 -4.16438C7.0934 -4.50311 6.75467 -4.59278 6.14695 -4.59278C4.76214 -4.59278 3.95517 -3.3873 3.95517 -2.21171C3.95517 -0.976339 4.86177 0.109589 6.1071 0.109589C6.64508 0.109589 7.19303 -0.0298879 7.73101 -0.398506L7.67123 -1.066C7.16314 -0.667497 6.62516 -0.52802 6.11706 -0.52802C5.29016 -0.52802 4.73225 -1.24533 4.73225 -2.22167C4.73225 -2.99875 5.10087 -3.95517 6.15691 -3.95517C6.67497 -3.95517 7.0137 -3.87547 7.56164 -3.51681ZM7.56164 -3.51681\" fill=\"black\"/>\n",
       " </g>\n",
       " <g transform=\"matrix(1.000000,0.000000,0.000000,1.000000,124.724409,-153.070866)\">\n",
       "  <path d=\"M-6.1875 -0M-4.51975 -3.99303C-4.51975 -4.1066 -4.51975 -4.27995 -4.78277 -4.27995C-4.90232 -4.27995 -4.92623 -4.268 -4.99796 -4.19626C-5.10556 -4.10062 -5.3327 -3.87945 -5.92449 -3.8675C-6.03208 -3.8675 -6.1875 -3.82565 -6.1875 -3.6523C-6.1875 -3.43711 -5.97828 -3.43711 -5.90058 -3.43711C-5.72125 -3.43711 -5.51203 -3.467 -5.33868 -3.51482L-5.33868 -0.430386L-5.80493 -0.430386C-5.88264 -0.430386 -6.09186 -0.430386 -6.09186 -0.215193C-6.09186 -0 -5.88264 -0 -5.80493 -0L-4.10132 -0C-4.03557 -0 -3.8144 -0 -3.8144 -0.215193C-3.8144 -0.430386 -4.03557 -0.430386 -4.10132 -0.430386L-4.51975 -0.430386ZM-4.51975 -0.430386M-2.98949 -0M-2.19447 -3.86152C-2.19447 -4.0528 -2.23632 -4.14844 -2.4814 -4.14844L-2.70257 -4.14844C-2.91776 -4.14844 -2.98949 -4.08269 -2.98949 -3.86152L-2.98949 -0.286924C-2.98949 -0.071731 -2.92374 -0 -2.70257 -0L-2.46346 -0C-2.36185 -0 -2.18252 -0 -2.17654 -0.233126C-1.90157 0.0657534 -1.59671 0.0657534 -1.50107 0.0657534C-0.227848 0.0657534 -0.227848 -1.08194 -0.227848 -1.38082C-0.227848 -1.66775 -0.227848 -2.80349 -1.35163 -2.80349C-1.8418 -2.80349 -2.14067 -2.52852 -2.19447 -2.46874ZM-2.19447 -2.46874M-2.17654 -2.16389C-2.09883 -2.23562 -1.9195 -2.3731 -1.64454 -2.3731C-1.0408 -2.3731 -1.0408 -1.82316 -1.0408 -1.37484C-1.0408 -0.932503 -1.0408 -0.364633 -1.71029 -0.364633C-1.96135 -0.364633 -2.11079 -0.514072 -2.17654 -0.597758ZM-2.17654 -0.597758\" fill=\"black\"/>\n",
       " </g>\n",
       " <g transform=\"matrix(1.000000,0.000000,0.000000,1.000000,127.559055,-153.070866)\">\n",
       "  <path d=\"M0.418431 -0M4.55293 -3.24782C4.55293 -4.03487 4.51308 -4.96139 4.09465 -5.76837C3.68618 -6.51557 2.99875 -6.75467 2.49066 -6.75467C1.90286 -6.75467 1.20548 -6.48568 0.797011 -5.599C0.468244 -4.87173 0.418431 -4.04483 0.418431 -3.24782C0.418431 -2.46077 0.458281 -1.7335 0.757161 -1.00623C1.15567 -0.0498132 1.91283 0.219178 2.4807 0.219178C3.20797 0.219178 3.83562 -0.18929 4.15442 -0.876712C4.4533 -1.52428 4.55293 -2.18182 4.55293 -3.24782ZM4.55293 -3.24782M2.49066 -0.388543C1.9726 -0.388543 1.56413 -0.767123 1.36488 -1.48443C1.20548 -2.0523 1.19552 -2.59029 1.19552 -3.36737C1.19552 -3.99502 1.19552 -4.59278 1.36488 -5.14072C1.42466 -5.33001 1.67372 -6.14695 2.4807 -6.14695C3.25778 -6.14695 3.51681 -5.38979 3.58655 -5.21046C3.77584 -4.65255 3.77584 -3.98506 3.77584 -3.36737C3.77584 -2.70984 3.77584 -2.08219 3.59651 -1.45455C3.33748 -0.547945 2.80946 -0.388543 2.49066 -0.388543ZM2.49066 -0.388543\" fill=\"black\"/>\n",
       " </g>\n",
       " <g stroke-width=\"0.400879\">\n",
       "  <path d=\"M132.54 -145.004C314.906 -145.919 502.698 -247.215 506.891 -427.731\" stroke=\"#7fcccc\"/>\n",
       "  <g stroke-linecap=\"butt\" stroke-dasharray=\"none\">\n",
       "   <path d=\"M505.246 -426.979C505.821 -428.266 506.387 -429.562 506.945 -430.866C507.473 -429.549 507.989 -428.232 508.493 -426.916L506.891 -427.731Z\" fill=\"#7fcccc\"/>\n",
       "  </g>\n",
       " </g>\n",
       " <g stroke-width=\"1.133858\">\n",
       "  <path d=\"M500.732 -429.866L513.193 -429.866L513.193 -437.954L500.732 -437.954Z\" stroke=\"#7fcccc\" fill=\"#cc9\"/>\n",
       " </g>\n",
       " <g transform=\"matrix(1.000000,0.000000,0.000000,1.000000,501.732283,-430.866142)\">\n",
       "  <path d=\"M0.498132 -0M4.72229 -3.03861C4.72229 -4.89166 3.7061 -6.19676 2.61021 -6.19676C1.4944 -6.19676 0.498132 -4.86177 0.498132 -3.04857C0.498132 -1.19552 1.51432 0.109589 2.61021 0.109589C3.72603 0.109589 4.72229 -1.2254 4.72229 -3.03861ZM4.72229 -3.03861M2.61021 -0.498132C1.83313 -0.498132 1.18555 -1.67372 1.18555 -3.14819C1.18555 -4.60274 1.87298 -5.58904 2.61021 -5.58904C3.33748 -5.58904 4.03487 -4.6127 4.03487 -3.14819C4.03487 -1.67372 3.3873 -0.498132 2.61021 -0.498132ZM2.61021 -0.498132M6.27646 -0M8.32877 -5.78829C8.32877 -5.9477 8.32877 -6.19676 8.02989 -6.19676C7.8406 -6.19676 7.78082 -6.07721 7.73101 -5.95766C7.35243 -5.11083 6.83437 -5.00125 6.64508 -4.98132C6.48568 -4.97136 6.27646 -4.95143 6.27646 -4.67248C6.27646 -4.42341 6.45579 -4.3736 6.60523 -4.3736C6.79452 -4.3736 7.20299 -4.43337 7.64134 -4.81196L7.64134 -0.607721L6.73474 -0.607721C6.57534 -0.607721 6.33624 -0.607721 6.33624 -0.298879C6.33624 -0 6.58531 -0 6.73474 -0L9.23537 -0C9.38481 -0 9.63387 -0 9.63387 -0.298879C9.63387 -0.607721 9.39477 -0.607721 9.23537 -0.607721L8.32877 -0.607721ZM8.32877 -0.607721\" fill=\"black\"/>\n",
       " </g>\n",
       " <g transform=\"matrix(1.000000,0.000000,0.000000,1.000000,28.346457,-141.732283)\">\n",
       "  <path d=\"M0.816936 -0M1.56413 -2.132C1.56413 -3.12827 2.28144 -3.84558 3.25778 -3.8655L3.25778 -4.533C2.37111 -4.52304 1.82316 -4.03487 1.51432 -3.57659L1.51432 -4.48319L0.816936 -4.48319L0.816936 -0L1.56413 -0ZM1.56413 -0M3.75592 -0M7.72105 -6.91407L6.97385 -6.91407L6.97385 -3.98506C6.44583 -4.42341 5.88792 -4.533 5.5193 -4.533C4.533 -4.533 3.75592 -3.49689 3.75592 -2.21171C3.75592 -0.9066 4.52304 0.109589 5.46949 0.109589C5.79826 0.109589 6.38605 0.0199253 6.94396 -0.518057L6.94396 -0L7.72105 -0ZM7.72105 -0M6.94396 -1.38481C6.94396 -1.24533 6.934 -1.066 6.61519 -0.777086C6.38605 -0.577833 6.13699 -0.498132 5.87796 -0.498132C5.26027 -0.498132 4.533 -0.966376 4.533 -2.20174C4.533 -3.51681 5.38979 -3.92528 5.97758 -3.92528C6.4259 -3.92528 6.72478 -3.69614 6.94396 -3.37733ZM6.94396 -3.37733\" fill=\"black\"/>\n",
       " </g>\n",
       " <g transform=\"matrix(1.000000,0.000000,0.000000,1.000000,124.724409,-141.732283)\">\n",
       "  <path d=\"M-6.1875 -0M-4.51975 -3.99303C-4.51975 -4.1066 -4.51975 -4.27995 -4.78277 -4.27995C-4.90232 -4.27995 -4.92623 -4.268 -4.99796 -4.19626C-5.10556 -4.10062 -5.3327 -3.87945 -5.92449 -3.8675C-6.03208 -3.8675 -6.1875 -3.82565 -6.1875 -3.6523C-6.1875 -3.43711 -5.97828 -3.43711 -5.90058 -3.43711C-5.72125 -3.43711 -5.51203 -3.467 -5.33868 -3.51482L-5.33868 -0.430386L-5.80493 -0.430386C-5.88264 -0.430386 -6.09186 -0.430386 -6.09186 -0.215193C-6.09186 -0 -5.88264 -0 -5.80493 -0L-4.10132 -0C-4.03557 -0 -3.8144 -0 -3.8144 -0.215193C-3.8144 -0.430386 -4.03557 -0.430386 -4.10132 -0.430386L-4.51975 -0.430386ZM-4.51975 -0.430386M-2.98949 -0M-2.19447 -3.86152C-2.19447 -4.0528 -2.23632 -4.14844 -2.4814 -4.14844L-2.70257 -4.14844C-2.91776 -4.14844 -2.98949 -4.08269 -2.98949 -3.86152L-2.98949 -0.286924C-2.98949 -0.071731 -2.92374 -0 -2.70257 -0L-2.46346 -0C-2.36185 -0 -2.18252 -0 -2.17654 -0.233126C-1.90157 0.0657534 -1.59671 0.0657534 -1.50107 0.0657534C-0.227848 0.0657534 -0.227848 -1.08194 -0.227848 -1.38082C-0.227848 -1.66775 -0.227848 -2.80349 -1.35163 -2.80349C-1.8418 -2.80349 -2.14067 -2.52852 -2.19447 -2.46874ZM-2.19447 -2.46874M-2.17654 -2.16389C-2.09883 -2.23562 -1.9195 -2.3731 -1.64454 -2.3731C-1.0408 -2.3731 -1.0408 -1.82316 -1.0408 -1.37484C-1.0408 -0.932503 -1.0408 -0.364633 -1.71029 -0.364633C-1.96135 -0.364633 -2.11079 -0.514072 -2.17654 -0.597758ZM-2.17654 -0.597758\" fill=\"black\"/>\n",
       " </g>\n",
       " <g transform=\"matrix(1.000000,0.000000,0.000000,1.000000,127.559055,-141.732283)\">\n",
       "  <path d=\"M0.886675 -0M2.97883 -6.75467L2.77958 -6.75467C2.19178 -6.14695 1.36488 -6.11706 0.886675 -6.09714L0.886675 -5.5193C1.21544 -5.52927 1.69365 -5.54919 2.19178 -5.75841L2.19178 -0.577833L0.946451 -0.577833L0.946451 -0L4.22416 -0L4.22416 -0.577833L2.97883 -0.577833ZM2.97883 -0.577833\" fill=\"black\"/>\n",
       " </g>\n",
       " <g transform=\"matrix(1.000000,0.000000,0.000000,1.000000,28.346457,-130.393701)\">\n",
       "  <path d=\"M0.816936 -0M1.56413 -2.132C1.56413 -3.12827 2.28144 -3.84558 3.25778 -3.8655L3.25778 -4.533C2.37111 -4.52304 1.82316 -4.03487 1.51432 -3.57659L1.51432 -4.48319L0.816936 -4.48319L0.816936 -0L1.56413 -0ZM1.56413 -0M3.83562 -0M7.37235 -2.8792C7.37235 -3.89539 6.64508 -4.59278 5.72852 -4.59278C5.08095 -4.59278 4.63263 -4.43337 4.16438 -4.16438L4.22416 -3.50685C4.74222 -3.87547 5.24035 -4.00498 5.72852 -4.00498C6.19676 -4.00498 6.59527 -3.60648 6.59527 -2.86924L6.59527 -2.44085C5.10087 -2.42092 3.83562 -2.00249 3.83562 -1.12578C3.83562 -0.697385 4.10461 0.109589 4.97136 0.109589C5.11083 0.109589 6.04732 0.0896638 6.62516 -0.358655L6.62516 -0L7.37235 -0ZM7.37235 -0M6.59527 -1.31507C6.59527 -1.12578 6.59527 -0.876712 6.25654 -0.687422C5.96762 -0.508095 5.58904 -0.498132 5.47945 -0.498132C5.00125 -0.498132 4.55293 -0.727273 4.55293 -1.1457C4.55293 -1.84309 6.16687 -1.91283 6.59527 -1.93275ZM6.59527 -1.93275\" fill=\"black\"/>\n",
       " </g>\n",
       " <g transform=\"matrix(1.000000,0.000000,0.000000,1.000000,124.724409,-130.393701)\">\n",
       "  <path d=\"M-6.1875 -0M-4.51975 -3.99303C-4.51975 -4.1066 -4.51975 -4.27995 -4.78277 -4.27995C-4.90232 -4.27995 -4.92623 -4.268 -4.99796 -4.19626C-5.10556 -4.10062 -5.3327 -3.87945 -5.92449 -3.8675C-6.03208 -3.8675 -6.1875 -3.82565 -6.1875 -3.6523C-6.1875 -3.43711 -5.97828 -3.43711 -5.90058 -3.43711C-5.72125 -3.43711 -5.51203 -3.467 -5.33868 -3.51482L-5.33868 -0.430386L-5.80493 -0.430386C-5.88264 -0.430386 -6.09186 -0.430386 -6.09186 -0.215193C-6.09186 -0 -5.88264 -0 -5.80493 -0L-4.10132 -0C-4.03557 -0 -3.8144 -0 -3.8144 -0.215193C-3.8144 -0.430386 -4.03557 -0.430386 -4.10132 -0.430386L-4.51975 -0.430386ZM-4.51975 -0.430386M-2.98949 -0M-2.19447 -3.86152C-2.19447 -4.0528 -2.23632 -4.14844 -2.4814 -4.14844L-2.70257 -4.14844C-2.91776 -4.14844 -2.98949 -4.08269 -2.98949 -3.86152L-2.98949 -0.286924C-2.98949 -0.071731 -2.92374 -0 -2.70257 -0L-2.46346 -0C-2.36185 -0 -2.18252 -0 -2.17654 -0.233126C-1.90157 0.0657534 -1.59671 0.0657534 -1.50107 0.0657534C-0.227848 0.0657534 -0.227848 -1.08194 -0.227848 -1.38082C-0.227848 -1.66775 -0.227848 -2.80349 -1.35163 -2.80349C-1.8418 -2.80349 -2.14067 -2.52852 -2.19447 -2.46874ZM-2.19447 -2.46874M-2.17654 -2.16389C-2.09883 -2.23562 -1.9195 -2.3731 -1.64454 -2.3731C-1.0408 -2.3731 -1.0408 -1.82316 -1.0408 -1.37484C-1.0408 -0.932503 -1.0408 -0.364633 -1.71029 -0.364633C-1.96135 -0.364633 -2.11079 -0.514072 -2.17654 -0.597758ZM-2.17654 -0.597758\" fill=\"black\"/>\n",
       " </g>\n",
       " <g transform=\"matrix(1.000000,0.000000,0.000000,1.000000,127.559055,-130.393701)\">\n",
       "  <path d=\"M0.418431 -0M4.55293 -3.24782C4.55293 -4.03487 4.51308 -4.96139 4.09465 -5.76837C3.68618 -6.51557 2.99875 -6.75467 2.49066 -6.75467C1.90286 -6.75467 1.20548 -6.48568 0.797011 -5.599C0.468244 -4.87173 0.418431 -4.04483 0.418431 -3.24782C0.418431 -2.46077 0.458281 -1.7335 0.757161 -1.00623C1.15567 -0.0498132 1.91283 0.219178 2.4807 0.219178C3.20797 0.219178 3.83562 -0.18929 4.15442 -0.876712C4.4533 -1.52428 4.55293 -2.18182 4.55293 -3.24782ZM4.55293 -3.24782M2.49066 -0.388543C1.9726 -0.388543 1.56413 -0.767123 1.36488 -1.48443C1.20548 -2.0523 1.19552 -2.59029 1.19552 -3.36737C1.19552 -3.99502 1.19552 -4.59278 1.36488 -5.14072C1.42466 -5.33001 1.67372 -6.14695 2.4807 -6.14695C3.25778 -6.14695 3.51681 -5.38979 3.58655 -5.21046C3.77584 -4.65255 3.77584 -3.98506 3.77584 -3.36737C3.77584 -2.70984 3.77584 -2.08219 3.59651 -1.45455C3.33748 -0.547945 2.80946 -0.388543 2.49066 -0.388543ZM2.49066 -0.388543\" fill=\"black\"/>\n",
       " </g>\n",
       " <g transform=\"matrix(1.000000,0.000000,0.000000,1.000000,28.346457,-119.055118)\">\n",
       "  <path d=\"M0.278954 -0M3.98506 -4.03487L3.98506 -4.42341L0.418431 -4.42341L0.418431 -3.83562L1.80324 -3.83562C1.92279 -3.83562 2.04234 -3.84558 2.16189 -3.84558L2.93898 -3.84558L0.278954 -0.408468L0.278954 -0L4.00498 -0L4.00498 -0.617684L2.54047 -0.617684C2.42092 -0.617684 2.30137 -0.607721 2.18182 -0.607721L1.33499 -0.607721ZM1.33499 -0.607721\" fill=\"black\"/>\n",
       " </g>\n",
       " <g transform=\"matrix(1.000000,0.000000,0.000000,1.000000,124.724409,-119.055118)\">\n",
       "  <path d=\"M-6.1875 -0M-4.51975 -3.99303C-4.51975 -4.1066 -4.51975 -4.27995 -4.78277 -4.27995C-4.90232 -4.27995 -4.92623 -4.268 -4.99796 -4.19626C-5.10556 -4.10062 -5.3327 -3.87945 -5.92449 -3.8675C-6.03208 -3.8675 -6.1875 -3.82565 -6.1875 -3.6523C-6.1875 -3.43711 -5.97828 -3.43711 -5.90058 -3.43711C-5.72125 -3.43711 -5.51203 -3.467 -5.33868 -3.51482L-5.33868 -0.430386L-5.80493 -0.430386C-5.88264 -0.430386 -6.09186 -0.430386 -6.09186 -0.215193C-6.09186 -0 -5.88264 -0 -5.80493 -0L-4.10132 -0C-4.03557 -0 -3.8144 -0 -3.8144 -0.215193C-3.8144 -0.430386 -4.03557 -0.430386 -4.10132 -0.430386L-4.51975 -0.430386ZM-4.51975 -0.430386M-2.98949 -0M-2.19447 -3.86152C-2.19447 -4.0528 -2.23632 -4.14844 -2.4814 -4.14844L-2.70257 -4.14844C-2.91776 -4.14844 -2.98949 -4.08269 -2.98949 -3.86152L-2.98949 -0.286924C-2.98949 -0.071731 -2.92374 -0 -2.70257 -0L-2.46346 -0C-2.36185 -0 -2.18252 -0 -2.17654 -0.233126C-1.90157 0.0657534 -1.59671 0.0657534 -1.50107 0.0657534C-0.227848 0.0657534 -0.227848 -1.08194 -0.227848 -1.38082C-0.227848 -1.66775 -0.227848 -2.80349 -1.35163 -2.80349C-1.8418 -2.80349 -2.14067 -2.52852 -2.19447 -2.46874ZM-2.19447 -2.46874M-2.17654 -2.16389C-2.09883 -2.23562 -1.9195 -2.3731 -1.64454 -2.3731C-1.0408 -2.3731 -1.0408 -1.82316 -1.0408 -1.37484C-1.0408 -0.932503 -1.0408 -0.364633 -1.71029 -0.364633C-1.96135 -0.364633 -2.11079 -0.514072 -2.17654 -0.597758ZM-2.17654 -0.597758\" fill=\"black\"/>\n",
       " </g>\n",
       " <g transform=\"matrix(1.000000,0.000000,0.000000,1.000000,127.559055,-119.055118)\">\n",
       "  <path d=\"M0.418431 -0M4.55293 -3.24782C4.55293 -4.03487 4.51308 -4.96139 4.09465 -5.76837C3.68618 -6.51557 2.99875 -6.75467 2.49066 -6.75467C1.90286 -6.75467 1.20548 -6.48568 0.797011 -5.599C0.468244 -4.87173 0.418431 -4.04483 0.418431 -3.24782C0.418431 -2.46077 0.458281 -1.7335 0.757161 -1.00623C1.15567 -0.0498132 1.91283 0.219178 2.4807 0.219178C3.20797 0.219178 3.83562 -0.18929 4.15442 -0.876712C4.4533 -1.52428 4.55293 -2.18182 4.55293 -3.24782ZM4.55293 -3.24782M2.49066 -0.388543C1.9726 -0.388543 1.56413 -0.767123 1.36488 -1.48443C1.20548 -2.0523 1.19552 -2.59029 1.19552 -3.36737C1.19552 -3.99502 1.19552 -4.59278 1.36488 -5.14072C1.42466 -5.33001 1.67372 -6.14695 2.4807 -6.14695C3.25778 -6.14695 3.51681 -5.38979 3.58655 -5.21046C3.77584 -4.65255 3.77584 -3.98506 3.77584 -3.36737C3.77584 -2.70984 3.77584 -2.08219 3.59651 -1.45455C3.33748 -0.547945 2.80946 -0.388543 2.49066 -0.388543ZM2.49066 -0.388543\" fill=\"black\"/>\n",
       " </g>\n",
       " <g transform=\"matrix(1.000000,0.000000,0.000000,1.000000,28.346457,-107.716535)\">\n",
       "  <path d=\"M0.438356 -0M3.97509 -2.8792C3.97509 -3.89539 3.24782 -4.59278 2.33126 -4.59278C1.68369 -4.59278 1.23537 -4.43337 0.767123 -4.16438L0.826899 -3.50685C1.34496 -3.87547 1.84309 -4.00498 2.33126 -4.00498C2.7995 -4.00498 3.19801 -3.60648 3.19801 -2.86924L3.19801 -2.44085C1.70361 -2.42092 0.438356 -2.00249 0.438356 -1.12578C0.438356 -0.697385 0.707347 0.109589 1.5741 0.109589C1.71357 0.109589 2.65006 0.0896638 3.2279 -0.358655L3.2279 -0L3.97509 -0ZM3.97509 -0M3.19801 -1.31507C3.19801 -1.12578 3.19801 -0.876712 2.85928 -0.687422C2.57036 -0.508095 2.19178 -0.498132 2.08219 -0.498132C1.60399 -0.498132 1.15567 -0.727273 1.15567 -1.1457C1.15567 -1.84309 2.76961 -1.91283 3.19801 -1.93275ZM3.19801 -1.93275M5.14072 -0M9.10585 -6.91407L8.35866 -6.91407L8.35866 -3.98506C7.83064 -4.42341 7.27273 -4.533 6.90411 -4.533C5.91781 -4.533 5.14072 -3.49689 5.14072 -2.21171C5.14072 -0.9066 5.90785 0.109589 6.8543 0.109589C7.18306 0.109589 7.77086 0.0199253 8.32877 -0.518057L8.32877 -0L9.10585 -0ZM9.10585 -0M8.32877 -1.38481C8.32877 -1.24533 8.3188 -1.066 8 -0.777086C7.77086 -0.577833 7.52179 -0.498132 7.26276 -0.498132C6.64508 -0.498132 5.91781 -0.966376 5.91781 -2.20174C5.91781 -3.51681 6.7746 -3.92528 7.36239 -3.92528C7.81071 -3.92528 8.10959 -3.69614 8.32877 -3.37733ZM8.32877 -3.37733\" fill=\"black\"/>\n",
       " </g>\n",
       " <g transform=\"matrix(1.000000,0.000000,0.000000,1.000000,124.724409,-107.716535)\">\n",
       "  <path d=\"M-6.1875 -0M-4.51975 -3.99303C-4.51975 -4.1066 -4.51975 -4.27995 -4.78277 -4.27995C-4.90232 -4.27995 -4.92623 -4.268 -4.99796 -4.19626C-5.10556 -4.10062 -5.3327 -3.87945 -5.92449 -3.8675C-6.03208 -3.8675 -6.1875 -3.82565 -6.1875 -3.6523C-6.1875 -3.43711 -5.97828 -3.43711 -5.90058 -3.43711C-5.72125 -3.43711 -5.51203 -3.467 -5.33868 -3.51482L-5.33868 -0.430386L-5.80493 -0.430386C-5.88264 -0.430386 -6.09186 -0.430386 -6.09186 -0.215193C-6.09186 -0 -5.88264 -0 -5.80493 -0L-4.10132 -0C-4.03557 -0 -3.8144 -0 -3.8144 -0.215193C-3.8144 -0.430386 -4.03557 -0.430386 -4.10132 -0.430386L-4.51975 -0.430386ZM-4.51975 -0.430386M-2.98949 -0M-2.19447 -3.86152C-2.19447 -4.0528 -2.23632 -4.14844 -2.4814 -4.14844L-2.70257 -4.14844C-2.91776 -4.14844 -2.98949 -4.08269 -2.98949 -3.86152L-2.98949 -0.286924C-2.98949 -0.071731 -2.92374 -0 -2.70257 -0L-2.46346 -0C-2.36185 -0 -2.18252 -0 -2.17654 -0.233126C-1.90157 0.0657534 -1.59671 0.0657534 -1.50107 0.0657534C-0.227848 0.0657534 -0.227848 -1.08194 -0.227848 -1.38082C-0.227848 -1.66775 -0.227848 -2.80349 -1.35163 -2.80349C-1.8418 -2.80349 -2.14067 -2.52852 -2.19447 -2.46874ZM-2.19447 -2.46874M-2.17654 -2.16389C-2.09883 -2.23562 -1.9195 -2.3731 -1.64454 -2.3731C-1.0408 -2.3731 -1.0408 -1.82316 -1.0408 -1.37484C-1.0408 -0.932503 -1.0408 -0.364633 -1.71029 -0.364633C-1.96135 -0.364633 -2.11079 -0.514072 -2.17654 -0.597758ZM-2.17654 -0.597758\" fill=\"black\"/>\n",
       " </g>\n",
       " <g transform=\"matrix(1.000000,0.000000,0.000000,1.000000,127.559055,-107.716535)\">\n",
       "  <path d=\"M0.418431 -0M4.55293 -3.24782C4.55293 -4.03487 4.51308 -4.96139 4.09465 -5.76837C3.68618 -6.51557 2.99875 -6.75467 2.49066 -6.75467C1.90286 -6.75467 1.20548 -6.48568 0.797011 -5.599C0.468244 -4.87173 0.418431 -4.04483 0.418431 -3.24782C0.418431 -2.46077 0.458281 -1.7335 0.757161 -1.00623C1.15567 -0.0498132 1.91283 0.219178 2.4807 0.219178C3.20797 0.219178 3.83562 -0.18929 4.15442 -0.876712C4.4533 -1.52428 4.55293 -2.18182 4.55293 -3.24782ZM4.55293 -3.24782M2.49066 -0.388543C1.9726 -0.388543 1.56413 -0.767123 1.36488 -1.48443C1.20548 -2.0523 1.19552 -2.59029 1.19552 -3.36737C1.19552 -3.99502 1.19552 -4.59278 1.36488 -5.14072C1.42466 -5.33001 1.67372 -6.14695 2.4807 -6.14695C3.25778 -6.14695 3.51681 -5.38979 3.58655 -5.21046C3.77584 -4.65255 3.77584 -3.98506 3.77584 -3.36737C3.77584 -2.70984 3.77584 -2.08219 3.59651 -1.45455C3.33748 -0.547945 2.80946 -0.388543 2.49066 -0.388543ZM2.49066 -0.388543\" fill=\"black\"/>\n",
       " </g>\n",
       " <g transform=\"matrix(1.000000,0.000000,0.000000,1.000000,28.346457,-96.377953)\">\n",
       "  <path d=\"M0.358655 -0M4.08468 -4.16438C3.49689 -4.50311 3.15816 -4.59278 2.55044 -4.59278C1.16563 -4.59278 0.358655 -3.3873 0.358655 -2.21171C0.358655 -0.976339 1.26526 0.109589 2.51059 0.109589C3.04857 0.109589 3.59651 -0.0298879 4.1345 -0.398506L4.07472 -1.066C3.56663 -0.667497 3.02864 -0.52802 2.52055 -0.52802C1.69365 -0.52802 1.13574 -1.24533 1.13574 -2.22167C1.13574 -2.99875 1.50436 -3.95517 2.5604 -3.95517C3.07846 -3.95517 3.41719 -3.87547 3.96513 -3.51681ZM3.96513 -3.51681M4.78207 -0M8.7472 -6.91407L8 -6.91407L8 -3.98506C7.47198 -4.42341 6.91407 -4.533 6.54545 -4.533C5.55915 -4.533 4.78207 -3.49689 4.78207 -2.21171C4.78207 -0.9066 5.54919 0.109589 6.49564 0.109589C6.82441 0.109589 7.4122 0.0199253 7.97011 -0.518057L7.97011 -0L8.7472 -0ZM8.7472 -0M7.97011 -1.38481C7.97011 -1.24533 7.96015 -1.066 7.64134 -0.777086C7.4122 -0.577833 7.16314 -0.498132 6.90411 -0.498132C6.28643 -0.498132 5.55915 -0.966376 5.55915 -2.20174C5.55915 -3.51681 6.41594 -3.92528 7.00374 -3.92528C7.45205 -3.92528 7.75093 -3.69614 7.97011 -3.37733ZM7.97011 -3.37733\" fill=\"black\"/>\n",
       " </g>\n",
       " <g transform=\"matrix(1.000000,0.000000,0.000000,1.000000,124.724409,-96.377953)\">\n",
       "  <path d=\"M-6.1875 -0M-4.51975 -3.99303C-4.51975 -4.1066 -4.51975 -4.27995 -4.78277 -4.27995C-4.90232 -4.27995 -4.92623 -4.268 -4.99796 -4.19626C-5.10556 -4.10062 -5.3327 -3.87945 -5.92449 -3.8675C-6.03208 -3.8675 -6.1875 -3.82565 -6.1875 -3.6523C-6.1875 -3.43711 -5.97828 -3.43711 -5.90058 -3.43711C-5.72125 -3.43711 -5.51203 -3.467 -5.33868 -3.51482L-5.33868 -0.430386L-5.80493 -0.430386C-5.88264 -0.430386 -6.09186 -0.430386 -6.09186 -0.215193C-6.09186 -0 -5.88264 -0 -5.80493 -0L-4.10132 -0C-4.03557 -0 -3.8144 -0 -3.8144 -0.215193C-3.8144 -0.430386 -4.03557 -0.430386 -4.10132 -0.430386L-4.51975 -0.430386ZM-4.51975 -0.430386M-2.98949 -0M-2.19447 -3.86152C-2.19447 -4.0528 -2.23632 -4.14844 -2.4814 -4.14844L-2.70257 -4.14844C-2.91776 -4.14844 -2.98949 -4.08269 -2.98949 -3.86152L-2.98949 -0.286924C-2.98949 -0.071731 -2.92374 -0 -2.70257 -0L-2.46346 -0C-2.36185 -0 -2.18252 -0 -2.17654 -0.233126C-1.90157 0.0657534 -1.59671 0.0657534 -1.50107 0.0657534C-0.227848 0.0657534 -0.227848 -1.08194 -0.227848 -1.38082C-0.227848 -1.66775 -0.227848 -2.80349 -1.35163 -2.80349C-1.8418 -2.80349 -2.14067 -2.52852 -2.19447 -2.46874ZM-2.19447 -2.46874M-2.17654 -2.16389C-2.09883 -2.23562 -1.9195 -2.3731 -1.64454 -2.3731C-1.0408 -2.3731 -1.0408 -1.82316 -1.0408 -1.37484C-1.0408 -0.932503 -1.0408 -0.364633 -1.71029 -0.364633C-1.96135 -0.364633 -2.11079 -0.514072 -2.17654 -0.597758ZM-2.17654 -0.597758\" fill=\"black\"/>\n",
       " </g>\n",
       " <g transform=\"matrix(1.000000,0.000000,0.000000,1.000000,127.559055,-96.377953)\">\n",
       "  <path d=\"M0.418431 -0M4.55293 -3.24782C4.55293 -4.03487 4.51308 -4.96139 4.09465 -5.76837C3.68618 -6.51557 2.99875 -6.75467 2.49066 -6.75467C1.90286 -6.75467 1.20548 -6.48568 0.797011 -5.599C0.468244 -4.87173 0.418431 -4.04483 0.418431 -3.24782C0.418431 -2.46077 0.458281 -1.7335 0.757161 -1.00623C1.15567 -0.0498132 1.91283 0.219178 2.4807 0.219178C3.20797 0.219178 3.83562 -0.18929 4.15442 -0.876712C4.4533 -1.52428 4.55293 -2.18182 4.55293 -3.24782ZM4.55293 -3.24782M2.49066 -0.388543C1.9726 -0.388543 1.56413 -0.767123 1.36488 -1.48443C1.20548 -2.0523 1.19552 -2.59029 1.19552 -3.36737C1.19552 -3.99502 1.19552 -4.59278 1.36488 -5.14072C1.42466 -5.33001 1.67372 -6.14695 2.4807 -6.14695C3.25778 -6.14695 3.51681 -5.38979 3.58655 -5.21046C3.77584 -4.65255 3.77584 -3.98506 3.77584 -3.36737C3.77584 -2.70984 3.77584 -2.08219 3.59651 -1.45455C3.33748 -0.547945 2.80946 -0.388543 2.49066 -0.388543ZM2.49066 -0.388543\" fill=\"black\"/>\n",
       " </g>\n",
       " <g stroke-width=\"0.400879\">\n",
       "  <path d=\"M137.411 -88.5265C336.63 -90.7792 518.782 -229.468 522.495 -427.731\" stroke=\"#7fcc7f\"/>\n",
       "  <g stroke-linecap=\"butt\" stroke-dasharray=\"none\">\n",
       "   <path d=\"M520.854 -426.972C521.423 -428.264 521.985 -429.562 522.539 -430.866C523.069 -429.552 523.59 -428.237 524.101 -426.922L522.495 -427.731Z\" fill=\"#7fcc7f\"/>\n",
       "  </g>\n",
       " </g>\n",
       " <g stroke-width=\"1.133858\">\n",
       "  <path d=\"M516.323 -429.866L528.784 -429.866L528.784 -437.954L516.323 -437.954Z\" stroke=\"#7fcc7f\" fill=\"#cc9\"/>\n",
       " </g>\n",
       " <g transform=\"matrix(1.000000,0.000000,0.000000,1.000000,517.322835,-430.866142)\">\n",
       "  <path d=\"M0.498132 -0M4.72229 -3.03861C4.72229 -4.89166 3.7061 -6.19676 2.61021 -6.19676C1.4944 -6.19676 0.498132 -4.86177 0.498132 -3.04857C0.498132 -1.19552 1.51432 0.109589 2.61021 0.109589C3.72603 0.109589 4.72229 -1.2254 4.72229 -3.03861ZM4.72229 -3.03861M2.61021 -0.498132C1.83313 -0.498132 1.18555 -1.67372 1.18555 -3.14819C1.18555 -4.60274 1.87298 -5.58904 2.61021 -5.58904C3.33748 -5.58904 4.03487 -4.6127 4.03487 -3.14819C4.03487 -1.67372 3.3873 -0.498132 2.61021 -0.498132ZM2.61021 -0.498132M5.72852 -0M9.95268 -3.03861C9.95268 -4.89166 8.93649 -6.19676 7.8406 -6.19676C6.72478 -6.19676 5.72852 -4.86177 5.72852 -3.04857C5.72852 -1.19552 6.74471 0.109589 7.8406 0.109589C8.95641 0.109589 9.95268 -1.2254 9.95268 -3.03861ZM9.95268 -3.03861M7.8406 -0.498132C7.06351 -0.498132 6.41594 -1.67372 6.41594 -3.14819C6.41594 -4.60274 7.10336 -5.58904 7.8406 -5.58904C8.56787 -5.58904 9.26526 -4.6127 9.26526 -3.14819C9.26526 -1.67372 8.61768 -0.498132 7.8406 -0.498132ZM7.8406 -0.498132\" fill=\"black\"/>\n",
       " </g>\n",
       " <g transform=\"matrix(1.000000,0.000000,0.000000,1.000000,28.346457,-85.039370)\">\n",
       "  <path d=\"M0.816936 -0M1.56413 -2.132C1.56413 -3.12827 2.28144 -3.84558 3.25778 -3.8655L3.25778 -4.533C2.37111 -4.52304 1.82316 -4.03487 1.51432 -3.57659L1.51432 -4.48319L0.816936 -4.48319L0.816936 -0L1.56413 -0ZM1.56413 -0M3.75592 -0M7.48194 -4.16438C6.89415 -4.50311 6.55542 -4.59278 5.9477 -4.59278C4.56289 -4.59278 3.75592 -3.3873 3.75592 -2.21171C3.75592 -0.976339 4.66252 0.109589 5.90785 0.109589C6.44583 0.109589 6.99377 -0.0298879 7.53176 -0.398506L7.47198 -1.066C6.96389 -0.667497 6.4259 -0.52802 5.91781 -0.52802C5.09091 -0.52802 4.533 -1.24533 4.533 -2.22167C4.533 -2.99875 4.90162 -3.95517 5.95766 -3.95517C6.47572 -3.95517 6.81445 -3.87547 7.36239 -3.51681ZM7.36239 -3.51681M8.11955 -0M12.4932 -2.19178C12.4932 -3.52677 11.4969 -4.59278 10.3113 -4.59278C9.08593 -4.59278 8.11955 -3.49689 8.11955 -2.19178C8.11955 -0.876712 9.13574 0.109589 10.3014 0.109589C11.4969 0.109589 12.4932 -0.896638 12.4932 -2.19178ZM12.4932 -2.19178M10.3014 -0.52802C9.61395 -0.52802 8.89664 -1.08593 8.89664 -2.29141C8.89664 -3.49689 9.6538 -3.98506 10.3014 -3.98506C10.9988 -3.98506 11.7161 -3.467 11.7161 -2.29141C11.7161 -1.11582 11.0386 -0.52802 10.3014 -0.52802ZM10.3014 -0.52802\" fill=\"black\"/>\n",
       "  <path d=\"M13.4485 -0M17.4136 -6.91407L16.6664 -6.91407L16.6664 -3.98506C16.1384 -4.42341 15.5805 -4.533 15.2119 -4.533C14.2256 -4.533 13.4485 -3.49689 13.4485 -2.21171C13.4485 -0.9066 14.2156 0.109589 15.1621 0.109589C15.4908 0.109589 16.0786 0.0199253 16.6365 -0.518057L16.6365 -0L17.4136 -0ZM17.4136 -0M16.6365 -1.38481C16.6365 -1.24533 16.6266 -1.066 16.3078 -0.777086C16.0786 -0.577833 15.8296 -0.498132 15.5705 -0.498132C14.9529 -0.498132 14.2256 -0.966376 14.2256 -2.20174C14.2256 -3.51681 15.0824 -3.92528 15.6702 -3.92528C16.1185 -3.92528 16.4174 -3.69614 16.6365 -3.37733ZM16.6365 -3.37733M18.5793 -0M22.3551 -2.18182C22.3551 -2.52055 22.3451 -3.26775 21.9566 -3.8655C21.5481 -4.48319 20.9404 -4.59278 20.5817 -4.59278C19.4759 -4.59278 18.5793 -3.53674 18.5793 -2.25156C18.5793 -0.936488 19.5357 0.109589 20.7312 0.109589C21.3588 0.109589 21.9267 -0.129514 22.3152 -0.408468L22.2555 -1.05604C21.6278 -0.537983 20.9703 -0.498132 20.7412 -0.498132C19.9441 -0.498132 19.3065 -1.20548 19.2766 -2.18182ZM19.2766 -2.18182M19.3265 -2.72976C19.4859 -3.48692 20.0139 -3.98506 20.5817 -3.98506C21.0998 -3.98506 21.6577 -3.64633 21.7872 -2.72976ZM21.7872 -2.72976\" fill=\"black\"/>\n",
       " </g>\n",
       " <g transform=\"matrix(1.000000,0.000000,0.000000,1.000000,124.724409,-85.039370)\">\n",
       "  <path d=\"M-6.45649 -0M-6.40867 -1.56613C-6.45649 -1.47646 -6.45649 -1.45853 -6.45649 -1.35093L-6.45649 -1.20149C-6.45649 -1.01021 -6.41465 -0.91457 -6.16957 -0.91457L-4.82461 -0.91457L-4.82461 -0.286924C-4.82461 -0.0956413 -4.78277 -0 -4.53769 -0L-4.37031 -0C-4.14317 -0 -4.08339 -0.0777086 -4.08339 -0.286924L-4.08339 -0.91457L-3.83233 -0.91457C-3.64703 -0.91457 -3.54541 -0.956413 -3.54541 -1.19552C-3.54541 -1.41669 -3.62312 -1.47646 -3.83233 -1.47646L-4.08339 -1.47646L-4.08339 -3.86152C-4.08339 -4.07671 -4.14914 -4.14844 -4.37031 -4.14844L-4.80668 -4.14844C-4.92025 -4.14844 -5.00992 -4.14844 -5.08165 -4.01096ZM-5.08165 -4.01096M-5.83482 -1.47646C-4.87841 -3.23387 -4.82461 -3.41918 -4.79472 -3.5208L-4.78874 -3.5208L-4.78874 -1.47646ZM-4.78874 -1.47646M-2.98949 -0M-2.19447 -3.86152C-2.19447 -4.0528 -2.23632 -4.14844 -2.4814 -4.14844L-2.70257 -4.14844C-2.91776 -4.14844 -2.98949 -4.08269 -2.98949 -3.86152L-2.98949 -0.286924C-2.98949 -0.071731 -2.92374 -0 -2.70257 -0L-2.46346 -0C-2.36185 -0 -2.18252 -0 -2.17654 -0.233126C-1.90157 0.0657534 -1.59671 0.0657534 -1.50107 0.0657534C-0.227848 0.0657534 -0.227848 -1.08194 -0.227848 -1.38082C-0.227848 -1.66775 -0.227848 -2.80349 -1.35163 -2.80349C-1.8418 -2.80349 -2.14067 -2.52852 -2.19447 -2.46874ZM-2.19447 -2.46874M-2.17654 -2.16389C-2.09883 -2.23562 -1.9195 -2.3731 -1.64454 -2.3731C-1.0408 -2.3731 -1.0408 -1.82316 -1.0408 -1.37484C-1.0408 -0.932503 -1.0408 -0.364633 -1.71029 -0.364633C-1.96135 -0.364633 -2.11079 -0.514072 -2.17654 -0.597758ZM-2.17654 -0.597758\" fill=\"black\"/>\n",
       " </g>\n",
       " <g transform=\"matrix(1.000000,0.000000,0.000000,1.000000,127.559055,-85.039370)\">\n",
       "  <path d=\"M0.298879 -0M4.67248 -2.19178C4.67248 -3.52677 3.67621 -4.59278 2.49066 -4.59278C1.26526 -4.59278 0.298879 -3.49689 0.298879 -2.19178C0.298879 -0.876712 1.31507 0.109589 2.4807 0.109589C3.67621 0.109589 4.67248 -0.896638 4.67248 -2.19178ZM4.67248 -2.19178M2.4807 -0.52802C1.79328 -0.52802 1.07597 -1.08593 1.07597 -2.29141C1.07597 -3.49689 1.83313 -3.98506 2.4807 -3.98506C3.17808 -3.98506 3.89539 -3.467 3.89539 -2.29141C3.89539 -1.11582 3.21793 -0.52802 2.4807 -0.52802ZM2.4807 -0.52802M5.81818 -0M7.78082 -2.70984L9.45455 -4.42341L8.55791 -4.42341L6.53549 -2.35118L6.53549 -6.91407L5.81818 -6.91407L5.81818 -0L6.5056 -0L6.5056 -1.40473L7.30262 -2.23163L8.85679 -0L9.67372 -0ZM9.67372 -0\" fill=\"black\"/>\n",
       " </g>\n",
       " <g stroke-width=\"0.400879\">\n",
       "  <path d=\"M132.54 -76.9846C277.817 -79.121 296.055 -268.464 296.531 -416.392\" stroke=\"#7f33cc\"/>\n",
       "  <g stroke-linecap=\"butt\" stroke-dasharray=\"none\">\n",
       "   <path d=\"M294.904 -415.612C295.452 -416.92 295.996 -418.225 296.538 -419.528C297.076 -418.224 297.613 -416.916 298.151 -415.604L296.531 -416.392Z\" fill=\"#7f33cc\"/>\n",
       "  </g>\n",
       " </g>\n",
       " <g stroke-width=\"1.133858\">\n",
       "  <path d=\"M282.465 -418.528L310.616 -418.528L310.616 -426.616L282.465 -426.616Z\" stroke=\"#7f33cc\" fill=\"#cc9\"/>\n",
       " </g>\n",
       " <g transform=\"matrix(1.000000,0.000000,0.000000,1.000000,283.464567,-419.527559)\">\n",
       "  <path d=\"M0.498132 -0M4.72229 -3.03861C4.72229 -4.89166 3.7061 -6.19676 2.61021 -6.19676C1.4944 -6.19676 0.498132 -4.86177 0.498132 -3.04857C0.498132 -1.19552 1.51432 0.109589 2.61021 0.109589C3.72603 0.109589 4.72229 -1.2254 4.72229 -3.03861ZM4.72229 -3.03861M2.61021 -0.498132C1.83313 -0.498132 1.18555 -1.67372 1.18555 -3.14819C1.18555 -4.60274 1.87298 -5.58904 2.61021 -5.58904C3.33748 -5.58904 4.03487 -4.6127 4.03487 -3.14819C4.03487 -1.67372 3.3873 -0.498132 2.61021 -0.498132ZM2.61021 -0.498132M5.72852 -0M9.95268 -3.03861C9.95268 -4.89166 8.93649 -6.19676 7.8406 -6.19676C6.72478 -6.19676 5.72852 -4.86177 5.72852 -3.04857C5.72852 -1.19552 6.74471 0.109589 7.8406 0.109589C8.95641 0.109589 9.95268 -1.2254 9.95268 -3.03861ZM9.95268 -3.03861M7.8406 -0.498132C7.06351 -0.498132 6.41594 -1.67372 6.41594 -3.14819C6.41594 -4.60274 7.10336 -5.58904 7.8406 -5.58904C8.56787 -5.58904 9.26526 -4.6127 9.26526 -3.14819C9.26526 -1.67372 8.61768 -0.498132 7.8406 -0.498132ZM7.8406 -0.498132\" fill=\"black\"/>\n",
       "  <path d=\"M16.1892 -0M20.4133 -3.03861C20.4133 -4.89166 19.3971 -6.19676 18.3012 -6.19676C17.1854 -6.19676 16.1892 -4.86177 16.1892 -3.04857C16.1892 -1.19552 17.2053 0.109589 18.3012 0.109589C19.417 0.109589 20.4133 -1.2254 20.4133 -3.03861ZM20.4133 -3.03861M18.3012 -0.498132C17.5241 -0.498132 16.8766 -1.67372 16.8766 -3.14819C16.8766 -4.60274 17.564 -5.58904 18.3012 -5.58904C19.0285 -5.58904 19.7259 -4.6127 19.7259 -3.14819C19.7259 -1.67372 19.0783 -0.498132 18.3012 -0.498132ZM18.3012 -0.498132M21.9675 -0M24.0198 -5.78829C24.0198 -5.9477 24.0198 -6.19676 23.7209 -6.19676C23.5316 -6.19676 23.4718 -6.07721 23.422 -5.95766C23.0434 -5.11083 22.5254 -5.00125 22.3361 -4.98132C22.1767 -4.97136 21.9675 -4.95143 21.9675 -4.67248C21.9675 -4.42341 22.1468 -4.3736 22.2963 -4.3736C22.4855 -4.3736 22.894 -4.43337 23.3324 -4.81196L23.3324 -0.607721L22.4258 -0.607721C22.2664 -0.607721 22.0273 -0.607721 22.0273 -0.298879C22.0273 -0 22.2763 -0 22.4258 -0L24.9264 -0C25.0758 -0 25.3249 -0 25.3249 -0.298879C25.3249 -0.607721 25.0858 -0.607721 24.9264 -0.607721L24.0198 -0.607721ZM24.0198 -0.607721\" fill=\"black\"/>\n",
       " </g>\n",
       " <g transform=\"matrix(1.000000,0.000000,0.000000,1.000000,28.346457,-73.700787)\">\n",
       "  <path d=\"M0.358655 -0M4.32379 -4.533L3.57659 -4.533L3.57659 -3.85554C3.47696 -3.98506 2.98879 -4.533 2.21171 -4.533C1.21544 -4.533 0.358655 -3.5467 0.358655 -2.20174C0.358655 -0.936488 1.08593 0.109589 2.04234 0.109589C2.60025 0.109589 3.12827 -0.119552 3.5467 -0.498132L3.5467 1.93275L4.32379 1.93275ZM4.32379 1.93275M3.57659 -1.39477C3.57659 -1.21544 3.57659 -1.19552 3.47696 -1.066C3.21793 -0.667497 2.84932 -0.498132 2.49066 -0.498132C1.7335 -0.498132 1.13574 -1.27522 1.13574 -2.20174C1.13574 -3.21793 1.85305 -3.89539 2.58032 -3.89539C3.26775 -3.89539 3.57659 -3.18804 3.57659 -2.78954ZM3.57659 -2.78954M5.49938 -0M9.46451 -6.91407L8.71731 -6.91407L8.71731 -3.98506C8.18929 -4.42341 7.63138 -4.533 7.26276 -4.533C6.27646 -4.533 5.49938 -3.49689 5.49938 -2.21171C5.49938 -0.9066 6.2665 0.109589 7.21295 0.109589C7.54172 0.109589 8.12951 0.0199253 8.68742 -0.518057L8.68742 -0L9.46451 -0ZM9.46451 -0M8.68742 -1.38481C8.68742 -1.24533 8.67746 -1.066 8.35866 -0.777086C8.12951 -0.577833 7.88045 -0.498132 7.62142 -0.498132C7.00374 -0.498132 6.27646 -0.966376 6.27646 -2.20174C6.27646 -3.51681 7.13325 -3.92528 7.72105 -3.92528C8.16936 -3.92528 8.46824 -3.69614 8.68742 -3.37733ZM8.68742 -3.37733M10.6401 -0M14.3661 -4.16438C13.7783 -4.50311 13.4396 -4.59278 12.8319 -4.59278C11.4471 -4.59278 10.6401 -3.3873 10.6401 -2.21171C10.6401 -0.976339 11.5467 0.109589 12.792 0.109589C13.33 0.109589 13.878 -0.0298879 14.4159 -0.398506L14.3562 -1.066C13.8481 -0.667497 13.3101 -0.52802 12.802 -0.52802C11.9751 -0.52802 11.4172 -1.24533 11.4172 -2.22167C11.4172 -2.99875 11.7858 -3.95517 12.8418 -3.95517C13.3599 -3.95517 13.6986 -3.87547 14.2466 -3.51681ZM14.2466 -3.51681M15.0037 -0M19.3773 -2.19178C19.3773 -3.52677 18.3811 -4.59278 17.1955 -4.59278C15.9701 -4.59278 15.0037 -3.49689 15.0037 -2.19178C15.0037 -0.876712 16.0199 0.109589 17.1856 0.109589C18.3811 0.109589 19.3773 -0.896638 19.3773 -2.19178ZM19.3773 -2.19178M17.1856 -0.52802C16.4981 -0.52802 15.7808 -1.08593 15.7808 -2.29141C15.7808 -3.49689 16.538 -3.98506 17.1856 -3.98506C17.8829 -3.98506 18.6002 -3.467 18.6002 -2.29141C18.6002 -1.11582 17.9228 -0.52802 17.1856 -0.52802ZM17.1856 -0.52802M20.4932 -0M24.0199 -4.42341L23.2428 -4.42341L23.2428 -1.53425C23.2428 -0.787049 22.6849 -0.438356 22.0473 -0.438356C21.34 -0.438356 21.2702 -0.697385 21.2702 -1.12578L21.2702 -4.42341L20.4932 -4.42341L20.4932 -1.08593C20.4932 -0.368618 20.7223 0.109589 21.5492 0.109589C22.0772 0.109589 22.7846 -0.0498132 23.2727 -0.478207L23.2727 -0L24.0199 -0ZM24.0199 -0M25.6339 -0M29.1606 -2.96887C29.1606 -3.6264 29.0112 -4.533 27.7958 -4.533C26.8991 -4.533 26.411 -3.85554 26.3512 -3.77584L26.3512 -4.48319L25.6339 -4.48319L25.6339 -0L26.411 -0L26.411 -2.44085C26.411 -3.09838 26.66 -3.92528 27.4172 -3.92528C28.3736 -3.92528 28.3836 -3.21793 28.3836 -2.89913L28.3836 -0L29.1606 -0ZM29.1606 -0M30.1569 -0M31.7111 -3.84558L33.1158 -3.84558L33.1158 -4.42341L31.7111 -4.42341L31.7111 -5.68867L31.0237 -5.68867L31.0237 -4.42341L30.1569 -4.42341L30.1569 -3.84558L30.9938 -3.84558L30.9938 -1.18555C30.9938 -0.587796 31.1333 0.109589 31.8207 0.109589C32.5181 0.109589 33.0262 -0.139477 33.2752 -0.268991L33.1158 -0.856787C32.8568 -0.647572 32.538 -0.52802 32.2192 -0.52802C31.8506 -0.52802 31.7111 -0.826899 31.7111 -1.35492ZM31.7111 -1.35492\" fill=\"black\"/>\n",
       " </g>\n",
       " <g transform=\"matrix(1.000000,0.000000,0.000000,1.000000,124.724409,-73.700787)\">\n",
       "  <path d=\"M-7.39631 -0M-7.28273 -0.508095C-7.34251 -0.448319 -7.34251 -0.436364 -7.34251 -0.334745L-7.34251 -0.286924C-7.34251 -0.071731 -7.27675 -0 -7.05558 -0L-5.00527 -0C-4.77812 -0 -4.71835 -0.0777086 -4.71835 -0.286924L-4.71835 -0.358655C-4.71835 -0.454296 -4.71835 -0.56787 -4.84388 -0.621669C-4.88572 -0.645579 -5.077 -0.645579 -5.19656 -0.645579C-5.32806 -0.645579 -5.47152 -0.639601 -5.60303 -0.639601L-6.5714 -0.639601L-5.78236 -1.3868C-5.6927 -1.46451 -5.46555 -1.64981 -5.37588 -1.7335C-5.04712 -2.05629 -4.71835 -2.3731 -4.71835 -2.90511C-4.71835 -3.63437 -5.24438 -4.27995 -6.12308 -4.27995C-6.3323 -4.27995 -6.67302 -4.25006 -6.95994 -4.01694C-7.01374 -3.97509 -7.28871 -3.7599 -7.39631 -3.3594L-7.09743 -2.97684C-7.06156 -2.92902 -7.04363 -2.90511 -7.00179 -2.90511C-6.94799 -2.90511 -6.93603 -2.94695 -6.9181 -3.01868C-6.79855 -3.43113 -6.59531 -3.68219 -6.21274 -3.68219C-5.74649 -3.68219 -5.55521 -3.25778 -5.55521 -2.89315C-5.55521 -2.51059 -5.78236 -2.11009 -6.14101 -1.72752ZM-6.14101 -1.72752M-3.83964 -0M-3.55272 -4.14844C-3.76791 -4.14844 -3.83964 -4.08269 -3.83964 -3.86152L-3.83964 -0.286924C-3.83964 -0.071731 -3.77389 -0 -3.55272 -0L-1.91486 -0C-1.47252 -0 -0.372645 -0.0777086 -0.372645 -1.15965C-0.372645 -2.00249 -1.20353 -2.134 -1.4247 -2.16986C-0.874762 -2.29539 -0.55795 -2.60623 -0.55795 -3.07248C-0.55795 -4.14844 -1.83118 -4.14844 -2.08223 -4.14844ZM-2.08223 -4.14844M-2.9968 -2.3731L-2.9968 -3.63437L-2.29743 -3.63437C-2.0643 -3.63437 -1.3709 -3.61644 -1.3709 -3.05455C-1.3709 -2.3731 -2.15397 -2.3731 -2.3034 -2.3731ZM-2.3034 -2.3731M-2.9968 -0.514072L-2.9968 -1.94271L-2.24363 -1.94271C-2.03441 -1.94271 -1.20353 -1.94271 -1.20353 -1.17161C-1.20353 -0.555915 -1.84313 -0.514072 -2.13006 -0.514072ZM-2.13006 -0.514072\" fill=\"black\"/>\n",
       " </g>\n",
       " <g transform=\"matrix(1.000000,0.000000,0.000000,1.000000,127.559055,-73.700787)\">\n",
       "  <path d=\"M0.886675 -0M2.97883 -6.75467L2.77958 -6.75467C2.19178 -6.14695 1.36488 -6.11706 0.886675 -6.09714L0.886675 -5.5193C1.21544 -5.52927 1.69365 -5.54919 2.19178 -5.75841L2.19178 -0.577833L0.946451 -0.577833L0.946451 -0L4.22416 -0L4.22416 -0.577833L2.97883 -0.577833ZM2.97883 -0.577833\" fill=\"black\"/>\n",
       " </g>\n",
       " <g stroke-width=\"0.400879\">\n",
       "  <path d=\"M132.54 -65.644C287.544 -67.6723 326.712 -259.208 327.702 -416.392\" stroke=\"#cc3\"/>\n",
       "  <g stroke-linecap=\"butt\" stroke-dasharray=\"none\">\n",
       "   <path d=\"M326.073 -415.616C326.625 -416.922 327.173 -418.225 327.717 -419.528C328.253 -418.222 328.787 -416.913 329.32 -415.599L327.702 -416.392Z\" fill=\"#cc3\"/>\n",
       "  </g>\n",
       " </g>\n",
       " <g stroke-width=\"1.133858\">\n",
       "  <path d=\"M313.646 -418.528L341.797 -418.528L341.797 -426.616L313.646 -426.616Z\" stroke=\"#cc3\" fill=\"#cc9\"/>\n",
       " </g>\n",
       " <g transform=\"matrix(1.000000,0.000000,0.000000,1.000000,314.645669,-419.527559)\">\n",
       "  <path d=\"M0.498132 -0M4.72229 -3.03861C4.72229 -4.89166 3.7061 -6.19676 2.61021 -6.19676C1.4944 -6.19676 0.498132 -4.86177 0.498132 -3.04857C0.498132 -1.19552 1.51432 0.109589 2.61021 0.109589C3.72603 0.109589 4.72229 -1.2254 4.72229 -3.03861ZM4.72229 -3.03861M2.61021 -0.498132C1.83313 -0.498132 1.18555 -1.67372 1.18555 -3.14819C1.18555 -4.60274 1.87298 -5.58904 2.61021 -5.58904C3.33748 -5.58904 4.03487 -4.6127 4.03487 -3.14819C4.03487 -1.67372 3.3873 -0.498132 2.61021 -0.498132ZM2.61021 -0.498132M5.72852 -0M9.95268 -3.03861C9.95268 -4.89166 8.93649 -6.19676 7.8406 -6.19676C6.72478 -6.19676 5.72852 -4.86177 5.72852 -3.04857C5.72852 -1.19552 6.74471 0.109589 7.8406 0.109589C8.95641 0.109589 9.95268 -1.2254 9.95268 -3.03861ZM9.95268 -3.03861M7.8406 -0.498132C7.06351 -0.498132 6.41594 -1.67372 6.41594 -3.14819C6.41594 -4.60274 7.10336 -5.58904 7.8406 -5.58904C8.56787 -5.58904 9.26526 -4.6127 9.26526 -3.14819C9.26526 -1.67372 8.61768 -0.498132 7.8406 -0.498132ZM7.8406 -0.498132\" fill=\"black\"/>\n",
       "  <path d=\"M16.1892 -0M20.4133 -3.03861C20.4133 -4.89166 19.3971 -6.19676 18.3012 -6.19676C17.1854 -6.19676 16.1892 -4.86177 16.1892 -3.04857C16.1892 -1.19552 17.2053 0.109589 18.3012 0.109589C19.417 0.109589 20.4133 -1.2254 20.4133 -3.03861ZM20.4133 -3.03861M18.3012 -0.498132C17.5241 -0.498132 16.8766 -1.67372 16.8766 -3.14819C16.8766 -4.60274 17.564 -5.58904 18.3012 -5.58904C19.0285 -5.58904 19.7259 -4.6127 19.7259 -3.14819C19.7259 -1.67372 19.0783 -0.498132 18.3012 -0.498132ZM18.3012 -0.498132M21.4195 -0M25.6437 -3.03861C25.6437 -4.89166 24.6275 -6.19676 23.5316 -6.19676C22.4158 -6.19676 21.4195 -4.86177 21.4195 -3.04857C21.4195 -1.19552 22.4357 0.109589 23.5316 0.109589C24.6474 0.109589 25.6437 -1.2254 25.6437 -3.03861ZM25.6437 -3.03861M23.5316 -0.498132C22.7545 -0.498132 22.107 -1.67372 22.107 -3.14819C22.107 -4.60274 22.7944 -5.58904 23.5316 -5.58904C24.2589 -5.58904 24.9563 -4.6127 24.9563 -3.14819C24.9563 -1.67372 24.3087 -0.498132 23.5316 -0.498132ZM23.5316 -0.498132\" fill=\"black\"/>\n",
       " </g>\n",
       " <g transform=\"matrix(1.000000,0.000000,0.000000,1.000000,28.346457,-62.362205)\">\n",
       "  <path d=\"M0.438356 -0M3.97509 -2.8792C3.97509 -3.89539 3.24782 -4.59278 2.33126 -4.59278C1.68369 -4.59278 1.23537 -4.43337 0.767123 -4.16438L0.826899 -3.50685C1.34496 -3.87547 1.84309 -4.00498 2.33126 -4.00498C2.7995 -4.00498 3.19801 -3.60648 3.19801 -2.86924L3.19801 -2.44085C1.70361 -2.42092 0.438356 -2.00249 0.438356 -1.12578C0.438356 -0.697385 0.707347 0.109589 1.5741 0.109589C1.71357 0.109589 2.65006 0.0896638 3.2279 -0.358655L3.2279 -0L3.97509 -0ZM3.97509 -0M3.19801 -1.31507C3.19801 -1.12578 3.19801 -0.876712 2.85928 -0.687422C2.57036 -0.508095 2.19178 -0.498132 2.08219 -0.498132C1.60399 -0.498132 1.15567 -0.727273 1.15567 -1.1457C1.15567 -1.84309 2.76961 -1.91283 3.19801 -1.93275ZM3.19801 -1.93275M5.58904 -0M9.11582 -2.96887C9.11582 -3.6264 8.96638 -4.533 7.75093 -4.533C6.8543 -4.533 6.36613 -3.85554 6.30635 -3.77584L6.30635 -4.48319L5.58904 -4.48319L5.58904 -0L6.36613 -0L6.36613 -2.44085C6.36613 -3.09838 6.61519 -3.92528 7.37235 -3.92528C8.32877 -3.92528 8.33873 -3.21793 8.33873 -2.89913L8.33873 -0L9.11582 -0ZM9.11582 -0M10.2814 -0M14.0075 -4.16438C13.4197 -4.50311 13.0809 -4.59278 12.4732 -4.59278C11.0884 -4.59278 10.2814 -3.3873 10.2814 -2.21171C10.2814 -0.976339 11.188 0.109589 12.4334 0.109589C12.9714 0.109589 13.5193 -0.0298879 14.0573 -0.398506L13.9975 -1.066C13.4894 -0.667497 12.9514 -0.52802 12.4433 -0.52802C11.6164 -0.52802 11.0585 -1.24533 11.0585 -2.22167C11.0585 -2.99875 11.4271 -3.95517 12.4832 -3.95517C13.0012 -3.95517 13.34 -3.87547 13.8879 -3.51681ZM13.8879 -3.51681M14.6451 -0M19.0187 -2.19178C19.0187 -3.52677 18.0224 -4.59278 16.8369 -4.59278C15.6115 -4.59278 14.6451 -3.49689 14.6451 -2.19178C14.6451 -0.876712 15.6613 0.109589 16.8269 0.109589C18.0224 0.109589 19.0187 -0.896638 19.0187 -2.19178ZM19.0187 -2.19178M16.8269 -0.52802C16.1395 -0.52802 15.4222 -1.08593 15.4222 -2.29141C15.4222 -3.49689 16.1793 -3.98506 16.8269 -3.98506C17.5243 -3.98506 18.2416 -3.467 18.2416 -2.29141C18.2416 -1.11582 17.5641 -0.52802 16.8269 -0.52802ZM16.8269 -0.52802M20.1345 -0M23.6613 -4.42341L22.8842 -4.42341L22.8842 -1.53425C22.8842 -0.787049 22.3263 -0.438356 21.6887 -0.438356C20.9813 -0.438356 20.9116 -0.697385 20.9116 -1.12578L20.9116 -4.42341L20.1345 -4.42341L20.1345 -1.08593C20.1345 -0.368618 20.3636 0.109589 21.1905 0.109589C21.7186 0.109589 22.4259 -0.0498132 22.9141 -0.478207L22.9141 -0L23.6613 -0ZM23.6613 -0M25.2752 -0M28.802 -2.96887C28.802 -3.6264 28.6526 -4.533 27.4371 -4.533C26.5405 -4.533 26.0523 -3.85554 25.9925 -3.77584L25.9925 -4.48319L25.2752 -4.48319L25.2752 -0L26.0523 -0L26.0523 -2.44085C26.0523 -3.09838 26.3014 -3.92528 27.0585 -3.92528C28.0149 -3.92528 28.0249 -3.21793 28.0249 -2.89913L28.0249 -0L28.802 -0ZM28.802 -0M29.7983 -0M31.3524 -3.84558L32.7572 -3.84558L32.7572 -4.42341L31.3524 -4.42341L31.3524 -5.68867L30.665 -5.68867L30.665 -4.42341L29.7983 -4.42341L29.7983 -3.84558L30.6351 -3.84558L30.6351 -1.18555C30.6351 -0.587796 30.7746 0.109589 31.462 0.109589C32.1594 0.109589 32.6675 -0.139477 32.9166 -0.268991L32.7572 -0.856787C32.4981 -0.647572 32.1793 -0.52802 31.8605 -0.52802C31.4919 -0.52802 31.3524 -0.826899 31.3524 -1.35492ZM31.3524 -1.35492\" fill=\"black\"/>\n",
       " </g>\n",
       " <g transform=\"matrix(1.000000,0.000000,0.000000,1.000000,124.724409,-62.362205)\">\n",
       "  <path d=\"M-7.39631 -0M-7.28273 -0.508095C-7.34251 -0.448319 -7.34251 -0.436364 -7.34251 -0.334745L-7.34251 -0.286924C-7.34251 -0.071731 -7.27675 -0 -7.05558 -0L-5.00527 -0C-4.77812 -0 -4.71835 -0.0777086 -4.71835 -0.286924L-4.71835 -0.358655C-4.71835 -0.454296 -4.71835 -0.56787 -4.84388 -0.621669C-4.88572 -0.645579 -5.077 -0.645579 -5.19656 -0.645579C-5.32806 -0.645579 -5.47152 -0.639601 -5.60303 -0.639601L-6.5714 -0.639601L-5.78236 -1.3868C-5.6927 -1.46451 -5.46555 -1.64981 -5.37588 -1.7335C-5.04712 -2.05629 -4.71835 -2.3731 -4.71835 -2.90511C-4.71835 -3.63437 -5.24438 -4.27995 -6.12308 -4.27995C-6.3323 -4.27995 -6.67302 -4.25006 -6.95994 -4.01694C-7.01374 -3.97509 -7.28871 -3.7599 -7.39631 -3.3594L-7.09743 -2.97684C-7.06156 -2.92902 -7.04363 -2.90511 -7.00179 -2.90511C-6.94799 -2.90511 -6.93603 -2.94695 -6.9181 -3.01868C-6.79855 -3.43113 -6.59531 -3.68219 -6.21274 -3.68219C-5.74649 -3.68219 -5.55521 -3.25778 -5.55521 -2.89315C-5.55521 -2.51059 -5.78236 -2.11009 -6.14101 -1.72752ZM-6.14101 -1.72752M-3.83964 -0M-3.55272 -4.14844C-3.76791 -4.14844 -3.83964 -4.08269 -3.83964 -3.86152L-3.83964 -0.286924C-3.83964 -0.071731 -3.77389 -0 -3.55272 -0L-1.91486 -0C-1.47252 -0 -0.372645 -0.0777086 -0.372645 -1.15965C-0.372645 -2.00249 -1.20353 -2.134 -1.4247 -2.16986C-0.874762 -2.29539 -0.55795 -2.60623 -0.55795 -3.07248C-0.55795 -4.14844 -1.83118 -4.14844 -2.08223 -4.14844ZM-2.08223 -4.14844M-2.9968 -2.3731L-2.9968 -3.63437L-2.29743 -3.63437C-2.0643 -3.63437 -1.3709 -3.61644 -1.3709 -3.05455C-1.3709 -2.3731 -2.15397 -2.3731 -2.3034 -2.3731ZM-2.3034 -2.3731M-2.9968 -0.514072L-2.9968 -1.94271L-2.24363 -1.94271C-2.03441 -1.94271 -1.20353 -1.94271 -1.20353 -1.17161C-1.20353 -0.555915 -1.84313 -0.514072 -2.13006 -0.514072ZM-2.13006 -0.514072\" fill=\"black\"/>\n",
       " </g>\n",
       " <g transform=\"matrix(1.000000,0.000000,0.000000,1.000000,127.559055,-62.362205)\">\n",
       "  <path d=\"M0.418431 -0M4.55293 -3.24782C4.55293 -4.03487 4.51308 -4.96139 4.09465 -5.76837C3.68618 -6.51557 2.99875 -6.75467 2.49066 -6.75467C1.90286 -6.75467 1.20548 -6.48568 0.797011 -5.599C0.468244 -4.87173 0.418431 -4.04483 0.418431 -3.24782C0.418431 -2.46077 0.458281 -1.7335 0.757161 -1.00623C1.15567 -0.0498132 1.91283 0.219178 2.4807 0.219178C3.20797 0.219178 3.83562 -0.18929 4.15442 -0.876712C4.4533 -1.52428 4.55293 -2.18182 4.55293 -3.24782ZM4.55293 -3.24782M2.49066 -0.388543C1.9726 -0.388543 1.56413 -0.767123 1.36488 -1.48443C1.20548 -2.0523 1.19552 -2.59029 1.19552 -3.36737C1.19552 -3.99502 1.19552 -4.59278 1.36488 -5.14072C1.42466 -5.33001 1.67372 -6.14695 2.4807 -6.14695C3.25778 -6.14695 3.51681 -5.38979 3.58655 -5.21046C3.77584 -4.65255 3.77584 -3.98506 3.77584 -3.36737C3.77584 -2.70984 3.77584 -2.08219 3.59651 -1.45455C3.33748 -0.547945 2.80946 -0.388543 2.49066 -0.388543ZM2.49066 -0.388543\" fill=\"black\"/>\n",
       " </g>\n",
       " <g stroke-width=\"0.400879\">\n",
       "  <path d=\"M132.54 -54.3036C297.697 -56.2267 357.441 -249.492 358.876 -416.392\" stroke=\"#cc337f\"/>\n",
       "  <g stroke-linecap=\"butt\" stroke-dasharray=\"none\">\n",
       "   <path d=\"M357.244 -415.62C357.8 -416.922 358.35 -418.225 358.896 -419.528C359.431 -418.221 359.963 -416.91 360.492 -415.596L358.876 -416.392Z\" fill=\"#cc337f\"/>\n",
       "  </g>\n",
       " </g>\n",
       " <g stroke-width=\"1.133858\">\n",
       "  <path d=\"M344.827 -418.528L372.978 -418.528L372.978 -426.616L344.827 -426.616Z\" stroke=\"#cc337f\" fill=\"#cc9\"/>\n",
       " </g>\n",
       " <g transform=\"matrix(1.000000,0.000000,0.000000,1.000000,345.826772,-419.527559)\">\n",
       "  <path d=\"M0.498132 -0M4.72229 -3.03861C4.72229 -4.89166 3.7061 -6.19676 2.61021 -6.19676C1.4944 -6.19676 0.498132 -4.86177 0.498132 -3.04857C0.498132 -1.19552 1.51432 0.109589 2.61021 0.109589C3.72603 0.109589 4.72229 -1.2254 4.72229 -3.03861ZM4.72229 -3.03861M2.61021 -0.498132C1.83313 -0.498132 1.18555 -1.67372 1.18555 -3.14819C1.18555 -4.60274 1.87298 -5.58904 2.61021 -5.58904C3.33748 -5.58904 4.03487 -4.6127 4.03487 -3.14819C4.03487 -1.67372 3.3873 -0.498132 2.61021 -0.498132ZM2.61021 -0.498132M5.72852 -0M9.95268 -3.03861C9.95268 -4.89166 8.93649 -6.19676 7.8406 -6.19676C6.72478 -6.19676 5.72852 -4.86177 5.72852 -3.04857C5.72852 -1.19552 6.74471 0.109589 7.8406 0.109589C8.95641 0.109589 9.95268 -1.2254 9.95268 -3.03861ZM9.95268 -3.03861M7.8406 -0.498132C7.06351 -0.498132 6.41594 -1.67372 6.41594 -3.14819C6.41594 -4.60274 7.10336 -5.58904 7.8406 -5.58904C8.56787 -5.58904 9.26526 -4.6127 9.26526 -3.14819C9.26526 -1.67372 8.61768 -0.498132 7.8406 -0.498132ZM7.8406 -0.498132\" fill=\"black\"/>\n",
       "  <path d=\"M16.1892 -0M20.4133 -3.03861C20.4133 -4.89166 19.3971 -6.19676 18.3012 -6.19676C17.1854 -6.19676 16.1892 -4.86177 16.1892 -3.04857C16.1892 -1.19552 17.2053 0.109589 18.3012 0.109589C19.417 0.109589 20.4133 -1.2254 20.4133 -3.03861ZM20.4133 -3.03861M18.3012 -0.498132C17.5241 -0.498132 16.8766 -1.67372 16.8766 -3.14819C16.8766 -4.60274 17.564 -5.58904 18.3012 -5.58904C19.0285 -5.58904 19.7259 -4.6127 19.7259 -3.14819C19.7259 -1.67372 19.0783 -0.498132 18.3012 -0.498132ZM18.3012 -0.498132M21.4195 -0M25.6437 -3.03861C25.6437 -4.89166 24.6275 -6.19676 23.5316 -6.19676C22.4158 -6.19676 21.4195 -4.86177 21.4195 -3.04857C21.4195 -1.19552 22.4357 0.109589 23.5316 0.109589C24.6474 0.109589 25.6437 -1.2254 25.6437 -3.03861ZM25.6437 -3.03861M23.5316 -0.498132C22.7545 -0.498132 22.107 -1.67372 22.107 -3.14819C22.107 -4.60274 22.7944 -5.58904 23.5316 -5.58904C24.2589 -5.58904 24.9563 -4.6127 24.9563 -3.14819C24.9563 -1.67372 24.3087 -0.498132 23.5316 -0.498132ZM23.5316 -0.498132\" fill=\"black\"/>\n",
       " </g>\n",
       " <g transform=\"matrix(1.000000,0.000000,0.000000,1.000000,28.346457,-51.023622)\">\n",
       "  <path d=\"M0.806974 -0M4.33375 -2.96887C4.33375 -3.6264 4.18431 -4.533 2.96887 -4.533C2.07223 -4.533 1.58406 -3.85554 1.52428 -3.77584L1.52428 -4.48319L0.806974 -4.48319L0.806974 -0L1.58406 -0L1.58406 -2.44085C1.58406 -3.09838 1.83313 -3.92528 2.59029 -3.92528C3.5467 -3.92528 3.55666 -3.21793 3.55666 -2.89913L3.55666 -0L4.33375 -0ZM4.33375 -0M5.41968 -0M8.55791 -4.27397C8.03985 -4.51308 7.63138 -4.59278 7.12329 -4.59278C6.87422 -4.59278 5.46949 -4.59278 5.46949 -3.28767C5.46949 -2.7995 5.75841 -2.4807 6.00747 -2.29141C6.31631 -2.07223 6.53549 -2.03238 7.08344 -1.92279C7.44209 -1.85305 8.01993 -1.7335 8.01993 -1.20548C8.01993 -0.518057 7.23288 -0.518057 7.08344 -0.518057C6.27646 -0.518057 5.71856 -0.886675 5.53923 -1.00623L5.41968 -0.328767C5.73848 -0.169365 6.28643 0.109589 7.0934 0.109589C7.27273 0.109589 7.82067 0.109589 8.24907 -0.209215C8.55791 -0.448319 8.72727 -0.846824 8.72727 -1.27522C8.72727 -1.82316 8.35866 -2.16189 8.33873 -2.19178C7.95019 -2.54047 7.6812 -2.60025 7.18306 -2.68991C6.63512 -2.7995 6.17684 -2.89913 6.17684 -3.3873C6.17684 -4.00498 6.89415 -4.00498 7.02366 -4.00498C7.34247 -4.00498 7.87049 -3.96513 8.43836 -3.6264ZM8.43836 -3.6264M9.31507 -0M13.0411 -4.16438C12.4533 -4.50311 12.1146 -4.59278 11.5068 -4.59278C10.122 -4.59278 9.31507 -3.3873 9.31507 -2.21171C9.31507 -0.976339 10.2217 0.109589 11.467 0.109589C12.005 0.109589 12.5529 -0.0298879 13.0909 -0.398506L13.0311 -1.066C12.523 -0.667497 11.9851 -0.52802 11.477 -0.52802C10.6501 -0.52802 10.0922 -1.24533 10.0922 -2.22167C10.0922 -2.99875 10.4608 -3.95517 11.5168 -3.95517C12.0349 -3.95517 12.3736 -3.87547 12.9215 -3.51681ZM12.9215 -3.51681M13.6787 -0M18.0523 -2.19178C18.0523 -3.52677 17.056 -4.59278 15.8705 -4.59278C14.6451 -4.59278 13.6787 -3.49689 13.6787 -2.19178C13.6787 -0.876712 14.6949 0.109589 15.8605 0.109589C17.056 0.109589 18.0523 -0.896638 18.0523 -2.19178ZM18.0523 -2.19178M15.8605 -0.52802C15.1731 -0.52802 14.4558 -1.08593 14.4558 -2.29141C14.4558 -3.49689 15.213 -3.98506 15.8605 -3.98506C16.5579 -3.98506 17.2752 -3.467 17.2752 -2.29141C17.2752 -1.11582 16.5978 -0.52802 15.8605 -0.52802ZM15.8605 -0.52802M19.1681 -0M22.6949 -4.42341L21.9178 -4.42341L21.9178 -1.53425C21.9178 -0.787049 21.3599 -0.438356 20.7223 -0.438356C20.0149 -0.438356 19.9452 -0.697385 19.9452 -1.12578L19.9452 -4.42341L19.1681 -4.42341L19.1681 -1.08593C19.1681 -0.368618 19.3973 0.109589 20.2242 0.109589C20.7522 0.109589 21.4595 -0.0498132 21.9477 -0.478207L21.9477 -0L22.6949 -0ZM22.6949 -0M24.3088 -0M27.8356 -2.96887C27.8356 -3.6264 27.6862 -4.533 26.4707 -4.533C25.5741 -4.533 25.0859 -3.85554 25.0262 -3.77584L25.0262 -4.48319L24.3088 -4.48319L24.3088 -0L25.0859 -0L25.0859 -2.44085C25.0859 -3.09838 25.335 -3.92528 26.0922 -3.92528C27.0486 -3.92528 27.0585 -3.21793 27.0585 -2.89913L27.0585 -0L27.8356 -0ZM27.8356 -0M28.8319 -0M30.3861 -3.84558L31.7908 -3.84558L31.7908 -4.42341L30.3861 -4.42341L30.3861 -5.68867L29.6986 -5.68867L29.6986 -4.42341L28.8319 -4.42341L28.8319 -3.84558L29.6687 -3.84558L29.6687 -1.18555C29.6687 -0.587796 29.8082 0.109589 30.4956 0.109589C31.193 0.109589 31.7011 -0.139477 31.9502 -0.268991L31.7908 -0.856787C31.5318 -0.647572 31.213 -0.52802 30.8941 -0.52802C30.5255 -0.52802 30.3861 -0.826899 30.3861 -1.35492ZM30.3861 -1.35492\" fill=\"black\"/>\n",
       " </g>\n",
       " <g transform=\"matrix(1.000000,0.000000,0.000000,1.000000,124.724409,-51.023622)\">\n",
       "  <path d=\"M-7.39631 -0M-7.28273 -0.508095C-7.34251 -0.448319 -7.34251 -0.436364 -7.34251 -0.334745L-7.34251 -0.286924C-7.34251 -0.071731 -7.27675 -0 -7.05558 -0L-5.00527 -0C-4.77812 -0 -4.71835 -0.0777086 -4.71835 -0.286924L-4.71835 -0.358655C-4.71835 -0.454296 -4.71835 -0.56787 -4.84388 -0.621669C-4.88572 -0.645579 -5.077 -0.645579 -5.19656 -0.645579C-5.32806 -0.645579 -5.47152 -0.639601 -5.60303 -0.639601L-6.5714 -0.639601L-5.78236 -1.3868C-5.6927 -1.46451 -5.46555 -1.64981 -5.37588 -1.7335C-5.04712 -2.05629 -4.71835 -2.3731 -4.71835 -2.90511C-4.71835 -3.63437 -5.24438 -4.27995 -6.12308 -4.27995C-6.3323 -4.27995 -6.67302 -4.25006 -6.95994 -4.01694C-7.01374 -3.97509 -7.28871 -3.7599 -7.39631 -3.3594L-7.09743 -2.97684C-7.06156 -2.92902 -7.04363 -2.90511 -7.00179 -2.90511C-6.94799 -2.90511 -6.93603 -2.94695 -6.9181 -3.01868C-6.79855 -3.43113 -6.59531 -3.68219 -6.21274 -3.68219C-5.74649 -3.68219 -5.55521 -3.25778 -5.55521 -2.89315C-5.55521 -2.51059 -5.78236 -2.11009 -6.14101 -1.72752ZM-6.14101 -1.72752M-3.83964 -0M-3.55272 -4.14844C-3.76791 -4.14844 -3.83964 -4.08269 -3.83964 -3.86152L-3.83964 -0.286924C-3.83964 -0.071731 -3.77389 -0 -3.55272 -0L-1.91486 -0C-1.47252 -0 -0.372645 -0.0777086 -0.372645 -1.15965C-0.372645 -2.00249 -1.20353 -2.134 -1.4247 -2.16986C-0.874762 -2.29539 -0.55795 -2.60623 -0.55795 -3.07248C-0.55795 -4.14844 -1.83118 -4.14844 -2.08223 -4.14844ZM-2.08223 -4.14844M-2.9968 -2.3731L-2.9968 -3.63437L-2.29743 -3.63437C-2.0643 -3.63437 -1.3709 -3.61644 -1.3709 -3.05455C-1.3709 -2.3731 -2.15397 -2.3731 -2.3034 -2.3731ZM-2.3034 -2.3731M-2.9968 -0.514072L-2.9968 -1.94271L-2.24363 -1.94271C-2.03441 -1.94271 -1.20353 -1.94271 -1.20353 -1.17161C-1.20353 -0.555915 -1.84313 -0.514072 -2.13006 -0.514072ZM-2.13006 -0.514072\" fill=\"black\"/>\n",
       " </g>\n",
       " <g transform=\"matrix(1.000000,0.000000,0.000000,1.000000,127.559055,-51.023622)\">\n",
       "  <path d=\"M0.418431 -0M4.55293 -3.24782C4.55293 -4.03487 4.51308 -4.96139 4.09465 -5.76837C3.68618 -6.51557 2.99875 -6.75467 2.49066 -6.75467C1.90286 -6.75467 1.20548 -6.48568 0.797011 -5.599C0.468244 -4.87173 0.418431 -4.04483 0.418431 -3.24782C0.418431 -2.46077 0.458281 -1.7335 0.757161 -1.00623C1.15567 -0.0498132 1.91283 0.219178 2.4807 0.219178C3.20797 0.219178 3.83562 -0.18929 4.15442 -0.876712C4.4533 -1.52428 4.55293 -2.18182 4.55293 -3.24782ZM4.55293 -3.24782M2.49066 -0.388543C1.9726 -0.388543 1.56413 -0.767123 1.36488 -1.48443C1.20548 -2.0523 1.19552 -2.59029 1.19552 -3.36737C1.19552 -3.99502 1.19552 -4.59278 1.36488 -5.14072C1.42466 -5.33001 1.67372 -6.14695 2.4807 -6.14695C3.25778 -6.14695 3.51681 -5.38979 3.58655 -5.21046C3.77584 -4.65255 3.77584 -3.98506 3.77584 -3.36737C3.77584 -2.70984 3.77584 -2.08219 3.59651 -1.45455C3.33748 -0.547945 2.80946 -0.388543 2.49066 -0.388543ZM2.49066 -0.388543\" fill=\"black\"/>\n",
       " </g>\n",
       " <g stroke-width=\"0.400879\">\n",
       "  <path d=\"M132.54 -42.9635C308.204 -44.7857 388.232 -239.388 390.052 -416.392\" stroke=\"#cc7fcc\"/>\n",
       "  <g stroke-linecap=\"butt\" stroke-dasharray=\"none\">\n",
       "   <path d=\"M388.419 -415.622C388.976 -416.923 389.529 -418.225 390.076 -419.528C390.61 -418.219 391.14 -416.908 391.666 -415.594L390.052 -416.392Z\" fill=\"#cc7fcc\"/>\n",
       "  </g>\n",
       " </g>\n",
       " <g stroke-width=\"1.133858\">\n",
       "  <path d=\"M376.008 -418.528L404.16 -418.528L404.16 -426.616L376.008 -426.616Z\" stroke=\"#cc7fcc\" fill=\"#cc9\"/>\n",
       " </g>\n",
       " <g transform=\"matrix(1.000000,0.000000,0.000000,1.000000,377.007874,-419.527559)\">\n",
       "  <path d=\"M0.498132 -0M4.72229 -3.03861C4.72229 -4.89166 3.7061 -6.19676 2.61021 -6.19676C1.4944 -6.19676 0.498132 -4.86177 0.498132 -3.04857C0.498132 -1.19552 1.51432 0.109589 2.61021 0.109589C3.72603 0.109589 4.72229 -1.2254 4.72229 -3.03861ZM4.72229 -3.03861M2.61021 -0.498132C1.83313 -0.498132 1.18555 -1.67372 1.18555 -3.14819C1.18555 -4.60274 1.87298 -5.58904 2.61021 -5.58904C3.33748 -5.58904 4.03487 -4.6127 4.03487 -3.14819C4.03487 -1.67372 3.3873 -0.498132 2.61021 -0.498132ZM2.61021 -0.498132M5.72852 -0M9.95268 -3.03861C9.95268 -4.89166 8.93649 -6.19676 7.8406 -6.19676C6.72478 -6.19676 5.72852 -4.86177 5.72852 -3.04857C5.72852 -1.19552 6.74471 0.109589 7.8406 0.109589C8.95641 0.109589 9.95268 -1.2254 9.95268 -3.03861ZM9.95268 -3.03861M7.8406 -0.498132C7.06351 -0.498132 6.41594 -1.67372 6.41594 -3.14819C6.41594 -4.60274 7.10336 -5.58904 7.8406 -5.58904C8.56787 -5.58904 9.26526 -4.6127 9.26526 -3.14819C9.26526 -1.67372 8.61768 -0.498132 7.8406 -0.498132ZM7.8406 -0.498132\" fill=\"black\"/>\n",
       "  <path d=\"M16.1892 -0M20.4133 -3.03861C20.4133 -4.89166 19.3971 -6.19676 18.3012 -6.19676C17.1854 -6.19676 16.1892 -4.86177 16.1892 -3.04857C16.1892 -1.19552 17.2053 0.109589 18.3012 0.109589C19.417 0.109589 20.4133 -1.2254 20.4133 -3.03861ZM20.4133 -3.03861M18.3012 -0.498132C17.5241 -0.498132 16.8766 -1.67372 16.8766 -3.14819C16.8766 -4.60274 17.564 -5.58904 18.3012 -5.58904C19.0285 -5.58904 19.7259 -4.6127 19.7259 -3.14819C19.7259 -1.67372 19.0783 -0.498132 18.3012 -0.498132ZM18.3012 -0.498132M21.4195 -0M25.6437 -3.03861C25.6437 -4.89166 24.6275 -6.19676 23.5316 -6.19676C22.4158 -6.19676 21.4195 -4.86177 21.4195 -3.04857C21.4195 -1.19552 22.4357 0.109589 23.5316 0.109589C24.6474 0.109589 25.6437 -1.2254 25.6437 -3.03861ZM25.6437 -3.03861M23.5316 -0.498132C22.7545 -0.498132 22.107 -1.67372 22.107 -3.14819C22.107 -4.60274 22.7944 -5.58904 23.5316 -5.58904C24.2589 -5.58904 24.9563 -4.6127 24.9563 -3.14819C24.9563 -1.67372 24.3087 -0.498132 23.5316 -0.498132ZM23.5316 -0.498132\" fill=\"black\"/>\n",
       " </g>\n",
       " <g transform=\"matrix(1.000000,0.000000,0.000000,1.000000,28.346457,-39.685039)\">\n",
       "  <path d=\"M0.438356 -0M3.97509 -2.8792C3.97509 -3.89539 3.24782 -4.59278 2.33126 -4.59278C1.68369 -4.59278 1.23537 -4.43337 0.767123 -4.16438L0.826899 -3.50685C1.34496 -3.87547 1.84309 -4.00498 2.33126 -4.00498C2.7995 -4.00498 3.19801 -3.60648 3.19801 -2.86924L3.19801 -2.44085C1.70361 -2.42092 0.438356 -2.00249 0.438356 -1.12578C0.438356 -0.697385 0.707347 0.109589 1.5741 0.109589C1.71357 0.109589 2.65006 0.0896638 3.2279 -0.358655L3.2279 -0L3.97509 -0ZM3.97509 -0M3.19801 -1.31507C3.19801 -1.12578 3.19801 -0.876712 2.85928 -0.687422C2.57036 -0.508095 2.19178 -0.498132 2.08219 -0.498132C1.60399 -0.498132 1.15567 -0.727273 1.15567 -1.1457C1.15567 -1.84309 2.76961 -1.91283 3.19801 -1.93275ZM3.19801 -1.93275\" fill=\"black\"/>\n",
       "  <path d=\"M5.32781 -0M6.075 -2.132C6.075 -3.12827 6.79232 -3.84558 7.76865 -3.8655L7.76865 -4.533C6.88198 -4.52304 6.33403 -4.03487 6.02519 -3.57659L6.02519 -4.48319L5.32781 -4.48319L5.32781 -0L6.075 -0ZM6.075 -0M8.26679 -0M11.9928 -4.16438C11.405 -4.50311 11.0663 -4.59278 10.4586 -4.59278C9.07376 -4.59278 8.26679 -3.3873 8.26679 -2.21171C8.26679 -0.976339 9.17339 0.109589 10.4187 0.109589C10.9567 0.109589 11.5046 -0.0298879 12.0426 -0.398506L11.9829 -1.066C11.4748 -0.667497 10.9368 -0.52802 10.4287 -0.52802C9.60178 -0.52802 9.04387 -1.24533 9.04387 -2.22167C9.04387 -2.99875 9.41249 -3.95517 10.4685 -3.95517C10.9866 -3.95517 11.3253 -3.87547 11.8733 -3.51681ZM11.8733 -3.51681M12.6304 -0M17.004 -2.19178C17.004 -3.52677 16.0078 -4.59278 14.8222 -4.59278C13.5968 -4.59278 12.6304 -3.49689 12.6304 -2.19178C12.6304 -0.876712 13.6466 0.109589 14.8122 0.109589C16.0078 0.109589 17.004 -0.896638 17.004 -2.19178ZM17.004 -2.19178M14.8122 -0.52802C14.1248 -0.52802 13.4075 -1.08593 13.4075 -2.29141C13.4075 -3.49689 14.1647 -3.98506 14.8122 -3.98506C15.5096 -3.98506 16.2269 -3.467 16.2269 -2.29141C16.2269 -1.11582 15.5495 -0.52802 14.8122 -0.52802ZM14.8122 -0.52802M18.1198 -0M21.6466 -4.42341L20.8695 -4.42341L20.8695 -1.53425C20.8695 -0.787049 20.3116 -0.438356 19.674 -0.438356C18.9667 -0.438356 18.8969 -0.697385 18.8969 -1.12578L18.8969 -4.42341L18.1198 -4.42341L18.1198 -1.08593C18.1198 -0.368618 18.349 0.109589 19.1759 0.109589C19.7039 0.109589 20.4112 -0.0498132 20.8994 -0.478207L20.8994 -0L21.6466 -0ZM21.6466 -0M23.2606 -0M26.7873 -2.96887C26.7873 -3.6264 26.6379 -4.533 25.4225 -4.533C24.5258 -4.533 24.0376 -3.85554 23.9779 -3.77584L23.9779 -4.48319L23.2606 -4.48319L23.2606 -0L24.0376 -0L24.0376 -2.44085C24.0376 -3.09838 24.2867 -3.92528 25.0439 -3.92528C26.0003 -3.92528 26.0102 -3.21793 26.0102 -2.89913L26.0102 -0L26.7873 -0ZM26.7873 -0M27.7836 -0M29.3378 -3.84558L30.7425 -3.84558L30.7425 -4.42341L29.3378 -4.42341L29.3378 -5.68867L28.6503 -5.68867L28.6503 -4.42341L27.7836 -4.42341L27.7836 -3.84558L28.6205 -3.84558L28.6205 -1.18555C28.6205 -0.587796 28.7599 0.109589 29.4474 0.109589C30.1447 0.109589 30.6528 -0.139477 30.9019 -0.268991L30.7425 -0.856787C30.4835 -0.647572 30.1647 -0.52802 29.8459 -0.52802C29.4772 -0.52802 29.3378 -0.826899 29.3378 -1.35492ZM29.3378 -1.35492\" fill=\"black\"/>\n",
       " </g>\n",
       " <g transform=\"matrix(1.000000,0.000000,0.000000,1.000000,124.724409,-39.685039)\">\n",
       "  <path d=\"M-7.39631 -0M-7.28273 -0.508095C-7.34251 -0.448319 -7.34251 -0.436364 -7.34251 -0.334745L-7.34251 -0.286924C-7.34251 -0.071731 -7.27675 -0 -7.05558 -0L-5.00527 -0C-4.77812 -0 -4.71835 -0.0777086 -4.71835 -0.286924L-4.71835 -0.358655C-4.71835 -0.454296 -4.71835 -0.56787 -4.84388 -0.621669C-4.88572 -0.645579 -5.077 -0.645579 -5.19656 -0.645579C-5.32806 -0.645579 -5.47152 -0.639601 -5.60303 -0.639601L-6.5714 -0.639601L-5.78236 -1.3868C-5.6927 -1.46451 -5.46555 -1.64981 -5.37588 -1.7335C-5.04712 -2.05629 -4.71835 -2.3731 -4.71835 -2.90511C-4.71835 -3.63437 -5.24438 -4.27995 -6.12308 -4.27995C-6.3323 -4.27995 -6.67302 -4.25006 -6.95994 -4.01694C-7.01374 -3.97509 -7.28871 -3.7599 -7.39631 -3.3594L-7.09743 -2.97684C-7.06156 -2.92902 -7.04363 -2.90511 -7.00179 -2.90511C-6.94799 -2.90511 -6.93603 -2.94695 -6.9181 -3.01868C-6.79855 -3.43113 -6.59531 -3.68219 -6.21274 -3.68219C-5.74649 -3.68219 -5.55521 -3.25778 -5.55521 -2.89315C-5.55521 -2.51059 -5.78236 -2.11009 -6.14101 -1.72752ZM-6.14101 -1.72752M-3.83964 -0M-3.55272 -4.14844C-3.76791 -4.14844 -3.83964 -4.08269 -3.83964 -3.86152L-3.83964 -0.286924C-3.83964 -0.071731 -3.77389 -0 -3.55272 -0L-1.91486 -0C-1.47252 -0 -0.372645 -0.0777086 -0.372645 -1.15965C-0.372645 -2.00249 -1.20353 -2.134 -1.4247 -2.16986C-0.874762 -2.29539 -0.55795 -2.60623 -0.55795 -3.07248C-0.55795 -4.14844 -1.83118 -4.14844 -2.08223 -4.14844ZM-2.08223 -4.14844M-2.9968 -2.3731L-2.9968 -3.63437L-2.29743 -3.63437C-2.0643 -3.63437 -1.3709 -3.61644 -1.3709 -3.05455C-1.3709 -2.3731 -2.15397 -2.3731 -2.3034 -2.3731ZM-2.3034 -2.3731M-2.9968 -0.514072L-2.9968 -1.94271L-2.24363 -1.94271C-2.03441 -1.94271 -1.20353 -1.94271 -1.20353 -1.17161C-1.20353 -0.555915 -1.84313 -0.514072 -2.13006 -0.514072ZM-2.13006 -0.514072\" fill=\"black\"/>\n",
       " </g>\n",
       " <g transform=\"matrix(1.000000,0.000000,0.000000,1.000000,127.559055,-39.685039)\">\n",
       "  <path d=\"M0.418431 -0M4.55293 -3.24782C4.55293 -4.03487 4.51308 -4.96139 4.09465 -5.76837C3.68618 -6.51557 2.99875 -6.75467 2.49066 -6.75467C1.90286 -6.75467 1.20548 -6.48568 0.797011 -5.599C0.468244 -4.87173 0.418431 -4.04483 0.418431 -3.24782C0.418431 -2.46077 0.458281 -1.7335 0.757161 -1.00623C1.15567 -0.0498132 1.91283 0.219178 2.4807 0.219178C3.20797 0.219178 3.83562 -0.18929 4.15442 -0.876712C4.4533 -1.52428 4.55293 -2.18182 4.55293 -3.24782ZM4.55293 -3.24782M2.49066 -0.388543C1.9726 -0.388543 1.56413 -0.767123 1.36488 -1.48443C1.20548 -2.0523 1.19552 -2.59029 1.19552 -3.36737C1.19552 -3.99502 1.19552 -4.59278 1.36488 -5.14072C1.42466 -5.33001 1.67372 -6.14695 2.4807 -6.14695C3.25778 -6.14695 3.51681 -5.38979 3.58655 -5.21046C3.77584 -4.65255 3.77584 -3.98506 3.77584 -3.36737C3.77584 -2.70984 3.77584 -2.08219 3.59651 -1.45455C3.33748 -0.547945 2.80946 -0.388543 2.49066 -0.388543ZM2.49066 -0.388543\" fill=\"black\"/>\n",
       " </g>\n",
       " <g stroke-width=\"0.400879\">\n",
       "  <path d=\"M226.705 -35.8184C355.596 -68.351 382.134 -253.917 382.827 -405.053\" stroke=\"#7f337f\"/>\n",
       "  <g stroke-linecap=\"butt\" stroke-dasharray=\"none\">\n",
       "   <path d=\"M381.199 -404.276C381.748 -405.582 382.295 -406.886 382.838 -408.189C383.375 -406.884 383.911 -405.575 384.446 -404.263L382.827 -405.053Z\" fill=\"#7f337f\"/>\n",
       "  </g>\n",
       " </g>\n",
       " <g stroke-width=\"1.133858\">\n",
       "  <path d=\"M407.189 -426.616L529.487 -426.616L529.487 -418.528L483.218 -418.528L483.218 -407.189L282.465 -407.189L282.465 -415.277L407.189 -415.277Z\" stroke=\"#7f337f\" fill=\"#cc9\"/>\n",
       " </g>\n",
       " <g transform=\"matrix(1.000000,0.000000,0.000000,1.000000,408.188976,-419.527559)\">\n",
       "  <path d=\"M0.498132 -0M4.72229 -3.03861C4.72229 -4.89166 3.7061 -6.19676 2.61021 -6.19676C1.4944 -6.19676 0.498132 -4.86177 0.498132 -3.04857C0.498132 -1.19552 1.51432 0.109589 2.61021 0.109589C3.72603 0.109589 4.72229 -1.2254 4.72229 -3.03861ZM4.72229 -3.03861M2.61021 -0.498132C1.83313 -0.498132 1.18555 -1.67372 1.18555 -3.14819C1.18555 -4.60274 1.87298 -5.58904 2.61021 -5.58904C3.33748 -5.58904 4.03487 -4.6127 4.03487 -3.14819C4.03487 -1.67372 3.3873 -0.498132 2.61021 -0.498132ZM2.61021 -0.498132M5.66874 -0M8.88667 -3.32752C9.44458 -3.68618 9.72354 -4.25405 9.72354 -4.79203C9.72354 -5.52927 8.99626 -6.19676 7.85056 -6.19676C6.65504 -6.19676 5.95766 -5.71856 5.95766 -5.03113C5.95766 -4.70237 6.20672 -4.56289 6.40598 -4.56289C6.61519 -4.56289 6.84433 -4.73225 6.84433 -5.01121C6.84433 -5.15068 6.78456 -5.25031 6.75467 -5.2802C7.06351 -5.58904 7.77086 -5.58904 7.86052 -5.58904C8.53798 -5.58904 9.03611 -5.23039 9.03611 -4.78207C9.03611 -4.48319 8.88667 -4.1345 8.61768 -3.91532C8.29888 -3.65629 8.04981 -3.63636 7.69116 -3.61644C7.12329 -3.57659 6.97385 -3.57659 6.97385 -3.28767C6.97385 -2.97883 7.21295 -2.97883 7.37235 -2.97883L7.83064 -2.97883C8.81694 -2.97883 9.32503 -2.31133 9.32503 -1.7335C9.32503 -1.12578 8.76712 -0.498132 7.86052 -0.498132C7.46202 -0.498132 6.69489 -0.607721 6.43587 -1.07597C6.48568 -1.12578 6.55542 -1.18555 6.55542 -1.38481C6.55542 -1.62391 6.36613 -1.82316 6.11706 -1.82316C5.88792 -1.82316 5.66874 -1.67372 5.66874 -1.35492C5.66874 -0.468244 6.63512 0.109589 7.86052 0.109589C9.16563 0.109589 10.0125 -0.806974 10.0125 -1.7335C10.0125 -2.44085 9.54421 -3.02864 8.88667 -3.32752ZM8.88667 -3.32752\" fill=\"black\"/>\n",
       "  <path d=\"M16.1294 -0M19.4469 -5.47945C17.7234 -3.64633 17.3847 -1.45455 17.3847 -0.358655C17.3847 -0.219178 17.3847 0.109589 17.7334 0.109589C17.9027 0.109589 18.0721 -0 18.0721 -0.288917C18.1219 -3.11831 19.6462 -4.85181 20.2539 -5.4396C20.4532 -5.61893 20.4731 -5.63885 20.4731 -5.77833C20.4731 -6.08717 20.234 -6.08717 20.0746 -6.08717L16.7869 -6.08717C16.7271 -6.24658 16.5478 -6.24658 16.4681 -6.24658C16.1294 -6.24658 16.1294 -6.0274 16.1294 -5.83811L16.1294 -5.41968C16.1294 -5.23039 16.1294 -5.01121 16.4681 -5.01121C16.8168 -5.01121 16.8168 -5.2005 16.8168 -5.47945ZM16.8168 -5.47945M21.3598 -0M24.6773 -5.47945C22.9538 -3.64633 22.6151 -1.45455 22.6151 -0.358655C22.6151 -0.219178 22.6151 0.109589 22.9637 0.109589C23.1331 0.109589 23.3025 -0 23.3025 -0.288917C23.3523 -3.11831 24.8766 -4.85181 25.4843 -5.4396C25.6835 -5.61893 25.7035 -5.63885 25.7035 -5.77833C25.7035 -6.08717 25.4644 -6.08717 25.305 -6.08717L22.0173 -6.08717C21.9575 -6.24658 21.7782 -6.24658 21.6985 -6.24658C21.3598 -6.24658 21.3598 -6.0274 21.3598 -5.83811L21.3598 -5.41968C21.3598 -5.23039 21.3598 -5.01121 21.6985 -5.01121C22.0472 -5.01121 22.0472 -5.2005 22.0472 -5.47945ZM22.0472 -5.47945\" fill=\"black\"/>\n",
       "  <path d=\"M31.8204 -0M35.138 -5.47945C33.4144 -3.64633 33.0757 -1.45455 33.0757 -0.358655C33.0757 -0.219178 33.0757 0.109589 33.4244 0.109589C33.5937 0.109589 33.7631 -0 33.7631 -0.288917C33.8129 -3.11831 35.3372 -4.85181 35.9449 -5.4396C36.1442 -5.61893 36.1641 -5.63885 36.1641 -5.77833C36.1641 -6.08717 35.925 -6.08717 35.7656 -6.08717L32.4779 -6.08717C32.4182 -6.24658 32.2388 -6.24658 32.1591 -6.24658C31.8204 -6.24658 31.8204 -6.0274 31.8204 -5.83811L31.8204 -5.41968C31.8204 -5.23039 31.8204 -5.01121 32.1591 -5.01121C32.5078 -5.01121 32.5078 -5.2005 32.5078 -5.47945ZM32.5078 -5.47945M37.0508 -0M40.3683 -5.47945C38.6448 -3.64633 38.3061 -1.45455 38.3061 -0.358655C38.3061 -0.219178 38.3061 0.109589 38.6548 0.109589C38.8241 0.109589 38.9935 -0 38.9935 -0.288917C39.0433 -3.11831 40.5676 -4.85181 41.1753 -5.4396C41.3746 -5.61893 41.3945 -5.63885 41.3945 -5.77833C41.3945 -6.08717 41.1554 -6.08717 40.996 -6.08717L37.7083 -6.08717C37.6485 -6.24658 37.4692 -6.24658 37.3895 -6.24658C37.0508 -6.24658 37.0508 -6.0274 37.0508 -5.83811L37.0508 -5.41968C37.0508 -5.23039 37.0508 -5.01121 37.3895 -5.01121C37.7382 -5.01121 37.7382 -5.2005 37.7382 -5.47945ZM37.7382 -5.47945\" fill=\"black\"/>\n",
       "  <path d=\"M47.5114 -0M50.829 -5.47945C49.1054 -3.64633 48.7667 -1.45455 48.7667 -0.358655C48.7667 -0.219178 48.7667 0.109589 49.1154 0.109589C49.2848 0.109589 49.4541 -0 49.4541 -0.288917C49.5039 -3.11831 51.0282 -4.85181 51.636 -5.4396C51.8352 -5.61893 51.8551 -5.63885 51.8551 -5.77833C51.8551 -6.08717 51.616 -6.08717 51.4566 -6.08717L48.169 -6.08717C48.1092 -6.24658 47.9299 -6.24658 47.8501 -6.24658C47.5114 -6.24658 47.5114 -6.0274 47.5114 -5.83811L47.5114 -5.41968C47.5114 -5.23039 47.5114 -5.01121 47.8501 -5.01121C48.1988 -5.01121 48.1988 -5.2005 48.1988 -5.47945ZM48.1988 -5.47945M52.7418 -0M56.0594 -5.47945C54.3358 -3.64633 53.9971 -1.45455 53.9971 -0.358655C53.9971 -0.219178 53.9971 0.109589 54.3458 0.109589C54.5152 0.109589 54.6845 -0 54.6845 -0.288917C54.7343 -3.11831 56.2586 -4.85181 56.8663 -5.4396C57.0656 -5.61893 57.0855 -5.63885 57.0855 -5.77833C57.0855 -6.08717 56.8464 -6.08717 56.687 -6.08717L53.3993 -6.08717C53.3396 -6.24658 53.1602 -6.24658 53.0805 -6.24658C52.7418 -6.24658 52.7418 -6.0274 52.7418 -5.83811L52.7418 -5.41968C52.7418 -5.23039 52.7418 -5.01121 53.0805 -5.01121C53.4292 -5.01121 53.4292 -5.2005 53.4292 -5.47945ZM53.4292 -5.47945\" fill=\"black\"/>\n",
       "  <path d=\"M63.2622 -0M67.4864 -3.03861C67.4864 -4.89166 66.4702 -6.19676 65.3743 -6.19676C64.2585 -6.19676 63.2622 -4.86177 63.2622 -3.04857C63.2622 -1.19552 64.2784 0.109589 65.3743 0.109589C66.4901 0.109589 67.4864 -1.2254 67.4864 -3.03861ZM67.4864 -3.03861M65.3743 -0.498132C64.5972 -0.498132 63.9496 -1.67372 63.9496 -3.14819C63.9496 -4.60274 64.6371 -5.58904 65.3743 -5.58904C66.1016 -5.58904 66.799 -4.6127 66.799 -3.14819C66.799 -1.67372 66.1514 -0.498132 65.3743 -0.498132ZM65.3743 -0.498132M68.4328 -0M71.7504 -5.47945C70.0268 -3.64633 69.6881 -1.45455 69.6881 -0.358655C69.6881 -0.219178 69.6881 0.109589 70.0368 0.109589C70.2062 0.109589 70.3755 -0 70.3755 -0.288917C70.4254 -3.11831 71.9496 -4.85181 72.5574 -5.4396C72.7566 -5.61893 72.7765 -5.63885 72.7765 -5.77833C72.7765 -6.08717 72.5374 -6.08717 72.378 -6.08717L69.0904 -6.08717C69.0306 -6.24658 68.8513 -6.24658 68.7716 -6.24658C68.4328 -6.24658 68.4328 -6.0274 68.4328 -5.83811L68.4328 -5.41968C68.4328 -5.23039 68.4328 -5.01121 68.7716 -5.01121C69.1202 -5.01121 69.1202 -5.2005 69.1202 -5.47945ZM69.1202 -5.47945\" fill=\"black\"/>\n",
       "  <path d=\"M78.9831 -0M79.6905 -3.36737C79.83 -4.7721 80.7664 -5.58904 81.6432 -5.58904C81.9819 -5.58904 82.1413 -5.47945 82.1911 -5.42964C82.1413 -5.37983 82.0915 -5.32005 82.0915 -5.14072C82.0915 -4.90162 82.2708 -4.70237 82.5298 -4.70237C82.7789 -4.70237 82.9781 -4.87173 82.9781 -5.17061C82.9781 -5.65878 82.6195 -6.19676 81.6531 -6.19676C80.3181 -6.19676 78.9831 -4.99128 78.9831 -2.97883C78.9831 -0.617684 80.0989 0.109589 81.0852 0.109589C82.1712 0.109589 83.1475 -0.727273 83.1475 -1.92279C83.1475 -3.05853 82.2708 -3.94521 81.1749 -3.94521C80.6569 -3.94521 80.1388 -3.77584 79.6905 -3.36737ZM79.6905 -3.36737M81.0852 -0.498132C80.4377 -0.498132 80.0491 -0.986301 79.8499 -1.59402C79.83 -1.6538 79.82 -1.71357 79.8001 -1.77335C79.8001 -1.77335 79.7901 -1.8132 79.7901 -1.8132C79.7901 -1.8132 79.8001 -1.90286 79.8001 -1.90286C79.7901 -1.9726 79.7702 -2.14197 79.7702 -2.21171C79.7702 -2.82939 80.3679 -3.32752 81.1251 -3.32752C81.9321 -3.32752 82.4601 -2.66002 82.4601 -1.92279C82.4601 -1.066 81.8026 -0.498132 81.0852 -0.498132ZM81.0852 -0.498132M84.2036 -0M86.4451 -3.87547C86.0965 -3.87547 85.6581 -3.80573 85.2496 -3.58655L85.2496 -5.47945L87.6407 -5.47945C87.7901 -5.47945 88.0392 -5.47945 88.0392 -5.77833C88.0392 -6.08717 87.8001 -6.08717 87.6407 -6.08717L84.9607 -6.08717C84.6319 -6.08717 84.5622 -5.99751 84.5622 -5.6787L84.5622 -3.02864C84.5622 -2.84932 84.5622 -2.62017 84.881 -2.62017C85.0603 -2.62017 85.1002 -2.66999 85.1799 -2.76961C85.4489 -3.08842 85.8573 -3.26775 86.4352 -3.26775C87.2521 -3.26775 87.7004 -2.54047 87.7004 -1.8929C87.7004 -1.09589 86.9931 -0.498132 86.1562 -0.498132C85.8773 -0.498132 85.2397 -0.577833 84.9607 -1.12578C85.0105 -1.17559 85.0902 -1.24533 85.0902 -1.44458C85.0902 -1.7335 84.8611 -1.8929 84.6519 -1.8929C84.5024 -1.8929 84.2036 -1.80324 84.2036 -1.41469C84.2036 -0.587796 85.0404 0.109589 86.1562 0.109589C87.4016 0.109589 88.3879 -0.787049 88.3879 -1.8929C88.3879 -2.89913 87.6207 -3.87547 86.4451 -3.87547ZM86.4451 -3.87547\" fill=\"black\"/>\n",
       "  <path d=\"M94.5845 -0M97.902 -5.47945C96.1785 -3.64633 95.8398 -1.45455 95.8398 -0.358655C95.8398 -0.219178 95.8398 0.109589 96.1885 0.109589C96.3578 0.109589 96.5272 -0 96.5272 -0.288917C96.577 -3.11831 98.1013 -4.85181 98.709 -5.4396C98.9083 -5.61893 98.9282 -5.63885 98.9282 -5.77833C98.9282 -6.08717 98.6891 -6.08717 98.5297 -6.08717L95.242 -6.08717C95.1822 -6.24658 95.0029 -6.24658 94.9232 -6.24658C94.5845 -6.24658 94.5845 -6.0274 94.5845 -5.83811L94.5845 -5.41968C94.5845 -5.23039 94.5845 -5.01121 94.9232 -5.01121C95.2719 -5.01121 95.2719 -5.2005 95.2719 -5.47945ZM95.2719 -5.47945M99.8149 -0M101.987 -3.58655C101.259 -3.58655 100.642 -4.03487 100.642 -4.59278C100.642 -5.11083 101.2 -5.58904 101.987 -5.58904C102.764 -5.58904 103.332 -5.11083 103.332 -4.59278C103.332 -4.02491 102.714 -3.58655 101.987 -3.58655ZM101.987 -3.58655M102.774 -3.27771C103.571 -3.5467 104.019 -4.03487 104.019 -4.60274C104.019 -5.41968 103.172 -6.19676 101.987 -6.19676C100.791 -6.19676 99.9543 -5.40971 99.9543 -4.60274C99.9543 -4.03487 100.413 -3.53674 101.2 -3.27771C100.452 -3.06849 99.8149 -2.4807 99.8149 -1.7335C99.8149 -0.767123 100.741 0.109589 101.987 0.109589C103.242 0.109589 104.159 -0.767123 104.159 -1.7335C104.159 -2.4807 103.511 -3.06849 102.774 -3.27771ZM102.774 -3.27771M101.987 -0.498132C101.16 -0.498132 100.502 -1.05604 100.502 -1.74346C100.502 -2.35118 101.08 -2.97883 101.987 -2.97883C102.903 -2.97883 103.471 -2.35118 103.471 -1.74346C103.471 -1.05604 102.814 -0.498132 101.987 -0.498132ZM101.987 -0.498132\" fill=\"black\"/>\n",
       "  <path d=\"M110.365 -0M111.073 -3.36737C111.212 -4.7721 112.148 -5.58904 113.025 -5.58904C113.364 -5.58904 113.523 -5.47945 113.573 -5.42964C113.523 -5.37983 113.474 -5.32005 113.474 -5.14072C113.474 -4.90162 113.653 -4.70237 113.912 -4.70237C114.161 -4.70237 114.36 -4.87173 114.36 -5.17061C114.36 -5.65878 114.002 -6.19676 113.035 -6.19676C111.7 -6.19676 110.365 -4.99128 110.365 -2.97883C110.365 -0.617684 111.481 0.109589 112.467 0.109589C113.553 0.109589 114.53 -0.727273 114.53 -1.92279C114.53 -3.05853 113.653 -3.94521 112.557 -3.94521C112.039 -3.94521 111.521 -3.77584 111.073 -3.36737ZM111.073 -3.36737M112.467 -0.498132C111.82 -0.498132 111.431 -0.986301 111.232 -1.59402C111.212 -1.6538 111.202 -1.71357 111.182 -1.77335C111.182 -1.77335 111.172 -1.8132 111.172 -1.8132C111.172 -1.8132 111.182 -1.90286 111.182 -1.90286C111.172 -1.9726 111.152 -2.14197 111.152 -2.21171C111.152 -2.82939 111.75 -3.32752 112.507 -3.32752C113.314 -3.32752 113.842 -2.66002 113.842 -1.92279C113.842 -1.066 113.185 -0.498132 112.467 -0.498132ZM112.467 -0.498132M116.114 -0M118.166 -5.78829C118.166 -5.9477 118.166 -6.19676 117.867 -6.19676C117.678 -6.19676 117.618 -6.07721 117.568 -5.95766C117.19 -5.11083 116.672 -5.00125 116.482 -4.98132C116.323 -4.97136 116.114 -4.95143 116.114 -4.67248C116.114 -4.42341 116.293 -4.3736 116.442 -4.3736C116.632 -4.3736 117.04 -4.43337 117.478 -4.81196L117.478 -0.607721L116.572 -0.607721C116.412 -0.607721 116.173 -0.607721 116.173 -0.298879C116.173 -0 116.422 -0 116.572 -0L119.073 -0C119.222 -0 119.471 -0 119.471 -0.298879C119.471 -0.607721 119.232 -0.607721 119.073 -0.607721L118.166 -0.607721ZM118.166 -0.607721\" fill=\"black\"/>\n",
       " </g>\n",
       " <g transform=\"matrix(1.000000,0.000000,0.000000,1.000000,283.464567,-408.188976)\">\n",
       "  <path d=\"M0.52802 -0M1.23537 -3.36737C1.37484 -4.7721 2.31133 -5.58904 3.18804 -5.58904C3.52677 -5.58904 3.68618 -5.47945 3.73599 -5.42964C3.68618 -5.37983 3.63636 -5.32005 3.63636 -5.14072C3.63636 -4.90162 3.81569 -4.70237 4.07472 -4.70237C4.32379 -4.70237 4.52304 -4.87173 4.52304 -5.17061C4.52304 -5.65878 4.16438 -6.19676 3.19801 -6.19676C1.86301 -6.19676 0.52802 -4.99128 0.52802 -2.97883C0.52802 -0.617684 1.64384 0.109589 2.63014 0.109589C3.71606 0.109589 4.6924 -0.727273 4.6924 -1.92279C4.6924 -3.05853 3.81569 -3.94521 2.7198 -3.94521C2.20174 -3.94521 1.68369 -3.77584 1.23537 -3.36737ZM1.23537 -3.36737M2.63014 -0.498132C1.98257 -0.498132 1.59402 -0.986301 1.39477 -1.59402C1.37484 -1.6538 1.36488 -1.71357 1.34496 -1.77335C1.34496 -1.77335 1.33499 -1.8132 1.33499 -1.8132C1.33499 -1.8132 1.34496 -1.90286 1.34496 -1.90286C1.33499 -1.9726 1.31507 -2.14197 1.31507 -2.21171C1.31507 -2.82939 1.91283 -3.32752 2.66999 -3.32752C3.47696 -3.32752 4.00498 -2.66002 4.00498 -1.92279C4.00498 -1.066 3.34745 -0.498132 2.63014 -0.498132ZM2.63014 -0.498132M5.58904 -0M8.79701 -0.498132C8.79701 -0.139477 8.79701 -0 9.19552 -0L9.92279 -0C10.0822 -0 10.3313 -0 10.3313 -0.308842C10.3313 -0.607721 10.0722 -0.607721 9.93275 -0.607721L9.48443 -0.607721L9.48443 -5.6787C9.48443 -5.98755 9.42466 -6.08717 9.08593 -6.08717L8.35866 -6.08717C8.19925 -6.08717 7.95019 -6.08717 7.95019 -5.77833C7.95019 -5.47945 8.20922 -5.47945 8.34869 -5.47945L8.79701 -5.47945L8.79701 -3.90535C8.46824 -4.19427 8.05978 -4.35367 7.63138 -4.35367C6.54545 -4.35367 5.58904 -3.40722 5.58904 -2.14197C5.58904 -0.9066 6.48568 0.0597758 7.54172 0.0597758C8.09963 0.0597758 8.51806 -0.209215 8.79701 -0.498132ZM8.79701 -0.498132M8.79701 -2.6401L8.79701 -1.93275C8.79701 -1.37484 8.34869 -0.547945 7.58157 -0.547945C6.87422 -0.547945 6.27646 -1.25529 6.27646 -2.14197C6.27646 -3.09838 6.97385 -3.74595 7.67123 -3.74595C8.30884 -3.74595 8.79701 -3.18804 8.79701 -2.6401ZM8.79701 -2.6401\" fill=\"black\"/>\n",
       "  <path d=\"M16.1294 -0M19.4469 -5.47945C17.7234 -3.64633 17.3847 -1.45455 17.3847 -0.358655C17.3847 -0.219178 17.3847 0.109589 17.7334 0.109589C17.9027 0.109589 18.0721 -0 18.0721 -0.288917C18.1219 -3.11831 19.6462 -4.85181 20.2539 -5.4396C20.4532 -5.61893 20.4731 -5.63885 20.4731 -5.77833C20.4731 -6.08717 20.234 -6.08717 20.0746 -6.08717L16.7869 -6.08717C16.7271 -6.24658 16.5478 -6.24658 16.4681 -6.24658C16.1294 -6.24658 16.1294 -6.0274 16.1294 -5.83811L16.1294 -5.41968C16.1294 -5.23039 16.1294 -5.01121 16.4681 -5.01121C16.8168 -5.01121 16.8168 -5.2005 16.8168 -5.47945ZM16.8168 -5.47945M21.4195 -0M25.6437 -3.03861C25.6437 -4.89166 24.6275 -6.19676 23.5316 -6.19676C22.4158 -6.19676 21.4195 -4.86177 21.4195 -3.04857C21.4195 -1.19552 22.4357 0.109589 23.5316 0.109589C24.6474 0.109589 25.6437 -1.2254 25.6437 -3.03861ZM25.6437 -3.03861M23.5316 -0.498132C22.7545 -0.498132 22.107 -1.67372 22.107 -3.14819C22.107 -4.60274 22.7944 -5.58904 23.5316 -5.58904C24.2589 -5.58904 24.9563 -4.6127 24.9563 -3.14819C24.9563 -1.67372 24.3087 -0.498132 23.5316 -0.498132ZM23.5316 -0.498132\" fill=\"black\"/>\n",
       "  <path d=\"M31.9101 -0M32.6174 -3.36737C32.7569 -4.7721 33.6934 -5.58904 34.5701 -5.58904C34.9088 -5.58904 35.0682 -5.47945 35.118 -5.42964C35.0682 -5.37983 35.0184 -5.32005 35.0184 -5.14072C35.0184 -4.90162 35.1977 -4.70237 35.4568 -4.70237C35.7058 -4.70237 35.9051 -4.87173 35.9051 -5.17061C35.9051 -5.65878 35.5464 -6.19676 34.5801 -6.19676C33.2451 -6.19676 31.9101 -4.99128 31.9101 -2.97883C31.9101 -0.617684 33.0259 0.109589 34.0122 0.109589C35.0981 0.109589 36.0744 -0.727273 36.0744 -1.92279C36.0744 -3.05853 35.1977 -3.94521 34.1018 -3.94521C33.5838 -3.94521 33.0657 -3.77584 32.6174 -3.36737ZM32.6174 -3.36737M34.0122 -0.498132C33.3646 -0.498132 32.9761 -0.986301 32.7768 -1.59402C32.7569 -1.6538 32.7469 -1.71357 32.727 -1.77335C32.727 -1.77335 32.717 -1.8132 32.717 -1.8132C32.717 -1.8132 32.727 -1.90286 32.727 -1.90286C32.717 -1.9726 32.6971 -2.14197 32.6971 -2.21171C32.6971 -2.82939 33.2949 -3.32752 34.052 -3.32752C34.859 -3.32752 35.387 -2.66002 35.387 -1.92279C35.387 -1.066 34.7295 -0.498132 34.0122 -0.498132ZM34.0122 -0.498132M37.3397 -0M41.255 -1.08593C41.255 -1.36488 40.9661 -1.36488 40.9063 -1.36488C40.7469 -1.36488 40.6473 -1.34496 40.5776 -1.1457C40.5178 -1.01619 40.3285 -0.547945 39.5913 -0.547945C38.7444 -0.547945 38.0271 -1.24533 38.0271 -2.15193C38.0271 -2.63014 38.3061 -3.77584 39.651 -3.77584C39.8602 -3.77584 40.2488 -3.77584 40.2488 -3.68618C40.2588 -3.33748 40.448 -3.19801 40.6871 -3.19801C40.9263 -3.19801 41.1355 -3.36737 41.1355 -3.65629C41.1355 -4.38356 40.0994 -4.38356 39.651 -4.38356C37.9375 -4.38356 37.3397 -3.02864 37.3397 -2.15193C37.3397 -0.956413 38.2762 0.0597758 39.5315 0.0597758C40.9163 0.0597758 41.255 -0.916563 41.255 -1.08593ZM41.255 -1.08593\" fill=\"black\"/>\n",
       "  <path d=\"M47.6011 -0M48.3084 -3.36737C48.4479 -4.7721 49.3844 -5.58904 50.2611 -5.58904C50.5998 -5.58904 50.7592 -5.47945 50.8091 -5.42964C50.7592 -5.37983 50.7094 -5.32005 50.7094 -5.14072C50.7094 -4.90162 50.8888 -4.70237 51.1478 -4.70237C51.3968 -4.70237 51.5961 -4.87173 51.5961 -5.17061C51.5961 -5.65878 51.2374 -6.19676 50.2711 -6.19676C48.9361 -6.19676 47.6011 -4.99128 47.6011 -2.97883C47.6011 -0.617684 48.7169 0.109589 49.7032 0.109589C50.7891 0.109589 51.7655 -0.727273 51.7655 -1.92279C51.7655 -3.05853 50.8888 -3.94521 49.7929 -3.94521C49.2748 -3.94521 48.7568 -3.77584 48.3084 -3.36737ZM48.3084 -3.36737M49.7032 -0.498132C49.0556 -0.498132 48.6671 -0.986301 48.4678 -1.59402C48.4479 -1.6538 48.4379 -1.71357 48.418 -1.77335C48.418 -1.77335 48.4081 -1.8132 48.4081 -1.8132C48.4081 -1.8132 48.418 -1.90286 48.418 -1.90286C48.4081 -1.9726 48.3881 -2.14197 48.3881 -2.21171C48.3881 -2.82939 48.9859 -3.32752 49.7431 -3.32752C50.55 -3.32752 51.078 -2.66002 51.078 -1.92279C51.078 -1.066 50.4205 -0.498132 49.7032 -0.498132ZM49.7032 -0.498132M52.8215 -0M55.0631 -3.87547C54.7144 -3.87547 54.2761 -3.80573 53.8676 -3.58655L53.8676 -5.47945L56.2586 -5.47945C56.4081 -5.47945 56.6571 -5.47945 56.6571 -5.77833C56.6571 -6.08717 56.418 -6.08717 56.2586 -6.08717L53.5787 -6.08717C53.2499 -6.08717 53.1802 -5.99751 53.1802 -5.6787L53.1802 -3.02864C53.1802 -2.84932 53.1802 -2.62017 53.499 -2.62017C53.6783 -2.62017 53.7181 -2.66999 53.7978 -2.76961C54.0668 -3.08842 54.4753 -3.26775 55.0531 -3.26775C55.8701 -3.26775 56.3184 -2.54047 56.3184 -1.8929C56.3184 -1.09589 55.611 -0.498132 54.7742 -0.498132C54.4952 -0.498132 53.8576 -0.577833 53.5787 -1.12578C53.6285 -1.17559 53.7082 -1.24533 53.7082 -1.44458C53.7082 -1.7335 53.479 -1.8929 53.2698 -1.8929C53.1204 -1.8929 52.8215 -1.80324 52.8215 -1.41469C52.8215 -0.587796 53.6584 0.109589 54.7742 0.109589C56.0195 0.109589 57.0058 -0.787049 57.0058 -1.8929C57.0058 -2.89913 56.2387 -3.87547 55.0631 -3.87547ZM55.0631 -3.87547\" fill=\"black\"/>\n",
       "  <path d=\"M63.2622 -0M67.4864 -3.03861C67.4864 -4.89166 66.4702 -6.19676 65.3743 -6.19676C64.2585 -6.19676 63.2622 -4.86177 63.2622 -3.04857C63.2622 -1.19552 64.2784 0.109589 65.3743 0.109589C66.4901 0.109589 67.4864 -1.2254 67.4864 -3.03861ZM67.4864 -3.03861M65.3743 -0.498132C64.5972 -0.498132 63.9496 -1.67372 63.9496 -3.14819C63.9496 -4.60274 64.6371 -5.58904 65.3743 -5.58904C66.1016 -5.58904 66.799 -4.6127 66.799 -3.14819C66.799 -1.67372 66.1514 -0.498132 65.3743 -0.498132ZM65.3743 -0.498132M68.4328 -0M71.6508 -3.32752C72.2087 -3.68618 72.4876 -4.25405 72.4876 -4.79203C72.4876 -5.52927 71.7603 -6.19676 70.6146 -6.19676C69.4191 -6.19676 68.7217 -5.71856 68.7217 -5.03113C68.7217 -4.70237 68.9708 -4.56289 69.1701 -4.56289C69.3793 -4.56289 69.6084 -4.73225 69.6084 -5.01121C69.6084 -5.15068 69.5486 -5.25031 69.5188 -5.2802C69.8276 -5.58904 70.5349 -5.58904 70.6246 -5.58904C71.3021 -5.58904 71.8002 -5.23039 71.8002 -4.78207C71.8002 -4.48319 71.6508 -4.1345 71.3818 -3.91532C71.063 -3.65629 70.8139 -3.63636 70.4552 -3.61644C69.8874 -3.57659 69.7379 -3.57659 69.7379 -3.28767C69.7379 -2.97883 69.977 -2.97883 70.1364 -2.97883L70.5947 -2.97883C71.581 -2.97883 72.0891 -2.31133 72.0891 -1.7335C72.0891 -1.12578 71.5312 -0.498132 70.6246 -0.498132C70.2261 -0.498132 69.459 -0.607721 69.2 -1.07597C69.2498 -1.12578 69.3195 -1.18555 69.3195 -1.38481C69.3195 -1.62391 69.1302 -1.82316 68.8811 -1.82316C68.652 -1.82316 68.4328 -1.67372 68.4328 -1.35492C68.4328 -0.468244 69.3992 0.109589 70.6246 0.109589C71.9297 0.109589 72.7765 -0.806974 72.7765 -1.7335C72.7765 -2.44085 72.3083 -3.02864 71.6508 -3.32752ZM71.6508 -3.32752\" fill=\"black\"/>\n",
       "  <path d=\"M78.9831 -0M79.6905 -3.36737C79.83 -4.7721 80.7664 -5.58904 81.6432 -5.58904C81.9819 -5.58904 82.1413 -5.47945 82.1911 -5.42964C82.1413 -5.37983 82.0915 -5.32005 82.0915 -5.14072C82.0915 -4.90162 82.2708 -4.70237 82.5298 -4.70237C82.7789 -4.70237 82.9781 -4.87173 82.9781 -5.17061C82.9781 -5.65878 82.6195 -6.19676 81.6531 -6.19676C80.3181 -6.19676 78.9831 -4.99128 78.9831 -2.97883C78.9831 -0.617684 80.0989 0.109589 81.0852 0.109589C82.1712 0.109589 83.1475 -0.727273 83.1475 -1.92279C83.1475 -3.05853 82.2708 -3.94521 81.1749 -3.94521C80.6569 -3.94521 80.1388 -3.77584 79.6905 -3.36737ZM79.6905 -3.36737M81.0852 -0.498132C80.4377 -0.498132 80.0491 -0.986301 79.8499 -1.59402C79.83 -1.6538 79.82 -1.71357 79.8001 -1.77335C79.8001 -1.77335 79.7901 -1.8132 79.7901 -1.8132C79.7901 -1.8132 79.8001 -1.90286 79.8001 -1.90286C79.7901 -1.9726 79.7702 -2.14197 79.7702 -2.21171C79.7702 -2.82939 80.3679 -3.32752 81.1251 -3.32752C81.9321 -3.32752 82.4601 -2.66002 82.4601 -1.92279C82.4601 -1.066 81.8026 -0.498132 81.0852 -0.498132ZM81.0852 -0.498132M84.1238 -0M87.3418 -3.32752C87.8997 -3.68618 88.1786 -4.25405 88.1786 -4.79203C88.1786 -5.52927 87.4514 -6.19676 86.3057 -6.19676C85.1102 -6.19676 84.4128 -5.71856 84.4128 -5.03113C84.4128 -4.70237 84.6618 -4.56289 84.8611 -4.56289C85.0703 -4.56289 85.2994 -4.73225 85.2994 -5.01121C85.2994 -5.15068 85.2397 -5.25031 85.2098 -5.2802C85.5186 -5.58904 86.226 -5.58904 86.3156 -5.58904C86.9931 -5.58904 87.4912 -5.23039 87.4912 -4.78207C87.4912 -4.48319 87.3418 -4.1345 87.0728 -3.91532C86.754 -3.65629 86.5049 -3.63636 86.1463 -3.61644C85.5784 -3.57659 85.429 -3.57659 85.429 -3.28767C85.429 -2.97883 85.6681 -2.97883 85.8275 -2.97883L86.2857 -2.97883C87.272 -2.97883 87.7801 -2.31133 87.7801 -1.7335C87.7801 -1.12578 87.2222 -0.498132 86.3156 -0.498132C85.9171 -0.498132 85.15 -0.607721 84.891 -1.07597C84.9408 -1.12578 85.0105 -1.18555 85.0105 -1.38481C85.0105 -1.62391 84.8212 -1.82316 84.5722 -1.82316C84.343 -1.82316 84.1238 -1.67372 84.1238 -1.35492C84.1238 -0.468244 85.0902 0.109589 86.3156 0.109589C87.6207 0.109589 88.4676 -0.806974 88.4676 -1.7335C88.4676 -2.44085 87.9993 -3.02864 87.3418 -3.32752ZM87.3418 -3.32752\" fill=\"black\"/>\n",
       "  <path d=\"M94.6741 -0M95.3815 -3.36737C95.521 -4.7721 96.4575 -5.58904 97.3342 -5.58904C97.6729 -5.58904 97.8323 -5.47945 97.8821 -5.42964C97.8323 -5.37983 97.7825 -5.32005 97.7825 -5.14072C97.7825 -4.90162 97.9618 -4.70237 98.2208 -4.70237C98.4699 -4.70237 98.6692 -4.87173 98.6692 -5.17061C98.6692 -5.65878 98.3105 -6.19676 97.3441 -6.19676C96.0091 -6.19676 94.6741 -4.99128 94.6741 -2.97883C94.6741 -0.617684 95.79 0.109589 96.7763 0.109589C97.8622 0.109589 98.8385 -0.727273 98.8385 -1.92279C98.8385 -3.05853 97.9618 -3.94521 96.8659 -3.94521C96.3479 -3.94521 95.8298 -3.77584 95.3815 -3.36737ZM95.3815 -3.36737M96.7763 -0.498132C96.1287 -0.498132 95.7402 -0.986301 95.5409 -1.59402C95.521 -1.6538 95.511 -1.71357 95.4911 -1.77335C95.4911 -1.77335 95.4811 -1.8132 95.4811 -1.8132C95.4811 -1.8132 95.4911 -1.90286 95.4911 -1.90286C95.4811 -1.9726 95.4612 -2.14197 95.4612 -2.21171C95.4612 -2.82939 96.059 -3.32752 96.8161 -3.32752C97.6231 -3.32752 98.1511 -2.66002 98.1511 -1.92279C98.1511 -1.066 97.4936 -0.498132 96.7763 -0.498132ZM96.7763 -0.498132M99.7949 -0M101.897 -3.68618L103.113 -3.68618C103.262 -3.68618 103.511 -3.68618 103.511 -3.98506C103.511 -4.2939 103.272 -4.2939 103.113 -4.2939L101.897 -4.2939L101.897 -4.76214C101.897 -5.53923 102.565 -5.53923 102.863 -5.53923C102.863 -5.49938 102.953 -5.11083 103.302 -5.11083C103.501 -5.11083 103.73 -5.27024 103.73 -5.54919C103.73 -6.14695 102.933 -6.14695 102.774 -6.14695C101.977 -6.14695 101.21 -5.68867 101.21 -4.82192L101.21 -4.2939L100.213 -4.2939C100.054 -4.2939 99.8049 -4.2939 99.8049 -3.98506C99.8049 -3.68618 100.054 -3.68618 100.203 -3.68618L101.21 -3.68618L101.21 -0.607721L100.203 -0.607721C100.054 -0.607721 99.7949 -0.607721 99.7949 -0.308842C99.7949 -0 100.054 -0 100.203 -0L102.903 -0C103.053 -0 103.312 -0 103.312 -0.298879C103.312 -0.607721 103.053 -0.607721 102.903 -0.607721L101.897 -0.607721ZM101.897 -0.607721\" fill=\"black\"/>\n",
       "  <path d=\"M110.365 -0M111.073 -3.36737C111.212 -4.7721 112.148 -5.58904 113.025 -5.58904C113.364 -5.58904 113.523 -5.47945 113.573 -5.42964C113.523 -5.37983 113.474 -5.32005 113.474 -5.14072C113.474 -4.90162 113.653 -4.70237 113.912 -4.70237C114.161 -4.70237 114.36 -4.87173 114.36 -5.17061C114.36 -5.65878 114.002 -6.19676 113.035 -6.19676C111.7 -6.19676 110.365 -4.99128 110.365 -2.97883C110.365 -0.617684 111.481 0.109589 112.467 0.109589C113.553 0.109589 114.53 -0.727273 114.53 -1.92279C114.53 -3.05853 113.653 -3.94521 112.557 -3.94521C112.039 -3.94521 111.521 -3.77584 111.073 -3.36737ZM111.073 -3.36737M112.467 -0.498132C111.82 -0.498132 111.431 -0.986301 111.232 -1.59402C111.212 -1.6538 111.202 -1.71357 111.182 -1.77335C111.182 -1.77335 111.172 -1.8132 111.172 -1.8132C111.172 -1.8132 111.182 -1.90286 111.182 -1.90286C111.172 -1.9726 111.152 -2.14197 111.152 -2.21171C111.152 -2.82939 111.75 -3.32752 112.507 -3.32752C113.314 -3.32752 113.842 -2.66002 113.842 -1.92279C113.842 -1.066 113.185 -0.498132 112.467 -0.498132ZM112.467 -0.498132M115.426 -0M118.634 -0.498132C118.634 -0.139477 118.634 -0 119.033 -0L119.76 -0C119.919 -0 120.168 -0 120.168 -0.308842C120.168 -0.607721 119.909 -0.607721 119.77 -0.607721L119.322 -0.607721L119.322 -5.6787C119.322 -5.98755 119.262 -6.08717 118.923 -6.08717L118.196 -6.08717C118.036 -6.08717 117.787 -6.08717 117.787 -5.77833C117.787 -5.47945 118.046 -5.47945 118.186 -5.47945L118.634 -5.47945L118.634 -3.90535C118.305 -4.19427 117.897 -4.35367 117.469 -4.35367C116.383 -4.35367 115.426 -3.40722 115.426 -2.14197C115.426 -0.9066 116.323 0.0597758 117.379 0.0597758C117.937 0.0597758 118.355 -0.209215 118.634 -0.498132ZM118.634 -0.498132M118.634 -2.6401L118.634 -1.93275C118.634 -1.37484 118.186 -0.547945 117.419 -0.547945C116.711 -0.547945 116.114 -1.25529 116.114 -2.14197C116.114 -3.09838 116.811 -3.74595 117.508 -3.74595C118.146 -3.74595 118.634 -3.18804 118.634 -2.6401ZM118.634 -2.6401\" fill=\"black\"/>\n",
       "  <path d=\"M126.026 -0M130.25 -3.03861C130.25 -4.89166 129.234 -6.19676 128.138 -6.19676C127.023 -6.19676 126.026 -4.86177 126.026 -3.04857C126.026 -1.19552 127.042 0.109589 128.138 0.109589C129.254 0.109589 130.25 -1.2254 130.25 -3.03861ZM130.25 -3.03861M128.138 -0.498132C127.361 -0.498132 126.714 -1.67372 126.714 -3.14819C126.714 -4.60274 127.401 -5.58904 128.138 -5.58904C128.866 -5.58904 129.563 -4.6127 129.563 -3.14819C129.563 -1.67372 128.915 -0.498132 128.138 -0.498132ZM128.138 -0.498132M131.257 -0M135.481 -3.03861C135.481 -4.89166 134.465 -6.19676 133.369 -6.19676C132.253 -6.19676 131.257 -4.86177 131.257 -3.04857C131.257 -1.19552 132.273 0.109589 133.369 0.109589C134.485 0.109589 135.481 -1.2254 135.481 -3.03861ZM135.481 -3.03861M133.369 -0.498132C132.592 -0.498132 131.944 -1.67372 131.944 -3.14819C131.944 -4.60274 132.632 -5.58904 133.369 -5.58904C134.096 -5.58904 134.793 -4.6127 134.793 -3.14819C134.793 -1.67372 134.146 -0.498132 133.369 -0.498132ZM133.369 -0.498132\" fill=\"black\"/>\n",
       "  <path d=\"M141.717 -0M145.941 -3.03861C145.941 -4.89166 144.925 -6.19676 143.829 -6.19676C142.714 -6.19676 141.717 -4.86177 141.717 -3.04857C141.717 -1.19552 142.734 0.109589 143.829 0.109589C144.945 0.109589 145.941 -1.2254 145.941 -3.03861ZM145.941 -3.03861M143.829 -0.498132C143.052 -0.498132 142.405 -1.67372 142.405 -3.14819C142.405 -4.60274 143.092 -5.58904 143.829 -5.58904C144.557 -5.58904 145.254 -4.6127 145.254 -3.14819C145.254 -1.67372 144.606 -0.498132 143.829 -0.498132ZM143.829 -0.498132M146.948 -0M151.172 -3.03861C151.172 -4.89166 150.156 -6.19676 149.06 -6.19676C147.944 -6.19676 146.948 -4.86177 146.948 -3.04857C146.948 -1.19552 147.964 0.109589 149.06 0.109589C150.176 0.109589 151.172 -1.2254 151.172 -3.03861ZM151.172 -3.03861M149.06 -0.498132C148.283 -0.498132 147.635 -1.67372 147.635 -3.14819C147.635 -4.60274 148.323 -5.58904 149.06 -5.58904C149.787 -5.58904 150.484 -4.6127 150.484 -3.14819C150.484 -1.67372 149.837 -0.498132 149.06 -0.498132ZM149.06 -0.498132\" fill=\"black\"/>\n",
       "  <path d=\"M157.408 -0M161.633 -3.03861C161.633 -4.89166 160.616 -6.19676 159.52 -6.19676C158.405 -6.19676 157.408 -4.86177 157.408 -3.04857C157.408 -1.19552 158.425 0.109589 159.52 0.109589C160.636 0.109589 161.633 -1.2254 161.633 -3.03861ZM161.633 -3.03861M159.52 -0.498132C158.743 -0.498132 158.096 -1.67372 158.096 -3.14819C158.096 -4.60274 158.783 -5.58904 159.52 -5.58904C160.248 -5.58904 160.945 -4.6127 160.945 -3.14819C160.945 -1.67372 160.298 -0.498132 159.52 -0.498132ZM159.52 -0.498132M163.187 -0M165.239 -5.78829C165.239 -5.9477 165.239 -6.19676 164.94 -6.19676C164.751 -6.19676 164.691 -6.07721 164.641 -5.95766C164.263 -5.11083 163.745 -5.00125 163.555 -4.98132C163.396 -4.97136 163.187 -4.95143 163.187 -4.67248C163.187 -4.42341 163.366 -4.3736 163.515 -4.3736C163.705 -4.3736 164.113 -4.43337 164.552 -4.81196L164.552 -0.607721L163.645 -0.607721C163.486 -0.607721 163.246 -0.607721 163.246 -0.298879C163.246 -0 163.496 -0 163.645 -0L166.146 -0C166.295 -0 166.544 -0 166.544 -0.298879C166.544 -0.607721 166.305 -0.607721 166.146 -0.607721L165.239 -0.607721ZM165.239 -0.607721\" fill=\"black\"/>\n",
       "  <path d=\"M173.099 -0M177.324 -3.03861C177.324 -4.89166 176.307 -6.19676 175.211 -6.19676C174.096 -6.19676 173.099 -4.86177 173.099 -3.04857C173.099 -1.19552 174.116 0.109589 175.211 0.109589C176.327 0.109589 177.324 -1.2254 177.324 -3.03861ZM177.324 -3.03861M175.211 -0.498132C174.434 -0.498132 173.787 -1.67372 173.787 -3.14819C173.787 -4.60274 174.474 -5.58904 175.211 -5.58904C175.939 -5.58904 176.636 -4.6127 176.636 -3.14819C176.636 -1.67372 175.989 -0.498132 175.211 -0.498132ZM175.211 -0.498132M178.33 -0M182.554 -3.03861C182.554 -4.89166 181.538 -6.19676 180.442 -6.19676C179.326 -6.19676 178.33 -4.86177 178.33 -3.04857C178.33 -1.19552 179.346 0.109589 180.442 0.109589C181.558 0.109589 182.554 -1.2254 182.554 -3.03861ZM182.554 -3.03861M180.442 -0.498132C179.665 -0.498132 179.017 -1.67372 179.017 -3.14819C179.017 -4.60274 179.705 -5.58904 180.442 -5.58904C181.169 -5.58904 181.866 -4.6127 181.866 -3.14819C181.866 -1.67372 181.219 -0.498132 180.442 -0.498132ZM180.442 -0.498132\" fill=\"black\"/>\n",
       "  <path d=\"M188.79 -0M193.015 -3.03861C193.015 -4.89166 191.998 -6.19676 190.902 -6.19676C189.787 -6.19676 188.79 -4.86177 188.79 -3.04857C188.79 -1.19552 189.807 0.109589 190.902 0.109589C192.018 0.109589 193.015 -1.2254 193.015 -3.03861ZM193.015 -3.03861M190.902 -0.498132C190.125 -0.498132 189.478 -1.67372 189.478 -3.14819C189.478 -4.60274 190.165 -5.58904 190.902 -5.58904C191.63 -5.58904 192.327 -4.6127 192.327 -3.14819C192.327 -1.67372 191.68 -0.498132 190.902 -0.498132ZM190.902 -0.498132M194.569 -0M196.621 -5.78829C196.621 -5.9477 196.621 -6.19676 196.322 -6.19676C196.133 -6.19676 196.073 -6.07721 196.023 -5.95766C195.645 -5.11083 195.127 -5.00125 194.937 -4.98132C194.778 -4.97136 194.569 -4.95143 194.569 -4.67248C194.569 -4.42341 194.748 -4.3736 194.897 -4.3736C195.087 -4.3736 195.495 -4.43337 195.934 -4.81196L195.934 -0.607721L195.027 -0.607721C194.868 -0.607721 194.628 -0.607721 194.628 -0.298879C194.628 -0 194.878 -0 195.027 -0L197.528 -0C197.677 -0 197.926 -0 197.926 -0.298879C197.926 -0.607721 197.687 -0.607721 197.528 -0.607721L196.621 -0.607721ZM196.621 -0.607721\" fill=\"black\"/>\n",
       " </g>\n",
       " <g transform=\"matrix(1.000000,0.000000,0.000000,1.000000,28.346457,-28.346457)\">\n",
       "  <path d=\"M0.358655 -0M4.32379 -4.533L3.57659 -4.533L3.57659 -3.85554C3.47696 -3.98506 2.98879 -4.533 2.21171 -4.533C1.21544 -4.533 0.358655 -3.5467 0.358655 -2.20174C0.358655 -0.936488 1.08593 0.109589 2.04234 0.109589C2.60025 0.109589 3.12827 -0.119552 3.5467 -0.498132L3.5467 1.93275L4.32379 1.93275ZM4.32379 1.93275M3.57659 -1.39477C3.57659 -1.21544 3.57659 -1.19552 3.47696 -1.066C3.21793 -0.667497 2.84932 -0.498132 2.49066 -0.498132C1.7335 -0.498132 1.13574 -1.27522 1.13574 -2.20174C1.13574 -3.21793 1.85305 -3.89539 2.58032 -3.89539C3.26775 -3.89539 3.57659 -3.18804 3.57659 -2.78954ZM3.57659 -2.78954M5.49938 -0M9.46451 -6.91407L8.71731 -6.91407L8.71731 -3.98506C8.18929 -4.42341 7.63138 -4.533 7.26276 -4.533C6.27646 -4.533 5.49938 -3.49689 5.49938 -2.21171C5.49938 -0.9066 6.2665 0.109589 7.21295 0.109589C7.54172 0.109589 8.12951 0.0199253 8.68742 -0.518057L8.68742 -0L9.46451 -0ZM9.46451 -0M8.68742 -1.38481C8.68742 -1.24533 8.67746 -1.066 8.35866 -0.777086C8.12951 -0.577833 7.88045 -0.498132 7.62142 -0.498132C7.00374 -0.498132 6.27646 -0.966376 6.27646 -2.20174C6.27646 -3.51681 7.13325 -3.92528 7.72105 -3.92528C8.16936 -3.92528 8.46824 -3.69614 8.68742 -3.37733ZM8.68742 -3.37733\" fill=\"black\"/>\n",
       " </g>\n",
       " <g transform=\"matrix(1.000000,0.000000,0.000000,1.000000,124.724409,-28.346457)\">\n",
       "  <path d=\"M-10.684 -0M-10.5704 -0.508095C-10.6302 -0.448319 -10.6302 -0.436364 -10.6302 -0.334745L-10.6302 -0.286924C-10.6302 -0.071731 -10.5644 -0 -10.3433 -0L-8.29296 -0C-8.06581 -0 -8.00604 -0.0777086 -8.00604 -0.286924L-8.00604 -0.358655C-8.00604 -0.454296 -8.00604 -0.56787 -8.13157 -0.621669C-8.17341 -0.645579 -8.36469 -0.645579 -8.48425 -0.645579C-8.61575 -0.645579 -8.75921 -0.639601 -8.89072 -0.639601L-9.85909 -0.639601L-9.07005 -1.3868C-8.98038 -1.46451 -8.75324 -1.64981 -8.66357 -1.7335C-8.33481 -2.05629 -8.00604 -2.3731 -8.00604 -2.90511C-8.00604 -3.63437 -8.53207 -4.27995 -9.41077 -4.27995C-9.61999 -4.27995 -9.96071 -4.25006 -10.2476 -4.01694C-10.3014 -3.97509 -10.5764 -3.7599 -10.684 -3.3594L-10.3851 -2.97684C-10.3493 -2.92902 -10.3313 -2.90511 -10.2895 -2.90511C-10.2357 -2.90511 -10.2237 -2.94695 -10.2058 -3.01868C-10.0862 -3.43113 -9.883 -3.68219 -9.50043 -3.68219C-9.03418 -3.68219 -8.8429 -3.25778 -8.8429 -2.89315C-8.8429 -2.51059 -9.07005 -2.11009 -9.4287 -1.72752ZM-9.4287 -1.72752M-7.217 -0M-5.54925 -3.99303C-5.54925 -4.1066 -5.54925 -4.27995 -5.81227 -4.27995C-5.93182 -4.27995 -5.95573 -4.268 -6.02746 -4.19626C-6.13505 -4.10062 -6.3622 -3.87945 -6.95398 -3.8675C-7.06158 -3.8675 -7.217 -3.82565 -7.217 -3.6523C-7.217 -3.43711 -7.00778 -3.43711 -6.93007 -3.43711C-6.75075 -3.43711 -6.54153 -3.467 -6.36818 -3.51482L-6.36818 -0.430386L-6.83443 -0.430386C-6.91214 -0.430386 -7.12136 -0.430386 -7.12136 -0.215193C-7.12136 -0 -6.91214 -0 -6.83443 -0L-5.13082 -0C-5.06507 -0 -4.8439 -0 -4.8439 -0.215193C-4.8439 -0.430386 -5.06507 -0.430386 -5.13082 -0.430386L-5.54925 -0.430386ZM-5.54925 -0.430386M-3.83966 -0M-3.55274 -4.14844C-3.76793 -4.14844 -3.83966 -4.08269 -3.83966 -3.86152L-3.83966 -0.286924C-3.83966 -0.071731 -3.77391 -0 -3.55274 -0L-1.91488 -0C-1.47254 -0 -0.372664 -0.0777086 -0.372664 -1.15965C-0.372664 -2.00249 -1.20355 -2.134 -1.42472 -2.16986C-0.874781 -2.29539 -0.557969 -2.60623 -0.557969 -3.07248C-0.557969 -4.14844 -1.83119 -4.14844 -2.08225 -4.14844ZM-2.08225 -4.14844M-2.99682 -2.3731L-2.99682 -3.63437L-2.29745 -3.63437C-2.06432 -3.63437 -1.37092 -3.61644 -1.37092 -3.05455C-1.37092 -2.3731 -2.15398 -2.3731 -2.30342 -2.3731ZM-2.30342 -2.3731M-2.99682 -0.514072L-2.99682 -1.94271L-2.24365 -1.94271C-2.03443 -1.94271 -1.20355 -1.94271 -1.20355 -1.17161C-1.20355 -0.555915 -1.84315 -0.514072 -2.13007 -0.514072ZM-2.13007 -0.514072\" fill=\"black\"/>\n",
       " </g>\n",
       " <g transform=\"matrix(1.000000,0.000000,0.000000,1.000000,127.559055,-28.346457)\">\n",
       "  <path d=\"M0.557908 -0M4.42341 -4.85181C4.533 -4.92154 4.66252 -5.00125 4.66252 -5.19054C4.66252 -5.41968 4.47323 -5.53923 4.31382 -5.53923C4.22416 -5.53923 4.19427 -5.52927 4.05479 -5.4396L0.777086 -3.37733C0.687422 -3.31756 0.557908 -3.23786 0.557908 -3.04857C0.557908 -2.91905 0.637609 -2.80946 0.737235 -2.73973L4.05479 -0.657534C4.19427 -0.56787 4.22416 -0.557908 4.31382 -0.557908C4.47323 -0.557908 4.66252 -0.67746 4.66252 -0.9066C4.66252 -1.09589 4.533 -1.17559 4.42341 -1.24533L1.56413 -3.04857ZM1.56413 -3.04857\" fill=\"black\"/>\n",
       "  <path d=\"M6.18675 -0M6.18675 -6.91407L6.18675 -0L8.80693 -0C10.5006 -0 11.8555 -1.51432 11.8555 -3.39726C11.8555 -5.33001 10.5105 -6.91407 8.79697 -6.91407ZM8.79697 -6.91407M7.04354 -0.557908L7.04354 -6.35616L8.56782 -6.35616C9.96259 -6.35616 10.9987 -5.15068 10.9987 -3.39726C10.9987 -1.70361 9.96259 -0.557908 8.56782 -0.557908ZM8.56782 -0.557908M13.3798 -0M14.6151 -6.91407L13.3798 -6.91407L13.3798 -0L14.1569 -0L14.1569 -6.20672L14.1668 -6.20672C14.3561 -5.79826 14.7745 -4.95143 14.8343 -4.84184L17.2752 -0L18.5105 -0L18.5105 -6.91407L17.7335 -6.91407L17.7335 -0.707347L17.7235 -0.707347C17.5342 -1.11582 17.1158 -1.96264 17.056 -2.07223ZM17.056 -2.07223M19.9153 -0M24.1095 -6.63512C23.5616 -6.96389 23.0137 -7.13325 22.2864 -7.13325C20.9016 -7.13325 20.0348 -6.15691 20.0348 -5.17061C20.0348 -4.74222 20.1743 -4.32379 20.5728 -3.90535C20.9912 -3.45704 21.4296 -3.33748 22.0174 -3.19801C22.8642 -2.98879 22.9638 -2.9589 23.2428 -2.70984C23.442 -2.54047 23.6612 -2.21171 23.6612 -1.78331C23.6612 -1.12578 23.1133 -0.468244 22.2067 -0.468244C21.7982 -0.468244 20.9016 -0.56787 20.0647 -1.27522L19.9153 -0.468244C20.792 0.0797011 21.589 0.219178 22.2166 0.219178C23.5317 0.219178 24.4483 -0.787049 24.4483 -1.88294C24.4483 -2.53051 24.1394 -3.00872 23.9203 -3.24782C23.452 -3.74595 23.1232 -3.83562 22.2067 -4.06476C21.6288 -4.20423 21.4694 -4.24408 21.1706 -4.50311C21.1008 -4.56289 20.8219 -4.85181 20.8219 -5.29016C20.8219 -5.87796 21.3599 -6.47572 22.2764 -6.47572C23.1133 -6.47572 23.5915 -6.14695 23.9601 -5.83811ZM23.9601 -5.83811M25.5641 -0M30.3163 -0.328767C31.4022 -1.17559 31.7708 -2.39103 31.7708 -3.43711C31.7708 -5.52927 30.3262 -7.13325 28.6724 -7.13325C26.9788 -7.13325 25.5641 -5.50934 25.5641 -3.43711C25.5641 -1.32503 27.0386 0.219178 28.6625 0.219178C28.8219 0.219178 29.1905 0.209215 29.6189 0.0398506L30.4757 1.24533L31.5018 1.24533ZM31.5018 1.24533M29.2303 -0.508095C29.2204 -0.508095 28.9613 -0.418431 28.6724 -0.418431C27.4968 -0.418431 26.4209 -1.58406 26.4209 -3.43711C26.4209 -5.30012 27.5068 -6.49564 28.6625 -6.49564C29.858 -6.49564 30.914 -5.2802 30.914 -3.43711C30.914 -2.78954 30.7945 -1.70361 29.8978 -0.886675L29.1108 -1.93275L28.2241 -1.93275ZM28.2241 -1.93275M33.2951 -0M36.513 -3.24782C37.5392 -3.5467 38.2067 -4.25405 38.2067 -5.06102C38.2067 -6.04732 37.1208 -6.91407 35.6961 -6.91407L33.2951 -6.91407L33.2951 -0L34.1519 -0L34.1519 -3.15816L35.726 -3.15816L37.599 -0L38.4856 -0ZM38.4856 -0M34.1519 -3.76588L34.1519 -6.35616L35.5865 -6.35616C36.7422 -6.35616 37.3997 -5.76837 37.3997 -5.06102C37.3997 -4.35367 36.7621 -3.76588 35.5865 -3.76588ZM35.5865 -3.76588\" fill=\"black\"/>\n",
       "  <path d=\"M42.4647 -0M46.4298 -4.533L45.6827 -4.533L45.6827 -3.85554C45.583 -3.98506 45.0949 -4.533 44.3178 -4.533C43.3215 -4.533 42.4647 -3.5467 42.4647 -2.20174C42.4647 -0.936488 43.192 0.109589 44.1484 0.109589C44.7063 0.109589 45.2343 -0.119552 45.6528 -0.498132L45.6528 1.93275L46.4298 1.93275ZM46.4298 1.93275M45.6827 -1.39477C45.6827 -1.21544 45.6827 -1.19552 45.583 -1.066C45.324 -0.667497 44.9554 -0.498132 44.5967 -0.498132C43.8396 -0.498132 43.2418 -1.27522 43.2418 -2.20174C43.2418 -3.21793 43.9591 -3.89539 44.6864 -3.89539C45.3738 -3.89539 45.6827 -3.18804 45.6827 -2.78954ZM45.6827 -2.78954M48.0538 -0M51.5805 -2.96887C51.5805 -3.6264 51.4311 -4.533 50.2157 -4.533C49.319 -4.533 48.8308 -3.85554 48.7711 -3.77584L48.7711 -4.48319L48.0538 -4.48319L48.0538 -0L48.8308 -0L48.8308 -2.44085C48.8308 -3.09838 49.0799 -3.92528 49.8371 -3.92528C50.7935 -3.92528 50.8034 -3.21793 50.8034 -2.89913L50.8034 -0L51.5805 -0ZM51.5805 -0M52.8259 -0M56.3626 -2.8792C56.3626 -3.89539 55.6353 -4.59278 54.7188 -4.59278C54.0712 -4.59278 53.6229 -4.43337 53.1546 -4.16438L53.2144 -3.50685C53.7325 -3.87547 54.2306 -4.00498 54.7188 -4.00498C55.187 -4.00498 55.5855 -3.60648 55.5855 -2.86924L55.5855 -2.44085C54.0911 -2.42092 52.8259 -2.00249 52.8259 -1.12578C52.8259 -0.697385 53.0949 0.109589 53.9616 0.109589C54.1011 0.109589 55.0376 0.0896638 55.6154 -0.358655L55.6154 -0L56.3626 -0ZM56.3626 -0M55.5855 -1.31507C55.5855 -1.12578 55.5855 -0.876712 55.2468 -0.687422C54.9579 -0.508095 54.5793 -0.498132 54.4697 -0.498132C53.9915 -0.498132 53.5432 -0.727273 53.5432 -1.1457C53.5432 -1.84309 55.1571 -1.91283 55.5855 -1.93275ZM55.5855 -1.93275M57.9765 -0M64.2729 -2.96887C64.2729 -3.63636 64.1135 -4.533 62.9081 -4.533C62.3103 -4.533 61.7922 -4.25405 61.4236 -3.71606C61.1646 -4.47323 60.4672 -4.533 60.1484 -4.533C59.4311 -4.533 58.9629 -4.12453 58.6939 -3.76588L58.6939 -4.48319L57.9765 -4.48319L57.9765 -0L58.7536 -0L58.7536 -2.44085C58.7536 -3.11831 59.0226 -3.92528 59.7599 -3.92528C60.6864 -3.92528 60.7362 -3.27771 60.7362 -2.89913L60.7362 -0L61.5133 -0L61.5133 -2.44085C61.5133 -3.11831 61.7823 -3.92528 62.5195 -3.92528C63.446 -3.92528 63.4959 -3.27771 63.4959 -2.89913L63.4959 -0L64.2729 -0ZM64.2729 -0M65.4286 -0M69.2044 -2.18182C69.2044 -2.52055 69.1945 -3.26775 68.8059 -3.8655C68.3975 -4.48319 67.7898 -4.59278 67.4311 -4.59278C66.3252 -4.59278 65.4286 -3.53674 65.4286 -2.25156C65.4286 -0.936488 66.385 0.109589 67.5805 0.109589C68.2082 0.109589 68.7761 -0.129514 69.1646 -0.408468L69.1048 -1.05604C68.4772 -0.537983 67.8196 -0.498132 67.5905 -0.498132C66.7935 -0.498132 66.1559 -1.20548 66.126 -2.18182ZM66.126 -2.18182M66.1758 -2.72976C66.3352 -3.48692 66.8632 -3.98506 67.4311 -3.98506C67.9492 -3.98506 68.5071 -3.64633 68.6366 -2.72976ZM68.6366 -2.72976M70.0612 -0M76.3477 -3.28767C76.4971 -3.28767 76.6864 -3.28767 76.6864 -3.48692C76.6864 -3.68618 76.4971 -3.68618 76.3576 -3.68618L70.39 -3.68618C70.2505 -3.68618 70.0612 -3.68618 70.0612 -3.48692C70.0612 -3.28767 70.2505 -3.28767 70.4 -3.28767ZM70.4 -3.28767M76.3576 -1.29514C76.4971 -1.29514 76.6864 -1.29514 76.6864 -1.4944C76.6864 -1.69365 76.4971 -1.69365 76.3477 -1.69365L70.4 -1.69365C70.2505 -1.69365 70.0612 -1.69365 70.0612 -1.4944C70.0612 -1.29514 70.2505 -1.29514 70.39 -1.29514ZM70.39 -1.29514M78.2107 -0M79.0376 -6.09714L79.0376 -6.91407L78.2107 -6.91407L78.2107 -6.08717L78.4597 -6.08717L78.2107 -4.84184L78.6191 -4.84184ZM78.6191 -4.84184M80.1434 -0M86.659 -4.42341L85.9317 -4.42341L85.2941 -2.31133C85.1845 -1.95268 84.8856 -0.966376 84.8358 -0.537983L84.8259 -0.537983C84.786 -0.846824 84.5369 -1.7335 84.3676 -2.30137L83.72 -4.42341L83.0226 -4.42341L82.4548 -2.55044C82.3452 -2.20174 82.0064 -1.05604 81.9666 -0.547945L81.9566 -0.547945C81.9068 -1.02615 81.578 -2.15193 81.4186 -2.69988L80.9006 -4.42341L80.1434 -4.42341L81.5083 -0L82.2954 -0C82.3452 -0.159402 82.6939 -1.27522 82.913 -2.0523C83.0525 -2.51059 83.3315 -3.49689 83.3614 -3.8655L83.3713 -3.8655C83.3912 -3.58655 83.5606 -2.89913 83.6901 -2.47073L84.4174 -0L85.2941 -0ZM85.2941 -0M86.9479 -0M93.4635 -4.42341L92.7362 -4.42341L92.0986 -2.31133C91.989 -1.95268 91.6901 -0.966376 91.6403 -0.537983L91.6303 -0.537983C91.5905 -0.846824 91.3414 -1.7335 91.1721 -2.30137L90.5245 -4.42341L89.8271 -4.42341L89.2592 -2.55044C89.1497 -2.20174 88.8109 -1.05604 88.7711 -0.547945L88.7611 -0.547945C88.7113 -1.02615 88.3825 -2.15193 88.2231 -2.69988L87.7051 -4.42341L86.9479 -4.42341L88.3128 -0L89.0998 -0C89.1497 -0.159402 89.4983 -1.27522 89.7175 -2.0523C89.857 -2.51059 90.136 -3.49689 90.1658 -3.8655L90.1758 -3.8655C90.1957 -3.58655 90.3651 -2.89913 90.4946 -2.47073L91.2219 -0L92.0986 -0ZM92.0986 -0M93.7524 -0M100.268 -4.42341L99.5407 -4.42341L98.9031 -2.31133C98.7935 -1.95268 98.4946 -0.966376 98.4448 -0.537983L98.4348 -0.537983C98.395 -0.846824 98.1459 -1.7335 97.9765 -2.30137L97.329 -4.42341L96.6316 -4.42341L96.0637 -2.55044C95.9541 -2.20174 95.6154 -1.05604 95.5756 -0.547945L95.5656 -0.547945C95.5158 -1.02615 95.187 -2.15193 95.0276 -2.69988L94.5096 -4.42341L93.7524 -4.42341L95.1173 -0L95.9043 -0C95.9541 -0.159402 96.3028 -1.27522 96.522 -2.0523C96.6615 -2.51059 96.9404 -3.49689 96.9703 -3.8655L96.9803 -3.8655C97.0002 -3.58655 97.1696 -2.89913 97.2991 -2.47073L98.0264 -0L98.9031 -0ZM98.9031 -0M101.434 -0M103.067 2.49066L103.067 1.88294L102.151 1.88294L102.151 -6.86426L103.067 -6.86426L103.067 -7.47198L101.434 -7.47198L101.434 2.49066ZM101.434 2.49066M104.253 -0M105.08 -0.826899L104.253 -0.826899L104.253 -0L105.08 -0ZM105.08 -0M107.013 -0M107.84 -0.826899L107.013 -0.826899L107.013 -0L107.84 -0ZM107.84 -0M109.772 -0M110.599 -0.826899L109.772 -0.826899L109.772 -0L110.599 -0ZM110.599 -0M111.785 -0M113.419 -7.47198L111.785 -7.47198L111.785 -6.86426L112.701 -6.86426L112.701 1.88294L111.785 1.88294L111.785 2.49066L113.419 2.49066ZM113.419 2.49066\" fill=\"black\"/>\n",
       " </g>\n",
       " <g transform=\"matrix(1.000000,0.000000,0.000000,1.000000,28.346457,-17.007874)\">\n",
       "  <path d=\"M0.438356 -0M3.97509 -2.8792C3.97509 -3.89539 3.24782 -4.59278 2.33126 -4.59278C1.68369 -4.59278 1.23537 -4.43337 0.767123 -4.16438L0.826899 -3.50685C1.34496 -3.87547 1.84309 -4.00498 2.33126 -4.00498C2.7995 -4.00498 3.19801 -3.60648 3.19801 -2.86924L3.19801 -2.44085C1.70361 -2.42092 0.438356 -2.00249 0.438356 -1.12578C0.438356 -0.697385 0.707347 0.109589 1.5741 0.109589C1.71357 0.109589 2.65006 0.0896638 3.2279 -0.358655L3.2279 -0L3.97509 -0ZM3.97509 -0M3.19801 -1.31507C3.19801 -1.12578 3.19801 -0.876712 2.85928 -0.687422C2.57036 -0.508095 2.19178 -0.498132 2.08219 -0.498132C1.60399 -0.498132 1.15567 -0.727273 1.15567 -1.1457C1.15567 -1.84309 2.76961 -1.91283 3.19801 -1.93275ZM3.19801 -1.93275M5.58904 -0M9.11582 -2.96887C9.11582 -3.6264 8.96638 -4.533 7.75093 -4.533C6.8543 -4.533 6.36613 -3.85554 6.30635 -3.77584L6.30635 -4.48319L5.58904 -4.48319L5.58904 -0L6.36613 -0L6.36613 -2.44085C6.36613 -3.09838 6.61519 -3.92528 7.37235 -3.92528C8.32877 -3.92528 8.33873 -3.21793 8.33873 -2.89913L8.33873 -0L9.11582 -0ZM9.11582 -0\" fill=\"black\"/>\n",
       " </g>\n",
       " <g transform=\"matrix(1.000000,0.000000,0.000000,1.000000,124.724409,-17.007874)\">\n",
       "  <path d=\"M-7.41424 -0M-4.64662 -2.05031C-4.64662 -2.86924 -4.64662 -4.27995 -6.02744 -4.27995C-7.41424 -4.27995 -7.41424 -2.8812 -7.41424 -2.05031C-7.41424 -1.23138 -7.41424 0.131507 -6.03342 0.131507C-4.64662 0.131507 -4.64662 -1.21943 -4.64662 -2.05031ZM-4.64662 -2.05031M-6.03342 -0.298879C-6.47576 -0.298879 -6.54151 -0.848817 -6.55944 -1.01021C-6.60129 -1.32702 -6.60129 -1.88892 -6.60129 -2.134C-6.60129 -2.48667 -6.60129 -2.86924 -6.56542 -3.16214C-6.54749 -3.32354 -6.48771 -3.84956 -6.03342 -3.84956C-5.59108 -3.84956 -5.51935 -3.34745 -5.50141 -3.2279C-5.45957 -2.92304 -5.45957 -2.45081 -5.45957 -2.134C-5.45957 -1.79328 -5.45957 -1.32702 -5.50141 -0.998257C-5.51935 -0.842839 -5.5851 -0.298879 -6.03342 -0.298879ZM-6.03342 -0.298879M-3.83964 -0M-3.55272 -4.14844C-3.76791 -4.14844 -3.83964 -4.08269 -3.83964 -3.86152L-3.83964 -0.286924C-3.83964 -0.071731 -3.77389 -0 -3.55272 -0L-1.91486 -0C-1.47252 -0 -0.372645 -0.0777086 -0.372645 -1.15965C-0.372645 -2.00249 -1.20353 -2.134 -1.4247 -2.16986C-0.874762 -2.29539 -0.55795 -2.60623 -0.55795 -3.07248C-0.55795 -4.14844 -1.83118 -4.14844 -2.08223 -4.14844ZM-2.08223 -4.14844M-2.9968 -2.3731L-2.9968 -3.63437L-2.29743 -3.63437C-2.0643 -3.63437 -1.3709 -3.61644 -1.3709 -3.05455C-1.3709 -2.3731 -2.15397 -2.3731 -2.3034 -2.3731ZM-2.3034 -2.3731M-2.9968 -0.514072L-2.9968 -1.94271L-2.24363 -1.94271C-2.03441 -1.94271 -1.20353 -1.94271 -1.20353 -1.17161C-1.20353 -0.555915 -1.84313 -0.514072 -2.13006 -0.514072ZM-2.13006 -0.514072\" fill=\"black\"/>\n",
       " </g>\n",
       " <g transform=\"matrix(1.000000,0.000000,0.000000,1.000000,127.559055,-17.007874)\">\n",
       "  <path d=\"M0.956413 -0M2.19178 -6.91407L0.956413 -6.91407L0.956413 -0L1.7335 -0L1.7335 -6.20672L1.74346 -6.20672C1.93275 -5.79826 2.35118 -4.95143 2.41096 -4.84184L4.85181 -0L6.08717 -0L6.08717 -6.91407L5.31009 -6.91407L5.31009 -0.707347L5.30012 -0.707347C5.11083 -1.11582 4.6924 -1.96264 4.63263 -2.07223ZM4.63263 -2.07223M7.35243 -0M11.726 -2.19178C11.726 -3.52677 10.7298 -4.59278 9.54421 -4.59278C8.3188 -4.59278 7.35243 -3.49689 7.35243 -2.19178C7.35243 -0.876712 8.36862 0.109589 9.53425 0.109589C10.7298 0.109589 11.726 -0.896638 11.726 -2.19178ZM11.726 -2.19178M9.53425 -0.52802C8.84682 -0.52802 8.12951 -1.08593 8.12951 -2.29141C8.12951 -3.49689 8.88667 -3.98506 9.53425 -3.98506C10.2316 -3.98506 10.9489 -3.467 10.9489 -2.29141C10.9489 -1.11582 10.2715 -0.52802 9.53425 -0.52802ZM9.53425 -0.52802M12.8418 -0M16.3686 -2.96887C16.3686 -3.6264 16.2192 -4.533 15.0037 -4.533C14.1071 -4.533 13.6189 -3.85554 13.5592 -3.77584L13.5592 -4.48319L12.8418 -4.48319L12.8418 -0L13.6189 -0L13.6189 -2.44085C13.6189 -3.09838 13.868 -3.92528 14.6252 -3.92528C15.5816 -3.92528 15.5915 -3.21793 15.5915 -2.89913L15.5915 -0L16.3686 -0ZM16.3686 -0M17.5243 -0M21.3001 -2.18182C21.3001 -2.52055 21.2902 -3.26775 20.9016 -3.8655C20.4932 -4.48319 19.8854 -4.59278 19.5268 -4.59278C18.4209 -4.59278 17.5243 -3.53674 17.5243 -2.25156C17.5243 -0.936488 18.4807 0.109589 19.6762 0.109589C20.3039 0.109589 20.8717 -0.129514 21.2603 -0.408468L21.2005 -1.05604C20.5729 -0.537983 19.9153 -0.498132 19.6862 -0.498132C18.8892 -0.498132 18.2516 -1.20548 18.2217 -2.18182ZM18.2217 -2.18182M18.2715 -2.72976C18.4309 -3.48692 18.9589 -3.98506 19.5268 -3.98506C20.0448 -3.98506 20.6027 -3.64633 20.7323 -2.72976ZM20.7323 -2.72976\" fill=\"black\"/>\n",
       " </g>\n",
       " <g transform=\"matrix(1.000000,0.000000,0.000000,1.000000,28.346457,-5.669291)\">\n",
       "  <path d=\"M0.806974 -0M4.33375 -2.96887C4.33375 -3.6264 4.18431 -4.533 2.96887 -4.533C2.07223 -4.533 1.58406 -3.85554 1.52428 -3.77584L1.52428 -4.48319L0.806974 -4.48319L0.806974 -0L1.58406 -0L1.58406 -2.44085C1.58406 -3.09838 1.83313 -3.92528 2.59029 -3.92528C3.5467 -3.92528 3.55666 -3.21793 3.55666 -2.89913L3.55666 -0L4.33375 -0ZM4.33375 -0M5.41968 -0M8.55791 -4.27397C8.03985 -4.51308 7.63138 -4.59278 7.12329 -4.59278C6.87422 -4.59278 5.46949 -4.59278 5.46949 -3.28767C5.46949 -2.7995 5.75841 -2.4807 6.00747 -2.29141C6.31631 -2.07223 6.53549 -2.03238 7.08344 -1.92279C7.44209 -1.85305 8.01993 -1.7335 8.01993 -1.20548C8.01993 -0.518057 7.23288 -0.518057 7.08344 -0.518057C6.27646 -0.518057 5.71856 -0.886675 5.53923 -1.00623L5.41968 -0.328767C5.73848 -0.169365 6.28643 0.109589 7.0934 0.109589C7.27273 0.109589 7.82067 0.109589 8.24907 -0.209215C8.55791 -0.448319 8.72727 -0.846824 8.72727 -1.27522C8.72727 -1.82316 8.35866 -2.16189 8.33873 -2.19178C7.95019 -2.54047 7.6812 -2.60025 7.18306 -2.68991C6.63512 -2.7995 6.17684 -2.89913 6.17684 -3.3873C6.17684 -4.00498 6.89415 -4.00498 7.02366 -4.00498C7.34247 -4.00498 7.87049 -3.96513 8.43836 -3.6264ZM8.43836 -3.6264\" fill=\"black\"/>\n",
       " </g>\n",
       " <g transform=\"matrix(1.000000,0.000000,0.000000,1.000000,124.724409,-5.669291)\">\n",
       "  <path d=\"M-7.41424 -0M-4.64662 -2.05031C-4.64662 -2.86924 -4.64662 -4.27995 -6.02744 -4.27995C-7.41424 -4.27995 -7.41424 -2.8812 -7.41424 -2.05031C-7.41424 -1.23138 -7.41424 0.131507 -6.03342 0.131507C-4.64662 0.131507 -4.64662 -1.21943 -4.64662 -2.05031ZM-4.64662 -2.05031M-6.03342 -0.298879C-6.47576 -0.298879 -6.54151 -0.848817 -6.55944 -1.01021C-6.60129 -1.32702 -6.60129 -1.88892 -6.60129 -2.134C-6.60129 -2.48667 -6.60129 -2.86924 -6.56542 -3.16214C-6.54749 -3.32354 -6.48771 -3.84956 -6.03342 -3.84956C-5.59108 -3.84956 -5.51935 -3.34745 -5.50141 -3.2279C-5.45957 -2.92304 -5.45957 -2.45081 -5.45957 -2.134C-5.45957 -1.79328 -5.45957 -1.32702 -5.50141 -0.998257C-5.51935 -0.842839 -5.5851 -0.298879 -6.03342 -0.298879ZM-6.03342 -0.298879M-3.83964 -0M-3.55272 -4.14844C-3.76791 -4.14844 -3.83964 -4.08269 -3.83964 -3.86152L-3.83964 -0.286924C-3.83964 -0.071731 -3.77389 -0 -3.55272 -0L-1.91486 -0C-1.47252 -0 -0.372645 -0.0777086 -0.372645 -1.15965C-0.372645 -2.00249 -1.20353 -2.134 -1.4247 -2.16986C-0.874762 -2.29539 -0.55795 -2.60623 -0.55795 -3.07248C-0.55795 -4.14844 -1.83118 -4.14844 -2.08223 -4.14844ZM-2.08223 -4.14844M-2.9968 -2.3731L-2.9968 -3.63437L-2.29743 -3.63437C-2.0643 -3.63437 -1.3709 -3.61644 -1.3709 -3.05455C-1.3709 -2.3731 -2.15397 -2.3731 -2.3034 -2.3731ZM-2.3034 -2.3731M-2.9968 -0.514072L-2.9968 -1.94271L-2.24363 -1.94271C-2.03441 -1.94271 -1.20353 -1.94271 -1.20353 -1.17161C-1.20353 -0.555915 -1.84313 -0.514072 -2.13006 -0.514072ZM-2.13006 -0.514072\" fill=\"black\"/>\n",
       " </g>\n",
       " <g transform=\"matrix(1.000000,0.000000,0.000000,1.000000,127.559055,-5.669291)\">\n",
       "  <path d=\"M0.956413 -0M2.19178 -6.91407L0.956413 -6.91407L0.956413 -0L1.7335 -0L1.7335 -6.20672L1.74346 -6.20672C1.93275 -5.79826 2.35118 -4.95143 2.41096 -4.84184L4.85181 -0L6.08717 -0L6.08717 -6.91407L5.31009 -6.91407L5.31009 -0.707347L5.30012 -0.707347C5.11083 -1.11582 4.6924 -1.96264 4.63263 -2.07223ZM4.63263 -2.07223M7.35243 -0M11.726 -2.19178C11.726 -3.52677 10.7298 -4.59278 9.54421 -4.59278C8.3188 -4.59278 7.35243 -3.49689 7.35243 -2.19178C7.35243 -0.876712 8.36862 0.109589 9.53425 0.109589C10.7298 0.109589 11.726 -0.896638 11.726 -2.19178ZM11.726 -2.19178M9.53425 -0.52802C8.84682 -0.52802 8.12951 -1.08593 8.12951 -2.29141C8.12951 -3.49689 8.88667 -3.98506 9.53425 -3.98506C10.2316 -3.98506 10.9489 -3.467 10.9489 -2.29141C10.9489 -1.11582 10.2715 -0.52802 9.53425 -0.52802ZM9.53425 -0.52802M12.8418 -0M16.3686 -2.96887C16.3686 -3.6264 16.2192 -4.533 15.0037 -4.533C14.1071 -4.533 13.6189 -3.85554 13.5592 -3.77584L13.5592 -4.48319L12.8418 -4.48319L12.8418 -0L13.6189 -0L13.6189 -2.44085C13.6189 -3.09838 13.868 -3.92528 14.6252 -3.92528C15.5816 -3.92528 15.5915 -3.21793 15.5915 -2.89913L15.5915 -0L16.3686 -0ZM16.3686 -0M17.5243 -0M21.3001 -2.18182C21.3001 -2.52055 21.2902 -3.26775 20.9016 -3.8655C20.4932 -4.48319 19.8854 -4.59278 19.5268 -4.59278C18.4209 -4.59278 17.5243 -3.53674 17.5243 -2.25156C17.5243 -0.936488 18.4807 0.109589 19.6762 0.109589C20.3039 0.109589 20.8717 -0.129514 21.2603 -0.408468L21.2005 -1.05604C20.5729 -0.537983 19.9153 -0.498132 19.6862 -0.498132C18.8892 -0.498132 18.2516 -1.20548 18.2217 -2.18182ZM18.2217 -2.18182M18.2715 -2.72976C18.4309 -3.48692 18.9589 -3.98506 19.5268 -3.98506C20.0448 -3.98506 20.6027 -3.64633 20.7323 -2.72976ZM20.7323 -2.72976\" fill=\"black\"/>\n",
       " </g>\n",
       " <g transform=\"matrix(1.000000,0.000000,0.000000,1.000000,28.346457,5.669291)\">\n",
       "  <path d=\"M0.438356 -0M3.97509 -2.8792C3.97509 -3.89539 3.24782 -4.59278 2.33126 -4.59278C1.68369 -4.59278 1.23537 -4.43337 0.767123 -4.16438L0.826899 -3.50685C1.34496 -3.87547 1.84309 -4.00498 2.33126 -4.00498C2.7995 -4.00498 3.19801 -3.60648 3.19801 -2.86924L3.19801 -2.44085C1.70361 -2.42092 0.438356 -2.00249 0.438356 -1.12578C0.438356 -0.697385 0.707347 0.109589 1.5741 0.109589C1.71357 0.109589 2.65006 0.0896638 3.2279 -0.358655L3.2279 -0L3.97509 -0ZM3.97509 -0M3.19801 -1.31507C3.19801 -1.12578 3.19801 -0.876712 2.85928 -0.687422C2.57036 -0.508095 2.19178 -0.498132 2.08219 -0.498132C1.60399 -0.498132 1.15567 -0.727273 1.15567 -1.1457C1.15567 -1.84309 2.76961 -1.91283 3.19801 -1.93275ZM3.19801 -1.93275\" fill=\"black\"/>\n",
       "  <path d=\"M5.32781 -0M6.075 -2.132C6.075 -3.12827 6.79232 -3.84558 7.76865 -3.8655L7.76865 -4.533C6.88198 -4.52304 6.33403 -4.03487 6.02519 -3.57659L6.02519 -4.48319L5.32781 -4.48319L5.32781 -0L6.075 -0ZM6.075 -0\" fill=\"black\"/>\n",
       " </g>\n",
       " <g transform=\"matrix(1.000000,0.000000,0.000000,1.000000,124.724409,5.669291)\">\n",
       "  <path d=\"M-7.41424 -0M-4.64662 -2.05031C-4.64662 -2.86924 -4.64662 -4.27995 -6.02744 -4.27995C-7.41424 -4.27995 -7.41424 -2.8812 -7.41424 -2.05031C-7.41424 -1.23138 -7.41424 0.131507 -6.03342 0.131507C-4.64662 0.131507 -4.64662 -1.21943 -4.64662 -2.05031ZM-4.64662 -2.05031M-6.03342 -0.298879C-6.47576 -0.298879 -6.54151 -0.848817 -6.55944 -1.01021C-6.60129 -1.32702 -6.60129 -1.88892 -6.60129 -2.134C-6.60129 -2.48667 -6.60129 -2.86924 -6.56542 -3.16214C-6.54749 -3.32354 -6.48771 -3.84956 -6.03342 -3.84956C-5.59108 -3.84956 -5.51935 -3.34745 -5.50141 -3.2279C-5.45957 -2.92304 -5.45957 -2.45081 -5.45957 -2.134C-5.45957 -1.79328 -5.45957 -1.32702 -5.50141 -0.998257C-5.51935 -0.842839 -5.5851 -0.298879 -6.03342 -0.298879ZM-6.03342 -0.298879M-3.83964 -0M-3.55272 -4.14844C-3.76791 -4.14844 -3.83964 -4.08269 -3.83964 -3.86152L-3.83964 -0.286924C-3.83964 -0.071731 -3.77389 -0 -3.55272 -0L-1.91486 -0C-1.47252 -0 -0.372645 -0.0777086 -0.372645 -1.15965C-0.372645 -2.00249 -1.20353 -2.134 -1.4247 -2.16986C-0.874762 -2.29539 -0.55795 -2.60623 -0.55795 -3.07248C-0.55795 -4.14844 -1.83118 -4.14844 -2.08223 -4.14844ZM-2.08223 -4.14844M-2.9968 -2.3731L-2.9968 -3.63437L-2.29743 -3.63437C-2.0643 -3.63437 -1.3709 -3.61644 -1.3709 -3.05455C-1.3709 -2.3731 -2.15397 -2.3731 -2.3034 -2.3731ZM-2.3034 -2.3731M-2.9968 -0.514072L-2.9968 -1.94271L-2.24363 -1.94271C-2.03441 -1.94271 -1.20353 -1.94271 -1.20353 -1.17161C-1.20353 -0.555915 -1.84313 -0.514072 -2.13006 -0.514072ZM-2.13006 -0.514072\" fill=\"black\"/>\n",
       " </g>\n",
       " <g transform=\"matrix(1.000000,0.000000,0.000000,1.000000,127.559055,5.669291)\">\n",
       "  <path d=\"M0.956413 -0M2.19178 -6.91407L0.956413 -6.91407L0.956413 -0L1.7335 -0L1.7335 -6.20672L1.74346 -6.20672C1.93275 -5.79826 2.35118 -4.95143 2.41096 -4.84184L4.85181 -0L6.08717 -0L6.08717 -6.91407L5.31009 -6.91407L5.31009 -0.707347L5.30012 -0.707347C5.11083 -1.11582 4.6924 -1.96264 4.63263 -2.07223ZM4.63263 -2.07223M7.35243 -0M11.726 -2.19178C11.726 -3.52677 10.7298 -4.59278 9.54421 -4.59278C8.3188 -4.59278 7.35243 -3.49689 7.35243 -2.19178C7.35243 -0.876712 8.36862 0.109589 9.53425 0.109589C10.7298 0.109589 11.726 -0.896638 11.726 -2.19178ZM11.726 -2.19178M9.53425 -0.52802C8.84682 -0.52802 8.12951 -1.08593 8.12951 -2.29141C8.12951 -3.49689 8.88667 -3.98506 9.53425 -3.98506C10.2316 -3.98506 10.9489 -3.467 10.9489 -2.29141C10.9489 -1.11582 10.2715 -0.52802 9.53425 -0.52802ZM9.53425 -0.52802M12.8418 -0M16.3686 -2.96887C16.3686 -3.6264 16.2192 -4.533 15.0037 -4.533C14.1071 -4.533 13.6189 -3.85554 13.5592 -3.77584L13.5592 -4.48319L12.8418 -4.48319L12.8418 -0L13.6189 -0L13.6189 -2.44085C13.6189 -3.09838 13.868 -3.92528 14.6252 -3.92528C15.5816 -3.92528 15.5915 -3.21793 15.5915 -2.89913L15.5915 -0L16.3686 -0ZM16.3686 -0M17.5243 -0M21.3001 -2.18182C21.3001 -2.52055 21.2902 -3.26775 20.9016 -3.8655C20.4932 -4.48319 19.8854 -4.59278 19.5268 -4.59278C18.4209 -4.59278 17.5243 -3.53674 17.5243 -2.25156C17.5243 -0.936488 18.4807 0.109589 19.6762 0.109589C20.3039 0.109589 20.8717 -0.129514 21.2603 -0.408468L21.2005 -1.05604C20.5729 -0.537983 19.9153 -0.498132 19.6862 -0.498132C18.8892 -0.498132 18.2516 -1.20548 18.2217 -2.18182ZM18.2217 -2.18182M18.2715 -2.72976C18.4309 -3.48692 18.9589 -3.98506 19.5268 -3.98506C20.0448 -3.98506 20.6027 -3.64633 20.7323 -2.72976ZM20.7323 -2.72976\" fill=\"black\"/>\n",
       " </g>\n",
       "</svg>\n"
      ],
      "text/plain": [
       "<pyx.canvas.canvas at 0x7f202c213ac8>"
      ]
     },
     "execution_count": 14,
     "metadata": {},
     "output_type": "execute_result"
    }
   ],
   "source": [
    "pkt.canvas_dump()"
   ]
  },
  {
   "cell_type": "markdown",
   "metadata": {
    "slideshow": {
     "slide_type": "slide"
    }
   },
   "source": [
    "The `traceroute()` functions calls `sr(IP(ttl=(1,15))` and create the `TracerouteResult` object\n",
    "\n",
    "---"
   ]
  },
  {
   "cell_type": "code",
   "execution_count": 25,
   "metadata": {
    "scrolled": true
   },
   "outputs": [
    {
     "name": "stdout",
     "output_type": "stream",
     "text": [
      "Begin emission:\n",
      "Finished sending 15 packets.\n",
      "\n",
      "Received 20 packets, got 14 answers, remaining 1 packets\n",
      "   217.25.178.5:tcp80 \n",
      "1  192.168.42.1    11 \n",
      "3  193.253.82.102  11 \n",
      "4  193.252.159.153 11 \n",
      "5  193.252.137.78  11 \n",
      "6  130.117.15.233  11 \n",
      "7  154.25.7.150    11 \n",
      "8  154.25.4.254    11 \n",
      "9  149.6.166.166   11 \n",
      "10 217.25.178.5    SA \n",
      "11 217.25.178.5    SA \n",
      "12 217.25.178.5    SA \n",
      "13 217.25.178.5    SA \n",
      "14 217.25.178.5    SA \n",
      "15 217.25.178.5    SA \n"
     ]
    }
   ],
   "source": [
    "ans, unans = traceroute('www.secdev.org', maxttl=15)"
   ]
  },
  {
   "cell_type": "markdown",
   "metadata": {
    "slideshow": {
     "slide_type": "slide"
    }
   },
   "source": [
    "Different methods can be used to display the results, like `world_trace()` that uses the GeoIP module from [MaxMind](https://www.maxmind.com/), and [cartopy](https://pypi.org/project/Cartopy/)\n",
    "\n",
    "---"
   ]
  },
  {
   "cell_type": "code",
   "execution_count": 22,
   "metadata": {},
   "outputs": [
    {
     "data": {
      "text/plain": [
       "[[<matplotlib.lines.Line2D at 0x7fb432ee41d0>]]"
      ]
     },
     "execution_count": 22,
     "metadata": {},
     "output_type": "execute_result"
    },
    {
     "data": {
      "image/png": "[encoded data removed]",
      "text/plain": [
       "<matplotlib.figure.Figure at 0x7fb431fe0610>"
      ]
     },
     "metadata": {},
     "output_type": "display_data"
    }
   ],
   "source": [
    "%matplotlib inline\n",
    "ans.world_trace()"
   ]
  },
  {
   "cell_type": "markdown",
   "metadata": {
    "slideshow": {
     "slide_type": "slide"
    }
   },
   "source": [
    "The `make_table()` method provides a compact results representation, useful for a basic *port scanner*\n",
    "\n",
    "---"
   ]
  },
  {
   "cell_type": "code",
   "execution_count": 27,
   "metadata": {},
   "outputs": [
    {
     "name": "stdout",
     "output_type": "stream",
     "text": [
      "          45.33.32.156 45.33.49.119 \n",
      "tcp/22    SA           SA           \n",
      "tcp/31337 SA           RA           \n",
      "tcp/443   RA           SA           \n",
      "tcp/80    SA           SA           \n",
      "udp/53    dest-unreach -            \n"
     ]
    }
   ],
   "source": [
    "targets = [\"scanme.nmap.org\", \"nmap.org\"]\n",
    "\n",
    "ans = sr(IP(dst=targets) / TCP(dport=[22, 80, 443, 31337]), timeout=3, verbose=False)[0]\n",
    "\n",
    "ans.extend(sr(IP(dst=targets) / UDP() / DNS(qd=DNSQR()), timeout=3, verbose=False)[0])\n",
    "\n",
    "ans.make_table(lambda x, y: (x[IP].dst,\n",
    "                             x.sprintf('%IP.proto%/{TCP:%r,TCP.dport%}{UDP:%r,UDP.dport%}'),\n",
    "                             y.sprintf('{TCP:%TCP.flags%}{ICMP:%ICMP.type%}')))"
   ]
  },
  {
   "cell_type": "markdown",
   "metadata": {
    "slideshow": {
     "slide_type": "slide"
    }
   },
   "source": [
    "## Scapy as a Python module"
   ]
  },
  {
   "cell_type": "markdown",
   "metadata": {
    "slideshow": {
     "slide_type": "slide"
    }
   },
   "source": [
    "Scapy can be used to build your own tools like `ping6.py`:\n",
    "\n",
    "---"
   ]
  },
  {
   "cell_type": "code",
   "execution_count": 35,
   "metadata": {},
   "outputs": [],
   "source": [
    "import argparse                                                                 \n",
    "                                                                                \n",
    "from scapy.all import *                                                         \n",
    "                                                                                \n",
    "parser = argparse.ArgumentParser(description=\"A simple ping6\")                  \n",
    "parser.add_argument(\"ipv6_host\", help=\"An IPv6 address\")\n",
    "args = parser.parse_args()                                                      \n",
    "                                                                                \n",
    "print(sr1(IPv6(dst=args.ipv6_host) / ICMPv6EchoRequest(), verbose=0).summary())"
   ]
  },
  {
   "cell_type": "markdown",
   "metadata": {},
   "source": [
    "```shell\n",
    "sudo python ping6.py www.kame.net\n",
    "IPv6 / ICMPv6 Echo Reply (id: 0x0 seq: 0x0)\n",
    "```"
   ]
  },
  {
   "cell_type": "markdown",
   "metadata": {
    "slideshow": {
     "slide_type": "slide"
    }
   },
   "source": [
    "# Implementing a new protocol"
   ]
  },
  {
   "cell_type": "markdown",
   "metadata": {
    "slideshow": {
     "slide_type": "slide"
    }
   },
   "source": [
    "To add new protocols, create an object:\n",
    "- that inherits from `Packet`\n",
    "- defines fields in the `fields_desc` variable\n",
    "\n",
    "---"
   ]
  },
  {
   "cell_type": "code",
   "execution_count": 36,
   "metadata": {},
   "outputs": [],
   "source": [
    "class DNSTCP(Packet):\n",
    "    name = \"DNS over TCP\"\n",
    "    \n",
    "    fields_desc = [ FieldLenField(\"len\", None, fmt=\"!H\", length_of=\"dns\"),\n",
    "                    PacketLenField(\"dns\", 0, DNS, length_from=lambda p: p.len)]\n",
    "    \n",
    "    # This method tells Scapy to decode the payload with DNSTCP\n",
    "    def guess_payload_class(self, payload):\n",
    "        return DNSTCP"
   ]
  },
  {
   "cell_type": "markdown",
   "metadata": {
    "slideshow": {
     "slide_type": "slide"
    }
   },
   "source": [
    "This new protocol can be directly used to build and parse a packet\n",
    "\n",
    "---"
   ]
  },
  {
   "cell_type": "code",
   "execution_count": 37,
   "metadata": {},
   "outputs": [
    {
     "data": {
      "text/plain": [
       "<DNSTCP  len=12 dns=<DNS  id=0 qr=0 opcode=QUERY aa=0 tc=0 rd=1 ra=0 z=0 ad=0 cd=0 rcode=ok qdcount=0 ancount=0 nscount=0 arcount=0 |> |>"
      ]
     },
     "execution_count": 37,
     "metadata": {},
     "output_type": "execute_result"
    }
   ],
   "source": [
    "DNSTCP(raw(DNSTCP(dns=DNS())))"
   ]
  },
  {
   "cell_type": "markdown",
   "metadata": {
    "slideshow": {
     "slide_type": "slide"
    }
   },
   "source": [
    "The `StreamSocket` object allows Scapy to use a TCP socket\n",
    "\n",
    "---"
   ]
  },
  {
   "cell_type": "code",
   "execution_count": 38,
   "metadata": {},
   "outputs": [
    {
     "name": "stdout",
     "output_type": "stream",
     "text": [
      "Begin emission:\n",
      "Finished sending 1 packets.\n",
      "\n",
      "Received 1 packets, got 1 answers, remaining 0 packets\n"
     ]
    },
    {
     "data": {
      "text/plain": [
       "<DNSTCP  len=49 dns=<DNS  id=0 qr=1 opcode=QUERY aa=0 tc=0 rd=1 ra=1 z=0 ad=0 cd=0 rcode=ok qdcount=1 ancount=1 nscount=0 arcount=0 qd=<DNSQR  qname='www.example.com.' qtype=A qclass=IN |> an=<DNSRR  rrname='www.example.com.' type=A rclass=IN ttl=5713 rdlen=None rdata=93.184.216.34 |> ns=None ar=None |> |>"
      ]
     },
     "execution_count": 38,
     "metadata": {},
     "output_type": "execute_result"
    }
   ],
   "source": [
    "import socket\n",
    "\n",
    "from scapy.all import *\n",
    "\n",
    "sck = socket.socket(socket.AF_INET, socket.SOCK_STREAM)  # create a TCP socket\n",
    "sck.connect((\"8.8.8.8\", 53))  # connect to 8.8.8.8 on 53/TCP\n",
    "\n",
    "# Create a StreamSocket and define the default class\n",
    "ssck = StreamSocket(sck)\n",
    "ssck.basecls = DNSTCP\n",
    "\n",
    "# Send the DNS query\n",
    "ssck.sr1(DNSTCP(dns=DNS(qd=DNSQR(qname=\"www.example.com\"))))"
   ]
  },
  {
   "cell_type": "markdown",
   "metadata": {
    "slideshow": {
     "slide_type": "slide"
    }
   },
   "source": [
    "## Answering Machines"
   ]
  },
  {
   "cell_type": "markdown",
   "metadata": {
    "slideshow": {
     "slide_type": "slide"
    }
   },
   "source": [
    "Scapy can wait for a query, then send an answer with the `AnsweringMachine` object.\n",
    "\n",
    "Two methods are mandatory:\n",
    "1. `is_request()`: returns `True` if the packet is the expected query\n",
    "2. `make_reply()`: returns the packet that will be sent by Scapy\n",
    "\n",
    "\n",
    "Note: in the following example, the Wi-Fi interface must be put in *monitor* mode"
   ]
  },
  {
   "cell_type": "code",
   "execution_count": null,
   "metadata": {
    "slideshow": {
     "slide_type": "slide"
    }
   },
   "outputs": [],
   "source": [
    "from scapy.all import *\n",
    "\n",
    "# Specify the Wi-Fi interface\n",
    "conf.iface = \"mon0\"\n",
    "\n",
    "# Create the Answering Machine\n",
    "class ProbeRequest_am(AnsweringMachine):\n",
    "  function_name = \"pram\"\n",
    "\n",
    "  mac = \"00:11:22:33:44:55\"\n",
    "\n",
    "  def is_request(self, pkt):\n",
    "    return Dot11ProbeReq in pkt\n",
    "\n",
    "  def make_reply(self, req):\n",
    "\n",
    "    rep = RadioTap()\n",
    "    # Note: depending on your Wi-Fi card, you might need something else than RadioTap()\n",
    "    rep /= Dot11(addr1=req.addr2, addr2=self.mac, addr3=self.mac, ID=RandShort(), SC=RandShort())\n",
    "    rep /= Dot11ProbeResp(cap=\"ESS\", timestamp=time.time())\n",
    "    rep /= Dot11Elt(ID=\"SSID\",info=\"Scapy !\")\n",
    "    rep /= Dot11Elt(ID=\"Rates\",info='\\x82\\x84\\x0b\\x16\\x96')\n",
    "    rep /= Dot11Elt(ID=\"DSset\",info=chr(10))\n",
    "\n",
    "    return rep\n",
    "\n",
    "# Start the answering machine\n",
    "#ProbeRequest_am()()  # uncomment to test"
   ]
  },
  {
   "cell_type": "markdown",
   "metadata": {
    "slideshow": {
     "slide_type": "slide"
    }
   },
   "source": [
    "![](images/scapy_am.png)"
   ]
  },
  {
   "cell_type": "markdown",
   "metadata": {
    "slideshow": {
     "slide_type": "slide"
    }
   },
   "source": [
    "# IPv6 Reconnaissance"
   ]
  },
  {
   "cell_type": "markdown",
   "metadata": {
    "slideshow": {
     "slide_type": "slide"
    }
   },
   "source": [
    "- discover the link IPv6 router using the Router Solicitation message\n",
    "\n",
    "---"
   ]
  },
  {
   "cell_type": "code",
   "execution_count": 39,
   "metadata": {},
   "outputs": [
    {
     "name": "stdout",
     "output_type": "stream",
     "text": [
      "Begin emission:\n",
      "Finished sending 1 packets.\n",
      "\n",
      "Received 2 packets, got 1 answers, remaining 0 packets\n"
     ]
    },
    {
     "data": {
      "text/plain": [
       "<IPv6  version=6 tc=192 fl=0 plen=104 nh=ICMPv6 hlim=255 src=fe80::ba26:6cff:fe5f:4eee dst=ff02::1 |<ICMPv6ND_RA  type=Router Advertisement code=0 cksum=0x4199 chlim=64 M=0 O=1 H=0 prf=High P=0 res=0 routerlifetime=600 reachabletime=0 retranstimer=0 |<ICMPv6NDOptPrefixInfo  type=3 len=4 prefixlen=64 L=1 A=1 R=0 res1=0 validlifetime=0x708 preferredlifetime=0x258 res2=0x0 prefix=2a01:cb08:229:3700:: |<ICMPv6NDOptRDNSS  type=25 len=3 res=0 lifetime=600 dns=[ fe80::ba26:6cff:fe5f:4eee ] |<ICMPv6NDOptDNSSL  type=31 len=2 res=0 lifetime=600 searchlist=['home.'] |<ICMPv6NDOptMTU  type=5 len=1 res=0x0 mtu=1500 |<ICMPv6NDOptSrcLLAddr  type=1 len=1 lladdr=b8:26:6c:5f:4e:ee |>>>>>>>"
      ]
     },
     "execution_count": 39,
     "metadata": {},
     "output_type": "execute_result"
    }
   ],
   "source": [
    "sr1(IPv6()/ICMPv6ND_RS())"
   ]
  },
  {
   "cell_type": "markdown",
   "metadata": {
    "slideshow": {
     "slide_type": "slide"
    }
   },
   "source": [
    "- probe local nodes and list manufacturers\n",
    "\n",
    "---"
   ]
  },
  {
   "cell_type": "code",
   "execution_count": 40,
   "metadata": {},
   "outputs": [
    {
     "name": "stdout",
     "output_type": "stream",
     "text": [
      "Begin emission:\n",
      "Finished sending 1 packets.\n",
      "\n",
      "Received 6 packets, got 0 answers, remaining 1 packets\n",
      " \n"
     ]
    }
   ],
   "source": [
    "a,u = sr(IPv6(dst=\"ff02::1\")/ICMPv6EchoRequest(), multi=1, timeout=1)\n",
    "a.make_table(lambda t: (t[0][IPv6].dst, t[1][IPv6].src, in6_addrtovendor(t[1][IPv6].src)))"
   ]
  },
  {
   "cell_type": "markdown",
   "metadata": {
    "slideshow": {
     "slide_type": "slide"
    }
   },
   "source": [
    "# X.509 Certificates Manipulation"
   ]
  },
  {
   "cell_type": "markdown",
   "metadata": {
    "slideshow": {
     "slide_type": "slide"
    }
   },
   "source": [
    "- Scapy can easily parse certificates, and display their contents\n",
    "\n",
    "---"
   ]
  },
  {
   "cell_type": "code",
   "execution_count": 1,
   "metadata": {},
   "outputs": [
    {
     "data": {
      "text/plain": [
       "[X.509 Cert. Subject:/OU=PositiveSSL Multi-Domain/CN=ssl764995.cloudflaressl.com, Issuer:/C=GB/ST=Greater Manchester/L=Salford/O=COMODO CA Limited/CN=COMODO ECC Domain Validation Secure Server CA 2]"
      ]
     },
     "execution_count": 1,
     "metadata": {},
     "output_type": "execute_result"
    }
   ],
   "source": [
    "load_layer(\"tls\")\n",
    "cert_blackhat = Cert(pem2der(open(\"files/blackhat.com.pem\", \"rb\").read()))  # assuming you d/l the certificate\n",
    "cert_blackhat"
   ]
  },
  {
   "cell_type": "markdown",
   "metadata": {
    "slideshow": {
     "slide_type": "slide"
    }
   },
   "source": [
    "- several useful methods help exploring them\n",
    "\n",
    "---"
   ]
  },
  {
   "cell_type": "code",
   "execution_count": 2,
   "metadata": {},
   "outputs": [
    {
     "name": "stdout",
     "output_type": "stream",
     "text": [
      "False\n",
      "{'organizationUnitName': 'PositiveSSL Multi-Domain', 'commonName': 'ssl764995.cloudflaressl.com'}\n",
      "156.39600694444445\n"
     ]
    }
   ],
   "source": [
    "print(cert_blackhat.isSelfSigned())  # check if it is self signed\n",
    "print(cert_blackhat.subject)  # display the subject\n",
    "print(cert_blackhat.remainingDays()) # compute the number of days until expiration"
   ]
  },
  {
   "cell_type": "markdown",
   "metadata": {
    "slideshow": {
     "slide_type": "slide"
    }
   },
   "source": [
    "- look for the Subject Alternative Name extension\n",
    "---"
   ]
  },
  {
   "cell_type": "code",
   "execution_count": 3,
   "metadata": {},
   "outputs": [
    {
     "data": {
      "text/plain": [
       "[<X509_Extension  extnID=<ASN1_OID['subjectAltName']> critical=None extnValue=<X509_ExtSubjectAltName  subjectAltName=[<X509_GeneralName  generalName=<X509_DNSName  dNSName=<ASN1_IA5_STRING[b'ssl764995.cloudflaressl.com']> |> |>, <X509_GeneralName  generalName=<X509_DNSName  dNSName=<ASN1_IA5_STRING[b'*.blackhat.com']> |> |>, <X509_GeneralName  generalName=<X509_DNSName  dNSName=<ASN1_IA5_STRING[b'blackhat.com']> |> |>] |> |>]"
      ]
     },
     "execution_count": 3,
     "metadata": {},
     "output_type": "execute_result"
    }
   ],
   "source": [
    "[e  for e in cert_blackhat.tbsCertificate.extensions if e.extnID == \"2.5.29.17\"]"
   ]
  },
  {
   "cell_type": "markdown",
   "metadata": {
    "slideshow": {
     "slide_type": "slide"
    }
   },
   "source": [
    "- moreover, some cryptographic tricks are also included, like verifying signatures:\n",
    "\n",
    "---"
   ]
  },
  {
   "cell_type": "code",
   "execution_count": 4,
   "metadata": {},
   "outputs": [
    {
     "name": "stdout",
     "output_type": "stream",
     "text": [
      "True\n"
     ]
    }
   ],
   "source": [
    "# Verify issuers signatures\n",
    "cert_comodo = Cert(pem2der(open(\"files/comodo.pem\", \"rb\").read())) # assuming you d/l the certificate        \n",
    "print(cert_blackhat.isIssuerCert(cert_comodo))  # check the signature"
   ]
  },
  {
   "cell_type": "markdown",
   "metadata": {
    "slideshow": {
     "slide_type": "slide"
    }
   },
   "source": [
    "- or, change the certificate signature:\n",
    "\n",
    "---"
   ]
  },
  {
   "cell_type": "code",
   "execution_count": 5,
   "metadata": {},
   "outputs": [
    {
     "name": "stdout",
     "output_type": "stream",
     "text": [
      "0x42\n",
      "True\n"
     ]
    }
   ],
   "source": [
    "cert_blackhat.tbsCertificate.serialNumber.val = 0x42  # Change a value\n",
    "\n",
    "private_key = PrivKeyRSA(\"files/private_key.pem\")  # Load a private key\n",
    "new_cert_blackhat = private_key.resignCert(cert_blackhat)  # Do a new signature\n",
    "\n",
    "print(hex(new_cert_blackhat.tbsCertificate.serialNumber.val))  # Print the value\n",
    "print(private_key.verifyCert(new_cert_blackhat))  # Verify the signature"
   ]
  },
  {
   "cell_type": "markdown",
   "metadata": {
    "slideshow": {
     "slide_type": "slide"
    }
   },
   "source": [
    "# HTTP & TLS tricks"
   ]
  },
  {
   "cell_type": "markdown",
   "metadata": {
    "slideshow": {
     "slide_type": "slide"
    }
   },
   "source": [
    "- since Scapy v2.4.3, it is possible to perform HTTP queries\n",
    "---"
   ]
  },
  {
   "cell_type": "code",
   "execution_count": 6,
   "metadata": {},
   "outputs": [
    {
     "name": "stdout",
     "output_type": "stream",
     "text": [
      "Begin emission:\n",
      "Finished sending 1 packets.\n",
      "\n",
      "Received 1 packets, got 1 answers, remaining 0 packets\n"
     ]
    }
   ],
   "source": [
    "load_layer(\"http\")\n",
    "req = HTTP() / HTTPRequest(\n",
    "    Accept_Encoding=b'gzip, deflate',\n",
    "    Cache_Control=b'no-cache',\n",
    "    Pragma=b'no-cache',\n",
    "    Connection=b'keep-alive',\n",
    "    Host=b'www.secdev.org',\n",
    ")\n",
    "t = TCP_client.tcplink(HTTP, \"www.secdev.org\", 80)\n",
    "r = t.sr1(req, timeout=3)"
   ]
  },
  {
   "cell_type": "code",
   "execution_count": 66,
   "metadata": {},
   "outputs": [
    {
     "name": "stdout",
     "output_type": "stream",
     "text": [
      "###[ HTTP Response ]### \n",
      "  Http_Version= 'HTTP/1.1'\n",
      "  Status_Code= '200'\n",
      "  Reason_Phrase= 'OK'\n",
      "  Accept_Patch= None\n",
      "  Accept_Ranges= 'bytes'\n",
      "  Access_Control_Allow_Credentials= None\n",
      "  Access_Control_Allow_Headers= None\n",
      "  Access_Control_Allow_Methods= None\n",
      "  Access_Control_Allow_Origin= None\n",
      "  Access_Control_Expose_Headers= None\n",
      "  Access_Control_Max_Age= None\n",
      "  Age       = None\n",
      "  Allow     = None\n",
      "  Alt_Svc   = None\n",
      "  Cache_Control= None\n",
      "  Connection= 'Keep-Alive'\n",
      "  Content_Disposition= None\n",
      "  Content_Encoding= 'gzip'\n",
      "  Content_Language= None\n",
      "  Content_Length= '5351'\n",
      "  Content_Location= None\n",
      "  Content_MD5= None\n",
      "  Content_Range= None\n",
      "  Content_Security_Policy= None\n",
      "  Content_Type= 'text/html'\n",
      "  Date      = 'Thu, 25 Jul 2019 13:00:35 GMT'\n",
      "  Delta_Base= None\n",
      "  ETag      = '\"300a-56be3867f3785-gzip\"'\n",
      "  Expires   = None\n",
      "  IM        = None\n",
      "  Keep_Alive= 'timeout=5, max=100'\n",
      "  Last_Modified= 'Fri, 11 May 2018 00:50:41 GMT'\n",
      "  Link      = None\n",
      "  Location  = None\n",
      "  P3P       = None\n",
      "  Permanent = None\n",
      "  Permanent = None\n",
      "  Pragma    = None\n",
      "  Proxy_Authenticate= None\n",
      "  Public_Key_Pins= None\n",
      "  Refresh   = None\n",
      "  Retry_After= None\n",
      "  Server    = 'Apache'\n",
      "  Set_Cookie= None\n",
      "  Status    = None\n",
      "  Strict_Transport_Security= None\n",
      "  Timing_Allow_Origin= None\n",
      "  Tk        = None\n",
      "  Trailer   = None\n",
      "  Transfer_Encoding= None\n",
      "  Upgrade   = None\n",
      "  Vary      = 'Accept-Encoding'\n",
      "  Via       = '1.1 www.secdev.org'\n",
      "  WWW_Authenticate= None\n",
      "  Warning   = None\n",
      "  X_Content_Duration= None\n",
      "  X_Content_Security_Policy= None\n",
      "  X_Content_Type_Options= None\n",
      "  X_Correlation_ID= None\n",
      "  X_Frame_Options= None\n",
      "  X_Powered_By= None\n",
      "  X_Request_ID= None\n",
      "  X_UA_Compatible= None\n",
      "  X_WebKit_CSP= None\n",
      "  X_XSS_Protection= None\n",
      "  Unknown_Headers= None\n",
      "###[ Raw ]### \n",
      "     load      = '<html>\\n<head>\\n<title>SecDev.org</title>\\n</head>\\n<body>\\n<!--\\n<a href=\"http://www.miscmag.com\"><img border=0 height=\"100\" src=\"misc_noir.png\"></a>\\n-->\\n<H1>secdev</H1>\\n\\n\\n\\n\\n<H4>Me</H4>\\n<ul>\\n<li> mail: phil<b></b>@<i></i>secdev<i></i>.<b></b>org</li>\\n<li> <a href=\"phil.asc\">PGP Key</a></li>\\n<li> <a href=\"http://www.oreilly.com/catalog/9780596009632/\"><img style=\"vertical-align:middle\" height=\"30\" border=0 alt=\"[Security Power Tools cover]\" src=\"images/security_power_tools-cover.gif\">&nbsp;Security Power Tools</a> was out in August 2007.\\n     I wrote a complete chapter on <a href=\"projects/scapy/\">Scapy</a> and one on shellcodes.</li>\\n<form action=\"https://www.paypal.com/cgi-bin/webscr\" method=\"post\">\\n<li> If you like what I do, you can \\n<input type=\"hidden\" name=\"cmd\" value=\"_s-xclick\">\\n<input type=\"hidden\" name=\"encrypted\" value=\"-----BEGIN PKCS7-----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-----END PKCS7-----\\n\">\\n<input style=\"vertical-align:middle\" type=\"image\" src=\"https://www.paypal.com/en_US/i/btn/btn_donate_LG.gif\" border=\"0\" name=\"submit\" alt=\"PayPal - The safer, easier way to pay online!\">\\n<img alt=\"\" border=\"0\" src=\"https://www.paypal.com/fr_FR/i/scr/pixel.gif\" width=\"1\" height=\"1\">\\n</form></li>\\n</ul>\\n\\n\\n\\n<H4>Conferences</H4>\\n<ul>\\n<li><a href=\"http://www.osdem.org\">OSDEM</a> : <a href=\"conf/osdem.pdf\">Kernel security (Slides for OSDEM, Feb 2001)</a></li>\\n<li><a href=\"http://www.fosdem.org\">FOSDEM</a> : <a href=\"conf/ksecurity_en.pdf\">Kernel security (Slides for FOSDEM, Feb 2002)</a></li>\\n<li><a href=\"http://www.openweekend.cz/\">OpenWeekend</a> : <a href=\"conf/ksec_openweekend.pdf\">Slides</a> \\n<li><a href=\"http://lsm.abul.org\">LSM (RMLL)</a> : <a href=\"conf/ksec_lsm.pdf\">Kernel security (Slides for LSM, July 2002)</a></li>\\n<li><a href=\"http://www.defcon.org\">DefCon X</a> : <a href=\"conf/ksec_defcon.pdf\">Kernel security (Slides for DefCon 10, August 2002)</a></li>\\n<li><a href=\"http://www.fosdem.org\">FOSDEM 2003</a> : <a href=\"conf/libqsearch.pdf\">presentation of libqsearch (Slides for FOSDEM, Feb 2003)</a></li>\\n<li><a href=\"http://www.rencontresmondiales.org\">LSM 2003</a> : <a href=\"conf/scapy_lsm2003.pdf\">presentation of Scapy</a> and <a href=\"conf/shellforge_lsm2003.pdf\">presentation of shellforge</a></li>\\n<li><a href=\"http://www.linux-kongress.org\">10th Linux Kongress</a> : <a href=\"conf/ksec_kongress03.pdf\">presentation of Kernel Level Security (again)</a> (<a href=\"conf/ksec_article_kongress03.pdf\">article for proceedings</a>)</li>\\n<li><a href=\"http://www.cansecwest.com\">CanSecWest/core04</a> : <a href=\"conf/shellforgeG2_csw04.pdf\">Shellforge G2: shellcodes for everybody and every platform</a></li>\\n<li><a href=\"http://www.syscan.org\">SyScAN 04</a> : <a href=\"conf/shellcodes_syscan04.pdf\">About UNIX Shellcodes</a></li>\\n<li><a href=\"http://www.cansecwest.com\">CanSecWest/core05</a> : <a href=\"conf/scapy_csw05.pdf\">Packet generation and network based attacks with Scapy</a></li>\\n<li><a href=\"http://lsm.abul.org\">LSM (RMLL) 2005</a> : <a href=\"conf/shellforge_lsm2005.pdf\">ShellForge</a></li>\\n<li><a href=\"http://www.t2.fi/english/\">T2\\'2005</a> : <a href=\"conf/scapy_T2.pdf\">Scapy: explore the net with new eyes</a> (<a href=\"conf/scapy_T2.handout.pdf\">printable version</a>)</li>\\n<li><a href=\"http://lufgi4.informatik.rwth-aachen.de/courses/show/1\">Summerschool Applied IT Security 2005</a> : <a href=\"conf/scapy_Aachen.pdf\">Network packet manipulation with Scapy</a></li>\\n<li><a href=\"http://hack.lu\">Hack.lu 2005</a> conference and workshop : <a href=\"conf/scapy_hack.lu.pdf\">Network packet manipulation with Scapy</a> (<a href=\"conf/scapy_hack.lu.handout.pdf\">printable version</a>)</li>\\n<li><a href=\"http://pacsec.jp\">PacSec/core05</a> : <a href=\"conf/scapy_pacsec05.pdf\">Network packet forgery with Scapy</a> (<a href=\"conf/scapy_pacsec05.handout.pdf\">printable version</a>)</li>\\n<li><a href=\"http://www.blackhat.com\">BlackHat Europe 06</a> : <a href=\"conf/skype_BHEU06.pdf\">Silver Needle in the Skype</a> (<a href=\"conf/skype_BHEU06.handout.pdf\">printable version</a>)</li>\\n<li><a href=\"http://www.hackinthebox.org\">Hack In The Box 2006</a> : <a href=\"conf/scapy-IPv6_HITB06.pdf\">Scapy and IPv6 networking</a> <!--(<a href=\"conf/scapy-IPv6_HITB06.handout.pdf\">printable version</a>)--></li>\\n<li><a href=\"http://www.cansecwest.com\">CanSecWest/core07</a> : <a href=\"conf/IPv6_RH_security-csw07.pdf\">Ipv6 Routing Headers Security</a> (tools demonstrated: <a href=\"/projects/rtgraph3d\">RT Graph 3D</a> and <a href=\"/projects/ipv6world\">IPv6World</a>) (<a href=\"http://www.natisbad.org\">summary of issues and fixes triggered</a>)</li>\\n</ul>\\n\\n<H4>Projects/programs</H4>\\n<ul>\\n<li><a href=\"https://scapy.net/\">Scapy</a>: a powerful network discovery tool.\\n<li><a href=\"projects/rtgraph3d/\">RTGraph3D</a>: make 3D graphs in realtime\\n<li><a href=\"projects/ipv6world/\">IPv6 world</a>: 3D IPv6 backbone explorer\\n<li><a href=\"projects/etherpuppet/\">EtherPuppet</a> : clone an Ethernet interface through TCP (even work on my Linksys WRT54G)\\n<li><a href=\"projects/net2pcap/\">net2pcap</a> : auditable daemon (less than 300 lines) to dump traffic to a pcap file.\\n<li><a href=\"projects/pcapdispatcher/\">PCAPdispatcher</a>: small program to dispatch a big pcap file into many others by their type or connection.\\n<li><a href=\"projects/shellforge/\">ShellForge</a>: write your shellcodes in C, ShellForge will convert them. (Inspired from Stealth\\'s <a href=\"http://www.team-teso.net/releases/hellkit-1.2.tar.gz\">Hellkit</a>).\\n<li><a href=\"projects/tuntap_udp/\">tunproxy</a> : a demonstration tunneling program over UDP using tun/tap (and his C clone)\\n<li><a href=\"python/eapy.py\">eapy</a>: a simplistic 802.1X EAP authentication client (MD5 challenges only, use PF_PACKET --&gt; Linux only)\\n<li><a href=\"python/bfi.py\">bfy</a>: a little BrainFuck interpreter (BrainFuck <em>Hello world</em> program <a href=\"python/hello.bf\">included!</a>)\\n<li><a href=\"python/asm2graph.py\">asm2graph</a> and <a href=\"python/bin2graph.py\">bin2graph</a> : 2 small experiments to convert a binary program to a graph. (Use GraphViz). <br>\\nTechnical solutions are very close to Silvio\\'s <a href=\"http://www.big.net.au/~silvio/coding/graphing/\">flowgraph</a>, which I did not know at this time.\\n<li><a href=\"python/arpyspoof.py\">arpyspoof</a>: a clone of <a href=\"http://monkey.org/~dugsong/dsniff/\">arpspoof</a>. See links on <a href=\"http://sid.rstack.org/arp-sk/\">arp-sk page</a> for more informations or tools about ARP cache poisonning.\\n<li><a href=\"python/etherleak.py\">etherleak.py</a> : a simple etherleak tester.\\n<li><a href=\"python/\">All python scripts</a>\\n<li><a href=\"projects/experiments/\">experiments</a>\\n</ul>\\n\\n<H4>Linux Kernel Patches</H4>\\n<ul>\\n<li><a href=\"projects/sfswap/\">SYN/FIN swap patch</a> : swap SYN and FIN flags in TCP headers to/from a given peer\\n<li><a href=\"patches/icmpleak.patch\">ICMP Leak patch for 2.0.39</a> to fix <a href=\"adv/CARTSA-20030314-icmpleak.txt\">ICMP Leak bug</a>\\n<li><a href=\"http://www.lids.org\">LIDS homepage</a>\\n<li><a href=\"lids_specifs/index.html\">LIDS 0.0 specif. rev0.2</a>\\n    (<a href=\"lids_specifs.ps.gz\">lids_specif.ps.gz</a>)\\n<li><a href=\"patches/\">all patches</a>\\n</ul>\\n\\n\\n<H4>Intrusion detection</H4>\\n<ul>\\n<li><a href=\"ids.ps.gz\">Rapport</a> (et aussi en <a href=\"ids.pdf\">PDF</a>)</li>\\n<li><a href=\"idsbiblio\">La biblio</a></li>\\n</ul>\\n\\n<H4>Nmap</H4>\\n<ul>\\n<li><a href=\"nmap/\">Some nmap hacks</a></li>\\n</ul>\\n\\n<H4>Quick search experiments</H4>\\n<ul>\\n<li><a href=\"quicksearch/essai.ps\">A postscript</a></li>\\n<li><a href=\"python/\">Implementations in python</a></li>\\n<li><a href=\"libqsearch.html\">libqsearch project</a></li>\\n</ul>\\n\\n<H4>World domination</H4>\\n<ul>\\n<li><a href=\"python/searchbot\">Search bot, sketch 1</a></li>\\n</ul>\\n\\n<H4>Sharp Zaurus</H4>\\n<ul>\\n<li><a href=zaurus/zethereal.html>Ethereal on a Sharp Zaurus</a></li>\\n<li><a href=zaurus/crosscompile.html>Example for setting up a cross compilation tool chain</a>\\n</ul>\\n\\n<h3>If you trust me, you can trust my website</h3>\\n<pre>\\n-----BEGIN PGP SIGNED MESSAGE-----\\nHash: SHA1\\n\\nIssuer: C=FR, ST=IdF, L=Paris, O=secdev.org, OU=secdev.org, CN=*.secdev.org\\nSHA1 Fingerprint=EA:EE:C0:3F:53:B8:C8:AD:6A:05:24:32:85:F4:54:8D:87:21:34:7D\\nMD5 Fingerprint=0D:07:6B:00:E7:86:C6:3C:B8:55:EB:02:6A:FC:E0:9C\\n-----BEGIN PGP SIGNATURE-----\\nVersion: GnuPG v1.4.6 (GNU/Linux)\\n\\niD8DBQFIMfI3Xuj/Xz2aQ+IRAmKbAKC25LEoT753HUqMfqNLyh0/LikftwCfbDlv\\nJu6Rwb59JxlZIR+J6TKwE78=\\n=wexP\\n-----END PGP SIGNATURE-----\\n</pre>\\n\\n<center><small>\\n<!--Creative Commons License--><a rel=\"license\" href=\"http://creativecommons.org/licenses/by-nc-sa/2.5/\"><img alt=\"Creative Commons License\" style=\"border-width: 0\" src=\"images/by-nc-sa.png\"/></a><br/>Except where explicitely said otherwise, work on this site is licensed under GPLv2 for code and under a<br><a rel=\"license\" href=\"http://creativecommons.org/licenses/by-nc-sa/2.5/\">Creative Commons Attribution-NonCommercial-ShareAlike 2.5  License</a> for the remaining.\\n<!--/Creative Commons License-->\\n<!-- <rdf:RDF xmlns=\"http://web.resource.org/cc/\" xmlns:dc=\"http://purl.org/dc/elements/1.1/\" xmlns:rdf=\"http://www.w3.org/1999/02/22-rdf-syntax-ns#\">\\n\\t<Work rdf:about=\"\">\\n\\t\\t<license rdf:resource=\"http://creativecommons.org/licenses/by-nc-sa/2.5/\" />\\n\\t</Work>\\n\\t<License rdf:about=\"http://creativecommons.org/licenses/by-nc-sa/2.5/\"><permits rdf:resource=\"http://web.resource.org/cc/Reproduction\"/><permits rdf:resource=\"http://web.resource.org/cc/Distribution\"/><requires rdf:resource=\"http://web.resource.org/cc/Notice\"/><requires rdf:resource=\"http://web.resource.org/cc/Attribution\"/><prohibits rdf:resource=\"http://web.resource.org/cc/CommercialUse\"/><permits rdf:resource=\"http://web.resource.org/cc/DerivativeWorks\"/><requires rdf:resource=\"http://web.resource.org/cc/ShareAlike\"/></License></rdf:RDF> -->\\n</small></center>\\n\\n\\n<a href=\"totoyoyo.html\"><font color=#ffffff>SP4N\\\\TR4P, d0n`t f01l0\\\\N!</font></a>\\n</body>\\n</html>\\n'\n",
      "\n"
     ]
    }
   ],
   "source": [
    "r[HTTPResponse].show()"
   ]
  },
  {
   "cell_type": "markdown",
   "metadata": {
    "slideshow": {
     "slide_type": "slide"
    }
   },
   "source": [
    "- sniff TLS traffic\n",
    "\n",
    "---"
   ]
  },
  {
   "cell_type": "code",
   "execution_count": 11,
   "metadata": {},
   "outputs": [
    {
     "name": "stdout",
     "output_type": "stream",
     "text": [
      "###[ TLS Handshake - Client Hello ]### \n",
      "  msgtype   = client_hello\n",
      "  msglen    = 508\n",
      "  version   = TLS 1.2\n",
      "  gmt_unix_time= Sat, 10 Oct 2026 00:01:56 +0100 (1791590516)\n",
      "  random_bytes= f8f3159aa9f5bde32af8db592a160d3100fbee52581db2579fde7767\n",
      "  sidlen    = 32\n",
      "  sid       = '\\xc4\\x8d\\r\\x81yl\\x81\\x1b\\xc4\\xb9vY\\x83{V\\xaf\\xd9\\xef\\xfc--(\\x16h\\xc0\\xdd\\x8f\\xe6\\x85c\\xdaA'\n",
      "  cipherslen= 36\n",
      "  ciphers   = [TLS_AES_128_GCM_SHA256, TLS_CHACHA20_POLY1305_SHA256, TLS_AES_256_GCM_SHA384, TLS_ECDHE_ECDSA_WITH_AES_128_GCM_SHA256, TLS_ECDHE_RSA_WITH_AES_128_GCM_SHA256, TLS_ECDHE_ECDSA_WITH_CHACHA20_POLY1305_SHA256, TLS_ECDHE_RSA_WITH_CHACHA20_POLY1305_SHA256, TLS_ECDHE_ECDSA_WITH_AES_256_GCM_SHA384, TLS_ECDHE_RSA_WITH_AES_256_GCM_SHA384, TLS_ECDHE_ECDSA_WITH_AES_256_CBC_SHA, TLS_ECDHE_ECDSA_WITH_AES_128_CBC_SHA, TLS_ECDHE_RSA_WITH_AES_128_CBC_SHA, TLS_ECDHE_RSA_WITH_AES_256_CBC_SHA, TLS_DHE_RSA_WITH_AES_128_CBC_SHA, TLS_DHE_RSA_WITH_AES_256_CBC_SHA, TLS_RSA_WITH_AES_128_CBC_SHA, TLS_RSA_WITH_AES_256_CBC_SHA, TLS_RSA_WITH_3DES_EDE_CBC_SHA]\n",
      "  complen   = 1\n",
      "  comp      = null\n",
      "  extlen    = 399\n",
      "  \\ext       \\\n",
      "   |###[ TLS Extension - Server Name ]### \n",
      "   |  type      = server_name\n",
      "   |  len       = 21\n",
      "   |  servernameslen= 19\n",
      "   |  servernames= [b'my.geekstory.net']\n",
      "   |###[ TLS Extension - Extended Master Secret ]### \n",
      "   |  type      = extended_master_secret\n",
      "   |  len       = 0\n",
      "   |###[ TLS Extension - Renegotiation Indication ]### \n",
      "   |  type      = renegotiation_info\n",
      "   |  len       = 1\n",
      "   |  reneg_conn_len= 0\n",
      "   |  renegotiated_connection= ''\n",
      "   |###[ TLS Extension - Supported Groups ]### \n",
      "   |  type      = supported_groups\n",
      "   |  len       = 14\n",
      "   |  groupslen = 12\n",
      "   |  groups    = [x25519, secp256r1, secp384r1, secp521r1, ffdhe2048, ffdhe3072]\n",
      "   |###[ TLS Extension - Supported Point Format ]### \n",
      "   |  type      = ec_point_formats\n",
      "   |  len       = 2\n",
      "   |  ecpllen   = 1\n",
      "   |  ecpl      = [uncompressed]\n",
      "   |###[ TLS Extension - Session Ticket ]### \n",
      "   |  type      = session_ticket\n",
      "   |  len       = 0\n",
      "   |  ticket    = ''\n",
      "   |###[ TLS Extension - Application Layer Protocol Negotiation ]### \n",
      "   |  type      = alpn\n",
      "   |  len       = 14\n",
      "   |  protocolslen= 12\n",
      "   |  protocols = [b'h2, http/1.1']\n",
      "   |###[ TLS Extension - Certificate Status Request ]### \n",
      "   |  type      = status_request\n",
      "   |  len       = 5\n",
      "   |  stype     = ocsp\n",
      "   |  \\req       \\\n",
      "   |   |###[ OCSPStatusRequest structure ]### \n",
      "   |   |  respidlen = 0\n",
      "   |   |  \\respid    \\\n",
      "   |   |  reqextlen = 0\n",
      "   |   |  reqext    = ''\n",
      "   |###[ TLS Extension - Key Share (for ClientHello) ]### \n",
      "   |  type      = key_share\n",
      "   |  len       = 107\n",
      "   |  client_shares_len= 105\n",
      "   |  \\client_shares\\\n",
      "   |   |###[ Key Share Entry ]### \n",
      "   |   |  group     = x25519\n",
      "   |   |  kxlen     = 32\n",
      "   |   |  key_exchange= '\\xa8~\\xa6\\xe91\\xd3\\x86\\xccV\\x7fb\\xf9\\xca\\xc4R\\xd7\\x7f\\xc7\\xf1E8\\x06\\x9c\\xc7Q\\x08D\\xe4\\xa4\\xe0\\x1b*'\n",
      "   |   |###[ Key Share Entry ]### \n",
      "   |   |  group     = secp256r1\n",
      "   |   |  kxlen     = 65\n",
      "   |   |  key_exchange= '\\x04\\xfa\\x91Y$\\x9e\\x06\\xa36cZ\\xd3\\xaf\\xbd\\x94b\\xee-JF>\\x13\\x9d\\xd9\\xef\\x8f\\xbc\\x13\\x00+\\xc7,k\\xe1\\xee\\xd0\\x15(\\xe5\\xdf\\x97\\xdc\\xc5\\x80\\x1crh\\xfc}\\x1e\\xeeL\\xd9pQ\\xff\\xf2\\x11J\\x0b\\xddf_wq'\n",
      "   |###[ TLS Extension - Supported Versions (for ClientHello) ]### \n",
      "   |  type      = supported_versions\n",
      "   |  len       = 9\n",
      "   |  versionslen= 8\n",
      "   |  versions  = [TLS 1.3, TLS 1.2, TLS 1.1, TLS 1.0]\n",
      "   |###[ TLS Extension - Signature Algorithms ]### \n",
      "   |  type      = signature_algorithms\n",
      "   |  len       = 24\n",
      "   |  sig_algs_len= 22\n",
      "   |  sig_algs  = [sha256+ecdsa, sha384+ecdsa, sha512+ecdsa, sha256+rsaepss, sha384+rsaepss, sha512+rsaepss, sha256+rsa, sha384+rsa, sha512+rsa, sha1+ecdsa, sha1+rsa]\n",
      "   |###[ TLS Extension - PSK Key Exchange Modes ]### \n",
      "   |  type      = psk_key_exchange_modes\n",
      "   |  len       = 2\n",
      "   |  kxmodeslen= 1\n",
      "   |  kxmodes   = [psk_dhe_ke]\n",
      "   |###[ TLS Extension - Record Size Limit ]### \n",
      "   |  type      = record_size_limit\n",
      "   |  len       = 2\n",
      "   |  record_size_limit= 16385\n",
      "   |###[ TLS Extension - Padding ]### \n",
      "   |  type      = padding\n",
      "   |  len       = 142\n",
      "   |  padding   = '\\x00\\x00\\x00\\x00\\x00\\x00\\x00\\x00\\x00\\x00\\x00\\x00\\x00\\x00\\x00\\x00\\x00\\x00\\x00\\x00\\x00\\x00\\x00\\x00\\x00\\x00\\x00\\x00\\x00\\x00\\x00\\x00\\x00\\x00\\x00\\x00\\x00\\x00\\x00\\x00\\x00\\x00\\x00\\x00\\x00\\x00\\x00\\x00\\x00\\x00\\x00\\x00\\x00\\x00\\x00\\x00\\x00\\x00\\x00\\x00\\x00\\x00\\x00\\x00\\x00\\x00\\x00\\x00\\x00\\x00\\x00\\x00\\x00\\x00\\x00\\x00\\x00\\x00\\x00\\x00\\x00\\x00\\x00\\x00\\x00\\x00\\x00\\x00\\x00\\x00\\x00\\x00\\x00\\x00\\x00\\x00\\x00\\x00\\x00\\x00\\x00\\x00\\x00\\x00\\x00\\x00\\x00\\x00\\x00\\x00\\x00\\x00\\x00\\x00\\x00\\x00\\x00\\x00\\x00\\x00\\x00\\x00\\x00\\x00\\x00\\x00\\x00\\x00\\x00\\x00\\x00\\x00\\x00\\x00\\x00\\x00\\x00\\x00\\x00\\x00\\x00\\x00'\n",
      "\n"
     ]
    }
   ],
   "source": [
    "load_layer(\"tls\")\n",
    "s = sniff(filter=\"port 443\", count=100)  # sniff packets on port 443\n",
    "ch_list = [p for p in s if TLSClientHello in p]  # filter Client Hello messages\n",
    "ch_list[0][TLSClientHello].show()  # display the first message"
   ]
  },
  {
   "cell_type": "markdown",
   "metadata": {
    "slideshow": {
     "slide_type": "slide"
    }
   },
   "source": [
    "# Projects That Uses Scapy"
   ]
  },
  {
   "cell_type": "markdown",
   "metadata": {
    "slideshow": {
     "slide_type": "slide"
    }
   },
   "source": [
    "Wi-Fi & Bluetooth\n",
    "- Clients deauthentication - https://github.com/DanMcInerney/wifijammer\n",
    "- Rogue Access Points - https://github.com/wifiphisher/wifiphisher & https://github.com/P0cL4bs/WiFi-Pumpkin\n",
    "- BT/BLE Attacks - https://redmine.laas.fr/projects/mirage\n",
    "\n",
    "IPv6\n",
    "- Windows MITM - https://github.com/fox-it/mitm6\n",
    "- Assessment framework - https://github.com/aatlasis/Chiron\n",
    "\n",
    "\n",
    "Audits & Attacks\n",
    "- KRACK - https://github.com/vanhoefm/krackattacks-scripts\n",
    "- LLMNR & MDNS poisoner - https://github.com/SpiderLabs/Responder\n",
    "- 802.1x bypass - https://github.com/Orange-Cyberdefense/fenrir-ocd\n",
    "- RADIUS - https://github.com/ANSSI-FR/audit-radius"
   ]
  },
  {
   "cell_type": "markdown",
   "metadata": {
    "slideshow": {
     "slide_type": "slide"
    }
   },
   "source": [
    "# Questions?\n",
    "# Issues?\n",
    "# Pull Requests?\n",
    "# Beers?"
   ]
  }
 ],
 "metadata": {
  "celltoolbar": "Slideshow",
  "kernelspec": {
   "display_name": "Python 3",
   "language": "python",
   "name": "python3"
  },
  "language_info": {
   "codemirror_mode": {
    "name": "ipython",
    "version": 3
   },
   "file_extension": ".py",
   "mimetype": "text/x-python",
   "name": "python",
   "nbconvert_exporter": "python",
   "pygments_lexer": "ipython3",
   "version": "3.7.4"
  }
 },
 "nbformat": 4,
 "nbformat_minor": 1
}
